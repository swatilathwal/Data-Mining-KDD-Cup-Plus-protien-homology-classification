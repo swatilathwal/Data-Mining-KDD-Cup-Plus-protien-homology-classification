{
 "cells": [
  {
   "cell_type": "code",
   "execution_count": 1,
   "metadata": {},
   "outputs": [],
   "source": [
    "import pandas as pd\n",
    "import numpy as np\n",
    "from sklearn.impute import SimpleImputer\n",
    "from sklearn.model_selection import train_test_split\n",
    "from sklearn.linear_model import Lasso\n",
    "from sklearn.linear_model import LogisticRegression"
   ]
  },
  {
   "cell_type": "code",
   "execution_count": 2,
   "metadata": {},
   "outputs": [],
   "source": [
    "from sklearn.ensemble import RandomForestClassifier\n",
    "from matplotlib import pyplot\n",
    "from sklearn.metrics import roc_auc_score, precision_score\n",
    "from sklearn.metrics import roc_curve"
   ]
  },
  {
   "cell_type": "code",
   "execution_count": 3,
   "metadata": {},
   "outputs": [],
   "source": [
    "from sklearn.metrics import confusion_matrix \n",
    "from sklearn.ensemble import GradientBoostingClassifier"
   ]
  },
  {
   "cell_type": "code",
   "execution_count": 4,
   "metadata": {},
   "outputs": [],
   "source": [
    "data=pd.read_csv(\"/Users/swatilathwal/Documents/data mining/Project/PHY_TRAIN.csv\")"
   ]
  },
  {
   "cell_type": "code",
   "execution_count": 5,
   "metadata": {},
   "outputs": [
    {
     "data": {
      "text/html": [
       "<div>\n",
       "<style scoped>\n",
       "    .dataframe tbody tr th:only-of-type {\n",
       "        vertical-align: middle;\n",
       "    }\n",
       "\n",
       "    .dataframe tbody tr th {\n",
       "        vertical-align: top;\n",
       "    }\n",
       "\n",
       "    .dataframe thead th {\n",
       "        text-align: right;\n",
       "    }\n",
       "</style>\n",
       "<table border=\"1\" class=\"dataframe\">\n",
       "  <thead>\n",
       "    <tr style=\"text-align: right;\">\n",
       "      <th></th>\n",
       "      <th>exampleid</th>\n",
       "      <th>target</th>\n",
       "      <th>feat1</th>\n",
       "      <th>feat2</th>\n",
       "      <th>feat3</th>\n",
       "      <th>feat4</th>\n",
       "      <th>feat5</th>\n",
       "      <th>feat6</th>\n",
       "      <th>feat7</th>\n",
       "      <th>feat8</th>\n",
       "      <th>...</th>\n",
       "      <th>feat69</th>\n",
       "      <th>feat70</th>\n",
       "      <th>feat71</th>\n",
       "      <th>feat72</th>\n",
       "      <th>feat73</th>\n",
       "      <th>feat74</th>\n",
       "      <th>feat75</th>\n",
       "      <th>feat76</th>\n",
       "      <th>feat77</th>\n",
       "      <th>feat78</th>\n",
       "    </tr>\n",
       "  </thead>\n",
       "  <tbody>\n",
       "    <tr>\n",
       "      <th>0</th>\n",
       "      <td>1</td>\n",
       "      <td>0</td>\n",
       "      <td>0.000000</td>\n",
       "      <td>0.000000</td>\n",
       "      <td>0.000000</td>\n",
       "      <td>0</td>\n",
       "      <td>0.000000</td>\n",
       "      <td>0.0</td>\n",
       "      <td>0.000000</td>\n",
       "      <td>0</td>\n",
       "      <td>...</td>\n",
       "      <td>-1</td>\n",
       "      <td>-0.036906</td>\n",
       "      <td>-0.000724</td>\n",
       "      <td>0.000000</td>\n",
       "      <td>0.000000</td>\n",
       "      <td>0.000000</td>\n",
       "      <td>0</td>\n",
       "      <td>0</td>\n",
       "      <td>0.000000</td>\n",
       "      <td>0.000000</td>\n",
       "    </tr>\n",
       "    <tr>\n",
       "      <th>1</th>\n",
       "      <td>2</td>\n",
       "      <td>0</td>\n",
       "      <td>0.920167</td>\n",
       "      <td>0.817883</td>\n",
       "      <td>-0.646473</td>\n",
       "      <td>-1</td>\n",
       "      <td>0.000000</td>\n",
       "      <td>0.0</td>\n",
       "      <td>0.000000</td>\n",
       "      <td>0</td>\n",
       "      <td>...</td>\n",
       "      <td>-1</td>\n",
       "      <td>-0.999927</td>\n",
       "      <td>-0.012102</td>\n",
       "      <td>0.920167</td>\n",
       "      <td>0.817883</td>\n",
       "      <td>-0.646473</td>\n",
       "      <td>-1</td>\n",
       "      <td>1</td>\n",
       "      <td>0.302235</td>\n",
       "      <td>0.950770</td>\n",
       "    </tr>\n",
       "    <tr>\n",
       "      <th>2</th>\n",
       "      <td>3</td>\n",
       "      <td>1</td>\n",
       "      <td>0.868397</td>\n",
       "      <td>0.178202</td>\n",
       "      <td>0.150828</td>\n",
       "      <td>-1</td>\n",
       "      <td>0.000000</td>\n",
       "      <td>0.0</td>\n",
       "      <td>0.000000</td>\n",
       "      <td>0</td>\n",
       "      <td>...</td>\n",
       "      <td>1</td>\n",
       "      <td>0.908824</td>\n",
       "      <td>0.550843</td>\n",
       "      <td>0.868397</td>\n",
       "      <td>0.178202</td>\n",
       "      <td>0.150828</td>\n",
       "      <td>-1</td>\n",
       "      <td>1</td>\n",
       "      <td>0.001421</td>\n",
       "      <td>0.882853</td>\n",
       "    </tr>\n",
       "    <tr>\n",
       "      <th>3</th>\n",
       "      <td>4</td>\n",
       "      <td>0</td>\n",
       "      <td>0.000000</td>\n",
       "      <td>0.000000</td>\n",
       "      <td>0.000000</td>\n",
       "      <td>0</td>\n",
       "      <td>1.577894</td>\n",
       "      <td>0.0</td>\n",
       "      <td>-0.369792</td>\n",
       "      <td>-1</td>\n",
       "      <td>...</td>\n",
       "      <td>0</td>\n",
       "      <td>0.000000</td>\n",
       "      <td>0.000000</td>\n",
       "      <td>0.000000</td>\n",
       "      <td>0.000000</td>\n",
       "      <td>0.000000</td>\n",
       "      <td>0</td>\n",
       "      <td>0</td>\n",
       "      <td>0.000000</td>\n",
       "      <td>0.000000</td>\n",
       "    </tr>\n",
       "    <tr>\n",
       "      <th>4</th>\n",
       "      <td>5</td>\n",
       "      <td>0</td>\n",
       "      <td>0.000000</td>\n",
       "      <td>0.000000</td>\n",
       "      <td>0.000000</td>\n",
       "      <td>0</td>\n",
       "      <td>0.000000</td>\n",
       "      <td>0.0</td>\n",
       "      <td>0.000000</td>\n",
       "      <td>0</td>\n",
       "      <td>...</td>\n",
       "      <td>1</td>\n",
       "      <td>0.000005</td>\n",
       "      <td>0.400702</td>\n",
       "      <td>0.000000</td>\n",
       "      <td>0.000000</td>\n",
       "      <td>0.000000</td>\n",
       "      <td>0</td>\n",
       "      <td>0</td>\n",
       "      <td>0.000000</td>\n",
       "      <td>0.000000</td>\n",
       "    </tr>\n",
       "    <tr>\n",
       "      <th>...</th>\n",
       "      <td>...</td>\n",
       "      <td>...</td>\n",
       "      <td>...</td>\n",
       "      <td>...</td>\n",
       "      <td>...</td>\n",
       "      <td>...</td>\n",
       "      <td>...</td>\n",
       "      <td>...</td>\n",
       "      <td>...</td>\n",
       "      <td>...</td>\n",
       "      <td>...</td>\n",
       "      <td>...</td>\n",
       "      <td>...</td>\n",
       "      <td>...</td>\n",
       "      <td>...</td>\n",
       "      <td>...</td>\n",
       "      <td>...</td>\n",
       "      <td>...</td>\n",
       "      <td>...</td>\n",
       "      <td>...</td>\n",
       "      <td>...</td>\n",
       "    </tr>\n",
       "    <tr>\n",
       "      <th>49995</th>\n",
       "      <td>49996</td>\n",
       "      <td>0</td>\n",
       "      <td>0.000000</td>\n",
       "      <td>0.000000</td>\n",
       "      <td>0.000000</td>\n",
       "      <td>0</td>\n",
       "      <td>0.000000</td>\n",
       "      <td>0.0</td>\n",
       "      <td>0.000000</td>\n",
       "      <td>0</td>\n",
       "      <td>...</td>\n",
       "      <td>0</td>\n",
       "      <td>0.000000</td>\n",
       "      <td>0.000000</td>\n",
       "      <td>0.000000</td>\n",
       "      <td>0.000000</td>\n",
       "      <td>0.000000</td>\n",
       "      <td>0</td>\n",
       "      <td>0</td>\n",
       "      <td>0.000000</td>\n",
       "      <td>0.000000</td>\n",
       "    </tr>\n",
       "    <tr>\n",
       "      <th>49996</th>\n",
       "      <td>49997</td>\n",
       "      <td>1</td>\n",
       "      <td>0.000000</td>\n",
       "      <td>0.000000</td>\n",
       "      <td>0.000000</td>\n",
       "      <td>0</td>\n",
       "      <td>0.000000</td>\n",
       "      <td>0.0</td>\n",
       "      <td>0.000000</td>\n",
       "      <td>0</td>\n",
       "      <td>...</td>\n",
       "      <td>0</td>\n",
       "      <td>0.000000</td>\n",
       "      <td>0.000000</td>\n",
       "      <td>0.000000</td>\n",
       "      <td>0.000000</td>\n",
       "      <td>0.000000</td>\n",
       "      <td>0</td>\n",
       "      <td>0</td>\n",
       "      <td>0.000000</td>\n",
       "      <td>0.000000</td>\n",
       "    </tr>\n",
       "    <tr>\n",
       "      <th>49997</th>\n",
       "      <td>49998</td>\n",
       "      <td>1</td>\n",
       "      <td>0.918590</td>\n",
       "      <td>1.012605</td>\n",
       "      <td>-0.047045</td>\n",
       "      <td>-1</td>\n",
       "      <td>0.000000</td>\n",
       "      <td>0.0</td>\n",
       "      <td>0.000000</td>\n",
       "      <td>0</td>\n",
       "      <td>...</td>\n",
       "      <td>0</td>\n",
       "      <td>0.000000</td>\n",
       "      <td>0.000000</td>\n",
       "      <td>0.918590</td>\n",
       "      <td>1.012605</td>\n",
       "      <td>-0.047045</td>\n",
       "      <td>-1</td>\n",
       "      <td>1</td>\n",
       "      <td>0.014583</td>\n",
       "      <td>0.850662</td>\n",
       "    </tr>\n",
       "    <tr>\n",
       "      <th>49998</th>\n",
       "      <td>49999</td>\n",
       "      <td>1</td>\n",
       "      <td>0.000000</td>\n",
       "      <td>0.000000</td>\n",
       "      <td>0.000000</td>\n",
       "      <td>0</td>\n",
       "      <td>0.855551</td>\n",
       "      <td>0.0</td>\n",
       "      <td>-0.849437</td>\n",
       "      <td>1</td>\n",
       "      <td>...</td>\n",
       "      <td>0</td>\n",
       "      <td>0.000000</td>\n",
       "      <td>0.000000</td>\n",
       "      <td>0.000000</td>\n",
       "      <td>0.000000</td>\n",
       "      <td>0.000000</td>\n",
       "      <td>0</td>\n",
       "      <td>0</td>\n",
       "      <td>0.000000</td>\n",
       "      <td>0.000000</td>\n",
       "    </tr>\n",
       "    <tr>\n",
       "      <th>49999</th>\n",
       "      <td>50000</td>\n",
       "      <td>0</td>\n",
       "      <td>0.000000</td>\n",
       "      <td>0.000000</td>\n",
       "      <td>0.000000</td>\n",
       "      <td>0</td>\n",
       "      <td>0.000000</td>\n",
       "      <td>0.0</td>\n",
       "      <td>0.000000</td>\n",
       "      <td>0</td>\n",
       "      <td>...</td>\n",
       "      <td>0</td>\n",
       "      <td>0.000000</td>\n",
       "      <td>0.000000</td>\n",
       "      <td>0.000000</td>\n",
       "      <td>0.000000</td>\n",
       "      <td>0.000000</td>\n",
       "      <td>0</td>\n",
       "      <td>0</td>\n",
       "      <td>0.000000</td>\n",
       "      <td>0.000000</td>\n",
       "    </tr>\n",
       "  </tbody>\n",
       "</table>\n",
       "<p>50000 rows × 80 columns</p>\n",
       "</div>"
      ],
      "text/plain": [
       "       exampleid  target     feat1     feat2     feat3  feat4     feat5  \\\n",
       "0              1       0  0.000000  0.000000  0.000000      0  0.000000   \n",
       "1              2       0  0.920167  0.817883 -0.646473     -1  0.000000   \n",
       "2              3       1  0.868397  0.178202  0.150828     -1  0.000000   \n",
       "3              4       0  0.000000  0.000000  0.000000      0  1.577894   \n",
       "4              5       0  0.000000  0.000000  0.000000      0  0.000000   \n",
       "...          ...     ...       ...       ...       ...    ...       ...   \n",
       "49995      49996       0  0.000000  0.000000  0.000000      0  0.000000   \n",
       "49996      49997       1  0.000000  0.000000  0.000000      0  0.000000   \n",
       "49997      49998       1  0.918590  1.012605 -0.047045     -1  0.000000   \n",
       "49998      49999       1  0.000000  0.000000  0.000000      0  0.855551   \n",
       "49999      50000       0  0.000000  0.000000  0.000000      0  0.000000   \n",
       "\n",
       "       feat6     feat7  feat8  ...  feat69    feat70    feat71    feat72  \\\n",
       "0        0.0  0.000000      0  ...      -1 -0.036906 -0.000724  0.000000   \n",
       "1        0.0  0.000000      0  ...      -1 -0.999927 -0.012102  0.920167   \n",
       "2        0.0  0.000000      0  ...       1  0.908824  0.550843  0.868397   \n",
       "3        0.0 -0.369792     -1  ...       0  0.000000  0.000000  0.000000   \n",
       "4        0.0  0.000000      0  ...       1  0.000005  0.400702  0.000000   \n",
       "...      ...       ...    ...  ...     ...       ...       ...       ...   \n",
       "49995    0.0  0.000000      0  ...       0  0.000000  0.000000  0.000000   \n",
       "49996    0.0  0.000000      0  ...       0  0.000000  0.000000  0.000000   \n",
       "49997    0.0  0.000000      0  ...       0  0.000000  0.000000  0.918590   \n",
       "49998    0.0 -0.849437      1  ...       0  0.000000  0.000000  0.000000   \n",
       "49999    0.0  0.000000      0  ...       0  0.000000  0.000000  0.000000   \n",
       "\n",
       "         feat73    feat74  feat75  feat76    feat77    feat78  \n",
       "0      0.000000  0.000000       0       0  0.000000  0.000000  \n",
       "1      0.817883 -0.646473      -1       1  0.302235  0.950770  \n",
       "2      0.178202  0.150828      -1       1  0.001421  0.882853  \n",
       "3      0.000000  0.000000       0       0  0.000000  0.000000  \n",
       "4      0.000000  0.000000       0       0  0.000000  0.000000  \n",
       "...         ...       ...     ...     ...       ...       ...  \n",
       "49995  0.000000  0.000000       0       0  0.000000  0.000000  \n",
       "49996  0.000000  0.000000       0       0  0.000000  0.000000  \n",
       "49997  1.012605 -0.047045      -1       1  0.014583  0.850662  \n",
       "49998  0.000000  0.000000       0       0  0.000000  0.000000  \n",
       "49999  0.000000  0.000000       0       0  0.000000  0.000000  \n",
       "\n",
       "[50000 rows x 80 columns]"
      ]
     },
     "execution_count": 5,
     "metadata": {},
     "output_type": "execute_result"
    }
   ],
   "source": [
    "#data exploration\n",
    "data"
   ]
  },
  {
   "cell_type": "code",
   "execution_count": 6,
   "metadata": {
    "scrolled": true
   },
   "outputs": [
    {
     "name": "stdout",
     "output_type": "stream",
     "text": [
      "<class 'pandas.core.frame.DataFrame'>\n",
      "RangeIndex: 50000 entries, 0 to 49999\n",
      "Data columns (total 80 columns):\n",
      "exampleid    50000 non-null int64\n",
      "target       50000 non-null int64\n",
      "feat1        50000 non-null float64\n",
      "feat2        50000 non-null float64\n",
      "feat3        50000 non-null float64\n",
      "feat4        50000 non-null int64\n",
      "feat5        50000 non-null float64\n",
      "feat6        50000 non-null float64\n",
      "feat7        50000 non-null float64\n",
      "feat8        50000 non-null int64\n",
      "feat9        50000 non-null float64\n",
      "feat10       50000 non-null float64\n",
      "feat11       50000 non-null float64\n",
      "feat12       50000 non-null int64\n",
      "feat13       50000 non-null float64\n",
      "feat14       50000 non-null float64\n",
      "feat15       50000 non-null float64\n",
      "feat16       50000 non-null int64\n",
      "feat17       50000 non-null int64\n",
      "feat18       50000 non-null float64\n",
      "feat19       50000 non-null float64\n",
      "feat20       15798 non-null float64\n",
      "feat21       15798 non-null float64\n",
      "feat22       15798 non-null float64\n",
      "feat23       50000 non-null float64\n",
      "feat24       50000 non-null float64\n",
      "feat25       50000 non-null float64\n",
      "feat26       50000 non-null float64\n",
      "feat27       50000 non-null float64\n",
      "feat28       50000 non-null float64\n",
      "feat29       19938 non-null float64\n",
      "feat30       50000 non-null int64\n",
      "feat31       50000 non-null int64\n",
      "feat32       50000 non-null float64\n",
      "feat33       50000 non-null float64\n",
      "feat34       50000 non-null float64\n",
      "feat35       50000 non-null int64\n",
      "feat36       50000 non-null int64\n",
      "feat37       50000 non-null float64\n",
      "feat38       50000 non-null float64\n",
      "feat39       50000 non-null float64\n",
      "feat40       50000 non-null float64\n",
      "feat41       50000 non-null float64\n",
      "feat42       50000 non-null float64\n",
      "feat43       50000 non-null int64\n",
      "feat44       35531 non-null float64\n",
      "feat45       35531 non-null float64\n",
      "feat46       35531 non-null float64\n",
      "feat47       50000 non-null int64\n",
      "feat48       50000 non-null int64\n",
      "feat49       50000 non-null int64\n",
      "feat50       50000 non-null int64\n",
      "feat51       50000 non-null int64\n",
      "feat52       50000 non-null int64\n",
      "feat53       50000 non-null float64\n",
      "feat54       50000 non-null float64\n",
      "feat55       31398 non-null float64\n",
      "feat56       50000 non-null int64\n",
      "feat57       50000 non-null float64\n",
      "feat58       50000 non-null float64\n",
      "feat59       50000 non-null float64\n",
      "feat60       50000 non-null float64\n",
      "feat61       50000 non-null float64\n",
      "feat62       50000 non-null float64\n",
      "feat63       50000 non-null int64\n",
      "feat64       50000 non-null float64\n",
      "feat65       50000 non-null float64\n",
      "feat66       50000 non-null int64\n",
      "feat67       50000 non-null float64\n",
      "feat68       50000 non-null float64\n",
      "feat69       50000 non-null int64\n",
      "feat70       50000 non-null float64\n",
      "feat71       50000 non-null float64\n",
      "feat72       50000 non-null float64\n",
      "feat73       50000 non-null float64\n",
      "feat74       50000 non-null float64\n",
      "feat75       50000 non-null int64\n",
      "feat76       50000 non-null int64\n",
      "feat77       50000 non-null float64\n",
      "feat78       50000 non-null float64\n",
      "dtypes: float64(56), int64(24)\n",
      "memory usage: 30.5 MB\n"
     ]
    }
   ],
   "source": [
    "data.info()"
   ]
  },
  {
   "cell_type": "code",
   "execution_count": 7,
   "metadata": {},
   "outputs": [
    {
     "data": {
      "text/plain": [
       "3.2238821135809186"
      ]
     },
     "execution_count": 7,
     "metadata": {},
     "output_type": "execute_result"
    }
   ],
   "source": [
    "data.feat78.skew() "
   ]
  },
  {
   "cell_type": "code",
   "execution_count": 8,
   "metadata": {},
   "outputs": [],
   "source": [
    "colum_names= data.columns"
   ]
  },
  {
   "cell_type": "code",
   "execution_count": 9,
   "metadata": {},
   "outputs": [
    {
     "data": {
      "text/plain": [
       "True"
      ]
     },
     "execution_count": 9,
     "metadata": {},
     "output_type": "execute_result"
    }
   ],
   "source": [
    "data.isnull().values.any()"
   ]
  },
  {
   "cell_type": "code",
   "execution_count": 10,
   "metadata": {},
   "outputs": [],
   "source": [
    "missing_col=data.columns[data.isnull().any()]"
   ]
  },
  {
   "cell_type": "code",
   "execution_count": 11,
   "metadata": {},
   "outputs": [
    {
     "data": {
      "text/plain": [
       "Index(['feat20', 'feat21', 'feat22', 'feat29', 'feat44', 'feat45', 'feat46',\n",
       "       'feat55'],\n",
       "      dtype='object')"
      ]
     },
     "execution_count": 11,
     "metadata": {},
     "output_type": "execute_result"
    }
   ],
   "source": [
    "missing_col"
   ]
  },
  {
   "cell_type": "code",
   "execution_count": 12,
   "metadata": {},
   "outputs": [
    {
     "data": {
      "text/plain": [
       "37.204"
      ]
     },
     "execution_count": 12,
     "metadata": {},
     "output_type": "execute_result"
    }
   ],
   "source": [
    "#missing_per=[]\n",
    "#for i in range (len('missing_col')):\n",
    "percent_missing = data.feat55.isnull().sum() * 100 / len(data.feat55)\n",
    "   # missing_per.append(percent_missing);\n",
    "#missing_per\n",
    "percent_missing"
   ]
  },
  {
   "cell_type": "code",
   "execution_count": 13,
   "metadata": {},
   "outputs": [
    {
     "data": {
      "text/html": [
       "<div>\n",
       "<style scoped>\n",
       "    .dataframe tbody tr th:only-of-type {\n",
       "        vertical-align: middle;\n",
       "    }\n",
       "\n",
       "    .dataframe tbody tr th {\n",
       "        vertical-align: top;\n",
       "    }\n",
       "\n",
       "    .dataframe thead th {\n",
       "        text-align: right;\n",
       "    }\n",
       "</style>\n",
       "<table border=\"1\" class=\"dataframe\">\n",
       "  <thead>\n",
       "    <tr style=\"text-align: right;\">\n",
       "      <th></th>\n",
       "      <th>exampleid</th>\n",
       "      <th>target</th>\n",
       "      <th>feat1</th>\n",
       "      <th>feat2</th>\n",
       "      <th>feat3</th>\n",
       "      <th>feat4</th>\n",
       "      <th>feat5</th>\n",
       "      <th>feat6</th>\n",
       "      <th>feat7</th>\n",
       "      <th>feat8</th>\n",
       "      <th>...</th>\n",
       "      <th>feat69</th>\n",
       "      <th>feat70</th>\n",
       "      <th>feat71</th>\n",
       "      <th>feat72</th>\n",
       "      <th>feat73</th>\n",
       "      <th>feat74</th>\n",
       "      <th>feat75</th>\n",
       "      <th>feat76</th>\n",
       "      <th>feat77</th>\n",
       "      <th>feat78</th>\n",
       "    </tr>\n",
       "  </thead>\n",
       "  <tbody>\n",
       "    <tr>\n",
       "      <th>count</th>\n",
       "      <td>50000.000000</td>\n",
       "      <td>50000.000000</td>\n",
       "      <td>50000.000000</td>\n",
       "      <td>50000.000000</td>\n",
       "      <td>50000.000000</td>\n",
       "      <td>50000.000000</td>\n",
       "      <td>50000.000000</td>\n",
       "      <td>50000.000000</td>\n",
       "      <td>50000.000000</td>\n",
       "      <td>50000.000000</td>\n",
       "      <td>...</td>\n",
       "      <td>50000.000000</td>\n",
       "      <td>50000.000000</td>\n",
       "      <td>50000.000000</td>\n",
       "      <td>50000.000000</td>\n",
       "      <td>50000.000000</td>\n",
       "      <td>50000.000000</td>\n",
       "      <td>50000.000000</td>\n",
       "      <td>50000.000000</td>\n",
       "      <td>50000.000000</td>\n",
       "      <td>50000.000000</td>\n",
       "    </tr>\n",
       "    <tr>\n",
       "      <th>mean</th>\n",
       "      <td>25000.500000</td>\n",
       "      <td>0.497220</td>\n",
       "      <td>0.155606</td>\n",
       "      <td>0.084876</td>\n",
       "      <td>-0.050354</td>\n",
       "      <td>-0.000060</td>\n",
       "      <td>0.126569</td>\n",
       "      <td>0.049887</td>\n",
       "      <td>-0.038344</td>\n",
       "      <td>0.002860</td>\n",
       "      <td>...</td>\n",
       "      <td>0.008120</td>\n",
       "      <td>0.000478</td>\n",
       "      <td>0.003198</td>\n",
       "      <td>0.052807</td>\n",
       "      <td>0.066944</td>\n",
       "      <td>-0.014101</td>\n",
       "      <td>-0.001460</td>\n",
       "      <td>0.094480</td>\n",
       "      <td>0.002843</td>\n",
       "      <td>0.066545</td>\n",
       "    </tr>\n",
       "    <tr>\n",
       "      <th>std</th>\n",
       "      <td>14433.901067</td>\n",
       "      <td>0.499997</td>\n",
       "      <td>0.414875</td>\n",
       "      <td>0.295335</td>\n",
       "      <td>0.253748</td>\n",
       "      <td>0.392916</td>\n",
       "      <td>0.400694</td>\n",
       "      <td>0.223713</td>\n",
       "      <td>0.214168</td>\n",
       "      <td>0.322077</td>\n",
       "      <td>...</td>\n",
       "      <td>0.769302</td>\n",
       "      <td>0.446978</td>\n",
       "      <td>0.381329</td>\n",
       "      <td>0.180710</td>\n",
       "      <td>0.283114</td>\n",
       "      <td>0.176896</td>\n",
       "      <td>0.295939</td>\n",
       "      <td>0.315841</td>\n",
       "      <td>0.019081</td>\n",
       "      <td>0.223091</td>\n",
       "    </tr>\n",
       "    <tr>\n",
       "      <th>min</th>\n",
       "      <td>1.000000</td>\n",
       "      <td>0.000000</td>\n",
       "      <td>0.000000</td>\n",
       "      <td>0.000000</td>\n",
       "      <td>-1.000000</td>\n",
       "      <td>-1.000000</td>\n",
       "      <td>0.000000</td>\n",
       "      <td>0.000000</td>\n",
       "      <td>-1.000000</td>\n",
       "      <td>-1.000000</td>\n",
       "      <td>...</td>\n",
       "      <td>-1.000000</td>\n",
       "      <td>-0.999998</td>\n",
       "      <td>-0.908001</td>\n",
       "      <td>0.000000</td>\n",
       "      <td>0.000000</td>\n",
       "      <td>-1.000000</td>\n",
       "      <td>-1.000000</td>\n",
       "      <td>0.000000</td>\n",
       "      <td>0.000000</td>\n",
       "      <td>0.000000</td>\n",
       "    </tr>\n",
       "    <tr>\n",
       "      <th>25%</th>\n",
       "      <td>12500.750000</td>\n",
       "      <td>0.000000</td>\n",
       "      <td>0.000000</td>\n",
       "      <td>0.000000</td>\n",
       "      <td>0.000000</td>\n",
       "      <td>0.000000</td>\n",
       "      <td>0.000000</td>\n",
       "      <td>0.000000</td>\n",
       "      <td>0.000000</td>\n",
       "      <td>0.000000</td>\n",
       "      <td>...</td>\n",
       "      <td>-1.000000</td>\n",
       "      <td>-0.000013</td>\n",
       "      <td>-0.001582</td>\n",
       "      <td>0.000000</td>\n",
       "      <td>0.000000</td>\n",
       "      <td>0.000000</td>\n",
       "      <td>0.000000</td>\n",
       "      <td>0.000000</td>\n",
       "      <td>0.000000</td>\n",
       "      <td>0.000000</td>\n",
       "    </tr>\n",
       "    <tr>\n",
       "      <th>50%</th>\n",
       "      <td>25000.500000</td>\n",
       "      <td>0.000000</td>\n",
       "      <td>0.000000</td>\n",
       "      <td>0.000000</td>\n",
       "      <td>0.000000</td>\n",
       "      <td>0.000000</td>\n",
       "      <td>0.000000</td>\n",
       "      <td>0.000000</td>\n",
       "      <td>0.000000</td>\n",
       "      <td>0.000000</td>\n",
       "      <td>...</td>\n",
       "      <td>0.000000</td>\n",
       "      <td>0.000000</td>\n",
       "      <td>0.000000</td>\n",
       "      <td>0.000000</td>\n",
       "      <td>0.000000</td>\n",
       "      <td>0.000000</td>\n",
       "      <td>0.000000</td>\n",
       "      <td>0.000000</td>\n",
       "      <td>0.000000</td>\n",
       "      <td>0.000000</td>\n",
       "    </tr>\n",
       "    <tr>\n",
       "      <th>75%</th>\n",
       "      <td>37500.250000</td>\n",
       "      <td>1.000000</td>\n",
       "      <td>0.000000</td>\n",
       "      <td>0.000000</td>\n",
       "      <td>0.000000</td>\n",
       "      <td>0.000000</td>\n",
       "      <td>0.000000</td>\n",
       "      <td>0.000000</td>\n",
       "      <td>0.000000</td>\n",
       "      <td>0.000000</td>\n",
       "      <td>...</td>\n",
       "      <td>1.000000</td>\n",
       "      <td>0.000015</td>\n",
       "      <td>0.003002</td>\n",
       "      <td>0.000000</td>\n",
       "      <td>0.000000</td>\n",
       "      <td>0.000000</td>\n",
       "      <td>0.000000</td>\n",
       "      <td>0.000000</td>\n",
       "      <td>0.000000</td>\n",
       "      <td>0.000000</td>\n",
       "    </tr>\n",
       "    <tr>\n",
       "      <th>max</th>\n",
       "      <td>50000.000000</td>\n",
       "      <td>1.000000</td>\n",
       "      <td>2.639020</td>\n",
       "      <td>3.429590</td>\n",
       "      <td>0.999954</td>\n",
       "      <td>1.000000</td>\n",
       "      <td>2.719006</td>\n",
       "      <td>3.054644</td>\n",
       "      <td>0.999274</td>\n",
       "      <td>1.000000</td>\n",
       "      <td>...</td>\n",
       "      <td>1.000000</td>\n",
       "      <td>0.999999</td>\n",
       "      <td>0.907744</td>\n",
       "      <td>0.999953</td>\n",
       "      <td>3.429590</td>\n",
       "      <td>0.999869</td>\n",
       "      <td>1.000000</td>\n",
       "      <td>3.000000</td>\n",
       "      <td>0.385513</td>\n",
       "      <td>1.000000</td>\n",
       "    </tr>\n",
       "  </tbody>\n",
       "</table>\n",
       "<p>8 rows × 80 columns</p>\n",
       "</div>"
      ],
      "text/plain": [
       "          exampleid        target         feat1         feat2         feat3  \\\n",
       "count  50000.000000  50000.000000  50000.000000  50000.000000  50000.000000   \n",
       "mean   25000.500000      0.497220      0.155606      0.084876     -0.050354   \n",
       "std    14433.901067      0.499997      0.414875      0.295335      0.253748   \n",
       "min        1.000000      0.000000      0.000000      0.000000     -1.000000   \n",
       "25%    12500.750000      0.000000      0.000000      0.000000      0.000000   \n",
       "50%    25000.500000      0.000000      0.000000      0.000000      0.000000   \n",
       "75%    37500.250000      1.000000      0.000000      0.000000      0.000000   \n",
       "max    50000.000000      1.000000      2.639020      3.429590      0.999954   \n",
       "\n",
       "              feat4         feat5         feat6         feat7         feat8  \\\n",
       "count  50000.000000  50000.000000  50000.000000  50000.000000  50000.000000   \n",
       "mean      -0.000060      0.126569      0.049887     -0.038344      0.002860   \n",
       "std        0.392916      0.400694      0.223713      0.214168      0.322077   \n",
       "min       -1.000000      0.000000      0.000000     -1.000000     -1.000000   \n",
       "25%        0.000000      0.000000      0.000000      0.000000      0.000000   \n",
       "50%        0.000000      0.000000      0.000000      0.000000      0.000000   \n",
       "75%        0.000000      0.000000      0.000000      0.000000      0.000000   \n",
       "max        1.000000      2.719006      3.054644      0.999274      1.000000   \n",
       "\n",
       "       ...        feat69        feat70        feat71        feat72  \\\n",
       "count  ...  50000.000000  50000.000000  50000.000000  50000.000000   \n",
       "mean   ...      0.008120      0.000478      0.003198      0.052807   \n",
       "std    ...      0.769302      0.446978      0.381329      0.180710   \n",
       "min    ...     -1.000000     -0.999998     -0.908001      0.000000   \n",
       "25%    ...     -1.000000     -0.000013     -0.001582      0.000000   \n",
       "50%    ...      0.000000      0.000000      0.000000      0.000000   \n",
       "75%    ...      1.000000      0.000015      0.003002      0.000000   \n",
       "max    ...      1.000000      0.999999      0.907744      0.999953   \n",
       "\n",
       "             feat73        feat74        feat75        feat76        feat77  \\\n",
       "count  50000.000000  50000.000000  50000.000000  50000.000000  50000.000000   \n",
       "mean       0.066944     -0.014101     -0.001460      0.094480      0.002843   \n",
       "std        0.283114      0.176896      0.295939      0.315841      0.019081   \n",
       "min        0.000000     -1.000000     -1.000000      0.000000      0.000000   \n",
       "25%        0.000000      0.000000      0.000000      0.000000      0.000000   \n",
       "50%        0.000000      0.000000      0.000000      0.000000      0.000000   \n",
       "75%        0.000000      0.000000      0.000000      0.000000      0.000000   \n",
       "max        3.429590      0.999869      1.000000      3.000000      0.385513   \n",
       "\n",
       "             feat78  \n",
       "count  50000.000000  \n",
       "mean       0.066545  \n",
       "std        0.223091  \n",
       "min        0.000000  \n",
       "25%        0.000000  \n",
       "50%        0.000000  \n",
       "75%        0.000000  \n",
       "max        1.000000  \n",
       "\n",
       "[8 rows x 80 columns]"
      ]
     },
     "execution_count": 13,
     "metadata": {},
     "output_type": "execute_result"
    }
   ],
   "source": [
    "data.describe()"
   ]
  },
  {
   "cell_type": "code",
   "execution_count": 14,
   "metadata": {},
   "outputs": [],
   "source": [
    "missing_indicators = data[missing_col].isnull().astype(int).add_suffix('_M')"
   ]
  },
  {
   "cell_type": "code",
   "execution_count": 15,
   "metadata": {},
   "outputs": [
    {
     "data": {
      "text/plain": [
       "feat20_M    False\n",
       "feat21_M    False\n",
       "feat22_M    False\n",
       "feat29_M    False\n",
       "feat44_M    False\n",
       "feat45_M    False\n",
       "feat46_M    False\n",
       "feat55_M    False\n",
       "dtype: bool"
      ]
     },
     "execution_count": 15,
     "metadata": {},
     "output_type": "execute_result"
    }
   ],
   "source": [
    "missing_indicators.isnull().any()"
   ]
  },
  {
   "cell_type": "code",
   "execution_count": 16,
   "metadata": {},
   "outputs": [],
   "source": [
    "imp = SimpleImputer(missing_values=np.nan, strategy='mean')"
   ]
  },
  {
   "cell_type": "code",
   "execution_count": 17,
   "metadata": {},
   "outputs": [],
   "source": [
    "imp.fit(data)\n",
    "data= imp.transform(data)"
   ]
  },
  {
   "cell_type": "code",
   "execution_count": 18,
   "metadata": {},
   "outputs": [],
   "source": [
    "data = pd.DataFrame(data,columns=colum_names)"
   ]
  },
  {
   "cell_type": "code",
   "execution_count": 19,
   "metadata": {},
   "outputs": [
    {
     "data": {
      "text/plain": [
       "False"
      ]
     },
     "execution_count": 19,
     "metadata": {},
     "output_type": "execute_result"
    }
   ],
   "source": [
    "data.isnull().values.any()"
   ]
  },
  {
   "cell_type": "code",
   "execution_count": 20,
   "metadata": {},
   "outputs": [],
   "source": [
    "result = pd.concat([data, missing_indicators], axis=1)"
   ]
  },
  {
   "cell_type": "code",
   "execution_count": 21,
   "metadata": {},
   "outputs": [
    {
     "data": {
      "text/html": [
       "<div>\n",
       "<style scoped>\n",
       "    .dataframe tbody tr th:only-of-type {\n",
       "        vertical-align: middle;\n",
       "    }\n",
       "\n",
       "    .dataframe tbody tr th {\n",
       "        vertical-align: top;\n",
       "    }\n",
       "\n",
       "    .dataframe thead th {\n",
       "        text-align: right;\n",
       "    }\n",
       "</style>\n",
       "<table border=\"1\" class=\"dataframe\">\n",
       "  <thead>\n",
       "    <tr style=\"text-align: right;\">\n",
       "      <th></th>\n",
       "      <th>exampleid</th>\n",
       "      <th>target</th>\n",
       "      <th>feat1</th>\n",
       "      <th>feat2</th>\n",
       "      <th>feat3</th>\n",
       "      <th>feat4</th>\n",
       "      <th>feat5</th>\n",
       "      <th>feat6</th>\n",
       "      <th>feat7</th>\n",
       "      <th>feat8</th>\n",
       "      <th>...</th>\n",
       "      <th>feat77</th>\n",
       "      <th>feat78</th>\n",
       "      <th>feat20_M</th>\n",
       "      <th>feat21_M</th>\n",
       "      <th>feat22_M</th>\n",
       "      <th>feat29_M</th>\n",
       "      <th>feat44_M</th>\n",
       "      <th>feat45_M</th>\n",
       "      <th>feat46_M</th>\n",
       "      <th>feat55_M</th>\n",
       "    </tr>\n",
       "  </thead>\n",
       "  <tbody>\n",
       "    <tr>\n",
       "      <th>0</th>\n",
       "      <td>1.0</td>\n",
       "      <td>0.0</td>\n",
       "      <td>0.000000</td>\n",
       "      <td>0.000000</td>\n",
       "      <td>0.000000</td>\n",
       "      <td>0.0</td>\n",
       "      <td>0.000000</td>\n",
       "      <td>0.0</td>\n",
       "      <td>0.000000</td>\n",
       "      <td>0.0</td>\n",
       "      <td>...</td>\n",
       "      <td>0.000000</td>\n",
       "      <td>0.000000</td>\n",
       "      <td>1</td>\n",
       "      <td>1</td>\n",
       "      <td>1</td>\n",
       "      <td>1</td>\n",
       "      <td>0</td>\n",
       "      <td>0</td>\n",
       "      <td>0</td>\n",
       "      <td>1</td>\n",
       "    </tr>\n",
       "    <tr>\n",
       "      <th>1</th>\n",
       "      <td>2.0</td>\n",
       "      <td>0.0</td>\n",
       "      <td>0.920167</td>\n",
       "      <td>0.817883</td>\n",
       "      <td>-0.646473</td>\n",
       "      <td>-1.0</td>\n",
       "      <td>0.000000</td>\n",
       "      <td>0.0</td>\n",
       "      <td>0.000000</td>\n",
       "      <td>0.0</td>\n",
       "      <td>...</td>\n",
       "      <td>0.302235</td>\n",
       "      <td>0.950770</td>\n",
       "      <td>0</td>\n",
       "      <td>0</td>\n",
       "      <td>0</td>\n",
       "      <td>1</td>\n",
       "      <td>1</td>\n",
       "      <td>1</td>\n",
       "      <td>1</td>\n",
       "      <td>1</td>\n",
       "    </tr>\n",
       "    <tr>\n",
       "      <th>2</th>\n",
       "      <td>3.0</td>\n",
       "      <td>1.0</td>\n",
       "      <td>0.868397</td>\n",
       "      <td>0.178202</td>\n",
       "      <td>0.150828</td>\n",
       "      <td>-1.0</td>\n",
       "      <td>0.000000</td>\n",
       "      <td>0.0</td>\n",
       "      <td>0.000000</td>\n",
       "      <td>0.0</td>\n",
       "      <td>...</td>\n",
       "      <td>0.001421</td>\n",
       "      <td>0.882853</td>\n",
       "      <td>0</td>\n",
       "      <td>0</td>\n",
       "      <td>0</td>\n",
       "      <td>1</td>\n",
       "      <td>0</td>\n",
       "      <td>0</td>\n",
       "      <td>0</td>\n",
       "      <td>1</td>\n",
       "    </tr>\n",
       "    <tr>\n",
       "      <th>3</th>\n",
       "      <td>4.0</td>\n",
       "      <td>0.0</td>\n",
       "      <td>0.000000</td>\n",
       "      <td>0.000000</td>\n",
       "      <td>0.000000</td>\n",
       "      <td>0.0</td>\n",
       "      <td>1.577894</td>\n",
       "      <td>0.0</td>\n",
       "      <td>-0.369792</td>\n",
       "      <td>-1.0</td>\n",
       "      <td>...</td>\n",
       "      <td>0.000000</td>\n",
       "      <td>0.000000</td>\n",
       "      <td>1</td>\n",
       "      <td>1</td>\n",
       "      <td>1</td>\n",
       "      <td>0</td>\n",
       "      <td>0</td>\n",
       "      <td>0</td>\n",
       "      <td>0</td>\n",
       "      <td>0</td>\n",
       "    </tr>\n",
       "    <tr>\n",
       "      <th>4</th>\n",
       "      <td>5.0</td>\n",
       "      <td>0.0</td>\n",
       "      <td>0.000000</td>\n",
       "      <td>0.000000</td>\n",
       "      <td>0.000000</td>\n",
       "      <td>0.0</td>\n",
       "      <td>0.000000</td>\n",
       "      <td>0.0</td>\n",
       "      <td>0.000000</td>\n",
       "      <td>0.0</td>\n",
       "      <td>...</td>\n",
       "      <td>0.000000</td>\n",
       "      <td>0.000000</td>\n",
       "      <td>1</td>\n",
       "      <td>1</td>\n",
       "      <td>1</td>\n",
       "      <td>1</td>\n",
       "      <td>1</td>\n",
       "      <td>1</td>\n",
       "      <td>1</td>\n",
       "      <td>0</td>\n",
       "    </tr>\n",
       "    <tr>\n",
       "      <th>...</th>\n",
       "      <td>...</td>\n",
       "      <td>...</td>\n",
       "      <td>...</td>\n",
       "      <td>...</td>\n",
       "      <td>...</td>\n",
       "      <td>...</td>\n",
       "      <td>...</td>\n",
       "      <td>...</td>\n",
       "      <td>...</td>\n",
       "      <td>...</td>\n",
       "      <td>...</td>\n",
       "      <td>...</td>\n",
       "      <td>...</td>\n",
       "      <td>...</td>\n",
       "      <td>...</td>\n",
       "      <td>...</td>\n",
       "      <td>...</td>\n",
       "      <td>...</td>\n",
       "      <td>...</td>\n",
       "      <td>...</td>\n",
       "      <td>...</td>\n",
       "    </tr>\n",
       "    <tr>\n",
       "      <th>49995</th>\n",
       "      <td>49996.0</td>\n",
       "      <td>0.0</td>\n",
       "      <td>0.000000</td>\n",
       "      <td>0.000000</td>\n",
       "      <td>0.000000</td>\n",
       "      <td>0.0</td>\n",
       "      <td>0.000000</td>\n",
       "      <td>0.0</td>\n",
       "      <td>0.000000</td>\n",
       "      <td>0.0</td>\n",
       "      <td>...</td>\n",
       "      <td>0.000000</td>\n",
       "      <td>0.000000</td>\n",
       "      <td>1</td>\n",
       "      <td>1</td>\n",
       "      <td>1</td>\n",
       "      <td>0</td>\n",
       "      <td>0</td>\n",
       "      <td>0</td>\n",
       "      <td>0</td>\n",
       "      <td>0</td>\n",
       "    </tr>\n",
       "    <tr>\n",
       "      <th>49996</th>\n",
       "      <td>49997.0</td>\n",
       "      <td>1.0</td>\n",
       "      <td>0.000000</td>\n",
       "      <td>0.000000</td>\n",
       "      <td>0.000000</td>\n",
       "      <td>0.0</td>\n",
       "      <td>0.000000</td>\n",
       "      <td>0.0</td>\n",
       "      <td>0.000000</td>\n",
       "      <td>0.0</td>\n",
       "      <td>...</td>\n",
       "      <td>0.000000</td>\n",
       "      <td>0.000000</td>\n",
       "      <td>1</td>\n",
       "      <td>1</td>\n",
       "      <td>1</td>\n",
       "      <td>0</td>\n",
       "      <td>0</td>\n",
       "      <td>0</td>\n",
       "      <td>0</td>\n",
       "      <td>0</td>\n",
       "    </tr>\n",
       "    <tr>\n",
       "      <th>49997</th>\n",
       "      <td>49998.0</td>\n",
       "      <td>1.0</td>\n",
       "      <td>0.918590</td>\n",
       "      <td>1.012605</td>\n",
       "      <td>-0.047045</td>\n",
       "      <td>-1.0</td>\n",
       "      <td>0.000000</td>\n",
       "      <td>0.0</td>\n",
       "      <td>0.000000</td>\n",
       "      <td>0.0</td>\n",
       "      <td>...</td>\n",
       "      <td>0.014583</td>\n",
       "      <td>0.850662</td>\n",
       "      <td>0</td>\n",
       "      <td>0</td>\n",
       "      <td>0</td>\n",
       "      <td>0</td>\n",
       "      <td>0</td>\n",
       "      <td>0</td>\n",
       "      <td>0</td>\n",
       "      <td>0</td>\n",
       "    </tr>\n",
       "    <tr>\n",
       "      <th>49998</th>\n",
       "      <td>49999.0</td>\n",
       "      <td>1.0</td>\n",
       "      <td>0.000000</td>\n",
       "      <td>0.000000</td>\n",
       "      <td>0.000000</td>\n",
       "      <td>0.0</td>\n",
       "      <td>0.855551</td>\n",
       "      <td>0.0</td>\n",
       "      <td>-0.849437</td>\n",
       "      <td>1.0</td>\n",
       "      <td>...</td>\n",
       "      <td>0.000000</td>\n",
       "      <td>0.000000</td>\n",
       "      <td>1</td>\n",
       "      <td>1</td>\n",
       "      <td>1</td>\n",
       "      <td>0</td>\n",
       "      <td>0</td>\n",
       "      <td>0</td>\n",
       "      <td>0</td>\n",
       "      <td>0</td>\n",
       "    </tr>\n",
       "    <tr>\n",
       "      <th>49999</th>\n",
       "      <td>50000.0</td>\n",
       "      <td>0.0</td>\n",
       "      <td>0.000000</td>\n",
       "      <td>0.000000</td>\n",
       "      <td>0.000000</td>\n",
       "      <td>0.0</td>\n",
       "      <td>0.000000</td>\n",
       "      <td>0.0</td>\n",
       "      <td>0.000000</td>\n",
       "      <td>0.0</td>\n",
       "      <td>...</td>\n",
       "      <td>0.000000</td>\n",
       "      <td>0.000000</td>\n",
       "      <td>1</td>\n",
       "      <td>1</td>\n",
       "      <td>1</td>\n",
       "      <td>0</td>\n",
       "      <td>0</td>\n",
       "      <td>0</td>\n",
       "      <td>0</td>\n",
       "      <td>0</td>\n",
       "    </tr>\n",
       "  </tbody>\n",
       "</table>\n",
       "<p>50000 rows × 88 columns</p>\n",
       "</div>"
      ],
      "text/plain": [
       "       exampleid  target     feat1     feat2     feat3  feat4     feat5  \\\n",
       "0            1.0     0.0  0.000000  0.000000  0.000000    0.0  0.000000   \n",
       "1            2.0     0.0  0.920167  0.817883 -0.646473   -1.0  0.000000   \n",
       "2            3.0     1.0  0.868397  0.178202  0.150828   -1.0  0.000000   \n",
       "3            4.0     0.0  0.000000  0.000000  0.000000    0.0  1.577894   \n",
       "4            5.0     0.0  0.000000  0.000000  0.000000    0.0  0.000000   \n",
       "...          ...     ...       ...       ...       ...    ...       ...   \n",
       "49995    49996.0     0.0  0.000000  0.000000  0.000000    0.0  0.000000   \n",
       "49996    49997.0     1.0  0.000000  0.000000  0.000000    0.0  0.000000   \n",
       "49997    49998.0     1.0  0.918590  1.012605 -0.047045   -1.0  0.000000   \n",
       "49998    49999.0     1.0  0.000000  0.000000  0.000000    0.0  0.855551   \n",
       "49999    50000.0     0.0  0.000000  0.000000  0.000000    0.0  0.000000   \n",
       "\n",
       "       feat6     feat7  feat8  ...    feat77    feat78  feat20_M  feat21_M  \\\n",
       "0        0.0  0.000000    0.0  ...  0.000000  0.000000         1         1   \n",
       "1        0.0  0.000000    0.0  ...  0.302235  0.950770         0         0   \n",
       "2        0.0  0.000000    0.0  ...  0.001421  0.882853         0         0   \n",
       "3        0.0 -0.369792   -1.0  ...  0.000000  0.000000         1         1   \n",
       "4        0.0  0.000000    0.0  ...  0.000000  0.000000         1         1   \n",
       "...      ...       ...    ...  ...       ...       ...       ...       ...   \n",
       "49995    0.0  0.000000    0.0  ...  0.000000  0.000000         1         1   \n",
       "49996    0.0  0.000000    0.0  ...  0.000000  0.000000         1         1   \n",
       "49997    0.0  0.000000    0.0  ...  0.014583  0.850662         0         0   \n",
       "49998    0.0 -0.849437    1.0  ...  0.000000  0.000000         1         1   \n",
       "49999    0.0  0.000000    0.0  ...  0.000000  0.000000         1         1   \n",
       "\n",
       "       feat22_M  feat29_M  feat44_M  feat45_M  feat46_M  feat55_M  \n",
       "0             1         1         0         0         0         1  \n",
       "1             0         1         1         1         1         1  \n",
       "2             0         1         0         0         0         1  \n",
       "3             1         0         0         0         0         0  \n",
       "4             1         1         1         1         1         0  \n",
       "...         ...       ...       ...       ...       ...       ...  \n",
       "49995         1         0         0         0         0         0  \n",
       "49996         1         0         0         0         0         0  \n",
       "49997         0         0         0         0         0         0  \n",
       "49998         1         0         0         0         0         0  \n",
       "49999         1         0         0         0         0         0  \n",
       "\n",
       "[50000 rows x 88 columns]"
      ]
     },
     "execution_count": 21,
     "metadata": {},
     "output_type": "execute_result"
    }
   ],
   "source": [
    "result"
   ]
  },
  {
   "cell_type": "code",
   "execution_count": 22,
   "metadata": {},
   "outputs": [],
   "source": [
    "imp_feature =['feat4','feat8','feat12','feat13','feat14','feat15','feat20','feat31','feat56','feat63','feat66','feat69','feat70','feat71','feat75','target']\n",
    "fdata=data[imp_feature]\n"
   ]
  },
  {
   "cell_type": "code",
   "execution_count": 23,
   "metadata": {},
   "outputs": [
    {
     "data": {
      "text/plain": [
       "Index(['feat4', 'feat8', 'feat12', 'feat13', 'feat14', 'feat15', 'feat20',\n",
       "       'feat31', 'feat56', 'feat63', 'feat66', 'feat69', 'feat70', 'feat71',\n",
       "       'feat75', 'target'],\n",
       "      dtype='object')"
      ]
     },
     "execution_count": 23,
     "metadata": {},
     "output_type": "execute_result"
    }
   ],
   "source": [
    "fdata.columns"
   ]
  },
  {
   "cell_type": "code",
   "execution_count": 24,
   "metadata": {},
   "outputs": [
    {
     "data": {
      "text/html": [
       "<div>\n",
       "<style scoped>\n",
       "    .dataframe tbody tr th:only-of-type {\n",
       "        vertical-align: middle;\n",
       "    }\n",
       "\n",
       "    .dataframe tbody tr th {\n",
       "        vertical-align: top;\n",
       "    }\n",
       "\n",
       "    .dataframe thead th {\n",
       "        text-align: right;\n",
       "    }\n",
       "</style>\n",
       "<table border=\"1\" class=\"dataframe\">\n",
       "  <thead>\n",
       "    <tr style=\"text-align: right;\">\n",
       "      <th></th>\n",
       "      <th>feat4</th>\n",
       "      <th>feat8</th>\n",
       "      <th>feat12</th>\n",
       "      <th>feat13</th>\n",
       "      <th>feat14</th>\n",
       "      <th>feat15</th>\n",
       "      <th>feat20</th>\n",
       "      <th>feat31</th>\n",
       "      <th>feat56</th>\n",
       "      <th>feat63</th>\n",
       "      <th>feat66</th>\n",
       "      <th>feat69</th>\n",
       "      <th>feat70</th>\n",
       "      <th>feat71</th>\n",
       "      <th>feat75</th>\n",
       "      <th>target</th>\n",
       "    </tr>\n",
       "  </thead>\n",
       "  <tbody>\n",
       "    <tr>\n",
       "      <th>0</th>\n",
       "      <td>0.0</td>\n",
       "      <td>0.0</td>\n",
       "      <td>-1.0</td>\n",
       "      <td>0.159424</td>\n",
       "      <td>-0.036906</td>\n",
       "      <td>7.133022e-07</td>\n",
       "      <td>0.001118</td>\n",
       "      <td>1.0</td>\n",
       "      <td>1.0</td>\n",
       "      <td>0.0</td>\n",
       "      <td>-1.0</td>\n",
       "      <td>-1.0</td>\n",
       "      <td>-0.036906</td>\n",
       "      <td>-0.000724</td>\n",
       "      <td>0.0</td>\n",
       "      <td>0.0</td>\n",
       "    </tr>\n",
       "    <tr>\n",
       "      <th>1</th>\n",
       "      <td>-1.0</td>\n",
       "      <td>0.0</td>\n",
       "      <td>-1.0</td>\n",
       "      <td>-0.999927</td>\n",
       "      <td>-0.010512</td>\n",
       "      <td>1.751311e-04</td>\n",
       "      <td>-0.920167</td>\n",
       "      <td>-1.0</td>\n",
       "      <td>1.0</td>\n",
       "      <td>5.0</td>\n",
       "      <td>1.0</td>\n",
       "      <td>-1.0</td>\n",
       "      <td>-0.999927</td>\n",
       "      <td>-0.012102</td>\n",
       "      <td>-1.0</td>\n",
       "      <td>0.0</td>\n",
       "    </tr>\n",
       "    <tr>\n",
       "      <th>2</th>\n",
       "      <td>-1.0</td>\n",
       "      <td>0.0</td>\n",
       "      <td>1.0</td>\n",
       "      <td>0.908824</td>\n",
       "      <td>0.843792</td>\n",
       "      <td>-9.441804e-02</td>\n",
       "      <td>0.773496</td>\n",
       "      <td>-1.0</td>\n",
       "      <td>-1.0</td>\n",
       "      <td>0.0</td>\n",
       "      <td>-1.0</td>\n",
       "      <td>1.0</td>\n",
       "      <td>0.908824</td>\n",
       "      <td>0.550843</td>\n",
       "      <td>-1.0</td>\n",
       "      <td>1.0</td>\n",
       "    </tr>\n",
       "    <tr>\n",
       "      <th>3</th>\n",
       "      <td>0.0</td>\n",
       "      <td>-1.0</td>\n",
       "      <td>1.0</td>\n",
       "      <td>0.007575</td>\n",
       "      <td>-0.004903</td>\n",
       "      <td>-2.879200e-05</td>\n",
       "      <td>0.001118</td>\n",
       "      <td>0.0</td>\n",
       "      <td>0.0</td>\n",
       "      <td>0.0</td>\n",
       "      <td>-1.0</td>\n",
       "      <td>0.0</td>\n",
       "      <td>0.000000</td>\n",
       "      <td>0.000000</td>\n",
       "      <td>0.0</td>\n",
       "      <td>0.0</td>\n",
       "    </tr>\n",
       "    <tr>\n",
       "      <th>4</th>\n",
       "      <td>0.0</td>\n",
       "      <td>0.0</td>\n",
       "      <td>-1.0</td>\n",
       "      <td>-0.000242</td>\n",
       "      <td>-0.000010</td>\n",
       "      <td>7.833703e-06</td>\n",
       "      <td>0.001118</td>\n",
       "      <td>-1.0</td>\n",
       "      <td>0.0</td>\n",
       "      <td>0.0</td>\n",
       "      <td>-1.0</td>\n",
       "      <td>1.0</td>\n",
       "      <td>0.000005</td>\n",
       "      <td>0.400702</td>\n",
       "      <td>0.0</td>\n",
       "      <td>0.0</td>\n",
       "    </tr>\n",
       "    <tr>\n",
       "      <th>...</th>\n",
       "      <td>...</td>\n",
       "      <td>...</td>\n",
       "      <td>...</td>\n",
       "      <td>...</td>\n",
       "      <td>...</td>\n",
       "      <td>...</td>\n",
       "      <td>...</td>\n",
       "      <td>...</td>\n",
       "      <td>...</td>\n",
       "      <td>...</td>\n",
       "      <td>...</td>\n",
       "      <td>...</td>\n",
       "      <td>...</td>\n",
       "      <td>...</td>\n",
       "      <td>...</td>\n",
       "      <td>...</td>\n",
       "    </tr>\n",
       "    <tr>\n",
       "      <th>49995</th>\n",
       "      <td>0.0</td>\n",
       "      <td>0.0</td>\n",
       "      <td>-1.0</td>\n",
       "      <td>-0.976982</td>\n",
       "      <td>0.004464</td>\n",
       "      <td>1.160270e-05</td>\n",
       "      <td>0.001118</td>\n",
       "      <td>0.0</td>\n",
       "      <td>0.0</td>\n",
       "      <td>0.0</td>\n",
       "      <td>1.0</td>\n",
       "      <td>0.0</td>\n",
       "      <td>0.000000</td>\n",
       "      <td>0.000000</td>\n",
       "      <td>0.0</td>\n",
       "      <td>0.0</td>\n",
       "    </tr>\n",
       "    <tr>\n",
       "      <th>49996</th>\n",
       "      <td>0.0</td>\n",
       "      <td>0.0</td>\n",
       "      <td>-1.0</td>\n",
       "      <td>0.024763</td>\n",
       "      <td>0.001418</td>\n",
       "      <td>-6.377560e-04</td>\n",
       "      <td>0.001118</td>\n",
       "      <td>0.0</td>\n",
       "      <td>0.0</td>\n",
       "      <td>0.0</td>\n",
       "      <td>1.0</td>\n",
       "      <td>0.0</td>\n",
       "      <td>0.000000</td>\n",
       "      <td>0.000000</td>\n",
       "      <td>0.0</td>\n",
       "      <td>1.0</td>\n",
       "    </tr>\n",
       "    <tr>\n",
       "      <th>49997</th>\n",
       "      <td>-1.0</td>\n",
       "      <td>0.0</td>\n",
       "      <td>1.0</td>\n",
       "      <td>0.961641</td>\n",
       "      <td>0.040291</td>\n",
       "      <td>-9.958344e-03</td>\n",
       "      <td>1.982100</td>\n",
       "      <td>0.0</td>\n",
       "      <td>0.0</td>\n",
       "      <td>0.0</td>\n",
       "      <td>1.0</td>\n",
       "      <td>0.0</td>\n",
       "      <td>0.000000</td>\n",
       "      <td>0.000000</td>\n",
       "      <td>-1.0</td>\n",
       "      <td>1.0</td>\n",
       "    </tr>\n",
       "    <tr>\n",
       "      <th>49998</th>\n",
       "      <td>0.0</td>\n",
       "      <td>1.0</td>\n",
       "      <td>-1.0</td>\n",
       "      <td>0.999904</td>\n",
       "      <td>0.000634</td>\n",
       "      <td>-1.963700e-05</td>\n",
       "      <td>0.001118</td>\n",
       "      <td>0.0</td>\n",
       "      <td>0.0</td>\n",
       "      <td>0.0</td>\n",
       "      <td>1.0</td>\n",
       "      <td>0.0</td>\n",
       "      <td>0.000000</td>\n",
       "      <td>0.000000</td>\n",
       "      <td>0.0</td>\n",
       "      <td>1.0</td>\n",
       "    </tr>\n",
       "    <tr>\n",
       "      <th>49999</th>\n",
       "      <td>0.0</td>\n",
       "      <td>0.0</td>\n",
       "      <td>-1.0</td>\n",
       "      <td>-0.000234</td>\n",
       "      <td>-0.000080</td>\n",
       "      <td>4.730660e-05</td>\n",
       "      <td>0.001118</td>\n",
       "      <td>0.0</td>\n",
       "      <td>0.0</td>\n",
       "      <td>0.0</td>\n",
       "      <td>-1.0</td>\n",
       "      <td>0.0</td>\n",
       "      <td>0.000000</td>\n",
       "      <td>0.000000</td>\n",
       "      <td>0.0</td>\n",
       "      <td>0.0</td>\n",
       "    </tr>\n",
       "  </tbody>\n",
       "</table>\n",
       "<p>50000 rows × 16 columns</p>\n",
       "</div>"
      ],
      "text/plain": [
       "       feat4  feat8  feat12    feat13    feat14        feat15    feat20  \\\n",
       "0        0.0    0.0    -1.0  0.159424 -0.036906  7.133022e-07  0.001118   \n",
       "1       -1.0    0.0    -1.0 -0.999927 -0.010512  1.751311e-04 -0.920167   \n",
       "2       -1.0    0.0     1.0  0.908824  0.843792 -9.441804e-02  0.773496   \n",
       "3        0.0   -1.0     1.0  0.007575 -0.004903 -2.879200e-05  0.001118   \n",
       "4        0.0    0.0    -1.0 -0.000242 -0.000010  7.833703e-06  0.001118   \n",
       "...      ...    ...     ...       ...       ...           ...       ...   \n",
       "49995    0.0    0.0    -1.0 -0.976982  0.004464  1.160270e-05  0.001118   \n",
       "49996    0.0    0.0    -1.0  0.024763  0.001418 -6.377560e-04  0.001118   \n",
       "49997   -1.0    0.0     1.0  0.961641  0.040291 -9.958344e-03  1.982100   \n",
       "49998    0.0    1.0    -1.0  0.999904  0.000634 -1.963700e-05  0.001118   \n",
       "49999    0.0    0.0    -1.0 -0.000234 -0.000080  4.730660e-05  0.001118   \n",
       "\n",
       "       feat31  feat56  feat63  feat66  feat69    feat70    feat71  feat75  \\\n",
       "0         1.0     1.0     0.0    -1.0    -1.0 -0.036906 -0.000724     0.0   \n",
       "1        -1.0     1.0     5.0     1.0    -1.0 -0.999927 -0.012102    -1.0   \n",
       "2        -1.0    -1.0     0.0    -1.0     1.0  0.908824  0.550843    -1.0   \n",
       "3         0.0     0.0     0.0    -1.0     0.0  0.000000  0.000000     0.0   \n",
       "4        -1.0     0.0     0.0    -1.0     1.0  0.000005  0.400702     0.0   \n",
       "...       ...     ...     ...     ...     ...       ...       ...     ...   \n",
       "49995     0.0     0.0     0.0     1.0     0.0  0.000000  0.000000     0.0   \n",
       "49996     0.0     0.0     0.0     1.0     0.0  0.000000  0.000000     0.0   \n",
       "49997     0.0     0.0     0.0     1.0     0.0  0.000000  0.000000    -1.0   \n",
       "49998     0.0     0.0     0.0     1.0     0.0  0.000000  0.000000     0.0   \n",
       "49999     0.0     0.0     0.0    -1.0     0.0  0.000000  0.000000     0.0   \n",
       "\n",
       "       target  \n",
       "0         0.0  \n",
       "1         0.0  \n",
       "2         1.0  \n",
       "3         0.0  \n",
       "4         0.0  \n",
       "...       ...  \n",
       "49995     0.0  \n",
       "49996     1.0  \n",
       "49997     1.0  \n",
       "49998     1.0  \n",
       "49999     0.0  \n",
       "\n",
       "[50000 rows x 16 columns]"
      ]
     },
     "execution_count": 24,
     "metadata": {},
     "output_type": "execute_result"
    }
   ],
   "source": [
    "fdata"
   ]
  },
  {
   "cell_type": "code",
   "execution_count": 25,
   "metadata": {},
   "outputs": [],
   "source": [
    "import pandas as pd\n",
    "import numpy as np\n",
    "from scipy.stats import pearsonr"
   ]
  },
  {
   "cell_type": "code",
   "execution_count": 26,
   "metadata": {},
   "outputs": [
    {
     "name": "stdout",
     "output_type": "stream",
     "text": [
      "Feature-Target Correlations\n",
      "{'feat4_target': 0.1298520511787265, 'feat8_target': 0.14964452160511965, 'feat12_target': 0.10361024915320918, 'feat13_target': 0.39532878523593135, 'feat14_target': 0.08804329851563135, 'feat15_target': 0.027401238023142573, 'feat20_target': 0.31847969673687576, 'feat31_target': -0.19359553259959594, 'feat56_target': -0.18301225569210633, 'feat63_target': -0.05199757746849523, 'feat66_target': 0.24850812122371557, 'feat69_target': 0.22301965452814643, 'feat70_target': 0.291616183545988, 'feat71_target': 0.2530534768278196, 'feat75_target': -0.0364548402690242}\n"
     ]
    }
   ],
   "source": [
    "target_col_name = 'target'\n",
    "feature_target_corr = {}\n",
    "for col in fdata:\n",
    "    if target_col_name != col:\n",
    "        feature_target_corr[col + '_' + target_col_name] = pearsonr(fdata[col], fdata[target_col_name])[0]\n",
    "print(\"Feature-Target Correlations\")\n",
    "print(feature_target_corr)"
   ]
  },
  {
   "cell_type": "code",
   "execution_count": 27,
   "metadata": {},
   "outputs": [],
   "source": [
    "#-ve = left skew, +ve= right skew\n",
    "skweness=fdata.skew() "
   ]
  },
  {
   "cell_type": "code",
   "execution_count": 28,
   "metadata": {},
   "outputs": [
    {
     "data": {
      "text/plain": [
       "feat4    -0.000531\n",
       "feat8     0.058966\n",
       "feat12    0.021841\n",
       "feat13   -0.010094\n",
       "feat14    0.009120\n",
       "feat15   -0.319621\n",
       "feat20   -0.026149\n",
       "feat31   -0.002896\n",
       "feat56   -0.001310\n",
       "feat63   -0.044025\n",
       "feat66    0.007251\n",
       "feat69   -0.013832\n",
       "feat70    0.012134\n",
       "feat71   -0.010652\n",
       "feat75   -0.041533\n",
       "target    0.011121\n",
       "dtype: float64"
      ]
     },
     "execution_count": 28,
     "metadata": {},
     "output_type": "execute_result"
    }
   ],
   "source": [
    "skweness"
   ]
  },
  {
   "cell_type": "code",
   "execution_count": 29,
   "metadata": {},
   "outputs": [],
   "source": [
    "data_train, data_val = train_test_split(fdata, test_size = 0.3)"
   ]
  },
  {
   "cell_type": "code",
   "execution_count": 30,
   "metadata": {},
   "outputs": [
    {
     "data": {
      "text/html": [
       "<div>\n",
       "<style scoped>\n",
       "    .dataframe tbody tr th:only-of-type {\n",
       "        vertical-align: middle;\n",
       "    }\n",
       "\n",
       "    .dataframe tbody tr th {\n",
       "        vertical-align: top;\n",
       "    }\n",
       "\n",
       "    .dataframe thead th {\n",
       "        text-align: right;\n",
       "    }\n",
       "</style>\n",
       "<table border=\"1\" class=\"dataframe\">\n",
       "  <thead>\n",
       "    <tr style=\"text-align: right;\">\n",
       "      <th></th>\n",
       "      <th>feat4</th>\n",
       "      <th>feat8</th>\n",
       "      <th>feat12</th>\n",
       "      <th>feat13</th>\n",
       "      <th>feat14</th>\n",
       "      <th>feat15</th>\n",
       "      <th>feat20</th>\n",
       "      <th>feat31</th>\n",
       "      <th>feat56</th>\n",
       "      <th>feat63</th>\n",
       "      <th>feat66</th>\n",
       "      <th>feat69</th>\n",
       "      <th>feat70</th>\n",
       "      <th>feat71</th>\n",
       "      <th>feat75</th>\n",
       "      <th>target</th>\n",
       "    </tr>\n",
       "  </thead>\n",
       "  <tbody>\n",
       "    <tr>\n",
       "      <th>16268</th>\n",
       "      <td>0.0</td>\n",
       "      <td>-1.0</td>\n",
       "      <td>-1.0</td>\n",
       "      <td>-0.894052</td>\n",
       "      <td>3.323338e-04</td>\n",
       "      <td>-0.000087</td>\n",
       "      <td>0.001118</td>\n",
       "      <td>1.0</td>\n",
       "      <td>0.0</td>\n",
       "      <td>0.0</td>\n",
       "      <td>-1.0</td>\n",
       "      <td>-1.0</td>\n",
       "      <td>-0.894052</td>\n",
       "      <td>-0.505440</td>\n",
       "      <td>0.0</td>\n",
       "      <td>0.0</td>\n",
       "    </tr>\n",
       "    <tr>\n",
       "      <th>5504</th>\n",
       "      <td>1.0</td>\n",
       "      <td>-1.0</td>\n",
       "      <td>-1.0</td>\n",
       "      <td>-0.942626</td>\n",
       "      <td>3.278089e-03</td>\n",
       "      <td>-0.000601</td>\n",
       "      <td>-1.483455</td>\n",
       "      <td>1.0</td>\n",
       "      <td>1.0</td>\n",
       "      <td>2.0</td>\n",
       "      <td>-1.0</td>\n",
       "      <td>-1.0</td>\n",
       "      <td>-0.942626</td>\n",
       "      <td>-0.636356</td>\n",
       "      <td>1.0</td>\n",
       "      <td>0.0</td>\n",
       "    </tr>\n",
       "    <tr>\n",
       "      <th>23601</th>\n",
       "      <td>0.0</td>\n",
       "      <td>0.0</td>\n",
       "      <td>1.0</td>\n",
       "      <td>0.355214</td>\n",
       "      <td>-6.182356e-07</td>\n",
       "      <td>0.000000</td>\n",
       "      <td>0.001118</td>\n",
       "      <td>0.0</td>\n",
       "      <td>0.0</td>\n",
       "      <td>0.0</td>\n",
       "      <td>1.0</td>\n",
       "      <td>0.0</td>\n",
       "      <td>0.000000</td>\n",
       "      <td>0.000000</td>\n",
       "      <td>0.0</td>\n",
       "      <td>1.0</td>\n",
       "    </tr>\n",
       "    <tr>\n",
       "      <th>12849</th>\n",
       "      <td>0.0</td>\n",
       "      <td>0.0</td>\n",
       "      <td>-1.0</td>\n",
       "      <td>0.790438</td>\n",
       "      <td>-3.982966e-02</td>\n",
       "      <td>-0.019704</td>\n",
       "      <td>0.001118</td>\n",
       "      <td>0.0</td>\n",
       "      <td>0.0</td>\n",
       "      <td>0.0</td>\n",
       "      <td>1.0</td>\n",
       "      <td>0.0</td>\n",
       "      <td>0.000000</td>\n",
       "      <td>0.000000</td>\n",
       "      <td>0.0</td>\n",
       "      <td>0.0</td>\n",
       "    </tr>\n",
       "    <tr>\n",
       "      <th>18973</th>\n",
       "      <td>0.0</td>\n",
       "      <td>0.0</td>\n",
       "      <td>-1.0</td>\n",
       "      <td>-0.533846</td>\n",
       "      <td>-6.402700e-05</td>\n",
       "      <td>0.000010</td>\n",
       "      <td>-0.786113</td>\n",
       "      <td>-1.0</td>\n",
       "      <td>1.0</td>\n",
       "      <td>21.0</td>\n",
       "      <td>-1.0</td>\n",
       "      <td>1.0</td>\n",
       "      <td>0.000003</td>\n",
       "      <td>0.419223</td>\n",
       "      <td>0.0</td>\n",
       "      <td>0.0</td>\n",
       "    </tr>\n",
       "    <tr>\n",
       "      <th>...</th>\n",
       "      <td>...</td>\n",
       "      <td>...</td>\n",
       "      <td>...</td>\n",
       "      <td>...</td>\n",
       "      <td>...</td>\n",
       "      <td>...</td>\n",
       "      <td>...</td>\n",
       "      <td>...</td>\n",
       "      <td>...</td>\n",
       "      <td>...</td>\n",
       "      <td>...</td>\n",
       "      <td>...</td>\n",
       "      <td>...</td>\n",
       "      <td>...</td>\n",
       "      <td>...</td>\n",
       "      <td>...</td>\n",
       "    </tr>\n",
       "    <tr>\n",
       "      <th>18184</th>\n",
       "      <td>0.0</td>\n",
       "      <td>0.0</td>\n",
       "      <td>-1.0</td>\n",
       "      <td>-0.992932</td>\n",
       "      <td>1.823908e-04</td>\n",
       "      <td>-0.000047</td>\n",
       "      <td>-0.633371</td>\n",
       "      <td>-1.0</td>\n",
       "      <td>0.0</td>\n",
       "      <td>0.0</td>\n",
       "      <td>-1.0</td>\n",
       "      <td>1.0</td>\n",
       "      <td>0.000182</td>\n",
       "      <td>0.039015</td>\n",
       "      <td>0.0</td>\n",
       "      <td>0.0</td>\n",
       "    </tr>\n",
       "    <tr>\n",
       "      <th>31379</th>\n",
       "      <td>0.0</td>\n",
       "      <td>0.0</td>\n",
       "      <td>-1.0</td>\n",
       "      <td>0.000235</td>\n",
       "      <td>1.456320e-05</td>\n",
       "      <td>-0.000001</td>\n",
       "      <td>0.001118</td>\n",
       "      <td>-1.0</td>\n",
       "      <td>0.0</td>\n",
       "      <td>0.0</td>\n",
       "      <td>0.0</td>\n",
       "      <td>1.0</td>\n",
       "      <td>0.000235</td>\n",
       "      <td>0.670592</td>\n",
       "      <td>0.0</td>\n",
       "      <td>0.0</td>\n",
       "    </tr>\n",
       "    <tr>\n",
       "      <th>48749</th>\n",
       "      <td>0.0</td>\n",
       "      <td>0.0</td>\n",
       "      <td>1.0</td>\n",
       "      <td>0.987462</td>\n",
       "      <td>3.721650e-05</td>\n",
       "      <td>-0.000016</td>\n",
       "      <td>0.001118</td>\n",
       "      <td>0.0</td>\n",
       "      <td>0.0</td>\n",
       "      <td>0.0</td>\n",
       "      <td>1.0</td>\n",
       "      <td>0.0</td>\n",
       "      <td>0.000000</td>\n",
       "      <td>0.000000</td>\n",
       "      <td>0.0</td>\n",
       "      <td>1.0</td>\n",
       "    </tr>\n",
       "    <tr>\n",
       "      <th>31858</th>\n",
       "      <td>0.0</td>\n",
       "      <td>0.0</td>\n",
       "      <td>-1.0</td>\n",
       "      <td>-0.586331</td>\n",
       "      <td>-2.833520e-04</td>\n",
       "      <td>0.000003</td>\n",
       "      <td>-1.174284</td>\n",
       "      <td>0.0</td>\n",
       "      <td>0.0</td>\n",
       "      <td>0.0</td>\n",
       "      <td>-1.0</td>\n",
       "      <td>0.0</td>\n",
       "      <td>0.000000</td>\n",
       "      <td>0.000000</td>\n",
       "      <td>0.0</td>\n",
       "      <td>0.0</td>\n",
       "    </tr>\n",
       "    <tr>\n",
       "      <th>37703</th>\n",
       "      <td>0.0</td>\n",
       "      <td>0.0</td>\n",
       "      <td>1.0</td>\n",
       "      <td>-0.890969</td>\n",
       "      <td>-5.621810e-04</td>\n",
       "      <td>-0.000174</td>\n",
       "      <td>0.001118</td>\n",
       "      <td>-1.0</td>\n",
       "      <td>-1.0</td>\n",
       "      <td>-6.0</td>\n",
       "      <td>1.0</td>\n",
       "      <td>-1.0</td>\n",
       "      <td>-0.890969</td>\n",
       "      <td>-0.282960</td>\n",
       "      <td>0.0</td>\n",
       "      <td>1.0</td>\n",
       "    </tr>\n",
       "  </tbody>\n",
       "</table>\n",
       "<p>35000 rows × 16 columns</p>\n",
       "</div>"
      ],
      "text/plain": [
       "       feat4  feat8  feat12    feat13        feat14    feat15    feat20  \\\n",
       "16268    0.0   -1.0    -1.0 -0.894052  3.323338e-04 -0.000087  0.001118   \n",
       "5504     1.0   -1.0    -1.0 -0.942626  3.278089e-03 -0.000601 -1.483455   \n",
       "23601    0.0    0.0     1.0  0.355214 -6.182356e-07  0.000000  0.001118   \n",
       "12849    0.0    0.0    -1.0  0.790438 -3.982966e-02 -0.019704  0.001118   \n",
       "18973    0.0    0.0    -1.0 -0.533846 -6.402700e-05  0.000010 -0.786113   \n",
       "...      ...    ...     ...       ...           ...       ...       ...   \n",
       "18184    0.0    0.0    -1.0 -0.992932  1.823908e-04 -0.000047 -0.633371   \n",
       "31379    0.0    0.0    -1.0  0.000235  1.456320e-05 -0.000001  0.001118   \n",
       "48749    0.0    0.0     1.0  0.987462  3.721650e-05 -0.000016  0.001118   \n",
       "31858    0.0    0.0    -1.0 -0.586331 -2.833520e-04  0.000003 -1.174284   \n",
       "37703    0.0    0.0     1.0 -0.890969 -5.621810e-04 -0.000174  0.001118   \n",
       "\n",
       "       feat31  feat56  feat63  feat66  feat69    feat70    feat71  feat75  \\\n",
       "16268     1.0     0.0     0.0    -1.0    -1.0 -0.894052 -0.505440     0.0   \n",
       "5504      1.0     1.0     2.0    -1.0    -1.0 -0.942626 -0.636356     1.0   \n",
       "23601     0.0     0.0     0.0     1.0     0.0  0.000000  0.000000     0.0   \n",
       "12849     0.0     0.0     0.0     1.0     0.0  0.000000  0.000000     0.0   \n",
       "18973    -1.0     1.0    21.0    -1.0     1.0  0.000003  0.419223     0.0   \n",
       "...       ...     ...     ...     ...     ...       ...       ...     ...   \n",
       "18184    -1.0     0.0     0.0    -1.0     1.0  0.000182  0.039015     0.0   \n",
       "31379    -1.0     0.0     0.0     0.0     1.0  0.000235  0.670592     0.0   \n",
       "48749     0.0     0.0     0.0     1.0     0.0  0.000000  0.000000     0.0   \n",
       "31858     0.0     0.0     0.0    -1.0     0.0  0.000000  0.000000     0.0   \n",
       "37703    -1.0    -1.0    -6.0     1.0    -1.0 -0.890969 -0.282960     0.0   \n",
       "\n",
       "       target  \n",
       "16268     0.0  \n",
       "5504      0.0  \n",
       "23601     1.0  \n",
       "12849     0.0  \n",
       "18973     0.0  \n",
       "...       ...  \n",
       "18184     0.0  \n",
       "31379     0.0  \n",
       "48749     1.0  \n",
       "31858     0.0  \n",
       "37703     1.0  \n",
       "\n",
       "[35000 rows x 16 columns]"
      ]
     },
     "execution_count": 30,
     "metadata": {},
     "output_type": "execute_result"
    }
   ],
   "source": [
    "data_train"
   ]
  },
  {
   "cell_type": "code",
   "execution_count": 31,
   "metadata": {},
   "outputs": [],
   "source": [
    "x_train=data_train.iloc[:, data_train.columns!='target']\n",
    "#df.loc[:, df.columns != 'b']"
   ]
  },
  {
   "cell_type": "code",
   "execution_count": 32,
   "metadata": {},
   "outputs": [
    {
     "data": {
      "text/html": [
       "<div>\n",
       "<style scoped>\n",
       "    .dataframe tbody tr th:only-of-type {\n",
       "        vertical-align: middle;\n",
       "    }\n",
       "\n",
       "    .dataframe tbody tr th {\n",
       "        vertical-align: top;\n",
       "    }\n",
       "\n",
       "    .dataframe thead th {\n",
       "        text-align: right;\n",
       "    }\n",
       "</style>\n",
       "<table border=\"1\" class=\"dataframe\">\n",
       "  <thead>\n",
       "    <tr style=\"text-align: right;\">\n",
       "      <th></th>\n",
       "      <th>feat4</th>\n",
       "      <th>feat8</th>\n",
       "      <th>feat12</th>\n",
       "      <th>feat13</th>\n",
       "      <th>feat14</th>\n",
       "      <th>feat15</th>\n",
       "      <th>feat20</th>\n",
       "      <th>feat31</th>\n",
       "      <th>feat56</th>\n",
       "      <th>feat63</th>\n",
       "      <th>feat66</th>\n",
       "      <th>feat69</th>\n",
       "      <th>feat70</th>\n",
       "      <th>feat71</th>\n",
       "      <th>feat75</th>\n",
       "    </tr>\n",
       "  </thead>\n",
       "  <tbody>\n",
       "    <tr>\n",
       "      <th>16268</th>\n",
       "      <td>0.0</td>\n",
       "      <td>-1.0</td>\n",
       "      <td>-1.0</td>\n",
       "      <td>-0.894052</td>\n",
       "      <td>3.323338e-04</td>\n",
       "      <td>-0.000087</td>\n",
       "      <td>0.001118</td>\n",
       "      <td>1.0</td>\n",
       "      <td>0.0</td>\n",
       "      <td>0.0</td>\n",
       "      <td>-1.0</td>\n",
       "      <td>-1.0</td>\n",
       "      <td>-0.894052</td>\n",
       "      <td>-0.505440</td>\n",
       "      <td>0.0</td>\n",
       "    </tr>\n",
       "    <tr>\n",
       "      <th>5504</th>\n",
       "      <td>1.0</td>\n",
       "      <td>-1.0</td>\n",
       "      <td>-1.0</td>\n",
       "      <td>-0.942626</td>\n",
       "      <td>3.278089e-03</td>\n",
       "      <td>-0.000601</td>\n",
       "      <td>-1.483455</td>\n",
       "      <td>1.0</td>\n",
       "      <td>1.0</td>\n",
       "      <td>2.0</td>\n",
       "      <td>-1.0</td>\n",
       "      <td>-1.0</td>\n",
       "      <td>-0.942626</td>\n",
       "      <td>-0.636356</td>\n",
       "      <td>1.0</td>\n",
       "    </tr>\n",
       "    <tr>\n",
       "      <th>23601</th>\n",
       "      <td>0.0</td>\n",
       "      <td>0.0</td>\n",
       "      <td>1.0</td>\n",
       "      <td>0.355214</td>\n",
       "      <td>-6.182356e-07</td>\n",
       "      <td>0.000000</td>\n",
       "      <td>0.001118</td>\n",
       "      <td>0.0</td>\n",
       "      <td>0.0</td>\n",
       "      <td>0.0</td>\n",
       "      <td>1.0</td>\n",
       "      <td>0.0</td>\n",
       "      <td>0.000000</td>\n",
       "      <td>0.000000</td>\n",
       "      <td>0.0</td>\n",
       "    </tr>\n",
       "    <tr>\n",
       "      <th>12849</th>\n",
       "      <td>0.0</td>\n",
       "      <td>0.0</td>\n",
       "      <td>-1.0</td>\n",
       "      <td>0.790438</td>\n",
       "      <td>-3.982966e-02</td>\n",
       "      <td>-0.019704</td>\n",
       "      <td>0.001118</td>\n",
       "      <td>0.0</td>\n",
       "      <td>0.0</td>\n",
       "      <td>0.0</td>\n",
       "      <td>1.0</td>\n",
       "      <td>0.0</td>\n",
       "      <td>0.000000</td>\n",
       "      <td>0.000000</td>\n",
       "      <td>0.0</td>\n",
       "    </tr>\n",
       "    <tr>\n",
       "      <th>18973</th>\n",
       "      <td>0.0</td>\n",
       "      <td>0.0</td>\n",
       "      <td>-1.0</td>\n",
       "      <td>-0.533846</td>\n",
       "      <td>-6.402700e-05</td>\n",
       "      <td>0.000010</td>\n",
       "      <td>-0.786113</td>\n",
       "      <td>-1.0</td>\n",
       "      <td>1.0</td>\n",
       "      <td>21.0</td>\n",
       "      <td>-1.0</td>\n",
       "      <td>1.0</td>\n",
       "      <td>0.000003</td>\n",
       "      <td>0.419223</td>\n",
       "      <td>0.0</td>\n",
       "    </tr>\n",
       "    <tr>\n",
       "      <th>...</th>\n",
       "      <td>...</td>\n",
       "      <td>...</td>\n",
       "      <td>...</td>\n",
       "      <td>...</td>\n",
       "      <td>...</td>\n",
       "      <td>...</td>\n",
       "      <td>...</td>\n",
       "      <td>...</td>\n",
       "      <td>...</td>\n",
       "      <td>...</td>\n",
       "      <td>...</td>\n",
       "      <td>...</td>\n",
       "      <td>...</td>\n",
       "      <td>...</td>\n",
       "      <td>...</td>\n",
       "    </tr>\n",
       "    <tr>\n",
       "      <th>18184</th>\n",
       "      <td>0.0</td>\n",
       "      <td>0.0</td>\n",
       "      <td>-1.0</td>\n",
       "      <td>-0.992932</td>\n",
       "      <td>1.823908e-04</td>\n",
       "      <td>-0.000047</td>\n",
       "      <td>-0.633371</td>\n",
       "      <td>-1.0</td>\n",
       "      <td>0.0</td>\n",
       "      <td>0.0</td>\n",
       "      <td>-1.0</td>\n",
       "      <td>1.0</td>\n",
       "      <td>0.000182</td>\n",
       "      <td>0.039015</td>\n",
       "      <td>0.0</td>\n",
       "    </tr>\n",
       "    <tr>\n",
       "      <th>31379</th>\n",
       "      <td>0.0</td>\n",
       "      <td>0.0</td>\n",
       "      <td>-1.0</td>\n",
       "      <td>0.000235</td>\n",
       "      <td>1.456320e-05</td>\n",
       "      <td>-0.000001</td>\n",
       "      <td>0.001118</td>\n",
       "      <td>-1.0</td>\n",
       "      <td>0.0</td>\n",
       "      <td>0.0</td>\n",
       "      <td>0.0</td>\n",
       "      <td>1.0</td>\n",
       "      <td>0.000235</td>\n",
       "      <td>0.670592</td>\n",
       "      <td>0.0</td>\n",
       "    </tr>\n",
       "    <tr>\n",
       "      <th>48749</th>\n",
       "      <td>0.0</td>\n",
       "      <td>0.0</td>\n",
       "      <td>1.0</td>\n",
       "      <td>0.987462</td>\n",
       "      <td>3.721650e-05</td>\n",
       "      <td>-0.000016</td>\n",
       "      <td>0.001118</td>\n",
       "      <td>0.0</td>\n",
       "      <td>0.0</td>\n",
       "      <td>0.0</td>\n",
       "      <td>1.0</td>\n",
       "      <td>0.0</td>\n",
       "      <td>0.000000</td>\n",
       "      <td>0.000000</td>\n",
       "      <td>0.0</td>\n",
       "    </tr>\n",
       "    <tr>\n",
       "      <th>31858</th>\n",
       "      <td>0.0</td>\n",
       "      <td>0.0</td>\n",
       "      <td>-1.0</td>\n",
       "      <td>-0.586331</td>\n",
       "      <td>-2.833520e-04</td>\n",
       "      <td>0.000003</td>\n",
       "      <td>-1.174284</td>\n",
       "      <td>0.0</td>\n",
       "      <td>0.0</td>\n",
       "      <td>0.0</td>\n",
       "      <td>-1.0</td>\n",
       "      <td>0.0</td>\n",
       "      <td>0.000000</td>\n",
       "      <td>0.000000</td>\n",
       "      <td>0.0</td>\n",
       "    </tr>\n",
       "    <tr>\n",
       "      <th>37703</th>\n",
       "      <td>0.0</td>\n",
       "      <td>0.0</td>\n",
       "      <td>1.0</td>\n",
       "      <td>-0.890969</td>\n",
       "      <td>-5.621810e-04</td>\n",
       "      <td>-0.000174</td>\n",
       "      <td>0.001118</td>\n",
       "      <td>-1.0</td>\n",
       "      <td>-1.0</td>\n",
       "      <td>-6.0</td>\n",
       "      <td>1.0</td>\n",
       "      <td>-1.0</td>\n",
       "      <td>-0.890969</td>\n",
       "      <td>-0.282960</td>\n",
       "      <td>0.0</td>\n",
       "    </tr>\n",
       "  </tbody>\n",
       "</table>\n",
       "<p>35000 rows × 15 columns</p>\n",
       "</div>"
      ],
      "text/plain": [
       "       feat4  feat8  feat12    feat13        feat14    feat15    feat20  \\\n",
       "16268    0.0   -1.0    -1.0 -0.894052  3.323338e-04 -0.000087  0.001118   \n",
       "5504     1.0   -1.0    -1.0 -0.942626  3.278089e-03 -0.000601 -1.483455   \n",
       "23601    0.0    0.0     1.0  0.355214 -6.182356e-07  0.000000  0.001118   \n",
       "12849    0.0    0.0    -1.0  0.790438 -3.982966e-02 -0.019704  0.001118   \n",
       "18973    0.0    0.0    -1.0 -0.533846 -6.402700e-05  0.000010 -0.786113   \n",
       "...      ...    ...     ...       ...           ...       ...       ...   \n",
       "18184    0.0    0.0    -1.0 -0.992932  1.823908e-04 -0.000047 -0.633371   \n",
       "31379    0.0    0.0    -1.0  0.000235  1.456320e-05 -0.000001  0.001118   \n",
       "48749    0.0    0.0     1.0  0.987462  3.721650e-05 -0.000016  0.001118   \n",
       "31858    0.0    0.0    -1.0 -0.586331 -2.833520e-04  0.000003 -1.174284   \n",
       "37703    0.0    0.0     1.0 -0.890969 -5.621810e-04 -0.000174  0.001118   \n",
       "\n",
       "       feat31  feat56  feat63  feat66  feat69    feat70    feat71  feat75  \n",
       "16268     1.0     0.0     0.0    -1.0    -1.0 -0.894052 -0.505440     0.0  \n",
       "5504      1.0     1.0     2.0    -1.0    -1.0 -0.942626 -0.636356     1.0  \n",
       "23601     0.0     0.0     0.0     1.0     0.0  0.000000  0.000000     0.0  \n",
       "12849     0.0     0.0     0.0     1.0     0.0  0.000000  0.000000     0.0  \n",
       "18973    -1.0     1.0    21.0    -1.0     1.0  0.000003  0.419223     0.0  \n",
       "...       ...     ...     ...     ...     ...       ...       ...     ...  \n",
       "18184    -1.0     0.0     0.0    -1.0     1.0  0.000182  0.039015     0.0  \n",
       "31379    -1.0     0.0     0.0     0.0     1.0  0.000235  0.670592     0.0  \n",
       "48749     0.0     0.0     0.0     1.0     0.0  0.000000  0.000000     0.0  \n",
       "31858     0.0     0.0     0.0    -1.0     0.0  0.000000  0.000000     0.0  \n",
       "37703    -1.0    -1.0    -6.0     1.0    -1.0 -0.890969 -0.282960     0.0  \n",
       "\n",
       "[35000 rows x 15 columns]"
      ]
     },
     "execution_count": 32,
     "metadata": {},
     "output_type": "execute_result"
    }
   ],
   "source": [
    "x_train"
   ]
  },
  {
   "cell_type": "code",
   "execution_count": 33,
   "metadata": {},
   "outputs": [],
   "source": [
    "y_train = data_train.target"
   ]
  },
  {
   "cell_type": "code",
   "execution_count": 34,
   "metadata": {},
   "outputs": [
    {
     "data": {
      "text/plain": [
       "16268    0.0\n",
       "5504     0.0\n",
       "23601    1.0\n",
       "12849    0.0\n",
       "18973    0.0\n",
       "        ... \n",
       "18184    0.0\n",
       "31379    0.0\n",
       "48749    1.0\n",
       "31858    0.0\n",
       "37703    1.0\n",
       "Name: target, Length: 35000, dtype: float64"
      ]
     },
     "execution_count": 34,
     "metadata": {},
     "output_type": "execute_result"
    }
   ],
   "source": [
    "y_train"
   ]
  },
  {
   "cell_type": "code",
   "execution_count": 35,
   "metadata": {},
   "outputs": [],
   "source": [
    "x_test=data_val.iloc[:, data_train.columns!='target']"
   ]
  },
  {
   "cell_type": "code",
   "execution_count": 36,
   "metadata": {},
   "outputs": [
    {
     "data": {
      "text/html": [
       "<div>\n",
       "<style scoped>\n",
       "    .dataframe tbody tr th:only-of-type {\n",
       "        vertical-align: middle;\n",
       "    }\n",
       "\n",
       "    .dataframe tbody tr th {\n",
       "        vertical-align: top;\n",
       "    }\n",
       "\n",
       "    .dataframe thead th {\n",
       "        text-align: right;\n",
       "    }\n",
       "</style>\n",
       "<table border=\"1\" class=\"dataframe\">\n",
       "  <thead>\n",
       "    <tr style=\"text-align: right;\">\n",
       "      <th></th>\n",
       "      <th>feat4</th>\n",
       "      <th>feat8</th>\n",
       "      <th>feat12</th>\n",
       "      <th>feat13</th>\n",
       "      <th>feat14</th>\n",
       "      <th>feat15</th>\n",
       "      <th>feat20</th>\n",
       "      <th>feat31</th>\n",
       "      <th>feat56</th>\n",
       "      <th>feat63</th>\n",
       "      <th>feat66</th>\n",
       "      <th>feat69</th>\n",
       "      <th>feat70</th>\n",
       "      <th>feat71</th>\n",
       "      <th>feat75</th>\n",
       "    </tr>\n",
       "  </thead>\n",
       "  <tbody>\n",
       "    <tr>\n",
       "      <th>1189</th>\n",
       "      <td>-1.0</td>\n",
       "      <td>0.0</td>\n",
       "      <td>1.0</td>\n",
       "      <td>-0.433954</td>\n",
       "      <td>0.000825</td>\n",
       "      <td>0.000083</td>\n",
       "      <td>0.001118</td>\n",
       "      <td>0.0</td>\n",
       "      <td>0.0</td>\n",
       "      <td>0.0</td>\n",
       "      <td>1.0</td>\n",
       "      <td>0.0</td>\n",
       "      <td>0.000000</td>\n",
       "      <td>0.000000</td>\n",
       "      <td>-1.0</td>\n",
       "    </tr>\n",
       "    <tr>\n",
       "      <th>24510</th>\n",
       "      <td>0.0</td>\n",
       "      <td>0.0</td>\n",
       "      <td>1.0</td>\n",
       "      <td>0.249425</td>\n",
       "      <td>0.108979</td>\n",
       "      <td>-0.000001</td>\n",
       "      <td>1.076755</td>\n",
       "      <td>-1.0</td>\n",
       "      <td>-1.0</td>\n",
       "      <td>-2.0</td>\n",
       "      <td>1.0</td>\n",
       "      <td>1.0</td>\n",
       "      <td>0.249425</td>\n",
       "      <td>0.847118</td>\n",
       "      <td>0.0</td>\n",
       "    </tr>\n",
       "    <tr>\n",
       "      <th>32049</th>\n",
       "      <td>0.0</td>\n",
       "      <td>0.0</td>\n",
       "      <td>-1.0</td>\n",
       "      <td>0.000595</td>\n",
       "      <td>0.000470</td>\n",
       "      <td>-0.000030</td>\n",
       "      <td>0.001118</td>\n",
       "      <td>1.0</td>\n",
       "      <td>0.0</td>\n",
       "      <td>0.0</td>\n",
       "      <td>0.0</td>\n",
       "      <td>-1.0</td>\n",
       "      <td>-0.000030</td>\n",
       "      <td>-0.750404</td>\n",
       "      <td>0.0</td>\n",
       "    </tr>\n",
       "    <tr>\n",
       "      <th>38591</th>\n",
       "      <td>0.0</td>\n",
       "      <td>0.0</td>\n",
       "      <td>-1.0</td>\n",
       "      <td>-0.000530</td>\n",
       "      <td>-0.000001</td>\n",
       "      <td>0.000001</td>\n",
       "      <td>0.001118</td>\n",
       "      <td>-1.0</td>\n",
       "      <td>0.0</td>\n",
       "      <td>0.0</td>\n",
       "      <td>0.0</td>\n",
       "      <td>1.0</td>\n",
       "      <td>0.000001</td>\n",
       "      <td>0.648040</td>\n",
       "      <td>0.0</td>\n",
       "    </tr>\n",
       "    <tr>\n",
       "      <th>38779</th>\n",
       "      <td>0.0</td>\n",
       "      <td>0.0</td>\n",
       "      <td>-1.0</td>\n",
       "      <td>0.987759</td>\n",
       "      <td>0.004180</td>\n",
       "      <td>-0.000116</td>\n",
       "      <td>0.598041</td>\n",
       "      <td>-1.0</td>\n",
       "      <td>-1.0</td>\n",
       "      <td>-6.0</td>\n",
       "      <td>1.0</td>\n",
       "      <td>1.0</td>\n",
       "      <td>0.987759</td>\n",
       "      <td>0.003810</td>\n",
       "      <td>0.0</td>\n",
       "    </tr>\n",
       "    <tr>\n",
       "      <th>...</th>\n",
       "      <td>...</td>\n",
       "      <td>...</td>\n",
       "      <td>...</td>\n",
       "      <td>...</td>\n",
       "      <td>...</td>\n",
       "      <td>...</td>\n",
       "      <td>...</td>\n",
       "      <td>...</td>\n",
       "      <td>...</td>\n",
       "      <td>...</td>\n",
       "      <td>...</td>\n",
       "      <td>...</td>\n",
       "      <td>...</td>\n",
       "      <td>...</td>\n",
       "      <td>...</td>\n",
       "    </tr>\n",
       "    <tr>\n",
       "      <th>37482</th>\n",
       "      <td>1.0</td>\n",
       "      <td>0.0</td>\n",
       "      <td>1.0</td>\n",
       "      <td>0.000368</td>\n",
       "      <td>0.000230</td>\n",
       "      <td>0.000000</td>\n",
       "      <td>1.125020</td>\n",
       "      <td>0.0</td>\n",
       "      <td>0.0</td>\n",
       "      <td>0.0</td>\n",
       "      <td>0.0</td>\n",
       "      <td>0.0</td>\n",
       "      <td>0.000000</td>\n",
       "      <td>0.000000</td>\n",
       "      <td>1.0</td>\n",
       "    </tr>\n",
       "    <tr>\n",
       "      <th>7917</th>\n",
       "      <td>-1.0</td>\n",
       "      <td>0.0</td>\n",
       "      <td>1.0</td>\n",
       "      <td>0.989560</td>\n",
       "      <td>-0.967907</td>\n",
       "      <td>0.531314</td>\n",
       "      <td>0.531858</td>\n",
       "      <td>0.0</td>\n",
       "      <td>0.0</td>\n",
       "      <td>0.0</td>\n",
       "      <td>1.0</td>\n",
       "      <td>0.0</td>\n",
       "      <td>0.000000</td>\n",
       "      <td>0.000000</td>\n",
       "      <td>-1.0</td>\n",
       "    </tr>\n",
       "    <tr>\n",
       "      <th>235</th>\n",
       "      <td>0.0</td>\n",
       "      <td>0.0</td>\n",
       "      <td>-1.0</td>\n",
       "      <td>-0.013672</td>\n",
       "      <td>0.000082</td>\n",
       "      <td>0.000015</td>\n",
       "      <td>-0.511742</td>\n",
       "      <td>1.0</td>\n",
       "      <td>1.0</td>\n",
       "      <td>0.0</td>\n",
       "      <td>1.0</td>\n",
       "      <td>-1.0</td>\n",
       "      <td>-0.000010</td>\n",
       "      <td>-0.000754</td>\n",
       "      <td>0.0</td>\n",
       "    </tr>\n",
       "    <tr>\n",
       "      <th>34150</th>\n",
       "      <td>0.0</td>\n",
       "      <td>0.0</td>\n",
       "      <td>-1.0</td>\n",
       "      <td>0.000294</td>\n",
       "      <td>-0.000182</td>\n",
       "      <td>-0.000072</td>\n",
       "      <td>0.001118</td>\n",
       "      <td>1.0</td>\n",
       "      <td>0.0</td>\n",
       "      <td>0.0</td>\n",
       "      <td>-1.0</td>\n",
       "      <td>1.0</td>\n",
       "      <td>0.000294</td>\n",
       "      <td>0.393881</td>\n",
       "      <td>0.0</td>\n",
       "    </tr>\n",
       "    <tr>\n",
       "      <th>40827</th>\n",
       "      <td>0.0</td>\n",
       "      <td>-1.0</td>\n",
       "      <td>-1.0</td>\n",
       "      <td>-0.836078</td>\n",
       "      <td>0.001028</td>\n",
       "      <td>-0.000966</td>\n",
       "      <td>-1.656333</td>\n",
       "      <td>1.0</td>\n",
       "      <td>1.0</td>\n",
       "      <td>2.0</td>\n",
       "      <td>-1.0</td>\n",
       "      <td>-1.0</td>\n",
       "      <td>-0.836078</td>\n",
       "      <td>-0.880418</td>\n",
       "      <td>0.0</td>\n",
       "    </tr>\n",
       "  </tbody>\n",
       "</table>\n",
       "<p>15000 rows × 15 columns</p>\n",
       "</div>"
      ],
      "text/plain": [
       "       feat4  feat8  feat12    feat13    feat14    feat15    feat20  feat31  \\\n",
       "1189    -1.0    0.0     1.0 -0.433954  0.000825  0.000083  0.001118     0.0   \n",
       "24510    0.0    0.0     1.0  0.249425  0.108979 -0.000001  1.076755    -1.0   \n",
       "32049    0.0    0.0    -1.0  0.000595  0.000470 -0.000030  0.001118     1.0   \n",
       "38591    0.0    0.0    -1.0 -0.000530 -0.000001  0.000001  0.001118    -1.0   \n",
       "38779    0.0    0.0    -1.0  0.987759  0.004180 -0.000116  0.598041    -1.0   \n",
       "...      ...    ...     ...       ...       ...       ...       ...     ...   \n",
       "37482    1.0    0.0     1.0  0.000368  0.000230  0.000000  1.125020     0.0   \n",
       "7917    -1.0    0.0     1.0  0.989560 -0.967907  0.531314  0.531858     0.0   \n",
       "235      0.0    0.0    -1.0 -0.013672  0.000082  0.000015 -0.511742     1.0   \n",
       "34150    0.0    0.0    -1.0  0.000294 -0.000182 -0.000072  0.001118     1.0   \n",
       "40827    0.0   -1.0    -1.0 -0.836078  0.001028 -0.000966 -1.656333     1.0   \n",
       "\n",
       "       feat56  feat63  feat66  feat69    feat70    feat71  feat75  \n",
       "1189      0.0     0.0     1.0     0.0  0.000000  0.000000    -1.0  \n",
       "24510    -1.0    -2.0     1.0     1.0  0.249425  0.847118     0.0  \n",
       "32049     0.0     0.0     0.0    -1.0 -0.000030 -0.750404     0.0  \n",
       "38591     0.0     0.0     0.0     1.0  0.000001  0.648040     0.0  \n",
       "38779    -1.0    -6.0     1.0     1.0  0.987759  0.003810     0.0  \n",
       "...       ...     ...     ...     ...       ...       ...     ...  \n",
       "37482     0.0     0.0     0.0     0.0  0.000000  0.000000     1.0  \n",
       "7917      0.0     0.0     1.0     0.0  0.000000  0.000000    -1.0  \n",
       "235       1.0     0.0     1.0    -1.0 -0.000010 -0.000754     0.0  \n",
       "34150     0.0     0.0    -1.0     1.0  0.000294  0.393881     0.0  \n",
       "40827     1.0     2.0    -1.0    -1.0 -0.836078 -0.880418     0.0  \n",
       "\n",
       "[15000 rows x 15 columns]"
      ]
     },
     "execution_count": 36,
     "metadata": {},
     "output_type": "execute_result"
    }
   ],
   "source": [
    "x_test"
   ]
  },
  {
   "cell_type": "code",
   "execution_count": 37,
   "metadata": {},
   "outputs": [],
   "source": [
    "y_test=data_val.target"
   ]
  },
  {
   "cell_type": "code",
   "execution_count": 38,
   "metadata": {},
   "outputs": [
    {
     "data": {
      "text/plain": [
       "1189     1.0\n",
       "24510    1.0\n",
       "32049    1.0\n",
       "38591    0.0\n",
       "38779    1.0\n",
       "        ... \n",
       "37482    0.0\n",
       "7917     1.0\n",
       "235      0.0\n",
       "34150    1.0\n",
       "40827    0.0\n",
       "Name: target, Length: 15000, dtype: float64"
      ]
     },
     "execution_count": 38,
     "metadata": {},
     "output_type": "execute_result"
    }
   ],
   "source": [
    "y_test"
   ]
  },
  {
   "cell_type": "code",
   "execution_count": 39,
   "metadata": {},
   "outputs": [],
   "source": [
    "def score(y_pred, y_true):\n",
    "    error = (np.square(y_pred - y_true)).mean()\n",
    "    score = 1 - error\n",
    "    return score\n",
    "\n",
    "actual_cost = list(data_val['target'])\n",
    "actual_cost = np.asarray(actual_cost)"
   ]
  },
  {
   "cell_type": "code",
   "execution_count": 40,
   "metadata": {},
   "outputs": [
    {
     "name": "stderr",
     "output_type": "stream",
     "text": [
      "/Library/Frameworks/Python.framework/Versions/3.7/lib/python3.7/site-packages/sklearn/linear_model/logistic.py:432: FutureWarning: Default solver will be changed to 'lbfgs' in 0.22. Specify a solver to silence this warning.\n",
      "  FutureWarning)\n"
     ]
    },
    {
     "data": {
      "text/plain": [
       "LogisticRegression(C=1.0, class_weight=None, dual=False, fit_intercept=True,\n",
       "                   intercept_scaling=1, l1_ratio=None, max_iter=100,\n",
       "                   multi_class='warn', n_jobs=None, penalty='l2',\n",
       "                   random_state=None, solver='warn', tol=0.0001, verbose=0,\n",
       "                   warm_start=False)"
      ]
     },
     "execution_count": 40,
     "metadata": {},
     "output_type": "execute_result"
    }
   ],
   "source": [
    "log = LogisticRegression()\n",
    "log.fit(x_train, y_train)"
   ]
  },
  {
   "cell_type": "code",
   "execution_count": 41,
   "metadata": {},
   "outputs": [],
   "source": [
    "lasso_coeff=log.coef_"
   ]
  },
  {
   "cell_type": "code",
   "execution_count": 42,
   "metadata": {},
   "outputs": [
    {
     "data": {
      "text/plain": [
       "array([[ 1.69359316,  0.76359652, -0.0785002 ,  1.40675143,  1.47217311,\n",
       "         1.45406603,  0.34053686, -0.17426702, -0.09008782,  0.02593568,\n",
       "         0.18756229, -0.16736307,  0.0139401 ,  0.81270555, -1.9493105 ]])"
      ]
     },
     "execution_count": 42,
     "metadata": {},
     "output_type": "execute_result"
    }
   ],
   "source": [
    "lasso_coeff"
   ]
  },
  {
   "cell_type": "code",
   "execution_count": 43,
   "metadata": {},
   "outputs": [],
   "source": [
    "y_pred01=log.predict(x_test)"
   ]
  },
  {
   "cell_type": "code",
   "execution_count": 44,
   "metadata": {},
   "outputs": [
    {
     "data": {
      "text/plain": [
       "array([0., 1., 0., ..., 0., 0., 0.])"
      ]
     },
     "execution_count": 44,
     "metadata": {},
     "output_type": "execute_result"
    }
   ],
   "source": [
    "y_pred01"
   ]
  },
  {
   "cell_type": "code",
   "execution_count": 45,
   "metadata": {},
   "outputs": [],
   "source": [
    "y_pred=log.predict_proba(x_test)"
   ]
  },
  {
   "cell_type": "code",
   "execution_count": 46,
   "metadata": {},
   "outputs": [],
   "source": [
    "y_pred=y_pred[:,1]"
   ]
  },
  {
   "cell_type": "code",
   "execution_count": 47,
   "metadata": {},
   "outputs": [
    {
     "data": {
      "text/plain": [
       "array([0.43048313, 0.84398661, 0.3607052 , ..., 0.48480242, 0.45857846,\n",
       "       0.03164704])"
      ]
     },
     "execution_count": 47,
     "metadata": {},
     "output_type": "execute_result"
    }
   ],
   "source": [
    "y_pred"
   ]
  },
  {
   "cell_type": "code",
   "execution_count": 48,
   "metadata": {},
   "outputs": [
    {
     "data": {
      "text/plain": [
       "0.8161491179265601"
      ]
     },
     "execution_count": 48,
     "metadata": {},
     "output_type": "execute_result"
    }
   ],
   "source": [
    "accuracy_log= score(y_pred, y_test)\n",
    "baseline=accuracy_log\n",
    "accuracy_log"
   ]
  },
  {
   "cell_type": "code",
   "execution_count": 49,
   "metadata": {},
   "outputs": [],
   "source": [
    "#roc curve without interaction\n",
    "lr_fpr, lr_tpr, _ = roc_curve(y_test,y_pred)"
   ]
  },
  {
   "cell_type": "code",
   "execution_count": 50,
   "metadata": {},
   "outputs": [
    {
     "data": {
      "image/png": "[encoded data removed]",
      "text/plain": [
       "<Figure size 432x288 with 1 Axes>"
      ]
     },
     "metadata": {
      "needs_background": "light"
     },
     "output_type": "display_data"
    }
   ],
   "source": [
    "pyplot.plot(lr_fpr, lr_tpr, marker='.', label='Logistic')\n",
    "pyplot.xlabel('False Positive Rate')\n",
    "pyplot.ylabel('True Positive Rate')\n",
    "pyplot.legend()\n",
    "pyplot.show()"
   ]
  },
  {
   "cell_type": "code",
   "execution_count": 51,
   "metadata": {},
   "outputs": [],
   "source": [
    "lr_auc = roc_auc_score(y_test, y_pred)"
   ]
  },
  {
   "cell_type": "code",
   "execution_count": 52,
   "metadata": {},
   "outputs": [
    {
     "name": "stdout",
     "output_type": "stream",
     "text": [
      "Logistic: ROC Area Under the Curve=0.795\n"
     ]
    }
   ],
   "source": [
    "print('Logistic: ROC Area Under the Curve=%.3f' % (lr_auc))"
   ]
  },
  {
   "cell_type": "code",
   "execution_count": 53,
   "metadata": {},
   "outputs": [],
   "source": [
    "precision=precision_score(y_test, y_pred01, average='binary')"
   ]
  },
  {
   "cell_type": "code",
   "execution_count": 54,
   "metadata": {},
   "outputs": [
    {
     "data": {
      "text/plain": [
       "0.7133423180592992"
      ]
     },
     "execution_count": 54,
     "metadata": {},
     "output_type": "execute_result"
    }
   ],
   "source": [
    "precision"
   ]
  },
  {
   "cell_type": "code",
   "execution_count": 55,
   "metadata": {},
   "outputs": [],
   "source": [
    "con_matrix_lg= confusion_matrix(y_test, y_pred01) "
   ]
  },
  {
   "cell_type": "code",
   "execution_count": 56,
   "metadata": {},
   "outputs": [
    {
     "data": {
      "text/plain": [
       "array([[5338, 2127],\n",
       "       [2242, 5293]])"
      ]
     },
     "execution_count": 56,
     "metadata": {},
     "output_type": "execute_result"
    }
   ],
   "source": [
    "con_matrix_lg"
   ]
  },
  {
   "cell_type": "code",
   "execution_count": 57,
   "metadata": {},
   "outputs": [],
   "source": [
    "#model2 Interaction\n",
    "features=[]\n",
    "features=x_train.columns"
   ]
  },
  {
   "cell_type": "code",
   "execution_count": 58,
   "metadata": {},
   "outputs": [
    {
     "data": {
      "text/html": [
       "<div>\n",
       "<style scoped>\n",
       "    .dataframe tbody tr th:only-of-type {\n",
       "        vertical-align: middle;\n",
       "    }\n",
       "\n",
       "    .dataframe tbody tr th {\n",
       "        vertical-align: top;\n",
       "    }\n",
       "\n",
       "    .dataframe thead th {\n",
       "        text-align: right;\n",
       "    }\n",
       "</style>\n",
       "<table border=\"1\" class=\"dataframe\">\n",
       "  <thead>\n",
       "    <tr style=\"text-align: right;\">\n",
       "      <th></th>\n",
       "      <th>feat4</th>\n",
       "      <th>feat8</th>\n",
       "      <th>feat12</th>\n",
       "      <th>feat13</th>\n",
       "      <th>feat14</th>\n",
       "      <th>feat15</th>\n",
       "      <th>feat20</th>\n",
       "      <th>feat31</th>\n",
       "      <th>feat56</th>\n",
       "      <th>feat63</th>\n",
       "      <th>feat66</th>\n",
       "      <th>feat69</th>\n",
       "      <th>feat70</th>\n",
       "      <th>feat71</th>\n",
       "      <th>feat75</th>\n",
       "      <th>target</th>\n",
       "    </tr>\n",
       "  </thead>\n",
       "  <tbody>\n",
       "    <tr>\n",
       "      <th>16268</th>\n",
       "      <td>0.0</td>\n",
       "      <td>-1.0</td>\n",
       "      <td>-1.0</td>\n",
       "      <td>-0.894052</td>\n",
       "      <td>3.323338e-04</td>\n",
       "      <td>-0.000087</td>\n",
       "      <td>0.001118</td>\n",
       "      <td>1.0</td>\n",
       "      <td>0.0</td>\n",
       "      <td>0.0</td>\n",
       "      <td>-1.0</td>\n",
       "      <td>-1.0</td>\n",
       "      <td>-0.894052</td>\n",
       "      <td>-0.505440</td>\n",
       "      <td>0.0</td>\n",
       "      <td>0.0</td>\n",
       "    </tr>\n",
       "    <tr>\n",
       "      <th>5504</th>\n",
       "      <td>1.0</td>\n",
       "      <td>-1.0</td>\n",
       "      <td>-1.0</td>\n",
       "      <td>-0.942626</td>\n",
       "      <td>3.278089e-03</td>\n",
       "      <td>-0.000601</td>\n",
       "      <td>-1.483455</td>\n",
       "      <td>1.0</td>\n",
       "      <td>1.0</td>\n",
       "      <td>2.0</td>\n",
       "      <td>-1.0</td>\n",
       "      <td>-1.0</td>\n",
       "      <td>-0.942626</td>\n",
       "      <td>-0.636356</td>\n",
       "      <td>1.0</td>\n",
       "      <td>0.0</td>\n",
       "    </tr>\n",
       "    <tr>\n",
       "      <th>23601</th>\n",
       "      <td>0.0</td>\n",
       "      <td>0.0</td>\n",
       "      <td>1.0</td>\n",
       "      <td>0.355214</td>\n",
       "      <td>-6.182356e-07</td>\n",
       "      <td>0.000000</td>\n",
       "      <td>0.001118</td>\n",
       "      <td>0.0</td>\n",
       "      <td>0.0</td>\n",
       "      <td>0.0</td>\n",
       "      <td>1.0</td>\n",
       "      <td>0.0</td>\n",
       "      <td>0.000000</td>\n",
       "      <td>0.000000</td>\n",
       "      <td>0.0</td>\n",
       "      <td>1.0</td>\n",
       "    </tr>\n",
       "    <tr>\n",
       "      <th>12849</th>\n",
       "      <td>0.0</td>\n",
       "      <td>0.0</td>\n",
       "      <td>-1.0</td>\n",
       "      <td>0.790438</td>\n",
       "      <td>-3.982966e-02</td>\n",
       "      <td>-0.019704</td>\n",
       "      <td>0.001118</td>\n",
       "      <td>0.0</td>\n",
       "      <td>0.0</td>\n",
       "      <td>0.0</td>\n",
       "      <td>1.0</td>\n",
       "      <td>0.0</td>\n",
       "      <td>0.000000</td>\n",
       "      <td>0.000000</td>\n",
       "      <td>0.0</td>\n",
       "      <td>0.0</td>\n",
       "    </tr>\n",
       "    <tr>\n",
       "      <th>18973</th>\n",
       "      <td>0.0</td>\n",
       "      <td>0.0</td>\n",
       "      <td>-1.0</td>\n",
       "      <td>-0.533846</td>\n",
       "      <td>-6.402700e-05</td>\n",
       "      <td>0.000010</td>\n",
       "      <td>-0.786113</td>\n",
       "      <td>-1.0</td>\n",
       "      <td>1.0</td>\n",
       "      <td>21.0</td>\n",
       "      <td>-1.0</td>\n",
       "      <td>1.0</td>\n",
       "      <td>0.000003</td>\n",
       "      <td>0.419223</td>\n",
       "      <td>0.0</td>\n",
       "      <td>0.0</td>\n",
       "    </tr>\n",
       "    <tr>\n",
       "      <th>...</th>\n",
       "      <td>...</td>\n",
       "      <td>...</td>\n",
       "      <td>...</td>\n",
       "      <td>...</td>\n",
       "      <td>...</td>\n",
       "      <td>...</td>\n",
       "      <td>...</td>\n",
       "      <td>...</td>\n",
       "      <td>...</td>\n",
       "      <td>...</td>\n",
       "      <td>...</td>\n",
       "      <td>...</td>\n",
       "      <td>...</td>\n",
       "      <td>...</td>\n",
       "      <td>...</td>\n",
       "      <td>...</td>\n",
       "    </tr>\n",
       "    <tr>\n",
       "      <th>18184</th>\n",
       "      <td>0.0</td>\n",
       "      <td>0.0</td>\n",
       "      <td>-1.0</td>\n",
       "      <td>-0.992932</td>\n",
       "      <td>1.823908e-04</td>\n",
       "      <td>-0.000047</td>\n",
       "      <td>-0.633371</td>\n",
       "      <td>-1.0</td>\n",
       "      <td>0.0</td>\n",
       "      <td>0.0</td>\n",
       "      <td>-1.0</td>\n",
       "      <td>1.0</td>\n",
       "      <td>0.000182</td>\n",
       "      <td>0.039015</td>\n",
       "      <td>0.0</td>\n",
       "      <td>0.0</td>\n",
       "    </tr>\n",
       "    <tr>\n",
       "      <th>31379</th>\n",
       "      <td>0.0</td>\n",
       "      <td>0.0</td>\n",
       "      <td>-1.0</td>\n",
       "      <td>0.000235</td>\n",
       "      <td>1.456320e-05</td>\n",
       "      <td>-0.000001</td>\n",
       "      <td>0.001118</td>\n",
       "      <td>-1.0</td>\n",
       "      <td>0.0</td>\n",
       "      <td>0.0</td>\n",
       "      <td>0.0</td>\n",
       "      <td>1.0</td>\n",
       "      <td>0.000235</td>\n",
       "      <td>0.670592</td>\n",
       "      <td>0.0</td>\n",
       "      <td>0.0</td>\n",
       "    </tr>\n",
       "    <tr>\n",
       "      <th>48749</th>\n",
       "      <td>0.0</td>\n",
       "      <td>0.0</td>\n",
       "      <td>1.0</td>\n",
       "      <td>0.987462</td>\n",
       "      <td>3.721650e-05</td>\n",
       "      <td>-0.000016</td>\n",
       "      <td>0.001118</td>\n",
       "      <td>0.0</td>\n",
       "      <td>0.0</td>\n",
       "      <td>0.0</td>\n",
       "      <td>1.0</td>\n",
       "      <td>0.0</td>\n",
       "      <td>0.000000</td>\n",
       "      <td>0.000000</td>\n",
       "      <td>0.0</td>\n",
       "      <td>1.0</td>\n",
       "    </tr>\n",
       "    <tr>\n",
       "      <th>31858</th>\n",
       "      <td>0.0</td>\n",
       "      <td>0.0</td>\n",
       "      <td>-1.0</td>\n",
       "      <td>-0.586331</td>\n",
       "      <td>-2.833520e-04</td>\n",
       "      <td>0.000003</td>\n",
       "      <td>-1.174284</td>\n",
       "      <td>0.0</td>\n",
       "      <td>0.0</td>\n",
       "      <td>0.0</td>\n",
       "      <td>-1.0</td>\n",
       "      <td>0.0</td>\n",
       "      <td>0.000000</td>\n",
       "      <td>0.000000</td>\n",
       "      <td>0.0</td>\n",
       "      <td>0.0</td>\n",
       "    </tr>\n",
       "    <tr>\n",
       "      <th>37703</th>\n",
       "      <td>0.0</td>\n",
       "      <td>0.0</td>\n",
       "      <td>1.0</td>\n",
       "      <td>-0.890969</td>\n",
       "      <td>-5.621810e-04</td>\n",
       "      <td>-0.000174</td>\n",
       "      <td>0.001118</td>\n",
       "      <td>-1.0</td>\n",
       "      <td>-1.0</td>\n",
       "      <td>-6.0</td>\n",
       "      <td>1.0</td>\n",
       "      <td>-1.0</td>\n",
       "      <td>-0.890969</td>\n",
       "      <td>-0.282960</td>\n",
       "      <td>0.0</td>\n",
       "      <td>1.0</td>\n",
       "    </tr>\n",
       "  </tbody>\n",
       "</table>\n",
       "<p>35000 rows × 16 columns</p>\n",
       "</div>"
      ],
      "text/plain": [
       "       feat4  feat8  feat12    feat13        feat14    feat15    feat20  \\\n",
       "16268    0.0   -1.0    -1.0 -0.894052  3.323338e-04 -0.000087  0.001118   \n",
       "5504     1.0   -1.0    -1.0 -0.942626  3.278089e-03 -0.000601 -1.483455   \n",
       "23601    0.0    0.0     1.0  0.355214 -6.182356e-07  0.000000  0.001118   \n",
       "12849    0.0    0.0    -1.0  0.790438 -3.982966e-02 -0.019704  0.001118   \n",
       "18973    0.0    0.0    -1.0 -0.533846 -6.402700e-05  0.000010 -0.786113   \n",
       "...      ...    ...     ...       ...           ...       ...       ...   \n",
       "18184    0.0    0.0    -1.0 -0.992932  1.823908e-04 -0.000047 -0.633371   \n",
       "31379    0.0    0.0    -1.0  0.000235  1.456320e-05 -0.000001  0.001118   \n",
       "48749    0.0    0.0     1.0  0.987462  3.721650e-05 -0.000016  0.001118   \n",
       "31858    0.0    0.0    -1.0 -0.586331 -2.833520e-04  0.000003 -1.174284   \n",
       "37703    0.0    0.0     1.0 -0.890969 -5.621810e-04 -0.000174  0.001118   \n",
       "\n",
       "       feat31  feat56  feat63  feat66  feat69    feat70    feat71  feat75  \\\n",
       "16268     1.0     0.0     0.0    -1.0    -1.0 -0.894052 -0.505440     0.0   \n",
       "5504      1.0     1.0     2.0    -1.0    -1.0 -0.942626 -0.636356     1.0   \n",
       "23601     0.0     0.0     0.0     1.0     0.0  0.000000  0.000000     0.0   \n",
       "12849     0.0     0.0     0.0     1.0     0.0  0.000000  0.000000     0.0   \n",
       "18973    -1.0     1.0    21.0    -1.0     1.0  0.000003  0.419223     0.0   \n",
       "...       ...     ...     ...     ...     ...       ...       ...     ...   \n",
       "18184    -1.0     0.0     0.0    -1.0     1.0  0.000182  0.039015     0.0   \n",
       "31379    -1.0     0.0     0.0     0.0     1.0  0.000235  0.670592     0.0   \n",
       "48749     0.0     0.0     0.0     1.0     0.0  0.000000  0.000000     0.0   \n",
       "31858     0.0     0.0     0.0    -1.0     0.0  0.000000  0.000000     0.0   \n",
       "37703    -1.0    -1.0    -6.0     1.0    -1.0 -0.890969 -0.282960     0.0   \n",
       "\n",
       "       target  \n",
       "16268     0.0  \n",
       "5504      0.0  \n",
       "23601     1.0  \n",
       "12849     0.0  \n",
       "18973     0.0  \n",
       "...       ...  \n",
       "18184     0.0  \n",
       "31379     0.0  \n",
       "48749     1.0  \n",
       "31858     0.0  \n",
       "37703     1.0  \n",
       "\n",
       "[35000 rows x 16 columns]"
      ]
     },
     "execution_count": 58,
     "metadata": {},
     "output_type": "execute_result"
    }
   ],
   "source": [
    "data_train"
   ]
  },
  {
   "cell_type": "code",
   "execution_count": 59,
   "metadata": {},
   "outputs": [
    {
     "data": {
      "text/plain": [
       "Index(['feat4', 'feat8', 'feat12', 'feat13', 'feat14', 'feat15', 'feat20',\n",
       "       'feat31', 'feat56', 'feat63', 'feat66', 'feat69', 'feat70', 'feat71',\n",
       "       'feat75'],\n",
       "      dtype='object')"
      ]
     },
     "execution_count": 59,
     "metadata": {},
     "output_type": "execute_result"
    }
   ],
   "source": [
    "features"
   ]
  },
  {
   "cell_type": "code",
   "execution_count": 62,
   "metadata": {},
   "outputs": [
    {
     "name": "stderr",
     "output_type": "stream",
     "text": [
      "/Library/Frameworks/Python.framework/Versions/3.7/lib/python3.7/site-packages/sklearn/linear_model/logistic.py:432: FutureWarning: Default solver will be changed to 'lbfgs' in 0.22. Specify a solver to silence this warning.\n",
      "  FutureWarning)\n",
      "/Library/Frameworks/Python.framework/Versions/3.7/lib/python3.7/site-packages/sklearn/linear_model/logistic.py:432: FutureWarning: Default solver will be changed to 'lbfgs' in 0.22. Specify a solver to silence this warning.\n",
      "  FutureWarning)\n"
     ]
    },
    {
     "name": "stdout",
     "output_type": "stream",
     "text": [
      "[]\n",
      "[['feat4', 'feat12', 0.7087]]\n",
      "[['feat4', 'feat12', 0.7087], ['feat4', 'feat13', 0.7089]]\n"
     ]
    },
    {
     "name": "stderr",
     "output_type": "stream",
     "text": [
      "/Library/Frameworks/Python.framework/Versions/3.7/lib/python3.7/site-packages/sklearn/linear_model/logistic.py:432: FutureWarning: Default solver will be changed to 'lbfgs' in 0.22. Specify a solver to silence this warning.\n",
      "  FutureWarning)\n",
      "/Library/Frameworks/Python.framework/Versions/3.7/lib/python3.7/site-packages/sklearn/linear_model/logistic.py:432: FutureWarning: Default solver will be changed to 'lbfgs' in 0.22. Specify a solver to silence this warning.\n",
      "  FutureWarning)\n",
      "/Library/Frameworks/Python.framework/Versions/3.7/lib/python3.7/site-packages/sklearn/linear_model/logistic.py:432: FutureWarning: Default solver will be changed to 'lbfgs' in 0.22. Specify a solver to silence this warning.\n",
      "  FutureWarning)\n"
     ]
    },
    {
     "name": "stdout",
     "output_type": "stream",
     "text": [
      "[['feat4', 'feat12', 0.7087], ['feat4', 'feat13', 0.7089], ['feat4', 'feat14', 0.7089]]\n",
      "[['feat4', 'feat12', 0.7087], ['feat4', 'feat13', 0.7089], ['feat4', 'feat14', 0.7089], ['feat4', 'feat15', 0.7087]]\n",
      "[['feat4', 'feat12', 0.7087], ['feat4', 'feat13', 0.7089], ['feat4', 'feat14', 0.7089], ['feat4', 'feat15', 0.7087], ['feat4', 'feat20', 0.7086]]\n"
     ]
    },
    {
     "name": "stderr",
     "output_type": "stream",
     "text": [
      "/Library/Frameworks/Python.framework/Versions/3.7/lib/python3.7/site-packages/sklearn/linear_model/logistic.py:432: FutureWarning: Default solver will be changed to 'lbfgs' in 0.22. Specify a solver to silence this warning.\n",
      "  FutureWarning)\n",
      "/Library/Frameworks/Python.framework/Versions/3.7/lib/python3.7/site-packages/sklearn/linear_model/logistic.py:432: FutureWarning: Default solver will be changed to 'lbfgs' in 0.22. Specify a solver to silence this warning.\n",
      "  FutureWarning)\n",
      "/Library/Frameworks/Python.framework/Versions/3.7/lib/python3.7/site-packages/sklearn/linear_model/logistic.py:432: FutureWarning: Default solver will be changed to 'lbfgs' in 0.22. Specify a solver to silence this warning.\n",
      "  FutureWarning)\n"
     ]
    },
    {
     "name": "stdout",
     "output_type": "stream",
     "text": [
      "[['feat4', 'feat12', 0.7087], ['feat4', 'feat13', 0.7089], ['feat4', 'feat14', 0.7089], ['feat4', 'feat15', 0.7087], ['feat4', 'feat20', 0.7086], ['feat4', 'feat31', 0.7086]]\n",
      "[['feat4', 'feat12', 0.7087], ['feat4', 'feat13', 0.7089], ['feat4', 'feat14', 0.7089], ['feat4', 'feat15', 0.7087], ['feat4', 'feat20', 0.7086], ['feat4', 'feat31', 0.7086], ['feat8', 'feat4', 0.7089]]\n",
      "[['feat4', 'feat12', 0.7087], ['feat4', 'feat13', 0.7089], ['feat4', 'feat14', 0.7089], ['feat4', 'feat15', 0.7087], ['feat4', 'feat20', 0.7086], ['feat4', 'feat31', 0.7086], ['feat8', 'feat4', 0.7089], ['feat8', 'feat12', 0.7087]]\n"
     ]
    },
    {
     "name": "stderr",
     "output_type": "stream",
     "text": [
      "/Library/Frameworks/Python.framework/Versions/3.7/lib/python3.7/site-packages/sklearn/linear_model/logistic.py:432: FutureWarning: Default solver will be changed to 'lbfgs' in 0.22. Specify a solver to silence this warning.\n",
      "  FutureWarning)\n",
      "/Library/Frameworks/Python.framework/Versions/3.7/lib/python3.7/site-packages/sklearn/linear_model/logistic.py:432: FutureWarning: Default solver will be changed to 'lbfgs' in 0.22. Specify a solver to silence this warning.\n",
      "  FutureWarning)\n",
      "/Library/Frameworks/Python.framework/Versions/3.7/lib/python3.7/site-packages/sklearn/linear_model/logistic.py:432: FutureWarning: Default solver will be changed to 'lbfgs' in 0.22. Specify a solver to silence this warning.\n",
      "  FutureWarning)\n"
     ]
    },
    {
     "name": "stdout",
     "output_type": "stream",
     "text": [
      "[['feat4', 'feat12', 0.7087], ['feat4', 'feat13', 0.7089], ['feat4', 'feat14', 0.7089], ['feat4', 'feat15', 0.7087], ['feat4', 'feat20', 0.7086], ['feat4', 'feat31', 0.7086], ['feat8', 'feat4', 0.7089], ['feat8', 'feat12', 0.7087], ['feat8', 'feat13', 0.7087]]\n",
      "[['feat4', 'feat12', 0.7087], ['feat4', 'feat13', 0.7089], ['feat4', 'feat14', 0.7089], ['feat4', 'feat15', 0.7087], ['feat4', 'feat20', 0.7086], ['feat4', 'feat31', 0.7086], ['feat8', 'feat4', 0.7089], ['feat8', 'feat12', 0.7087], ['feat8', 'feat13', 0.7087], ['feat8', 'feat14', 0.7087]]\n",
      "[['feat4', 'feat12', 0.7087], ['feat4', 'feat13', 0.7089], ['feat4', 'feat14', 0.7089], ['feat4', 'feat15', 0.7087], ['feat4', 'feat20', 0.7086], ['feat4', 'feat31', 0.7086], ['feat8', 'feat4', 0.7089], ['feat8', 'feat12', 0.7087], ['feat8', 'feat13', 0.7087], ['feat8', 'feat14', 0.7087], ['feat8', 'feat15', 0.7087]]\n"
     ]
    },
    {
     "name": "stderr",
     "output_type": "stream",
     "text": [
      "/Library/Frameworks/Python.framework/Versions/3.7/lib/python3.7/site-packages/sklearn/linear_model/logistic.py:432: FutureWarning: Default solver will be changed to 'lbfgs' in 0.22. Specify a solver to silence this warning.\n",
      "  FutureWarning)\n",
      "/Library/Frameworks/Python.framework/Versions/3.7/lib/python3.7/site-packages/sklearn/linear_model/logistic.py:432: FutureWarning: Default solver will be changed to 'lbfgs' in 0.22. Specify a solver to silence this warning.\n",
      "  FutureWarning)\n",
      "/Library/Frameworks/Python.framework/Versions/3.7/lib/python3.7/site-packages/sklearn/linear_model/logistic.py:432: FutureWarning: Default solver will be changed to 'lbfgs' in 0.22. Specify a solver to silence this warning.\n",
      "  FutureWarning)\n"
     ]
    },
    {
     "name": "stdout",
     "output_type": "stream",
     "text": [
      "[['feat4', 'feat12', 0.7087], ['feat4', 'feat13', 0.7089], ['feat4', 'feat14', 0.7089], ['feat4', 'feat15', 0.7087], ['feat4', 'feat20', 0.7086], ['feat4', 'feat31', 0.7086], ['feat8', 'feat4', 0.7089], ['feat8', 'feat12', 0.7087], ['feat8', 'feat13', 0.7087], ['feat8', 'feat14', 0.7087], ['feat8', 'feat15', 0.7087], ['feat8', 'feat20', 0.7087]]\n",
      "[['feat4', 'feat12', 0.7087], ['feat4', 'feat13', 0.7089], ['feat4', 'feat14', 0.7089], ['feat4', 'feat15', 0.7087], ['feat4', 'feat20', 0.7086], ['feat4', 'feat31', 0.7086], ['feat8', 'feat4', 0.7089], ['feat8', 'feat12', 0.7087], ['feat8', 'feat13', 0.7087], ['feat8', 'feat14', 0.7087], ['feat8', 'feat15', 0.7087], ['feat8', 'feat20', 0.7087], ['feat8', 'feat31', 0.7085]]\n",
      "[['feat4', 'feat12', 0.7087], ['feat4', 'feat13', 0.7089], ['feat4', 'feat14', 0.7089], ['feat4', 'feat15', 0.7087], ['feat4', 'feat20', 0.7086], ['feat4', 'feat31', 0.7086], ['feat8', 'feat4', 0.7089], ['feat8', 'feat12', 0.7087], ['feat8', 'feat13', 0.7087], ['feat8', 'feat14', 0.7087], ['feat8', 'feat15', 0.7087], ['feat8', 'feat20', 0.7087], ['feat8', 'feat31', 0.7085], ['feat8', 'feat56', 0.7085]]\n"
     ]
    },
    {
     "name": "stderr",
     "output_type": "stream",
     "text": [
      "/Library/Frameworks/Python.framework/Versions/3.7/lib/python3.7/site-packages/sklearn/linear_model/logistic.py:432: FutureWarning: Default solver will be changed to 'lbfgs' in 0.22. Specify a solver to silence this warning.\n",
      "  FutureWarning)\n",
      "/Library/Frameworks/Python.framework/Versions/3.7/lib/python3.7/site-packages/sklearn/linear_model/logistic.py:432: FutureWarning: Default solver will be changed to 'lbfgs' in 0.22. Specify a solver to silence this warning.\n",
      "  FutureWarning)\n"
     ]
    },
    {
     "name": "stdout",
     "output_type": "stream",
     "text": [
      "[['feat4', 'feat12', 0.7087], ['feat4', 'feat13', 0.7089], ['feat4', 'feat14', 0.7089], ['feat4', 'feat15', 0.7087], ['feat4', 'feat20', 0.7086], ['feat4', 'feat31', 0.7086], ['feat8', 'feat4', 0.7089], ['feat8', 'feat12', 0.7087], ['feat8', 'feat13', 0.7087], ['feat8', 'feat14', 0.7087], ['feat8', 'feat15', 0.7087], ['feat8', 'feat20', 0.7087], ['feat8', 'feat31', 0.7085], ['feat8', 'feat56', 0.7085], ['feat8', 'feat63', 0.7086]]\n",
      "[['feat4', 'feat12', 0.7087], ['feat4', 'feat13', 0.7089], ['feat4', 'feat14', 0.7089], ['feat4', 'feat15', 0.7087], ['feat4', 'feat20', 0.7086], ['feat4', 'feat31', 0.7086], ['feat8', 'feat4', 0.7089], ['feat8', 'feat12', 0.7087], ['feat8', 'feat13', 0.7087], ['feat8', 'feat14', 0.7087], ['feat8', 'feat15', 0.7087], ['feat8', 'feat20', 0.7087], ['feat8', 'feat31', 0.7085], ['feat8', 'feat56', 0.7085], ['feat8', 'feat63', 0.7086], ['feat8', 'feat66', 0.7084]]\n"
     ]
    },
    {
     "name": "stderr",
     "output_type": "stream",
     "text": [
      "/Library/Frameworks/Python.framework/Versions/3.7/lib/python3.7/site-packages/sklearn/linear_model/logistic.py:432: FutureWarning: Default solver will be changed to 'lbfgs' in 0.22. Specify a solver to silence this warning.\n",
      "  FutureWarning)\n",
      "/Library/Frameworks/Python.framework/Versions/3.7/lib/python3.7/site-packages/sklearn/linear_model/logistic.py:432: FutureWarning: Default solver will be changed to 'lbfgs' in 0.22. Specify a solver to silence this warning.\n",
      "  FutureWarning)\n"
     ]
    },
    {
     "name": "stdout",
     "output_type": "stream",
     "text": [
      "[['feat4', 'feat12', 0.7087], ['feat4', 'feat13', 0.7089], ['feat4', 'feat14', 0.7089], ['feat4', 'feat15', 0.7087], ['feat4', 'feat20', 0.7086], ['feat4', 'feat31', 0.7086], ['feat8', 'feat4', 0.7089], ['feat8', 'feat12', 0.7087], ['feat8', 'feat13', 0.7087], ['feat8', 'feat14', 0.7087], ['feat8', 'feat15', 0.7087], ['feat8', 'feat20', 0.7087], ['feat8', 'feat31', 0.7085], ['feat8', 'feat56', 0.7085], ['feat8', 'feat63', 0.7086], ['feat8', 'feat66', 0.7084], ['feat8', 'feat69', 0.7086]]\n",
      "[['feat4', 'feat12', 0.7087], ['feat4', 'feat13', 0.7089], ['feat4', 'feat14', 0.7089], ['feat4', 'feat15', 0.7087], ['feat4', 'feat20', 0.7086], ['feat4', 'feat31', 0.7086], ['feat8', 'feat4', 0.7089], ['feat8', 'feat12', 0.7087], ['feat8', 'feat13', 0.7087], ['feat8', 'feat14', 0.7087], ['feat8', 'feat15', 0.7087], ['feat8', 'feat20', 0.7087], ['feat8', 'feat31', 0.7085], ['feat8', 'feat56', 0.7085], ['feat8', 'feat63', 0.7086], ['feat8', 'feat66', 0.7084], ['feat8', 'feat69', 0.7086], ['feat8', 'feat70', 0.7087]]\n"
     ]
    },
    {
     "name": "stderr",
     "output_type": "stream",
     "text": [
      "/Library/Frameworks/Python.framework/Versions/3.7/lib/python3.7/site-packages/sklearn/linear_model/logistic.py:432: FutureWarning: Default solver will be changed to 'lbfgs' in 0.22. Specify a solver to silence this warning.\n",
      "  FutureWarning)\n",
      "/Library/Frameworks/Python.framework/Versions/3.7/lib/python3.7/site-packages/sklearn/linear_model/logistic.py:432: FutureWarning: Default solver will be changed to 'lbfgs' in 0.22. Specify a solver to silence this warning.\n",
      "  FutureWarning)\n"
     ]
    },
    {
     "name": "stdout",
     "output_type": "stream",
     "text": [
      "[['feat4', 'feat12', 0.7087], ['feat4', 'feat13', 0.7089], ['feat4', 'feat14', 0.7089], ['feat4', 'feat15', 0.7087], ['feat4', 'feat20', 0.7086], ['feat4', 'feat31', 0.7086], ['feat8', 'feat4', 0.7089], ['feat8', 'feat12', 0.7087], ['feat8', 'feat13', 0.7087], ['feat8', 'feat14', 0.7087], ['feat8', 'feat15', 0.7087], ['feat8', 'feat20', 0.7087], ['feat8', 'feat31', 0.7085], ['feat8', 'feat56', 0.7085], ['feat8', 'feat63', 0.7086], ['feat8', 'feat66', 0.7084], ['feat8', 'feat69', 0.7086], ['feat8', 'feat70', 0.7087], ['feat8', 'feat71', 0.709]]\n",
      "[['feat4', 'feat12', 0.7087], ['feat4', 'feat13', 0.7089], ['feat4', 'feat14', 0.7089], ['feat4', 'feat15', 0.7087], ['feat4', 'feat20', 0.7086], ['feat4', 'feat31', 0.7086], ['feat8', 'feat4', 0.7089], ['feat8', 'feat12', 0.7087], ['feat8', 'feat13', 0.7087], ['feat8', 'feat14', 0.7087], ['feat8', 'feat15', 0.7087], ['feat8', 'feat20', 0.7087], ['feat8', 'feat31', 0.7085], ['feat8', 'feat56', 0.7085], ['feat8', 'feat63', 0.7086], ['feat8', 'feat66', 0.7084], ['feat8', 'feat69', 0.7086], ['feat8', 'feat70', 0.7087], ['feat8', 'feat71', 0.709], ['feat8', 'feat75', 0.7089]]\n"
     ]
    },
    {
     "name": "stderr",
     "output_type": "stream",
     "text": [
      "/Library/Frameworks/Python.framework/Versions/3.7/lib/python3.7/site-packages/sklearn/linear_model/logistic.py:432: FutureWarning: Default solver will be changed to 'lbfgs' in 0.22. Specify a solver to silence this warning.\n",
      "  FutureWarning)\n",
      "/Library/Frameworks/Python.framework/Versions/3.7/lib/python3.7/site-packages/sklearn/linear_model/logistic.py:432: FutureWarning: Default solver will be changed to 'lbfgs' in 0.22. Specify a solver to silence this warning.\n",
      "  FutureWarning)\n"
     ]
    },
    {
     "name": "stdout",
     "output_type": "stream",
     "text": [
      "[['feat4', 'feat12', 0.7087], ['feat4', 'feat13', 0.7089], ['feat4', 'feat14', 0.7089], ['feat4', 'feat15', 0.7087], ['feat4', 'feat20', 0.7086], ['feat4', 'feat31', 0.7086], ['feat8', 'feat4', 0.7089], ['feat8', 'feat12', 0.7087], ['feat8', 'feat13', 0.7087], ['feat8', 'feat14', 0.7087], ['feat8', 'feat15', 0.7087], ['feat8', 'feat20', 0.7087], ['feat8', 'feat31', 0.7085], ['feat8', 'feat56', 0.7085], ['feat8', 'feat63', 0.7086], ['feat8', 'feat66', 0.7084], ['feat8', 'feat69', 0.7086], ['feat8', 'feat70', 0.7087], ['feat8', 'feat71', 0.709], ['feat8', 'feat75', 0.7089], ['feat13', 'feat12', 0.7089]]\n",
      "[['feat4', 'feat12', 0.7087], ['feat4', 'feat13', 0.7089], ['feat4', 'feat14', 0.7089], ['feat4', 'feat15', 0.7087], ['feat4', 'feat20', 0.7086], ['feat4', 'feat31', 0.7086], ['feat8', 'feat4', 0.7089], ['feat8', 'feat12', 0.7087], ['feat8', 'feat13', 0.7087], ['feat8', 'feat14', 0.7087], ['feat8', 'feat15', 0.7087], ['feat8', 'feat20', 0.7087], ['feat8', 'feat31', 0.7085], ['feat8', 'feat56', 0.7085], ['feat8', 'feat63', 0.7086], ['feat8', 'feat66', 0.7084], ['feat8', 'feat69', 0.7086], ['feat8', 'feat70', 0.7087], ['feat8', 'feat71', 0.709], ['feat8', 'feat75', 0.7089], ['feat13', 'feat12', 0.7089], ['feat14', 'feat12', 0.7089]]\n"
     ]
    },
    {
     "name": "stderr",
     "output_type": "stream",
     "text": [
      "/Library/Frameworks/Python.framework/Versions/3.7/lib/python3.7/site-packages/sklearn/linear_model/logistic.py:432: FutureWarning: Default solver will be changed to 'lbfgs' in 0.22. Specify a solver to silence this warning.\n",
      "  FutureWarning)\n",
      "/Library/Frameworks/Python.framework/Versions/3.7/lib/python3.7/site-packages/sklearn/linear_model/logistic.py:432: FutureWarning: Default solver will be changed to 'lbfgs' in 0.22. Specify a solver to silence this warning.\n",
      "  FutureWarning)\n"
     ]
    },
    {
     "name": "stdout",
     "output_type": "stream",
     "text": [
      "[['feat4', 'feat12', 0.7087], ['feat4', 'feat13', 0.7089], ['feat4', 'feat14', 0.7089], ['feat4', 'feat15', 0.7087], ['feat4', 'feat20', 0.7086], ['feat4', 'feat31', 0.7086], ['feat8', 'feat4', 0.7089], ['feat8', 'feat12', 0.7087], ['feat8', 'feat13', 0.7087], ['feat8', 'feat14', 0.7087], ['feat8', 'feat15', 0.7087], ['feat8', 'feat20', 0.7087], ['feat8', 'feat31', 0.7085], ['feat8', 'feat56', 0.7085], ['feat8', 'feat63', 0.7086], ['feat8', 'feat66', 0.7084], ['feat8', 'feat69', 0.7086], ['feat8', 'feat70', 0.7087], ['feat8', 'feat71', 0.709], ['feat8', 'feat75', 0.7089], ['feat13', 'feat12', 0.7089], ['feat14', 'feat12', 0.7089], ['feat14', 'feat13', 0.7084]]\n",
      "[['feat4', 'feat12', 0.7087], ['feat4', 'feat13', 0.7089], ['feat4', 'feat14', 0.7089], ['feat4', 'feat15', 0.7087], ['feat4', 'feat20', 0.7086], ['feat4', 'feat31', 0.7086], ['feat8', 'feat4', 0.7089], ['feat8', 'feat12', 0.7087], ['feat8', 'feat13', 0.7087], ['feat8', 'feat14', 0.7087], ['feat8', 'feat15', 0.7087], ['feat8', 'feat20', 0.7087], ['feat8', 'feat31', 0.7085], ['feat8', 'feat56', 0.7085], ['feat8', 'feat63', 0.7086], ['feat8', 'feat66', 0.7084], ['feat8', 'feat69', 0.7086], ['feat8', 'feat70', 0.7087], ['feat8', 'feat71', 0.709], ['feat8', 'feat75', 0.7089], ['feat13', 'feat12', 0.7089], ['feat14', 'feat12', 0.7089], ['feat14', 'feat13', 0.7084], ['feat15', 'feat12', 0.7089]]\n"
     ]
    },
    {
     "name": "stderr",
     "output_type": "stream",
     "text": [
      "/Library/Frameworks/Python.framework/Versions/3.7/lib/python3.7/site-packages/sklearn/linear_model/logistic.py:432: FutureWarning: Default solver will be changed to 'lbfgs' in 0.22. Specify a solver to silence this warning.\n",
      "  FutureWarning)\n",
      "/Library/Frameworks/Python.framework/Versions/3.7/lib/python3.7/site-packages/sklearn/linear_model/logistic.py:432: FutureWarning: Default solver will be changed to 'lbfgs' in 0.22. Specify a solver to silence this warning.\n",
      "  FutureWarning)\n"
     ]
    },
    {
     "name": "stdout",
     "output_type": "stream",
     "text": [
      "[['feat4', 'feat12', 0.7087], ['feat4', 'feat13', 0.7089], ['feat4', 'feat14', 0.7089], ['feat4', 'feat15', 0.7087], ['feat4', 'feat20', 0.7086], ['feat4', 'feat31', 0.7086], ['feat8', 'feat4', 0.7089], ['feat8', 'feat12', 0.7087], ['feat8', 'feat13', 0.7087], ['feat8', 'feat14', 0.7087], ['feat8', 'feat15', 0.7087], ['feat8', 'feat20', 0.7087], ['feat8', 'feat31', 0.7085], ['feat8', 'feat56', 0.7085], ['feat8', 'feat63', 0.7086], ['feat8', 'feat66', 0.7084], ['feat8', 'feat69', 0.7086], ['feat8', 'feat70', 0.7087], ['feat8', 'feat71', 0.709], ['feat8', 'feat75', 0.7089], ['feat13', 'feat12', 0.7089], ['feat14', 'feat12', 0.7089], ['feat14', 'feat13', 0.7084], ['feat15', 'feat12', 0.7089], ['feat15', 'feat13', 0.7088]]\n",
      "[['feat4', 'feat12', 0.7087], ['feat4', 'feat13', 0.7089], ['feat4', 'feat14', 0.7089], ['feat4', 'feat15', 0.7087], ['feat4', 'feat20', 0.7086], ['feat4', 'feat31', 0.7086], ['feat8', 'feat4', 0.7089], ['feat8', 'feat12', 0.7087], ['feat8', 'feat13', 0.7087], ['feat8', 'feat14', 0.7087], ['feat8', 'feat15', 0.7087], ['feat8', 'feat20', 0.7087], ['feat8', 'feat31', 0.7085], ['feat8', 'feat56', 0.7085], ['feat8', 'feat63', 0.7086], ['feat8', 'feat66', 0.7084], ['feat8', 'feat69', 0.7086], ['feat8', 'feat70', 0.7087], ['feat8', 'feat71', 0.709], ['feat8', 'feat75', 0.7089], ['feat13', 'feat12', 0.7089], ['feat14', 'feat12', 0.7089], ['feat14', 'feat13', 0.7084], ['feat15', 'feat12', 0.7089], ['feat15', 'feat13', 0.7088], ['feat15', 'feat14', 0.7087]]\n"
     ]
    },
    {
     "name": "stderr",
     "output_type": "stream",
     "text": [
      "/Library/Frameworks/Python.framework/Versions/3.7/lib/python3.7/site-packages/sklearn/linear_model/logistic.py:432: FutureWarning: Default solver will be changed to 'lbfgs' in 0.22. Specify a solver to silence this warning.\n",
      "  FutureWarning)\n",
      "/Library/Frameworks/Python.framework/Versions/3.7/lib/python3.7/site-packages/sklearn/linear_model/logistic.py:432: FutureWarning: Default solver will be changed to 'lbfgs' in 0.22. Specify a solver to silence this warning.\n",
      "  FutureWarning)\n"
     ]
    },
    {
     "name": "stdout",
     "output_type": "stream",
     "text": [
      "[['feat4', 'feat12', 0.7087], ['feat4', 'feat13', 0.7089], ['feat4', 'feat14', 0.7089], ['feat4', 'feat15', 0.7087], ['feat4', 'feat20', 0.7086], ['feat4', 'feat31', 0.7086], ['feat8', 'feat4', 0.7089], ['feat8', 'feat12', 0.7087], ['feat8', 'feat13', 0.7087], ['feat8', 'feat14', 0.7087], ['feat8', 'feat15', 0.7087], ['feat8', 'feat20', 0.7087], ['feat8', 'feat31', 0.7085], ['feat8', 'feat56', 0.7085], ['feat8', 'feat63', 0.7086], ['feat8', 'feat66', 0.7084], ['feat8', 'feat69', 0.7086], ['feat8', 'feat70', 0.7087], ['feat8', 'feat71', 0.709], ['feat8', 'feat75', 0.7089], ['feat13', 'feat12', 0.7089], ['feat14', 'feat12', 0.7089], ['feat14', 'feat13', 0.7084], ['feat15', 'feat12', 0.7089], ['feat15', 'feat13', 0.7088], ['feat15', 'feat14', 0.7087], ['feat20', 'feat12', 0.7087]]\n",
      "[['feat4', 'feat12', 0.7087], ['feat4', 'feat13', 0.7089], ['feat4', 'feat14', 0.7089], ['feat4', 'feat15', 0.7087], ['feat4', 'feat20', 0.7086], ['feat4', 'feat31', 0.7086], ['feat8', 'feat4', 0.7089], ['feat8', 'feat12', 0.7087], ['feat8', 'feat13', 0.7087], ['feat8', 'feat14', 0.7087], ['feat8', 'feat15', 0.7087], ['feat8', 'feat20', 0.7087], ['feat8', 'feat31', 0.7085], ['feat8', 'feat56', 0.7085], ['feat8', 'feat63', 0.7086], ['feat8', 'feat66', 0.7084], ['feat8', 'feat69', 0.7086], ['feat8', 'feat70', 0.7087], ['feat8', 'feat71', 0.709], ['feat8', 'feat75', 0.7089], ['feat13', 'feat12', 0.7089], ['feat14', 'feat12', 0.7089], ['feat14', 'feat13', 0.7084], ['feat15', 'feat12', 0.7089], ['feat15', 'feat13', 0.7088], ['feat15', 'feat14', 0.7087], ['feat20', 'feat12', 0.7087], ['feat20', 'feat13', 0.7087]]\n",
      "[['feat4', 'feat12', 0.7087], ['feat4', 'feat13', 0.7089], ['feat4', 'feat14', 0.7089], ['feat4', 'feat15', 0.7087], ['feat4', 'feat20', 0.7086], ['feat4', 'feat31', 0.7086], ['feat8', 'feat4', 0.7089], ['feat8', 'feat12', 0.7087], ['feat8', 'feat13', 0.7087], ['feat8', 'feat14', 0.7087], ['feat8', 'feat15', 0.7087], ['feat8', 'feat20', 0.7087], ['feat8', 'feat31', 0.7085], ['feat8', 'feat56', 0.7085], ['feat8', 'feat63', 0.7086], ['feat8', 'feat66', 0.7084], ['feat8', 'feat69', 0.7086], ['feat8', 'feat70', 0.7087], ['feat8', 'feat71', 0.709], ['feat8', 'feat75', 0.7089], ['feat13', 'feat12', 0.7089], ['feat14', 'feat12', 0.7089], ['feat14', 'feat13', 0.7084], ['feat15', 'feat12', 0.7089], ['feat15', 'feat13', 0.7088], ['feat15', 'feat14', 0.7087], ['feat20', 'feat12', 0.7087], ['feat20', 'feat13', 0.7087], ['feat20', 'feat14', 0.7087]]\n"
     ]
    },
    {
     "name": "stderr",
     "output_type": "stream",
     "text": [
      "/Library/Frameworks/Python.framework/Versions/3.7/lib/python3.7/site-packages/sklearn/linear_model/logistic.py:432: FutureWarning: Default solver will be changed to 'lbfgs' in 0.22. Specify a solver to silence this warning.\n",
      "  FutureWarning)\n",
      "/Library/Frameworks/Python.framework/Versions/3.7/lib/python3.7/site-packages/sklearn/linear_model/logistic.py:432: FutureWarning: Default solver will be changed to 'lbfgs' in 0.22. Specify a solver to silence this warning.\n",
      "  FutureWarning)\n",
      "/Library/Frameworks/Python.framework/Versions/3.7/lib/python3.7/site-packages/sklearn/linear_model/logistic.py:432: FutureWarning: Default solver will be changed to 'lbfgs' in 0.22. Specify a solver to silence this warning.\n",
      "  FutureWarning)\n"
     ]
    },
    {
     "name": "stdout",
     "output_type": "stream",
     "text": [
      "[['feat4', 'feat12', 0.7087], ['feat4', 'feat13', 0.7089], ['feat4', 'feat14', 0.7089], ['feat4', 'feat15', 0.7087], ['feat4', 'feat20', 0.7086], ['feat4', 'feat31', 0.7086], ['feat8', 'feat4', 0.7089], ['feat8', 'feat12', 0.7087], ['feat8', 'feat13', 0.7087], ['feat8', 'feat14', 0.7087], ['feat8', 'feat15', 0.7087], ['feat8', 'feat20', 0.7087], ['feat8', 'feat31', 0.7085], ['feat8', 'feat56', 0.7085], ['feat8', 'feat63', 0.7086], ['feat8', 'feat66', 0.7084], ['feat8', 'feat69', 0.7086], ['feat8', 'feat70', 0.7087], ['feat8', 'feat71', 0.709], ['feat8', 'feat75', 0.7089], ['feat13', 'feat12', 0.7089], ['feat14', 'feat12', 0.7089], ['feat14', 'feat13', 0.7084], ['feat15', 'feat12', 0.7089], ['feat15', 'feat13', 0.7088], ['feat15', 'feat14', 0.7087], ['feat20', 'feat12', 0.7087], ['feat20', 'feat13', 0.7087], ['feat20', 'feat14', 0.7087], ['feat20', 'feat15', 0.7088]]\n",
      "[['feat4', 'feat12', 0.7087], ['feat4', 'feat13', 0.7089], ['feat4', 'feat14', 0.7089], ['feat4', 'feat15', 0.7087], ['feat4', 'feat20', 0.7086], ['feat4', 'feat31', 0.7086], ['feat8', 'feat4', 0.7089], ['feat8', 'feat12', 0.7087], ['feat8', 'feat13', 0.7087], ['feat8', 'feat14', 0.7087], ['feat8', 'feat15', 0.7087], ['feat8', 'feat20', 0.7087], ['feat8', 'feat31', 0.7085], ['feat8', 'feat56', 0.7085], ['feat8', 'feat63', 0.7086], ['feat8', 'feat66', 0.7084], ['feat8', 'feat69', 0.7086], ['feat8', 'feat70', 0.7087], ['feat8', 'feat71', 0.709], ['feat8', 'feat75', 0.7089], ['feat13', 'feat12', 0.7089], ['feat14', 'feat12', 0.7089], ['feat14', 'feat13', 0.7084], ['feat15', 'feat12', 0.7089], ['feat15', 'feat13', 0.7088], ['feat15', 'feat14', 0.7087], ['feat20', 'feat12', 0.7087], ['feat20', 'feat13', 0.7087], ['feat20', 'feat14', 0.7087], ['feat20', 'feat15', 0.7088], ['feat31', 'feat12', 0.7083]]\n",
      "[['feat4', 'feat12', 0.7087], ['feat4', 'feat13', 0.7089], ['feat4', 'feat14', 0.7089], ['feat4', 'feat15', 0.7087], ['feat4', 'feat20', 0.7086], ['feat4', 'feat31', 0.7086], ['feat8', 'feat4', 0.7089], ['feat8', 'feat12', 0.7087], ['feat8', 'feat13', 0.7087], ['feat8', 'feat14', 0.7087], ['feat8', 'feat15', 0.7087], ['feat8', 'feat20', 0.7087], ['feat8', 'feat31', 0.7085], ['feat8', 'feat56', 0.7085], ['feat8', 'feat63', 0.7086], ['feat8', 'feat66', 0.7084], ['feat8', 'feat69', 0.7086], ['feat8', 'feat70', 0.7087], ['feat8', 'feat71', 0.709], ['feat8', 'feat75', 0.7089], ['feat13', 'feat12', 0.7089], ['feat14', 'feat12', 0.7089], ['feat14', 'feat13', 0.7084], ['feat15', 'feat12', 0.7089], ['feat15', 'feat13', 0.7088], ['feat15', 'feat14', 0.7087], ['feat20', 'feat12', 0.7087], ['feat20', 'feat13', 0.7087], ['feat20', 'feat14', 0.7087], ['feat20', 'feat15', 0.7088], ['feat31', 'feat12', 0.7083], ['feat31', 'feat13', 0.7087]]\n"
     ]
    },
    {
     "name": "stderr",
     "output_type": "stream",
     "text": [
      "/Library/Frameworks/Python.framework/Versions/3.7/lib/python3.7/site-packages/sklearn/linear_model/logistic.py:432: FutureWarning: Default solver will be changed to 'lbfgs' in 0.22. Specify a solver to silence this warning.\n",
      "  FutureWarning)\n",
      "/Library/Frameworks/Python.framework/Versions/3.7/lib/python3.7/site-packages/sklearn/linear_model/logistic.py:432: FutureWarning: Default solver will be changed to 'lbfgs' in 0.22. Specify a solver to silence this warning.\n",
      "  FutureWarning)\n",
      "/Library/Frameworks/Python.framework/Versions/3.7/lib/python3.7/site-packages/sklearn/linear_model/logistic.py:432: FutureWarning: Default solver will be changed to 'lbfgs' in 0.22. Specify a solver to silence this warning.\n",
      "  FutureWarning)\n"
     ]
    },
    {
     "name": "stdout",
     "output_type": "stream",
     "text": [
      "[['feat4', 'feat12', 0.7087], ['feat4', 'feat13', 0.7089], ['feat4', 'feat14', 0.7089], ['feat4', 'feat15', 0.7087], ['feat4', 'feat20', 0.7086], ['feat4', 'feat31', 0.7086], ['feat8', 'feat4', 0.7089], ['feat8', 'feat12', 0.7087], ['feat8', 'feat13', 0.7087], ['feat8', 'feat14', 0.7087], ['feat8', 'feat15', 0.7087], ['feat8', 'feat20', 0.7087], ['feat8', 'feat31', 0.7085], ['feat8', 'feat56', 0.7085], ['feat8', 'feat63', 0.7086], ['feat8', 'feat66', 0.7084], ['feat8', 'feat69', 0.7086], ['feat8', 'feat70', 0.7087], ['feat8', 'feat71', 0.709], ['feat8', 'feat75', 0.7089], ['feat13', 'feat12', 0.7089], ['feat14', 'feat12', 0.7089], ['feat14', 'feat13', 0.7084], ['feat15', 'feat12', 0.7089], ['feat15', 'feat13', 0.7088], ['feat15', 'feat14', 0.7087], ['feat20', 'feat12', 0.7087], ['feat20', 'feat13', 0.7087], ['feat20', 'feat14', 0.7087], ['feat20', 'feat15', 0.7088], ['feat31', 'feat12', 0.7083], ['feat31', 'feat13', 0.7087], ['feat31', 'feat14', 0.7085]]\n",
      "[['feat4', 'feat12', 0.7087], ['feat4', 'feat13', 0.7089], ['feat4', 'feat14', 0.7089], ['feat4', 'feat15', 0.7087], ['feat4', 'feat20', 0.7086], ['feat4', 'feat31', 0.7086], ['feat8', 'feat4', 0.7089], ['feat8', 'feat12', 0.7087], ['feat8', 'feat13', 0.7087], ['feat8', 'feat14', 0.7087], ['feat8', 'feat15', 0.7087], ['feat8', 'feat20', 0.7087], ['feat8', 'feat31', 0.7085], ['feat8', 'feat56', 0.7085], ['feat8', 'feat63', 0.7086], ['feat8', 'feat66', 0.7084], ['feat8', 'feat69', 0.7086], ['feat8', 'feat70', 0.7087], ['feat8', 'feat71', 0.709], ['feat8', 'feat75', 0.7089], ['feat13', 'feat12', 0.7089], ['feat14', 'feat12', 0.7089], ['feat14', 'feat13', 0.7084], ['feat15', 'feat12', 0.7089], ['feat15', 'feat13', 0.7088], ['feat15', 'feat14', 0.7087], ['feat20', 'feat12', 0.7087], ['feat20', 'feat13', 0.7087], ['feat20', 'feat14', 0.7087], ['feat20', 'feat15', 0.7088], ['feat31', 'feat12', 0.7083], ['feat31', 'feat13', 0.7087], ['feat31', 'feat14', 0.7085], ['feat31', 'feat15', 0.7087]]\n",
      "[['feat4', 'feat12', 0.7087], ['feat4', 'feat13', 0.7089], ['feat4', 'feat14', 0.7089], ['feat4', 'feat15', 0.7087], ['feat4', 'feat20', 0.7086], ['feat4', 'feat31', 0.7086], ['feat8', 'feat4', 0.7089], ['feat8', 'feat12', 0.7087], ['feat8', 'feat13', 0.7087], ['feat8', 'feat14', 0.7087], ['feat8', 'feat15', 0.7087], ['feat8', 'feat20', 0.7087], ['feat8', 'feat31', 0.7085], ['feat8', 'feat56', 0.7085], ['feat8', 'feat63', 0.7086], ['feat8', 'feat66', 0.7084], ['feat8', 'feat69', 0.7086], ['feat8', 'feat70', 0.7087], ['feat8', 'feat71', 0.709], ['feat8', 'feat75', 0.7089], ['feat13', 'feat12', 0.7089], ['feat14', 'feat12', 0.7089], ['feat14', 'feat13', 0.7084], ['feat15', 'feat12', 0.7089], ['feat15', 'feat13', 0.7088], ['feat15', 'feat14', 0.7087], ['feat20', 'feat12', 0.7087], ['feat20', 'feat13', 0.7087], ['feat20', 'feat14', 0.7087], ['feat20', 'feat15', 0.7088], ['feat31', 'feat12', 0.7083], ['feat31', 'feat13', 0.7087], ['feat31', 'feat14', 0.7085], ['feat31', 'feat15', 0.7087], ['feat31', 'feat20', 0.7083]]\n"
     ]
    },
    {
     "name": "stderr",
     "output_type": "stream",
     "text": [
      "/Library/Frameworks/Python.framework/Versions/3.7/lib/python3.7/site-packages/sklearn/linear_model/logistic.py:432: FutureWarning: Default solver will be changed to 'lbfgs' in 0.22. Specify a solver to silence this warning.\n",
      "  FutureWarning)\n",
      "/Library/Frameworks/Python.framework/Versions/3.7/lib/python3.7/site-packages/sklearn/linear_model/logistic.py:432: FutureWarning: Default solver will be changed to 'lbfgs' in 0.22. Specify a solver to silence this warning.\n",
      "  FutureWarning)\n",
      "/Library/Frameworks/Python.framework/Versions/3.7/lib/python3.7/site-packages/sklearn/linear_model/logistic.py:432: FutureWarning: Default solver will be changed to 'lbfgs' in 0.22. Specify a solver to silence this warning.\n",
      "  FutureWarning)\n"
     ]
    },
    {
     "name": "stdout",
     "output_type": "stream",
     "text": [
      "[['feat4', 'feat12', 0.7087], ['feat4', 'feat13', 0.7089], ['feat4', 'feat14', 0.7089], ['feat4', 'feat15', 0.7087], ['feat4', 'feat20', 0.7086], ['feat4', 'feat31', 0.7086], ['feat8', 'feat4', 0.7089], ['feat8', 'feat12', 0.7087], ['feat8', 'feat13', 0.7087], ['feat8', 'feat14', 0.7087], ['feat8', 'feat15', 0.7087], ['feat8', 'feat20', 0.7087], ['feat8', 'feat31', 0.7085], ['feat8', 'feat56', 0.7085], ['feat8', 'feat63', 0.7086], ['feat8', 'feat66', 0.7084], ['feat8', 'feat69', 0.7086], ['feat8', 'feat70', 0.7087], ['feat8', 'feat71', 0.709], ['feat8', 'feat75', 0.7089], ['feat13', 'feat12', 0.7089], ['feat14', 'feat12', 0.7089], ['feat14', 'feat13', 0.7084], ['feat15', 'feat12', 0.7089], ['feat15', 'feat13', 0.7088], ['feat15', 'feat14', 0.7087], ['feat20', 'feat12', 0.7087], ['feat20', 'feat13', 0.7087], ['feat20', 'feat14', 0.7087], ['feat20', 'feat15', 0.7088], ['feat31', 'feat12', 0.7083], ['feat31', 'feat13', 0.7087], ['feat31', 'feat14', 0.7085], ['feat31', 'feat15', 0.7087], ['feat31', 'feat20', 0.7083], ['feat56', 'feat4', 0.7084]]\n",
      "[['feat4', 'feat12', 0.7087], ['feat4', 'feat13', 0.7089], ['feat4', 'feat14', 0.7089], ['feat4', 'feat15', 0.7087], ['feat4', 'feat20', 0.7086], ['feat4', 'feat31', 0.7086], ['feat8', 'feat4', 0.7089], ['feat8', 'feat12', 0.7087], ['feat8', 'feat13', 0.7087], ['feat8', 'feat14', 0.7087], ['feat8', 'feat15', 0.7087], ['feat8', 'feat20', 0.7087], ['feat8', 'feat31', 0.7085], ['feat8', 'feat56', 0.7085], ['feat8', 'feat63', 0.7086], ['feat8', 'feat66', 0.7084], ['feat8', 'feat69', 0.7086], ['feat8', 'feat70', 0.7087], ['feat8', 'feat71', 0.709], ['feat8', 'feat75', 0.7089], ['feat13', 'feat12', 0.7089], ['feat14', 'feat12', 0.7089], ['feat14', 'feat13', 0.7084], ['feat15', 'feat12', 0.7089], ['feat15', 'feat13', 0.7088], ['feat15', 'feat14', 0.7087], ['feat20', 'feat12', 0.7087], ['feat20', 'feat13', 0.7087], ['feat20', 'feat14', 0.7087], ['feat20', 'feat15', 0.7088], ['feat31', 'feat12', 0.7083], ['feat31', 'feat13', 0.7087], ['feat31', 'feat14', 0.7085], ['feat31', 'feat15', 0.7087], ['feat31', 'feat20', 0.7083], ['feat56', 'feat4', 0.7084], ['feat56', 'feat12', 0.7083]]\n",
      "[['feat4', 'feat12', 0.7087], ['feat4', 'feat13', 0.7089], ['feat4', 'feat14', 0.7089], ['feat4', 'feat15', 0.7087], ['feat4', 'feat20', 0.7086], ['feat4', 'feat31', 0.7086], ['feat8', 'feat4', 0.7089], ['feat8', 'feat12', 0.7087], ['feat8', 'feat13', 0.7087], ['feat8', 'feat14', 0.7087], ['feat8', 'feat15', 0.7087], ['feat8', 'feat20', 0.7087], ['feat8', 'feat31', 0.7085], ['feat8', 'feat56', 0.7085], ['feat8', 'feat63', 0.7086], ['feat8', 'feat66', 0.7084], ['feat8', 'feat69', 0.7086], ['feat8', 'feat70', 0.7087], ['feat8', 'feat71', 0.709], ['feat8', 'feat75', 0.7089], ['feat13', 'feat12', 0.7089], ['feat14', 'feat12', 0.7089], ['feat14', 'feat13', 0.7084], ['feat15', 'feat12', 0.7089], ['feat15', 'feat13', 0.7088], ['feat15', 'feat14', 0.7087], ['feat20', 'feat12', 0.7087], ['feat20', 'feat13', 0.7087], ['feat20', 'feat14', 0.7087], ['feat20', 'feat15', 0.7088], ['feat31', 'feat12', 0.7083], ['feat31', 'feat13', 0.7087], ['feat31', 'feat14', 0.7085], ['feat31', 'feat15', 0.7087], ['feat31', 'feat20', 0.7083], ['feat56', 'feat4', 0.7084], ['feat56', 'feat12', 0.7083], ['feat56', 'feat13', 0.7086]]\n"
     ]
    },
    {
     "name": "stderr",
     "output_type": "stream",
     "text": [
      "/Library/Frameworks/Python.framework/Versions/3.7/lib/python3.7/site-packages/sklearn/linear_model/logistic.py:432: FutureWarning: Default solver will be changed to 'lbfgs' in 0.22. Specify a solver to silence this warning.\n",
      "  FutureWarning)\n",
      "/Library/Frameworks/Python.framework/Versions/3.7/lib/python3.7/site-packages/sklearn/linear_model/logistic.py:432: FutureWarning: Default solver will be changed to 'lbfgs' in 0.22. Specify a solver to silence this warning.\n",
      "  FutureWarning)\n",
      "/Library/Frameworks/Python.framework/Versions/3.7/lib/python3.7/site-packages/sklearn/linear_model/logistic.py:432: FutureWarning: Default solver will be changed to 'lbfgs' in 0.22. Specify a solver to silence this warning.\n",
      "  FutureWarning)\n",
      "/Library/Frameworks/Python.framework/Versions/3.7/lib/python3.7/site-packages/sklearn/linear_model/logistic.py:432: FutureWarning: Default solver will be changed to 'lbfgs' in 0.22. Specify a solver to silence this warning.\n",
      "  FutureWarning)\n",
      "/Library/Frameworks/Python.framework/Versions/3.7/lib/python3.7/site-packages/sklearn/linear_model/logistic.py:432: FutureWarning: Default solver will be changed to 'lbfgs' in 0.22. Specify a solver to silence this warning.\n",
      "  FutureWarning)\n"
     ]
    },
    {
     "name": "stdout",
     "output_type": "stream",
     "text": [
      "[['feat4', 'feat12', 0.7087], ['feat4', 'feat13', 0.7089], ['feat4', 'feat14', 0.7089], ['feat4', 'feat15', 0.7087], ['feat4', 'feat20', 0.7086], ['feat4', 'feat31', 0.7086], ['feat8', 'feat4', 0.7089], ['feat8', 'feat12', 0.7087], ['feat8', 'feat13', 0.7087], ['feat8', 'feat14', 0.7087], ['feat8', 'feat15', 0.7087], ['feat8', 'feat20', 0.7087], ['feat8', 'feat31', 0.7085], ['feat8', 'feat56', 0.7085], ['feat8', 'feat63', 0.7086], ['feat8', 'feat66', 0.7084], ['feat8', 'feat69', 0.7086], ['feat8', 'feat70', 0.7087], ['feat8', 'feat71', 0.709], ['feat8', 'feat75', 0.7089], ['feat13', 'feat12', 0.7089], ['feat14', 'feat12', 0.7089], ['feat14', 'feat13', 0.7084], ['feat15', 'feat12', 0.7089], ['feat15', 'feat13', 0.7088], ['feat15', 'feat14', 0.7087], ['feat20', 'feat12', 0.7087], ['feat20', 'feat13', 0.7087], ['feat20', 'feat14', 0.7087], ['feat20', 'feat15', 0.7088], ['feat31', 'feat12', 0.7083], ['feat31', 'feat13', 0.7087], ['feat31', 'feat14', 0.7085], ['feat31', 'feat15', 0.7087], ['feat31', 'feat20', 0.7083], ['feat56', 'feat4', 0.7084], ['feat56', 'feat12', 0.7083], ['feat56', 'feat13', 0.7086], ['feat56', 'feat14', 0.7083]]\n",
      "[['feat4', 'feat12', 0.7087], ['feat4', 'feat13', 0.7089], ['feat4', 'feat14', 0.7089], ['feat4', 'feat15', 0.7087], ['feat4', 'feat20', 0.7086], ['feat4', 'feat31', 0.7086], ['feat8', 'feat4', 0.7089], ['feat8', 'feat12', 0.7087], ['feat8', 'feat13', 0.7087], ['feat8', 'feat14', 0.7087], ['feat8', 'feat15', 0.7087], ['feat8', 'feat20', 0.7087], ['feat8', 'feat31', 0.7085], ['feat8', 'feat56', 0.7085], ['feat8', 'feat63', 0.7086], ['feat8', 'feat66', 0.7084], ['feat8', 'feat69', 0.7086], ['feat8', 'feat70', 0.7087], ['feat8', 'feat71', 0.709], ['feat8', 'feat75', 0.7089], ['feat13', 'feat12', 0.7089], ['feat14', 'feat12', 0.7089], ['feat14', 'feat13', 0.7084], ['feat15', 'feat12', 0.7089], ['feat15', 'feat13', 0.7088], ['feat15', 'feat14', 0.7087], ['feat20', 'feat12', 0.7087], ['feat20', 'feat13', 0.7087], ['feat20', 'feat14', 0.7087], ['feat20', 'feat15', 0.7088], ['feat31', 'feat12', 0.7083], ['feat31', 'feat13', 0.7087], ['feat31', 'feat14', 0.7085], ['feat31', 'feat15', 0.7087], ['feat31', 'feat20', 0.7083], ['feat56', 'feat4', 0.7084], ['feat56', 'feat12', 0.7083], ['feat56', 'feat13', 0.7086], ['feat56', 'feat14', 0.7083], ['feat56', 'feat15', 0.7087]]\n",
      "[['feat4', 'feat12', 0.7087], ['feat4', 'feat13', 0.7089], ['feat4', 'feat14', 0.7089], ['feat4', 'feat15', 0.7087], ['feat4', 'feat20', 0.7086], ['feat4', 'feat31', 0.7086], ['feat8', 'feat4', 0.7089], ['feat8', 'feat12', 0.7087], ['feat8', 'feat13', 0.7087], ['feat8', 'feat14', 0.7087], ['feat8', 'feat15', 0.7087], ['feat8', 'feat20', 0.7087], ['feat8', 'feat31', 0.7085], ['feat8', 'feat56', 0.7085], ['feat8', 'feat63', 0.7086], ['feat8', 'feat66', 0.7084], ['feat8', 'feat69', 0.7086], ['feat8', 'feat70', 0.7087], ['feat8', 'feat71', 0.709], ['feat8', 'feat75', 0.7089], ['feat13', 'feat12', 0.7089], ['feat14', 'feat12', 0.7089], ['feat14', 'feat13', 0.7084], ['feat15', 'feat12', 0.7089], ['feat15', 'feat13', 0.7088], ['feat15', 'feat14', 0.7087], ['feat20', 'feat12', 0.7087], ['feat20', 'feat13', 0.7087], ['feat20', 'feat14', 0.7087], ['feat20', 'feat15', 0.7088], ['feat31', 'feat12', 0.7083], ['feat31', 'feat13', 0.7087], ['feat31', 'feat14', 0.7085], ['feat31', 'feat15', 0.7087], ['feat31', 'feat20', 0.7083], ['feat56', 'feat4', 0.7084], ['feat56', 'feat12', 0.7083], ['feat56', 'feat13', 0.7086], ['feat56', 'feat14', 0.7083], ['feat56', 'feat15', 0.7087], ['feat56', 'feat20', 0.7089]]\n"
     ]
    },
    {
     "name": "stderr",
     "output_type": "stream",
     "text": [
      "/Library/Frameworks/Python.framework/Versions/3.7/lib/python3.7/site-packages/sklearn/linear_model/logistic.py:432: FutureWarning: Default solver will be changed to 'lbfgs' in 0.22. Specify a solver to silence this warning.\n",
      "  FutureWarning)\n",
      "/Library/Frameworks/Python.framework/Versions/3.7/lib/python3.7/site-packages/sklearn/linear_model/logistic.py:432: FutureWarning: Default solver will be changed to 'lbfgs' in 0.22. Specify a solver to silence this warning.\n",
      "  FutureWarning)\n"
     ]
    },
    {
     "name": "stdout",
     "output_type": "stream",
     "text": [
      "[['feat4', 'feat12', 0.7087], ['feat4', 'feat13', 0.7089], ['feat4', 'feat14', 0.7089], ['feat4', 'feat15', 0.7087], ['feat4', 'feat20', 0.7086], ['feat4', 'feat31', 0.7086], ['feat8', 'feat4', 0.7089], ['feat8', 'feat12', 0.7087], ['feat8', 'feat13', 0.7087], ['feat8', 'feat14', 0.7087], ['feat8', 'feat15', 0.7087], ['feat8', 'feat20', 0.7087], ['feat8', 'feat31', 0.7085], ['feat8', 'feat56', 0.7085], ['feat8', 'feat63', 0.7086], ['feat8', 'feat66', 0.7084], ['feat8', 'feat69', 0.7086], ['feat8', 'feat70', 0.7087], ['feat8', 'feat71', 0.709], ['feat8', 'feat75', 0.7089], ['feat13', 'feat12', 0.7089], ['feat14', 'feat12', 0.7089], ['feat14', 'feat13', 0.7084], ['feat15', 'feat12', 0.7089], ['feat15', 'feat13', 0.7088], ['feat15', 'feat14', 0.7087], ['feat20', 'feat12', 0.7087], ['feat20', 'feat13', 0.7087], ['feat20', 'feat14', 0.7087], ['feat20', 'feat15', 0.7088], ['feat31', 'feat12', 0.7083], ['feat31', 'feat13', 0.7087], ['feat31', 'feat14', 0.7085], ['feat31', 'feat15', 0.7087], ['feat31', 'feat20', 0.7083], ['feat56', 'feat4', 0.7084], ['feat56', 'feat12', 0.7083], ['feat56', 'feat13', 0.7086], ['feat56', 'feat14', 0.7083], ['feat56', 'feat15', 0.7087], ['feat56', 'feat20', 0.7089], ['feat56', 'feat31', 0.7086]]\n",
      "[['feat4', 'feat12', 0.7087], ['feat4', 'feat13', 0.7089], ['feat4', 'feat14', 0.7089], ['feat4', 'feat15', 0.7087], ['feat4', 'feat20', 0.7086], ['feat4', 'feat31', 0.7086], ['feat8', 'feat4', 0.7089], ['feat8', 'feat12', 0.7087], ['feat8', 'feat13', 0.7087], ['feat8', 'feat14', 0.7087], ['feat8', 'feat15', 0.7087], ['feat8', 'feat20', 0.7087], ['feat8', 'feat31', 0.7085], ['feat8', 'feat56', 0.7085], ['feat8', 'feat63', 0.7086], ['feat8', 'feat66', 0.7084], ['feat8', 'feat69', 0.7086], ['feat8', 'feat70', 0.7087], ['feat8', 'feat71', 0.709], ['feat8', 'feat75', 0.7089], ['feat13', 'feat12', 0.7089], ['feat14', 'feat12', 0.7089], ['feat14', 'feat13', 0.7084], ['feat15', 'feat12', 0.7089], ['feat15', 'feat13', 0.7088], ['feat15', 'feat14', 0.7087], ['feat20', 'feat12', 0.7087], ['feat20', 'feat13', 0.7087], ['feat20', 'feat14', 0.7087], ['feat20', 'feat15', 0.7088], ['feat31', 'feat12', 0.7083], ['feat31', 'feat13', 0.7087], ['feat31', 'feat14', 0.7085], ['feat31', 'feat15', 0.7087], ['feat31', 'feat20', 0.7083], ['feat56', 'feat4', 0.7084], ['feat56', 'feat12', 0.7083], ['feat56', 'feat13', 0.7086], ['feat56', 'feat14', 0.7083], ['feat56', 'feat15', 0.7087], ['feat56', 'feat20', 0.7089], ['feat56', 'feat31', 0.7086], ['feat63', 'feat4', 0.7083]]\n"
     ]
    },
    {
     "name": "stderr",
     "output_type": "stream",
     "text": [
      "/Library/Frameworks/Python.framework/Versions/3.7/lib/python3.7/site-packages/sklearn/linear_model/logistic.py:432: FutureWarning: Default solver will be changed to 'lbfgs' in 0.22. Specify a solver to silence this warning.\n",
      "  FutureWarning)\n",
      "/Library/Frameworks/Python.framework/Versions/3.7/lib/python3.7/site-packages/sklearn/linear_model/logistic.py:432: FutureWarning: Default solver will be changed to 'lbfgs' in 0.22. Specify a solver to silence this warning.\n",
      "  FutureWarning)\n"
     ]
    },
    {
     "name": "stdout",
     "output_type": "stream",
     "text": [
      "[['feat4', 'feat12', 0.7087], ['feat4', 'feat13', 0.7089], ['feat4', 'feat14', 0.7089], ['feat4', 'feat15', 0.7087], ['feat4', 'feat20', 0.7086], ['feat4', 'feat31', 0.7086], ['feat8', 'feat4', 0.7089], ['feat8', 'feat12', 0.7087], ['feat8', 'feat13', 0.7087], ['feat8', 'feat14', 0.7087], ['feat8', 'feat15', 0.7087], ['feat8', 'feat20', 0.7087], ['feat8', 'feat31', 0.7085], ['feat8', 'feat56', 0.7085], ['feat8', 'feat63', 0.7086], ['feat8', 'feat66', 0.7084], ['feat8', 'feat69', 0.7086], ['feat8', 'feat70', 0.7087], ['feat8', 'feat71', 0.709], ['feat8', 'feat75', 0.7089], ['feat13', 'feat12', 0.7089], ['feat14', 'feat12', 0.7089], ['feat14', 'feat13', 0.7084], ['feat15', 'feat12', 0.7089], ['feat15', 'feat13', 0.7088], ['feat15', 'feat14', 0.7087], ['feat20', 'feat12', 0.7087], ['feat20', 'feat13', 0.7087], ['feat20', 'feat14', 0.7087], ['feat20', 'feat15', 0.7088], ['feat31', 'feat12', 0.7083], ['feat31', 'feat13', 0.7087], ['feat31', 'feat14', 0.7085], ['feat31', 'feat15', 0.7087], ['feat31', 'feat20', 0.7083], ['feat56', 'feat4', 0.7084], ['feat56', 'feat12', 0.7083], ['feat56', 'feat13', 0.7086], ['feat56', 'feat14', 0.7083], ['feat56', 'feat15', 0.7087], ['feat56', 'feat20', 0.7089], ['feat56', 'feat31', 0.7086], ['feat63', 'feat4', 0.7083], ['feat63', 'feat12', 0.7079]]\n",
      "[['feat4', 'feat12', 0.7087], ['feat4', 'feat13', 0.7089], ['feat4', 'feat14', 0.7089], ['feat4', 'feat15', 0.7087], ['feat4', 'feat20', 0.7086], ['feat4', 'feat31', 0.7086], ['feat8', 'feat4', 0.7089], ['feat8', 'feat12', 0.7087], ['feat8', 'feat13', 0.7087], ['feat8', 'feat14', 0.7087], ['feat8', 'feat15', 0.7087], ['feat8', 'feat20', 0.7087], ['feat8', 'feat31', 0.7085], ['feat8', 'feat56', 0.7085], ['feat8', 'feat63', 0.7086], ['feat8', 'feat66', 0.7084], ['feat8', 'feat69', 0.7086], ['feat8', 'feat70', 0.7087], ['feat8', 'feat71', 0.709], ['feat8', 'feat75', 0.7089], ['feat13', 'feat12', 0.7089], ['feat14', 'feat12', 0.7089], ['feat14', 'feat13', 0.7084], ['feat15', 'feat12', 0.7089], ['feat15', 'feat13', 0.7088], ['feat15', 'feat14', 0.7087], ['feat20', 'feat12', 0.7087], ['feat20', 'feat13', 0.7087], ['feat20', 'feat14', 0.7087], ['feat20', 'feat15', 0.7088], ['feat31', 'feat12', 0.7083], ['feat31', 'feat13', 0.7087], ['feat31', 'feat14', 0.7085], ['feat31', 'feat15', 0.7087], ['feat31', 'feat20', 0.7083], ['feat56', 'feat4', 0.7084], ['feat56', 'feat12', 0.7083], ['feat56', 'feat13', 0.7086], ['feat56', 'feat14', 0.7083], ['feat56', 'feat15', 0.7087], ['feat56', 'feat20', 0.7089], ['feat56', 'feat31', 0.7086], ['feat63', 'feat4', 0.7083], ['feat63', 'feat12', 0.7079], ['feat63', 'feat13', 0.7087]]\n"
     ]
    },
    {
     "name": "stderr",
     "output_type": "stream",
     "text": [
      "/Library/Frameworks/Python.framework/Versions/3.7/lib/python3.7/site-packages/sklearn/linear_model/logistic.py:432: FutureWarning: Default solver will be changed to 'lbfgs' in 0.22. Specify a solver to silence this warning.\n",
      "  FutureWarning)\n",
      "/Library/Frameworks/Python.framework/Versions/3.7/lib/python3.7/site-packages/sklearn/linear_model/logistic.py:432: FutureWarning: Default solver will be changed to 'lbfgs' in 0.22. Specify a solver to silence this warning.\n",
      "  FutureWarning)\n"
     ]
    },
    {
     "name": "stdout",
     "output_type": "stream",
     "text": [
      "[['feat4', 'feat12', 0.7087], ['feat4', 'feat13', 0.7089], ['feat4', 'feat14', 0.7089], ['feat4', 'feat15', 0.7087], ['feat4', 'feat20', 0.7086], ['feat4', 'feat31', 0.7086], ['feat8', 'feat4', 0.7089], ['feat8', 'feat12', 0.7087], ['feat8', 'feat13', 0.7087], ['feat8', 'feat14', 0.7087], ['feat8', 'feat15', 0.7087], ['feat8', 'feat20', 0.7087], ['feat8', 'feat31', 0.7085], ['feat8', 'feat56', 0.7085], ['feat8', 'feat63', 0.7086], ['feat8', 'feat66', 0.7084], ['feat8', 'feat69', 0.7086], ['feat8', 'feat70', 0.7087], ['feat8', 'feat71', 0.709], ['feat8', 'feat75', 0.7089], ['feat13', 'feat12', 0.7089], ['feat14', 'feat12', 0.7089], ['feat14', 'feat13', 0.7084], ['feat15', 'feat12', 0.7089], ['feat15', 'feat13', 0.7088], ['feat15', 'feat14', 0.7087], ['feat20', 'feat12', 0.7087], ['feat20', 'feat13', 0.7087], ['feat20', 'feat14', 0.7087], ['feat20', 'feat15', 0.7088], ['feat31', 'feat12', 0.7083], ['feat31', 'feat13', 0.7087], ['feat31', 'feat14', 0.7085], ['feat31', 'feat15', 0.7087], ['feat31', 'feat20', 0.7083], ['feat56', 'feat4', 0.7084], ['feat56', 'feat12', 0.7083], ['feat56', 'feat13', 0.7086], ['feat56', 'feat14', 0.7083], ['feat56', 'feat15', 0.7087], ['feat56', 'feat20', 0.7089], ['feat56', 'feat31', 0.7086], ['feat63', 'feat4', 0.7083], ['feat63', 'feat12', 0.7079], ['feat63', 'feat13', 0.7087], ['feat63', 'feat14', 0.7087]]\n",
      "[['feat4', 'feat12', 0.7087], ['feat4', 'feat13', 0.7089], ['feat4', 'feat14', 0.7089], ['feat4', 'feat15', 0.7087], ['feat4', 'feat20', 0.7086], ['feat4', 'feat31', 0.7086], ['feat8', 'feat4', 0.7089], ['feat8', 'feat12', 0.7087], ['feat8', 'feat13', 0.7087], ['feat8', 'feat14', 0.7087], ['feat8', 'feat15', 0.7087], ['feat8', 'feat20', 0.7087], ['feat8', 'feat31', 0.7085], ['feat8', 'feat56', 0.7085], ['feat8', 'feat63', 0.7086], ['feat8', 'feat66', 0.7084], ['feat8', 'feat69', 0.7086], ['feat8', 'feat70', 0.7087], ['feat8', 'feat71', 0.709], ['feat8', 'feat75', 0.7089], ['feat13', 'feat12', 0.7089], ['feat14', 'feat12', 0.7089], ['feat14', 'feat13', 0.7084], ['feat15', 'feat12', 0.7089], ['feat15', 'feat13', 0.7088], ['feat15', 'feat14', 0.7087], ['feat20', 'feat12', 0.7087], ['feat20', 'feat13', 0.7087], ['feat20', 'feat14', 0.7087], ['feat20', 'feat15', 0.7088], ['feat31', 'feat12', 0.7083], ['feat31', 'feat13', 0.7087], ['feat31', 'feat14', 0.7085], ['feat31', 'feat15', 0.7087], ['feat31', 'feat20', 0.7083], ['feat56', 'feat4', 0.7084], ['feat56', 'feat12', 0.7083], ['feat56', 'feat13', 0.7086], ['feat56', 'feat14', 0.7083], ['feat56', 'feat15', 0.7087], ['feat56', 'feat20', 0.7089], ['feat56', 'feat31', 0.7086], ['feat63', 'feat4', 0.7083], ['feat63', 'feat12', 0.7079], ['feat63', 'feat13', 0.7087], ['feat63', 'feat14', 0.7087], ['feat63', 'feat15', 0.7087]]\n"
     ]
    },
    {
     "name": "stderr",
     "output_type": "stream",
     "text": [
      "/Library/Frameworks/Python.framework/Versions/3.7/lib/python3.7/site-packages/sklearn/linear_model/logistic.py:432: FutureWarning: Default solver will be changed to 'lbfgs' in 0.22. Specify a solver to silence this warning.\n",
      "  FutureWarning)\n",
      "/Library/Frameworks/Python.framework/Versions/3.7/lib/python3.7/site-packages/sklearn/linear_model/logistic.py:432: FutureWarning: Default solver will be changed to 'lbfgs' in 0.22. Specify a solver to silence this warning.\n",
      "  FutureWarning)\n"
     ]
    },
    {
     "name": "stdout",
     "output_type": "stream",
     "text": [
      "[['feat4', 'feat12', 0.7087], ['feat4', 'feat13', 0.7089], ['feat4', 'feat14', 0.7089], ['feat4', 'feat15', 0.7087], ['feat4', 'feat20', 0.7086], ['feat4', 'feat31', 0.7086], ['feat8', 'feat4', 0.7089], ['feat8', 'feat12', 0.7087], ['feat8', 'feat13', 0.7087], ['feat8', 'feat14', 0.7087], ['feat8', 'feat15', 0.7087], ['feat8', 'feat20', 0.7087], ['feat8', 'feat31', 0.7085], ['feat8', 'feat56', 0.7085], ['feat8', 'feat63', 0.7086], ['feat8', 'feat66', 0.7084], ['feat8', 'feat69', 0.7086], ['feat8', 'feat70', 0.7087], ['feat8', 'feat71', 0.709], ['feat8', 'feat75', 0.7089], ['feat13', 'feat12', 0.7089], ['feat14', 'feat12', 0.7089], ['feat14', 'feat13', 0.7084], ['feat15', 'feat12', 0.7089], ['feat15', 'feat13', 0.7088], ['feat15', 'feat14', 0.7087], ['feat20', 'feat12', 0.7087], ['feat20', 'feat13', 0.7087], ['feat20', 'feat14', 0.7087], ['feat20', 'feat15', 0.7088], ['feat31', 'feat12', 0.7083], ['feat31', 'feat13', 0.7087], ['feat31', 'feat14', 0.7085], ['feat31', 'feat15', 0.7087], ['feat31', 'feat20', 0.7083], ['feat56', 'feat4', 0.7084], ['feat56', 'feat12', 0.7083], ['feat56', 'feat13', 0.7086], ['feat56', 'feat14', 0.7083], ['feat56', 'feat15', 0.7087], ['feat56', 'feat20', 0.7089], ['feat56', 'feat31', 0.7086], ['feat63', 'feat4', 0.7083], ['feat63', 'feat12', 0.7079], ['feat63', 'feat13', 0.7087], ['feat63', 'feat14', 0.7087], ['feat63', 'feat15', 0.7087], ['feat63', 'feat20', 0.7088]]\n",
      "[['feat4', 'feat12', 0.7087], ['feat4', 'feat13', 0.7089], ['feat4', 'feat14', 0.7089], ['feat4', 'feat15', 0.7087], ['feat4', 'feat20', 0.7086], ['feat4', 'feat31', 0.7086], ['feat8', 'feat4', 0.7089], ['feat8', 'feat12', 0.7087], ['feat8', 'feat13', 0.7087], ['feat8', 'feat14', 0.7087], ['feat8', 'feat15', 0.7087], ['feat8', 'feat20', 0.7087], ['feat8', 'feat31', 0.7085], ['feat8', 'feat56', 0.7085], ['feat8', 'feat63', 0.7086], ['feat8', 'feat66', 0.7084], ['feat8', 'feat69', 0.7086], ['feat8', 'feat70', 0.7087], ['feat8', 'feat71', 0.709], ['feat8', 'feat75', 0.7089], ['feat13', 'feat12', 0.7089], ['feat14', 'feat12', 0.7089], ['feat14', 'feat13', 0.7084], ['feat15', 'feat12', 0.7089], ['feat15', 'feat13', 0.7088], ['feat15', 'feat14', 0.7087], ['feat20', 'feat12', 0.7087], ['feat20', 'feat13', 0.7087], ['feat20', 'feat14', 0.7087], ['feat20', 'feat15', 0.7088], ['feat31', 'feat12', 0.7083], ['feat31', 'feat13', 0.7087], ['feat31', 'feat14', 0.7085], ['feat31', 'feat15', 0.7087], ['feat31', 'feat20', 0.7083], ['feat56', 'feat4', 0.7084], ['feat56', 'feat12', 0.7083], ['feat56', 'feat13', 0.7086], ['feat56', 'feat14', 0.7083], ['feat56', 'feat15', 0.7087], ['feat56', 'feat20', 0.7089], ['feat56', 'feat31', 0.7086], ['feat63', 'feat4', 0.7083], ['feat63', 'feat12', 0.7079], ['feat63', 'feat13', 0.7087], ['feat63', 'feat14', 0.7087], ['feat63', 'feat15', 0.7087], ['feat63', 'feat20', 0.7088], ['feat63', 'feat31', 0.7087]]\n"
     ]
    },
    {
     "name": "stderr",
     "output_type": "stream",
     "text": [
      "/Library/Frameworks/Python.framework/Versions/3.7/lib/python3.7/site-packages/sklearn/linear_model/logistic.py:432: FutureWarning: Default solver will be changed to 'lbfgs' in 0.22. Specify a solver to silence this warning.\n",
      "  FutureWarning)\n",
      "/Library/Frameworks/Python.framework/Versions/3.7/lib/python3.7/site-packages/sklearn/linear_model/logistic.py:432: FutureWarning: Default solver will be changed to 'lbfgs' in 0.22. Specify a solver to silence this warning.\n",
      "  FutureWarning)\n"
     ]
    },
    {
     "name": "stdout",
     "output_type": "stream",
     "text": [
      "[['feat4', 'feat12', 0.7087], ['feat4', 'feat13', 0.7089], ['feat4', 'feat14', 0.7089], ['feat4', 'feat15', 0.7087], ['feat4', 'feat20', 0.7086], ['feat4', 'feat31', 0.7086], ['feat8', 'feat4', 0.7089], ['feat8', 'feat12', 0.7087], ['feat8', 'feat13', 0.7087], ['feat8', 'feat14', 0.7087], ['feat8', 'feat15', 0.7087], ['feat8', 'feat20', 0.7087], ['feat8', 'feat31', 0.7085], ['feat8', 'feat56', 0.7085], ['feat8', 'feat63', 0.7086], ['feat8', 'feat66', 0.7084], ['feat8', 'feat69', 0.7086], ['feat8', 'feat70', 0.7087], ['feat8', 'feat71', 0.709], ['feat8', 'feat75', 0.7089], ['feat13', 'feat12', 0.7089], ['feat14', 'feat12', 0.7089], ['feat14', 'feat13', 0.7084], ['feat15', 'feat12', 0.7089], ['feat15', 'feat13', 0.7088], ['feat15', 'feat14', 0.7087], ['feat20', 'feat12', 0.7087], ['feat20', 'feat13', 0.7087], ['feat20', 'feat14', 0.7087], ['feat20', 'feat15', 0.7088], ['feat31', 'feat12', 0.7083], ['feat31', 'feat13', 0.7087], ['feat31', 'feat14', 0.7085], ['feat31', 'feat15', 0.7087], ['feat31', 'feat20', 0.7083], ['feat56', 'feat4', 0.7084], ['feat56', 'feat12', 0.7083], ['feat56', 'feat13', 0.7086], ['feat56', 'feat14', 0.7083], ['feat56', 'feat15', 0.7087], ['feat56', 'feat20', 0.7089], ['feat56', 'feat31', 0.7086], ['feat63', 'feat4', 0.7083], ['feat63', 'feat12', 0.7079], ['feat63', 'feat13', 0.7087], ['feat63', 'feat14', 0.7087], ['feat63', 'feat15', 0.7087], ['feat63', 'feat20', 0.7088], ['feat63', 'feat31', 0.7087], ['feat63', 'feat56', 0.7093]]\n",
      "[['feat4', 'feat12', 0.7087], ['feat4', 'feat13', 0.7089], ['feat4', 'feat14', 0.7089], ['feat4', 'feat15', 0.7087], ['feat4', 'feat20', 0.7086], ['feat4', 'feat31', 0.7086], ['feat8', 'feat4', 0.7089], ['feat8', 'feat12', 0.7087], ['feat8', 'feat13', 0.7087], ['feat8', 'feat14', 0.7087], ['feat8', 'feat15', 0.7087], ['feat8', 'feat20', 0.7087], ['feat8', 'feat31', 0.7085], ['feat8', 'feat56', 0.7085], ['feat8', 'feat63', 0.7086], ['feat8', 'feat66', 0.7084], ['feat8', 'feat69', 0.7086], ['feat8', 'feat70', 0.7087], ['feat8', 'feat71', 0.709], ['feat8', 'feat75', 0.7089], ['feat13', 'feat12', 0.7089], ['feat14', 'feat12', 0.7089], ['feat14', 'feat13', 0.7084], ['feat15', 'feat12', 0.7089], ['feat15', 'feat13', 0.7088], ['feat15', 'feat14', 0.7087], ['feat20', 'feat12', 0.7087], ['feat20', 'feat13', 0.7087], ['feat20', 'feat14', 0.7087], ['feat20', 'feat15', 0.7088], ['feat31', 'feat12', 0.7083], ['feat31', 'feat13', 0.7087], ['feat31', 'feat14', 0.7085], ['feat31', 'feat15', 0.7087], ['feat31', 'feat20', 0.7083], ['feat56', 'feat4', 0.7084], ['feat56', 'feat12', 0.7083], ['feat56', 'feat13', 0.7086], ['feat56', 'feat14', 0.7083], ['feat56', 'feat15', 0.7087], ['feat56', 'feat20', 0.7089], ['feat56', 'feat31', 0.7086], ['feat63', 'feat4', 0.7083], ['feat63', 'feat12', 0.7079], ['feat63', 'feat13', 0.7087], ['feat63', 'feat14', 0.7087], ['feat63', 'feat15', 0.7087], ['feat63', 'feat20', 0.7088], ['feat63', 'feat31', 0.7087], ['feat63', 'feat56', 0.7093], ['feat66', 'feat4', 0.7089]]\n"
     ]
    },
    {
     "name": "stderr",
     "output_type": "stream",
     "text": [
      "/Library/Frameworks/Python.framework/Versions/3.7/lib/python3.7/site-packages/sklearn/linear_model/logistic.py:432: FutureWarning: Default solver will be changed to 'lbfgs' in 0.22. Specify a solver to silence this warning.\n",
      "  FutureWarning)\n",
      "/Library/Frameworks/Python.framework/Versions/3.7/lib/python3.7/site-packages/sklearn/linear_model/logistic.py:432: FutureWarning: Default solver will be changed to 'lbfgs' in 0.22. Specify a solver to silence this warning.\n",
      "  FutureWarning)\n",
      "/Library/Frameworks/Python.framework/Versions/3.7/lib/python3.7/site-packages/sklearn/linear_model/logistic.py:432: FutureWarning: Default solver will be changed to 'lbfgs' in 0.22. Specify a solver to silence this warning.\n",
      "  FutureWarning)\n"
     ]
    },
    {
     "name": "stdout",
     "output_type": "stream",
     "text": [
      "[['feat4', 'feat12', 0.7087], ['feat4', 'feat13', 0.7089], ['feat4', 'feat14', 0.7089], ['feat4', 'feat15', 0.7087], ['feat4', 'feat20', 0.7086], ['feat4', 'feat31', 0.7086], ['feat8', 'feat4', 0.7089], ['feat8', 'feat12', 0.7087], ['feat8', 'feat13', 0.7087], ['feat8', 'feat14', 0.7087], ['feat8', 'feat15', 0.7087], ['feat8', 'feat20', 0.7087], ['feat8', 'feat31', 0.7085], ['feat8', 'feat56', 0.7085], ['feat8', 'feat63', 0.7086], ['feat8', 'feat66', 0.7084], ['feat8', 'feat69', 0.7086], ['feat8', 'feat70', 0.7087], ['feat8', 'feat71', 0.709], ['feat8', 'feat75', 0.7089], ['feat13', 'feat12', 0.7089], ['feat14', 'feat12', 0.7089], ['feat14', 'feat13', 0.7084], ['feat15', 'feat12', 0.7089], ['feat15', 'feat13', 0.7088], ['feat15', 'feat14', 0.7087], ['feat20', 'feat12', 0.7087], ['feat20', 'feat13', 0.7087], ['feat20', 'feat14', 0.7087], ['feat20', 'feat15', 0.7088], ['feat31', 'feat12', 0.7083], ['feat31', 'feat13', 0.7087], ['feat31', 'feat14', 0.7085], ['feat31', 'feat15', 0.7087], ['feat31', 'feat20', 0.7083], ['feat56', 'feat4', 0.7084], ['feat56', 'feat12', 0.7083], ['feat56', 'feat13', 0.7086], ['feat56', 'feat14', 0.7083], ['feat56', 'feat15', 0.7087], ['feat56', 'feat20', 0.7089], ['feat56', 'feat31', 0.7086], ['feat63', 'feat4', 0.7083], ['feat63', 'feat12', 0.7079], ['feat63', 'feat13', 0.7087], ['feat63', 'feat14', 0.7087], ['feat63', 'feat15', 0.7087], ['feat63', 'feat20', 0.7088], ['feat63', 'feat31', 0.7087], ['feat63', 'feat56', 0.7093], ['feat66', 'feat4', 0.7089], ['feat66', 'feat12', 0.7089]]\n",
      "[['feat4', 'feat12', 0.7087], ['feat4', 'feat13', 0.7089], ['feat4', 'feat14', 0.7089], ['feat4', 'feat15', 0.7087], ['feat4', 'feat20', 0.7086], ['feat4', 'feat31', 0.7086], ['feat8', 'feat4', 0.7089], ['feat8', 'feat12', 0.7087], ['feat8', 'feat13', 0.7087], ['feat8', 'feat14', 0.7087], ['feat8', 'feat15', 0.7087], ['feat8', 'feat20', 0.7087], ['feat8', 'feat31', 0.7085], ['feat8', 'feat56', 0.7085], ['feat8', 'feat63', 0.7086], ['feat8', 'feat66', 0.7084], ['feat8', 'feat69', 0.7086], ['feat8', 'feat70', 0.7087], ['feat8', 'feat71', 0.709], ['feat8', 'feat75', 0.7089], ['feat13', 'feat12', 0.7089], ['feat14', 'feat12', 0.7089], ['feat14', 'feat13', 0.7084], ['feat15', 'feat12', 0.7089], ['feat15', 'feat13', 0.7088], ['feat15', 'feat14', 0.7087], ['feat20', 'feat12', 0.7087], ['feat20', 'feat13', 0.7087], ['feat20', 'feat14', 0.7087], ['feat20', 'feat15', 0.7088], ['feat31', 'feat12', 0.7083], ['feat31', 'feat13', 0.7087], ['feat31', 'feat14', 0.7085], ['feat31', 'feat15', 0.7087], ['feat31', 'feat20', 0.7083], ['feat56', 'feat4', 0.7084], ['feat56', 'feat12', 0.7083], ['feat56', 'feat13', 0.7086], ['feat56', 'feat14', 0.7083], ['feat56', 'feat15', 0.7087], ['feat56', 'feat20', 0.7089], ['feat56', 'feat31', 0.7086], ['feat63', 'feat4', 0.7083], ['feat63', 'feat12', 0.7079], ['feat63', 'feat13', 0.7087], ['feat63', 'feat14', 0.7087], ['feat63', 'feat15', 0.7087], ['feat63', 'feat20', 0.7088], ['feat63', 'feat31', 0.7087], ['feat63', 'feat56', 0.7093], ['feat66', 'feat4', 0.7089], ['feat66', 'feat12', 0.7089], ['feat66', 'feat13', 0.7095]]\n",
      "[['feat4', 'feat12', 0.7087], ['feat4', 'feat13', 0.7089], ['feat4', 'feat14', 0.7089], ['feat4', 'feat15', 0.7087], ['feat4', 'feat20', 0.7086], ['feat4', 'feat31', 0.7086], ['feat8', 'feat4', 0.7089], ['feat8', 'feat12', 0.7087], ['feat8', 'feat13', 0.7087], ['feat8', 'feat14', 0.7087], ['feat8', 'feat15', 0.7087], ['feat8', 'feat20', 0.7087], ['feat8', 'feat31', 0.7085], ['feat8', 'feat56', 0.7085], ['feat8', 'feat63', 0.7086], ['feat8', 'feat66', 0.7084], ['feat8', 'feat69', 0.7086], ['feat8', 'feat70', 0.7087], ['feat8', 'feat71', 0.709], ['feat8', 'feat75', 0.7089], ['feat13', 'feat12', 0.7089], ['feat14', 'feat12', 0.7089], ['feat14', 'feat13', 0.7084], ['feat15', 'feat12', 0.7089], ['feat15', 'feat13', 0.7088], ['feat15', 'feat14', 0.7087], ['feat20', 'feat12', 0.7087], ['feat20', 'feat13', 0.7087], ['feat20', 'feat14', 0.7087], ['feat20', 'feat15', 0.7088], ['feat31', 'feat12', 0.7083], ['feat31', 'feat13', 0.7087], ['feat31', 'feat14', 0.7085], ['feat31', 'feat15', 0.7087], ['feat31', 'feat20', 0.7083], ['feat56', 'feat4', 0.7084], ['feat56', 'feat12', 0.7083], ['feat56', 'feat13', 0.7086], ['feat56', 'feat14', 0.7083], ['feat56', 'feat15', 0.7087], ['feat56', 'feat20', 0.7089], ['feat56', 'feat31', 0.7086], ['feat63', 'feat4', 0.7083], ['feat63', 'feat12', 0.7079], ['feat63', 'feat13', 0.7087], ['feat63', 'feat14', 0.7087], ['feat63', 'feat15', 0.7087], ['feat63', 'feat20', 0.7088], ['feat63', 'feat31', 0.7087], ['feat63', 'feat56', 0.7093], ['feat66', 'feat4', 0.7089], ['feat66', 'feat12', 0.7089], ['feat66', 'feat13', 0.7095], ['feat66', 'feat14', 0.7089]]\n"
     ]
    },
    {
     "name": "stderr",
     "output_type": "stream",
     "text": [
      "/Library/Frameworks/Python.framework/Versions/3.7/lib/python3.7/site-packages/sklearn/linear_model/logistic.py:432: FutureWarning: Default solver will be changed to 'lbfgs' in 0.22. Specify a solver to silence this warning.\n",
      "  FutureWarning)\n",
      "/Library/Frameworks/Python.framework/Versions/3.7/lib/python3.7/site-packages/sklearn/linear_model/logistic.py:432: FutureWarning: Default solver will be changed to 'lbfgs' in 0.22. Specify a solver to silence this warning.\n",
      "  FutureWarning)\n"
     ]
    },
    {
     "name": "stdout",
     "output_type": "stream",
     "text": [
      "[['feat4', 'feat12', 0.7087], ['feat4', 'feat13', 0.7089], ['feat4', 'feat14', 0.7089], ['feat4', 'feat15', 0.7087], ['feat4', 'feat20', 0.7086], ['feat4', 'feat31', 0.7086], ['feat8', 'feat4', 0.7089], ['feat8', 'feat12', 0.7087], ['feat8', 'feat13', 0.7087], ['feat8', 'feat14', 0.7087], ['feat8', 'feat15', 0.7087], ['feat8', 'feat20', 0.7087], ['feat8', 'feat31', 0.7085], ['feat8', 'feat56', 0.7085], ['feat8', 'feat63', 0.7086], ['feat8', 'feat66', 0.7084], ['feat8', 'feat69', 0.7086], ['feat8', 'feat70', 0.7087], ['feat8', 'feat71', 0.709], ['feat8', 'feat75', 0.7089], ['feat13', 'feat12', 0.7089], ['feat14', 'feat12', 0.7089], ['feat14', 'feat13', 0.7084], ['feat15', 'feat12', 0.7089], ['feat15', 'feat13', 0.7088], ['feat15', 'feat14', 0.7087], ['feat20', 'feat12', 0.7087], ['feat20', 'feat13', 0.7087], ['feat20', 'feat14', 0.7087], ['feat20', 'feat15', 0.7088], ['feat31', 'feat12', 0.7083], ['feat31', 'feat13', 0.7087], ['feat31', 'feat14', 0.7085], ['feat31', 'feat15', 0.7087], ['feat31', 'feat20', 0.7083], ['feat56', 'feat4', 0.7084], ['feat56', 'feat12', 0.7083], ['feat56', 'feat13', 0.7086], ['feat56', 'feat14', 0.7083], ['feat56', 'feat15', 0.7087], ['feat56', 'feat20', 0.7089], ['feat56', 'feat31', 0.7086], ['feat63', 'feat4', 0.7083], ['feat63', 'feat12', 0.7079], ['feat63', 'feat13', 0.7087], ['feat63', 'feat14', 0.7087], ['feat63', 'feat15', 0.7087], ['feat63', 'feat20', 0.7088], ['feat63', 'feat31', 0.7087], ['feat63', 'feat56', 0.7093], ['feat66', 'feat4', 0.7089], ['feat66', 'feat12', 0.7089], ['feat66', 'feat13', 0.7095], ['feat66', 'feat14', 0.7089], ['feat66', 'feat15', 0.7087]]\n",
      "[['feat4', 'feat12', 0.7087], ['feat4', 'feat13', 0.7089], ['feat4', 'feat14', 0.7089], ['feat4', 'feat15', 0.7087], ['feat4', 'feat20', 0.7086], ['feat4', 'feat31', 0.7086], ['feat8', 'feat4', 0.7089], ['feat8', 'feat12', 0.7087], ['feat8', 'feat13', 0.7087], ['feat8', 'feat14', 0.7087], ['feat8', 'feat15', 0.7087], ['feat8', 'feat20', 0.7087], ['feat8', 'feat31', 0.7085], ['feat8', 'feat56', 0.7085], ['feat8', 'feat63', 0.7086], ['feat8', 'feat66', 0.7084], ['feat8', 'feat69', 0.7086], ['feat8', 'feat70', 0.7087], ['feat8', 'feat71', 0.709], ['feat8', 'feat75', 0.7089], ['feat13', 'feat12', 0.7089], ['feat14', 'feat12', 0.7089], ['feat14', 'feat13', 0.7084], ['feat15', 'feat12', 0.7089], ['feat15', 'feat13', 0.7088], ['feat15', 'feat14', 0.7087], ['feat20', 'feat12', 0.7087], ['feat20', 'feat13', 0.7087], ['feat20', 'feat14', 0.7087], ['feat20', 'feat15', 0.7088], ['feat31', 'feat12', 0.7083], ['feat31', 'feat13', 0.7087], ['feat31', 'feat14', 0.7085], ['feat31', 'feat15', 0.7087], ['feat31', 'feat20', 0.7083], ['feat56', 'feat4', 0.7084], ['feat56', 'feat12', 0.7083], ['feat56', 'feat13', 0.7086], ['feat56', 'feat14', 0.7083], ['feat56', 'feat15', 0.7087], ['feat56', 'feat20', 0.7089], ['feat56', 'feat31', 0.7086], ['feat63', 'feat4', 0.7083], ['feat63', 'feat12', 0.7079], ['feat63', 'feat13', 0.7087], ['feat63', 'feat14', 0.7087], ['feat63', 'feat15', 0.7087], ['feat63', 'feat20', 0.7088], ['feat63', 'feat31', 0.7087], ['feat63', 'feat56', 0.7093], ['feat66', 'feat4', 0.7089], ['feat66', 'feat12', 0.7089], ['feat66', 'feat13', 0.7095], ['feat66', 'feat14', 0.7089], ['feat66', 'feat15', 0.7087], ['feat66', 'feat20', 0.7087]]\n"
     ]
    },
    {
     "name": "stderr",
     "output_type": "stream",
     "text": [
      "/Library/Frameworks/Python.framework/Versions/3.7/lib/python3.7/site-packages/sklearn/linear_model/logistic.py:432: FutureWarning: Default solver will be changed to 'lbfgs' in 0.22. Specify a solver to silence this warning.\n",
      "  FutureWarning)\n",
      "/Library/Frameworks/Python.framework/Versions/3.7/lib/python3.7/site-packages/sklearn/linear_model/logistic.py:432: FutureWarning: Default solver will be changed to 'lbfgs' in 0.22. Specify a solver to silence this warning.\n",
      "  FutureWarning)\n"
     ]
    },
    {
     "name": "stdout",
     "output_type": "stream",
     "text": [
      "[['feat4', 'feat12', 0.7087], ['feat4', 'feat13', 0.7089], ['feat4', 'feat14', 0.7089], ['feat4', 'feat15', 0.7087], ['feat4', 'feat20', 0.7086], ['feat4', 'feat31', 0.7086], ['feat8', 'feat4', 0.7089], ['feat8', 'feat12', 0.7087], ['feat8', 'feat13', 0.7087], ['feat8', 'feat14', 0.7087], ['feat8', 'feat15', 0.7087], ['feat8', 'feat20', 0.7087], ['feat8', 'feat31', 0.7085], ['feat8', 'feat56', 0.7085], ['feat8', 'feat63', 0.7086], ['feat8', 'feat66', 0.7084], ['feat8', 'feat69', 0.7086], ['feat8', 'feat70', 0.7087], ['feat8', 'feat71', 0.709], ['feat8', 'feat75', 0.7089], ['feat13', 'feat12', 0.7089], ['feat14', 'feat12', 0.7089], ['feat14', 'feat13', 0.7084], ['feat15', 'feat12', 0.7089], ['feat15', 'feat13', 0.7088], ['feat15', 'feat14', 0.7087], ['feat20', 'feat12', 0.7087], ['feat20', 'feat13', 0.7087], ['feat20', 'feat14', 0.7087], ['feat20', 'feat15', 0.7088], ['feat31', 'feat12', 0.7083], ['feat31', 'feat13', 0.7087], ['feat31', 'feat14', 0.7085], ['feat31', 'feat15', 0.7087], ['feat31', 'feat20', 0.7083], ['feat56', 'feat4', 0.7084], ['feat56', 'feat12', 0.7083], ['feat56', 'feat13', 0.7086], ['feat56', 'feat14', 0.7083], ['feat56', 'feat15', 0.7087], ['feat56', 'feat20', 0.7089], ['feat56', 'feat31', 0.7086], ['feat63', 'feat4', 0.7083], ['feat63', 'feat12', 0.7079], ['feat63', 'feat13', 0.7087], ['feat63', 'feat14', 0.7087], ['feat63', 'feat15', 0.7087], ['feat63', 'feat20', 0.7088], ['feat63', 'feat31', 0.7087], ['feat63', 'feat56', 0.7093], ['feat66', 'feat4', 0.7089], ['feat66', 'feat12', 0.7089], ['feat66', 'feat13', 0.7095], ['feat66', 'feat14', 0.7089], ['feat66', 'feat15', 0.7087], ['feat66', 'feat20', 0.7087], ['feat66', 'feat31', 0.709]]\n",
      "[['feat4', 'feat12', 0.7087], ['feat4', 'feat13', 0.7089], ['feat4', 'feat14', 0.7089], ['feat4', 'feat15', 0.7087], ['feat4', 'feat20', 0.7086], ['feat4', 'feat31', 0.7086], ['feat8', 'feat4', 0.7089], ['feat8', 'feat12', 0.7087], ['feat8', 'feat13', 0.7087], ['feat8', 'feat14', 0.7087], ['feat8', 'feat15', 0.7087], ['feat8', 'feat20', 0.7087], ['feat8', 'feat31', 0.7085], ['feat8', 'feat56', 0.7085], ['feat8', 'feat63', 0.7086], ['feat8', 'feat66', 0.7084], ['feat8', 'feat69', 0.7086], ['feat8', 'feat70', 0.7087], ['feat8', 'feat71', 0.709], ['feat8', 'feat75', 0.7089], ['feat13', 'feat12', 0.7089], ['feat14', 'feat12', 0.7089], ['feat14', 'feat13', 0.7084], ['feat15', 'feat12', 0.7089], ['feat15', 'feat13', 0.7088], ['feat15', 'feat14', 0.7087], ['feat20', 'feat12', 0.7087], ['feat20', 'feat13', 0.7087], ['feat20', 'feat14', 0.7087], ['feat20', 'feat15', 0.7088], ['feat31', 'feat12', 0.7083], ['feat31', 'feat13', 0.7087], ['feat31', 'feat14', 0.7085], ['feat31', 'feat15', 0.7087], ['feat31', 'feat20', 0.7083], ['feat56', 'feat4', 0.7084], ['feat56', 'feat12', 0.7083], ['feat56', 'feat13', 0.7086], ['feat56', 'feat14', 0.7083], ['feat56', 'feat15', 0.7087], ['feat56', 'feat20', 0.7089], ['feat56', 'feat31', 0.7086], ['feat63', 'feat4', 0.7083], ['feat63', 'feat12', 0.7079], ['feat63', 'feat13', 0.7087], ['feat63', 'feat14', 0.7087], ['feat63', 'feat15', 0.7087], ['feat63', 'feat20', 0.7088], ['feat63', 'feat31', 0.7087], ['feat63', 'feat56', 0.7093], ['feat66', 'feat4', 0.7089], ['feat66', 'feat12', 0.7089], ['feat66', 'feat13', 0.7095], ['feat66', 'feat14', 0.7089], ['feat66', 'feat15', 0.7087], ['feat66', 'feat20', 0.7087], ['feat66', 'feat31', 0.709], ['feat66', 'feat56', 0.7085]]\n"
     ]
    },
    {
     "name": "stderr",
     "output_type": "stream",
     "text": [
      "/Library/Frameworks/Python.framework/Versions/3.7/lib/python3.7/site-packages/sklearn/linear_model/logistic.py:432: FutureWarning: Default solver will be changed to 'lbfgs' in 0.22. Specify a solver to silence this warning.\n",
      "  FutureWarning)\n",
      "/Library/Frameworks/Python.framework/Versions/3.7/lib/python3.7/site-packages/sklearn/linear_model/logistic.py:432: FutureWarning: Default solver will be changed to 'lbfgs' in 0.22. Specify a solver to silence this warning.\n",
      "  FutureWarning)\n",
      "/Library/Frameworks/Python.framework/Versions/3.7/lib/python3.7/site-packages/sklearn/linear_model/logistic.py:432: FutureWarning: Default solver will be changed to 'lbfgs' in 0.22. Specify a solver to silence this warning.\n",
      "  FutureWarning)\n"
     ]
    },
    {
     "name": "stdout",
     "output_type": "stream",
     "text": [
      "[['feat4', 'feat12', 0.7087], ['feat4', 'feat13', 0.7089], ['feat4', 'feat14', 0.7089], ['feat4', 'feat15', 0.7087], ['feat4', 'feat20', 0.7086], ['feat4', 'feat31', 0.7086], ['feat8', 'feat4', 0.7089], ['feat8', 'feat12', 0.7087], ['feat8', 'feat13', 0.7087], ['feat8', 'feat14', 0.7087], ['feat8', 'feat15', 0.7087], ['feat8', 'feat20', 0.7087], ['feat8', 'feat31', 0.7085], ['feat8', 'feat56', 0.7085], ['feat8', 'feat63', 0.7086], ['feat8', 'feat66', 0.7084], ['feat8', 'feat69', 0.7086], ['feat8', 'feat70', 0.7087], ['feat8', 'feat71', 0.709], ['feat8', 'feat75', 0.7089], ['feat13', 'feat12', 0.7089], ['feat14', 'feat12', 0.7089], ['feat14', 'feat13', 0.7084], ['feat15', 'feat12', 0.7089], ['feat15', 'feat13', 0.7088], ['feat15', 'feat14', 0.7087], ['feat20', 'feat12', 0.7087], ['feat20', 'feat13', 0.7087], ['feat20', 'feat14', 0.7087], ['feat20', 'feat15', 0.7088], ['feat31', 'feat12', 0.7083], ['feat31', 'feat13', 0.7087], ['feat31', 'feat14', 0.7085], ['feat31', 'feat15', 0.7087], ['feat31', 'feat20', 0.7083], ['feat56', 'feat4', 0.7084], ['feat56', 'feat12', 0.7083], ['feat56', 'feat13', 0.7086], ['feat56', 'feat14', 0.7083], ['feat56', 'feat15', 0.7087], ['feat56', 'feat20', 0.7089], ['feat56', 'feat31', 0.7086], ['feat63', 'feat4', 0.7083], ['feat63', 'feat12', 0.7079], ['feat63', 'feat13', 0.7087], ['feat63', 'feat14', 0.7087], ['feat63', 'feat15', 0.7087], ['feat63', 'feat20', 0.7088], ['feat63', 'feat31', 0.7087], ['feat63', 'feat56', 0.7093], ['feat66', 'feat4', 0.7089], ['feat66', 'feat12', 0.7089], ['feat66', 'feat13', 0.7095], ['feat66', 'feat14', 0.7089], ['feat66', 'feat15', 0.7087], ['feat66', 'feat20', 0.7087], ['feat66', 'feat31', 0.709], ['feat66', 'feat56', 0.7085], ['feat66', 'feat63', 0.7082]]\n",
      "[['feat4', 'feat12', 0.7087], ['feat4', 'feat13', 0.7089], ['feat4', 'feat14', 0.7089], ['feat4', 'feat15', 0.7087], ['feat4', 'feat20', 0.7086], ['feat4', 'feat31', 0.7086], ['feat8', 'feat4', 0.7089], ['feat8', 'feat12', 0.7087], ['feat8', 'feat13', 0.7087], ['feat8', 'feat14', 0.7087], ['feat8', 'feat15', 0.7087], ['feat8', 'feat20', 0.7087], ['feat8', 'feat31', 0.7085], ['feat8', 'feat56', 0.7085], ['feat8', 'feat63', 0.7086], ['feat8', 'feat66', 0.7084], ['feat8', 'feat69', 0.7086], ['feat8', 'feat70', 0.7087], ['feat8', 'feat71', 0.709], ['feat8', 'feat75', 0.7089], ['feat13', 'feat12', 0.7089], ['feat14', 'feat12', 0.7089], ['feat14', 'feat13', 0.7084], ['feat15', 'feat12', 0.7089], ['feat15', 'feat13', 0.7088], ['feat15', 'feat14', 0.7087], ['feat20', 'feat12', 0.7087], ['feat20', 'feat13', 0.7087], ['feat20', 'feat14', 0.7087], ['feat20', 'feat15', 0.7088], ['feat31', 'feat12', 0.7083], ['feat31', 'feat13', 0.7087], ['feat31', 'feat14', 0.7085], ['feat31', 'feat15', 0.7087], ['feat31', 'feat20', 0.7083], ['feat56', 'feat4', 0.7084], ['feat56', 'feat12', 0.7083], ['feat56', 'feat13', 0.7086], ['feat56', 'feat14', 0.7083], ['feat56', 'feat15', 0.7087], ['feat56', 'feat20', 0.7089], ['feat56', 'feat31', 0.7086], ['feat63', 'feat4', 0.7083], ['feat63', 'feat12', 0.7079], ['feat63', 'feat13', 0.7087], ['feat63', 'feat14', 0.7087], ['feat63', 'feat15', 0.7087], ['feat63', 'feat20', 0.7088], ['feat63', 'feat31', 0.7087], ['feat63', 'feat56', 0.7093], ['feat66', 'feat4', 0.7089], ['feat66', 'feat12', 0.7089], ['feat66', 'feat13', 0.7095], ['feat66', 'feat14', 0.7089], ['feat66', 'feat15', 0.7087], ['feat66', 'feat20', 0.7087], ['feat66', 'feat31', 0.709], ['feat66', 'feat56', 0.7085], ['feat66', 'feat63', 0.7082], ['feat69', 'feat4', 0.7085]]\n",
      "[['feat4', 'feat12', 0.7087], ['feat4', 'feat13', 0.7089], ['feat4', 'feat14', 0.7089], ['feat4', 'feat15', 0.7087], ['feat4', 'feat20', 0.7086], ['feat4', 'feat31', 0.7086], ['feat8', 'feat4', 0.7089], ['feat8', 'feat12', 0.7087], ['feat8', 'feat13', 0.7087], ['feat8', 'feat14', 0.7087], ['feat8', 'feat15', 0.7087], ['feat8', 'feat20', 0.7087], ['feat8', 'feat31', 0.7085], ['feat8', 'feat56', 0.7085], ['feat8', 'feat63', 0.7086], ['feat8', 'feat66', 0.7084], ['feat8', 'feat69', 0.7086], ['feat8', 'feat70', 0.7087], ['feat8', 'feat71', 0.709], ['feat8', 'feat75', 0.7089], ['feat13', 'feat12', 0.7089], ['feat14', 'feat12', 0.7089], ['feat14', 'feat13', 0.7084], ['feat15', 'feat12', 0.7089], ['feat15', 'feat13', 0.7088], ['feat15', 'feat14', 0.7087], ['feat20', 'feat12', 0.7087], ['feat20', 'feat13', 0.7087], ['feat20', 'feat14', 0.7087], ['feat20', 'feat15', 0.7088], ['feat31', 'feat12', 0.7083], ['feat31', 'feat13', 0.7087], ['feat31', 'feat14', 0.7085], ['feat31', 'feat15', 0.7087], ['feat31', 'feat20', 0.7083], ['feat56', 'feat4', 0.7084], ['feat56', 'feat12', 0.7083], ['feat56', 'feat13', 0.7086], ['feat56', 'feat14', 0.7083], ['feat56', 'feat15', 0.7087], ['feat56', 'feat20', 0.7089], ['feat56', 'feat31', 0.7086], ['feat63', 'feat4', 0.7083], ['feat63', 'feat12', 0.7079], ['feat63', 'feat13', 0.7087], ['feat63', 'feat14', 0.7087], ['feat63', 'feat15', 0.7087], ['feat63', 'feat20', 0.7088], ['feat63', 'feat31', 0.7087], ['feat63', 'feat56', 0.7093], ['feat66', 'feat4', 0.7089], ['feat66', 'feat12', 0.7089], ['feat66', 'feat13', 0.7095], ['feat66', 'feat14', 0.7089], ['feat66', 'feat15', 0.7087], ['feat66', 'feat20', 0.7087], ['feat66', 'feat31', 0.709], ['feat66', 'feat56', 0.7085], ['feat66', 'feat63', 0.7082], ['feat69', 'feat4', 0.7085], ['feat69', 'feat12', 0.7077]]\n",
      "[['feat4', 'feat12', 0.7087], ['feat4', 'feat13', 0.7089], ['feat4', 'feat14', 0.7089], ['feat4', 'feat15', 0.7087], ['feat4', 'feat20', 0.7086], ['feat4', 'feat31', 0.7086], ['feat8', 'feat4', 0.7089], ['feat8', 'feat12', 0.7087], ['feat8', 'feat13', 0.7087], ['feat8', 'feat14', 0.7087], ['feat8', 'feat15', 0.7087], ['feat8', 'feat20', 0.7087], ['feat8', 'feat31', 0.7085], ['feat8', 'feat56', 0.7085], ['feat8', 'feat63', 0.7086], ['feat8', 'feat66', 0.7084], ['feat8', 'feat69', 0.7086], ['feat8', 'feat70', 0.7087], ['feat8', 'feat71', 0.709], ['feat8', 'feat75', 0.7089], ['feat13', 'feat12', 0.7089], ['feat14', 'feat12', 0.7089], ['feat14', 'feat13', 0.7084], ['feat15', 'feat12', 0.7089], ['feat15', 'feat13', 0.7088], ['feat15', 'feat14', 0.7087], ['feat20', 'feat12', 0.7087], ['feat20', 'feat13', 0.7087], ['feat20', 'feat14', 0.7087], ['feat20', 'feat15', 0.7088], ['feat31', 'feat12', 0.7083], ['feat31', 'feat13', 0.7087], ['feat31', 'feat14', 0.7085], ['feat31', 'feat15', 0.7087], ['feat31', 'feat20', 0.7083], ['feat56', 'feat4', 0.7084], ['feat56', 'feat12', 0.7083], ['feat56', 'feat13', 0.7086], ['feat56', 'feat14', 0.7083], ['feat56', 'feat15', 0.7087], ['feat56', 'feat20', 0.7089], ['feat56', 'feat31', 0.7086], ['feat63', 'feat4', 0.7083], ['feat63', 'feat12', 0.7079], ['feat63', 'feat13', 0.7087], ['feat63', 'feat14', 0.7087], ['feat63', 'feat15', 0.7087], ['feat63', 'feat20', 0.7088], ['feat63', 'feat31', 0.7087], ['feat63', 'feat56', 0.7093], ['feat66', 'feat4', 0.7089], ['feat66', 'feat12', 0.7089], ['feat66', 'feat13', 0.7095], ['feat66', 'feat14', 0.7089], ['feat66', 'feat15', 0.7087], ['feat66', 'feat20', 0.7087], ['feat66', 'feat31', 0.709], ['feat66', 'feat56', 0.7085], ['feat66', 'feat63', 0.7082], ['feat69', 'feat4', 0.7085], ['feat69', 'feat12', 0.7077], ['feat69', 'feat13', 0.7085]]\n",
      "[['feat4', 'feat12', 0.7087], ['feat4', 'feat13', 0.7089], ['feat4', 'feat14', 0.7089], ['feat4', 'feat15', 0.7087], ['feat4', 'feat20', 0.7086], ['feat4', 'feat31', 0.7086], ['feat8', 'feat4', 0.7089], ['feat8', 'feat12', 0.7087], ['feat8', 'feat13', 0.7087], ['feat8', 'feat14', 0.7087], ['feat8', 'feat15', 0.7087], ['feat8', 'feat20', 0.7087], ['feat8', 'feat31', 0.7085], ['feat8', 'feat56', 0.7085], ['feat8', 'feat63', 0.7086], ['feat8', 'feat66', 0.7084], ['feat8', 'feat69', 0.7086], ['feat8', 'feat70', 0.7087], ['feat8', 'feat71', 0.709], ['feat8', 'feat75', 0.7089], ['feat13', 'feat12', 0.7089], ['feat14', 'feat12', 0.7089], ['feat14', 'feat13', 0.7084], ['feat15', 'feat12', 0.7089], ['feat15', 'feat13', 0.7088], ['feat15', 'feat14', 0.7087], ['feat20', 'feat12', 0.7087], ['feat20', 'feat13', 0.7087], ['feat20', 'feat14', 0.7087], ['feat20', 'feat15', 0.7088], ['feat31', 'feat12', 0.7083], ['feat31', 'feat13', 0.7087], ['feat31', 'feat14', 0.7085], ['feat31', 'feat15', 0.7087], ['feat31', 'feat20', 0.7083], ['feat56', 'feat4', 0.7084], ['feat56', 'feat12', 0.7083], ['feat56', 'feat13', 0.7086], ['feat56', 'feat14', 0.7083], ['feat56', 'feat15', 0.7087], ['feat56', 'feat20', 0.7089], ['feat56', 'feat31', 0.7086], ['feat63', 'feat4', 0.7083], ['feat63', 'feat12', 0.7079], ['feat63', 'feat13', 0.7087], ['feat63', 'feat14', 0.7087], ['feat63', 'feat15', 0.7087], ['feat63', 'feat20', 0.7088], ['feat63', 'feat31', 0.7087], ['feat63', 'feat56', 0.7093], ['feat66', 'feat4', 0.7089], ['feat66', 'feat12', 0.7089], ['feat66', 'feat13', 0.7095], ['feat66', 'feat14', 0.7089], ['feat66', 'feat15', 0.7087], ['feat66', 'feat20', 0.7087], ['feat66', 'feat31', 0.709], ['feat66', 'feat56', 0.7085], ['feat66', 'feat63', 0.7082], ['feat69', 'feat4', 0.7085], ['feat69', 'feat12', 0.7077], ['feat69', 'feat13', 0.7085], ['feat69', 'feat14', 0.7087]]\n"
     ]
    },
    {
     "name": "stderr",
     "output_type": "stream",
     "text": [
      "/Library/Frameworks/Python.framework/Versions/3.7/lib/python3.7/site-packages/sklearn/linear_model/logistic.py:432: FutureWarning: Default solver will be changed to 'lbfgs' in 0.22. Specify a solver to silence this warning.\n",
      "  FutureWarning)\n",
      "/Library/Frameworks/Python.framework/Versions/3.7/lib/python3.7/site-packages/sklearn/linear_model/logistic.py:432: FutureWarning: Default solver will be changed to 'lbfgs' in 0.22. Specify a solver to silence this warning.\n",
      "  FutureWarning)\n",
      "/Library/Frameworks/Python.framework/Versions/3.7/lib/python3.7/site-packages/sklearn/linear_model/logistic.py:432: FutureWarning: Default solver will be changed to 'lbfgs' in 0.22. Specify a solver to silence this warning.\n",
      "  FutureWarning)\n"
     ]
    },
    {
     "name": "stdout",
     "output_type": "stream",
     "text": [
      "[['feat4', 'feat12', 0.7087], ['feat4', 'feat13', 0.7089], ['feat4', 'feat14', 0.7089], ['feat4', 'feat15', 0.7087], ['feat4', 'feat20', 0.7086], ['feat4', 'feat31', 0.7086], ['feat8', 'feat4', 0.7089], ['feat8', 'feat12', 0.7087], ['feat8', 'feat13', 0.7087], ['feat8', 'feat14', 0.7087], ['feat8', 'feat15', 0.7087], ['feat8', 'feat20', 0.7087], ['feat8', 'feat31', 0.7085], ['feat8', 'feat56', 0.7085], ['feat8', 'feat63', 0.7086], ['feat8', 'feat66', 0.7084], ['feat8', 'feat69', 0.7086], ['feat8', 'feat70', 0.7087], ['feat8', 'feat71', 0.709], ['feat8', 'feat75', 0.7089], ['feat13', 'feat12', 0.7089], ['feat14', 'feat12', 0.7089], ['feat14', 'feat13', 0.7084], ['feat15', 'feat12', 0.7089], ['feat15', 'feat13', 0.7088], ['feat15', 'feat14', 0.7087], ['feat20', 'feat12', 0.7087], ['feat20', 'feat13', 0.7087], ['feat20', 'feat14', 0.7087], ['feat20', 'feat15', 0.7088], ['feat31', 'feat12', 0.7083], ['feat31', 'feat13', 0.7087], ['feat31', 'feat14', 0.7085], ['feat31', 'feat15', 0.7087], ['feat31', 'feat20', 0.7083], ['feat56', 'feat4', 0.7084], ['feat56', 'feat12', 0.7083], ['feat56', 'feat13', 0.7086], ['feat56', 'feat14', 0.7083], ['feat56', 'feat15', 0.7087], ['feat56', 'feat20', 0.7089], ['feat56', 'feat31', 0.7086], ['feat63', 'feat4', 0.7083], ['feat63', 'feat12', 0.7079], ['feat63', 'feat13', 0.7087], ['feat63', 'feat14', 0.7087], ['feat63', 'feat15', 0.7087], ['feat63', 'feat20', 0.7088], ['feat63', 'feat31', 0.7087], ['feat63', 'feat56', 0.7093], ['feat66', 'feat4', 0.7089], ['feat66', 'feat12', 0.7089], ['feat66', 'feat13', 0.7095], ['feat66', 'feat14', 0.7089], ['feat66', 'feat15', 0.7087], ['feat66', 'feat20', 0.7087], ['feat66', 'feat31', 0.709], ['feat66', 'feat56', 0.7085], ['feat66', 'feat63', 0.7082], ['feat69', 'feat4', 0.7085], ['feat69', 'feat12', 0.7077], ['feat69', 'feat13', 0.7085], ['feat69', 'feat14', 0.7087], ['feat69', 'feat15', 0.7087]]\n",
      "[['feat4', 'feat12', 0.7087], ['feat4', 'feat13', 0.7089], ['feat4', 'feat14', 0.7089], ['feat4', 'feat15', 0.7087], ['feat4', 'feat20', 0.7086], ['feat4', 'feat31', 0.7086], ['feat8', 'feat4', 0.7089], ['feat8', 'feat12', 0.7087], ['feat8', 'feat13', 0.7087], ['feat8', 'feat14', 0.7087], ['feat8', 'feat15', 0.7087], ['feat8', 'feat20', 0.7087], ['feat8', 'feat31', 0.7085], ['feat8', 'feat56', 0.7085], ['feat8', 'feat63', 0.7086], ['feat8', 'feat66', 0.7084], ['feat8', 'feat69', 0.7086], ['feat8', 'feat70', 0.7087], ['feat8', 'feat71', 0.709], ['feat8', 'feat75', 0.7089], ['feat13', 'feat12', 0.7089], ['feat14', 'feat12', 0.7089], ['feat14', 'feat13', 0.7084], ['feat15', 'feat12', 0.7089], ['feat15', 'feat13', 0.7088], ['feat15', 'feat14', 0.7087], ['feat20', 'feat12', 0.7087], ['feat20', 'feat13', 0.7087], ['feat20', 'feat14', 0.7087], ['feat20', 'feat15', 0.7088], ['feat31', 'feat12', 0.7083], ['feat31', 'feat13', 0.7087], ['feat31', 'feat14', 0.7085], ['feat31', 'feat15', 0.7087], ['feat31', 'feat20', 0.7083], ['feat56', 'feat4', 0.7084], ['feat56', 'feat12', 0.7083], ['feat56', 'feat13', 0.7086], ['feat56', 'feat14', 0.7083], ['feat56', 'feat15', 0.7087], ['feat56', 'feat20', 0.7089], ['feat56', 'feat31', 0.7086], ['feat63', 'feat4', 0.7083], ['feat63', 'feat12', 0.7079], ['feat63', 'feat13', 0.7087], ['feat63', 'feat14', 0.7087], ['feat63', 'feat15', 0.7087], ['feat63', 'feat20', 0.7088], ['feat63', 'feat31', 0.7087], ['feat63', 'feat56', 0.7093], ['feat66', 'feat4', 0.7089], ['feat66', 'feat12', 0.7089], ['feat66', 'feat13', 0.7095], ['feat66', 'feat14', 0.7089], ['feat66', 'feat15', 0.7087], ['feat66', 'feat20', 0.7087], ['feat66', 'feat31', 0.709], ['feat66', 'feat56', 0.7085], ['feat66', 'feat63', 0.7082], ['feat69', 'feat4', 0.7085], ['feat69', 'feat12', 0.7077], ['feat69', 'feat13', 0.7085], ['feat69', 'feat14', 0.7087], ['feat69', 'feat15', 0.7087], ['feat69', 'feat20', 0.7082]]\n",
      "[['feat4', 'feat12', 0.7087], ['feat4', 'feat13', 0.7089], ['feat4', 'feat14', 0.7089], ['feat4', 'feat15', 0.7087], ['feat4', 'feat20', 0.7086], ['feat4', 'feat31', 0.7086], ['feat8', 'feat4', 0.7089], ['feat8', 'feat12', 0.7087], ['feat8', 'feat13', 0.7087], ['feat8', 'feat14', 0.7087], ['feat8', 'feat15', 0.7087], ['feat8', 'feat20', 0.7087], ['feat8', 'feat31', 0.7085], ['feat8', 'feat56', 0.7085], ['feat8', 'feat63', 0.7086], ['feat8', 'feat66', 0.7084], ['feat8', 'feat69', 0.7086], ['feat8', 'feat70', 0.7087], ['feat8', 'feat71', 0.709], ['feat8', 'feat75', 0.7089], ['feat13', 'feat12', 0.7089], ['feat14', 'feat12', 0.7089], ['feat14', 'feat13', 0.7084], ['feat15', 'feat12', 0.7089], ['feat15', 'feat13', 0.7088], ['feat15', 'feat14', 0.7087], ['feat20', 'feat12', 0.7087], ['feat20', 'feat13', 0.7087], ['feat20', 'feat14', 0.7087], ['feat20', 'feat15', 0.7088], ['feat31', 'feat12', 0.7083], ['feat31', 'feat13', 0.7087], ['feat31', 'feat14', 0.7085], ['feat31', 'feat15', 0.7087], ['feat31', 'feat20', 0.7083], ['feat56', 'feat4', 0.7084], ['feat56', 'feat12', 0.7083], ['feat56', 'feat13', 0.7086], ['feat56', 'feat14', 0.7083], ['feat56', 'feat15', 0.7087], ['feat56', 'feat20', 0.7089], ['feat56', 'feat31', 0.7086], ['feat63', 'feat4', 0.7083], ['feat63', 'feat12', 0.7079], ['feat63', 'feat13', 0.7087], ['feat63', 'feat14', 0.7087], ['feat63', 'feat15', 0.7087], ['feat63', 'feat20', 0.7088], ['feat63', 'feat31', 0.7087], ['feat63', 'feat56', 0.7093], ['feat66', 'feat4', 0.7089], ['feat66', 'feat12', 0.7089], ['feat66', 'feat13', 0.7095], ['feat66', 'feat14', 0.7089], ['feat66', 'feat15', 0.7087], ['feat66', 'feat20', 0.7087], ['feat66', 'feat31', 0.709], ['feat66', 'feat56', 0.7085], ['feat66', 'feat63', 0.7082], ['feat69', 'feat4', 0.7085], ['feat69', 'feat12', 0.7077], ['feat69', 'feat13', 0.7085], ['feat69', 'feat14', 0.7087], ['feat69', 'feat15', 0.7087], ['feat69', 'feat20', 0.7082], ['feat69', 'feat31', 0.7087]]\n"
     ]
    },
    {
     "name": "stderr",
     "output_type": "stream",
     "text": [
      "/Library/Frameworks/Python.framework/Versions/3.7/lib/python3.7/site-packages/sklearn/linear_model/logistic.py:432: FutureWarning: Default solver will be changed to 'lbfgs' in 0.22. Specify a solver to silence this warning.\n",
      "  FutureWarning)\n",
      "/Library/Frameworks/Python.framework/Versions/3.7/lib/python3.7/site-packages/sklearn/linear_model/logistic.py:432: FutureWarning: Default solver will be changed to 'lbfgs' in 0.22. Specify a solver to silence this warning.\n",
      "  FutureWarning)\n",
      "/Library/Frameworks/Python.framework/Versions/3.7/lib/python3.7/site-packages/sklearn/linear_model/logistic.py:432: FutureWarning: Default solver will be changed to 'lbfgs' in 0.22. Specify a solver to silence this warning.\n",
      "  FutureWarning)\n"
     ]
    },
    {
     "name": "stdout",
     "output_type": "stream",
     "text": [
      "[['feat4', 'feat12', 0.7087], ['feat4', 'feat13', 0.7089], ['feat4', 'feat14', 0.7089], ['feat4', 'feat15', 0.7087], ['feat4', 'feat20', 0.7086], ['feat4', 'feat31', 0.7086], ['feat8', 'feat4', 0.7089], ['feat8', 'feat12', 0.7087], ['feat8', 'feat13', 0.7087], ['feat8', 'feat14', 0.7087], ['feat8', 'feat15', 0.7087], ['feat8', 'feat20', 0.7087], ['feat8', 'feat31', 0.7085], ['feat8', 'feat56', 0.7085], ['feat8', 'feat63', 0.7086], ['feat8', 'feat66', 0.7084], ['feat8', 'feat69', 0.7086], ['feat8', 'feat70', 0.7087], ['feat8', 'feat71', 0.709], ['feat8', 'feat75', 0.7089], ['feat13', 'feat12', 0.7089], ['feat14', 'feat12', 0.7089], ['feat14', 'feat13', 0.7084], ['feat15', 'feat12', 0.7089], ['feat15', 'feat13', 0.7088], ['feat15', 'feat14', 0.7087], ['feat20', 'feat12', 0.7087], ['feat20', 'feat13', 0.7087], ['feat20', 'feat14', 0.7087], ['feat20', 'feat15', 0.7088], ['feat31', 'feat12', 0.7083], ['feat31', 'feat13', 0.7087], ['feat31', 'feat14', 0.7085], ['feat31', 'feat15', 0.7087], ['feat31', 'feat20', 0.7083], ['feat56', 'feat4', 0.7084], ['feat56', 'feat12', 0.7083], ['feat56', 'feat13', 0.7086], ['feat56', 'feat14', 0.7083], ['feat56', 'feat15', 0.7087], ['feat56', 'feat20', 0.7089], ['feat56', 'feat31', 0.7086], ['feat63', 'feat4', 0.7083], ['feat63', 'feat12', 0.7079], ['feat63', 'feat13', 0.7087], ['feat63', 'feat14', 0.7087], ['feat63', 'feat15', 0.7087], ['feat63', 'feat20', 0.7088], ['feat63', 'feat31', 0.7087], ['feat63', 'feat56', 0.7093], ['feat66', 'feat4', 0.7089], ['feat66', 'feat12', 0.7089], ['feat66', 'feat13', 0.7095], ['feat66', 'feat14', 0.7089], ['feat66', 'feat15', 0.7087], ['feat66', 'feat20', 0.7087], ['feat66', 'feat31', 0.709], ['feat66', 'feat56', 0.7085], ['feat66', 'feat63', 0.7082], ['feat69', 'feat4', 0.7085], ['feat69', 'feat12', 0.7077], ['feat69', 'feat13', 0.7085], ['feat69', 'feat14', 0.7087], ['feat69', 'feat15', 0.7087], ['feat69', 'feat20', 0.7082], ['feat69', 'feat31', 0.7087], ['feat69', 'feat56', 0.7087]]\n",
      "[['feat4', 'feat12', 0.7087], ['feat4', 'feat13', 0.7089], ['feat4', 'feat14', 0.7089], ['feat4', 'feat15', 0.7087], ['feat4', 'feat20', 0.7086], ['feat4', 'feat31', 0.7086], ['feat8', 'feat4', 0.7089], ['feat8', 'feat12', 0.7087], ['feat8', 'feat13', 0.7087], ['feat8', 'feat14', 0.7087], ['feat8', 'feat15', 0.7087], ['feat8', 'feat20', 0.7087], ['feat8', 'feat31', 0.7085], ['feat8', 'feat56', 0.7085], ['feat8', 'feat63', 0.7086], ['feat8', 'feat66', 0.7084], ['feat8', 'feat69', 0.7086], ['feat8', 'feat70', 0.7087], ['feat8', 'feat71', 0.709], ['feat8', 'feat75', 0.7089], ['feat13', 'feat12', 0.7089], ['feat14', 'feat12', 0.7089], ['feat14', 'feat13', 0.7084], ['feat15', 'feat12', 0.7089], ['feat15', 'feat13', 0.7088], ['feat15', 'feat14', 0.7087], ['feat20', 'feat12', 0.7087], ['feat20', 'feat13', 0.7087], ['feat20', 'feat14', 0.7087], ['feat20', 'feat15', 0.7088], ['feat31', 'feat12', 0.7083], ['feat31', 'feat13', 0.7087], ['feat31', 'feat14', 0.7085], ['feat31', 'feat15', 0.7087], ['feat31', 'feat20', 0.7083], ['feat56', 'feat4', 0.7084], ['feat56', 'feat12', 0.7083], ['feat56', 'feat13', 0.7086], ['feat56', 'feat14', 0.7083], ['feat56', 'feat15', 0.7087], ['feat56', 'feat20', 0.7089], ['feat56', 'feat31', 0.7086], ['feat63', 'feat4', 0.7083], ['feat63', 'feat12', 0.7079], ['feat63', 'feat13', 0.7087], ['feat63', 'feat14', 0.7087], ['feat63', 'feat15', 0.7087], ['feat63', 'feat20', 0.7088], ['feat63', 'feat31', 0.7087], ['feat63', 'feat56', 0.7093], ['feat66', 'feat4', 0.7089], ['feat66', 'feat12', 0.7089], ['feat66', 'feat13', 0.7095], ['feat66', 'feat14', 0.7089], ['feat66', 'feat15', 0.7087], ['feat66', 'feat20', 0.7087], ['feat66', 'feat31', 0.709], ['feat66', 'feat56', 0.7085], ['feat66', 'feat63', 0.7082], ['feat69', 'feat4', 0.7085], ['feat69', 'feat12', 0.7077], ['feat69', 'feat13', 0.7085], ['feat69', 'feat14', 0.7087], ['feat69', 'feat15', 0.7087], ['feat69', 'feat20', 0.7082], ['feat69', 'feat31', 0.7087], ['feat69', 'feat56', 0.7087], ['feat69', 'feat63', 0.7088]]\n",
      "[['feat4', 'feat12', 0.7087], ['feat4', 'feat13', 0.7089], ['feat4', 'feat14', 0.7089], ['feat4', 'feat15', 0.7087], ['feat4', 'feat20', 0.7086], ['feat4', 'feat31', 0.7086], ['feat8', 'feat4', 0.7089], ['feat8', 'feat12', 0.7087], ['feat8', 'feat13', 0.7087], ['feat8', 'feat14', 0.7087], ['feat8', 'feat15', 0.7087], ['feat8', 'feat20', 0.7087], ['feat8', 'feat31', 0.7085], ['feat8', 'feat56', 0.7085], ['feat8', 'feat63', 0.7086], ['feat8', 'feat66', 0.7084], ['feat8', 'feat69', 0.7086], ['feat8', 'feat70', 0.7087], ['feat8', 'feat71', 0.709], ['feat8', 'feat75', 0.7089], ['feat13', 'feat12', 0.7089], ['feat14', 'feat12', 0.7089], ['feat14', 'feat13', 0.7084], ['feat15', 'feat12', 0.7089], ['feat15', 'feat13', 0.7088], ['feat15', 'feat14', 0.7087], ['feat20', 'feat12', 0.7087], ['feat20', 'feat13', 0.7087], ['feat20', 'feat14', 0.7087], ['feat20', 'feat15', 0.7088], ['feat31', 'feat12', 0.7083], ['feat31', 'feat13', 0.7087], ['feat31', 'feat14', 0.7085], ['feat31', 'feat15', 0.7087], ['feat31', 'feat20', 0.7083], ['feat56', 'feat4', 0.7084], ['feat56', 'feat12', 0.7083], ['feat56', 'feat13', 0.7086], ['feat56', 'feat14', 0.7083], ['feat56', 'feat15', 0.7087], ['feat56', 'feat20', 0.7089], ['feat56', 'feat31', 0.7086], ['feat63', 'feat4', 0.7083], ['feat63', 'feat12', 0.7079], ['feat63', 'feat13', 0.7087], ['feat63', 'feat14', 0.7087], ['feat63', 'feat15', 0.7087], ['feat63', 'feat20', 0.7088], ['feat63', 'feat31', 0.7087], ['feat63', 'feat56', 0.7093], ['feat66', 'feat4', 0.7089], ['feat66', 'feat12', 0.7089], ['feat66', 'feat13', 0.7095], ['feat66', 'feat14', 0.7089], ['feat66', 'feat15', 0.7087], ['feat66', 'feat20', 0.7087], ['feat66', 'feat31', 0.709], ['feat66', 'feat56', 0.7085], ['feat66', 'feat63', 0.7082], ['feat69', 'feat4', 0.7085], ['feat69', 'feat12', 0.7077], ['feat69', 'feat13', 0.7085], ['feat69', 'feat14', 0.7087], ['feat69', 'feat15', 0.7087], ['feat69', 'feat20', 0.7082], ['feat69', 'feat31', 0.7087], ['feat69', 'feat56', 0.7087], ['feat69', 'feat63', 0.7088], ['feat69', 'feat66', 0.7079]]\n"
     ]
    },
    {
     "name": "stderr",
     "output_type": "stream",
     "text": [
      "/Library/Frameworks/Python.framework/Versions/3.7/lib/python3.7/site-packages/sklearn/linear_model/logistic.py:432: FutureWarning: Default solver will be changed to 'lbfgs' in 0.22. Specify a solver to silence this warning.\n",
      "  FutureWarning)\n",
      "/Library/Frameworks/Python.framework/Versions/3.7/lib/python3.7/site-packages/sklearn/linear_model/logistic.py:432: FutureWarning: Default solver will be changed to 'lbfgs' in 0.22. Specify a solver to silence this warning.\n",
      "  FutureWarning)\n",
      "/Library/Frameworks/Python.framework/Versions/3.7/lib/python3.7/site-packages/sklearn/linear_model/logistic.py:432: FutureWarning: Default solver will be changed to 'lbfgs' in 0.22. Specify a solver to silence this warning.\n",
      "  FutureWarning)\n"
     ]
    },
    {
     "name": "stdout",
     "output_type": "stream",
     "text": [
      "[['feat4', 'feat12', 0.7087], ['feat4', 'feat13', 0.7089], ['feat4', 'feat14', 0.7089], ['feat4', 'feat15', 0.7087], ['feat4', 'feat20', 0.7086], ['feat4', 'feat31', 0.7086], ['feat8', 'feat4', 0.7089], ['feat8', 'feat12', 0.7087], ['feat8', 'feat13', 0.7087], ['feat8', 'feat14', 0.7087], ['feat8', 'feat15', 0.7087], ['feat8', 'feat20', 0.7087], ['feat8', 'feat31', 0.7085], ['feat8', 'feat56', 0.7085], ['feat8', 'feat63', 0.7086], ['feat8', 'feat66', 0.7084], ['feat8', 'feat69', 0.7086], ['feat8', 'feat70', 0.7087], ['feat8', 'feat71', 0.709], ['feat8', 'feat75', 0.7089], ['feat13', 'feat12', 0.7089], ['feat14', 'feat12', 0.7089], ['feat14', 'feat13', 0.7084], ['feat15', 'feat12', 0.7089], ['feat15', 'feat13', 0.7088], ['feat15', 'feat14', 0.7087], ['feat20', 'feat12', 0.7087], ['feat20', 'feat13', 0.7087], ['feat20', 'feat14', 0.7087], ['feat20', 'feat15', 0.7088], ['feat31', 'feat12', 0.7083], ['feat31', 'feat13', 0.7087], ['feat31', 'feat14', 0.7085], ['feat31', 'feat15', 0.7087], ['feat31', 'feat20', 0.7083], ['feat56', 'feat4', 0.7084], ['feat56', 'feat12', 0.7083], ['feat56', 'feat13', 0.7086], ['feat56', 'feat14', 0.7083], ['feat56', 'feat15', 0.7087], ['feat56', 'feat20', 0.7089], ['feat56', 'feat31', 0.7086], ['feat63', 'feat4', 0.7083], ['feat63', 'feat12', 0.7079], ['feat63', 'feat13', 0.7087], ['feat63', 'feat14', 0.7087], ['feat63', 'feat15', 0.7087], ['feat63', 'feat20', 0.7088], ['feat63', 'feat31', 0.7087], ['feat63', 'feat56', 0.7093], ['feat66', 'feat4', 0.7089], ['feat66', 'feat12', 0.7089], ['feat66', 'feat13', 0.7095], ['feat66', 'feat14', 0.7089], ['feat66', 'feat15', 0.7087], ['feat66', 'feat20', 0.7087], ['feat66', 'feat31', 0.709], ['feat66', 'feat56', 0.7085], ['feat66', 'feat63', 0.7082], ['feat69', 'feat4', 0.7085], ['feat69', 'feat12', 0.7077], ['feat69', 'feat13', 0.7085], ['feat69', 'feat14', 0.7087], ['feat69', 'feat15', 0.7087], ['feat69', 'feat20', 0.7082], ['feat69', 'feat31', 0.7087], ['feat69', 'feat56', 0.7087], ['feat69', 'feat63', 0.7088], ['feat69', 'feat66', 0.7079], ['feat70', 'feat4', 0.7088]]\n",
      "[['feat4', 'feat12', 0.7087], ['feat4', 'feat13', 0.7089], ['feat4', 'feat14', 0.7089], ['feat4', 'feat15', 0.7087], ['feat4', 'feat20', 0.7086], ['feat4', 'feat31', 0.7086], ['feat8', 'feat4', 0.7089], ['feat8', 'feat12', 0.7087], ['feat8', 'feat13', 0.7087], ['feat8', 'feat14', 0.7087], ['feat8', 'feat15', 0.7087], ['feat8', 'feat20', 0.7087], ['feat8', 'feat31', 0.7085], ['feat8', 'feat56', 0.7085], ['feat8', 'feat63', 0.7086], ['feat8', 'feat66', 0.7084], ['feat8', 'feat69', 0.7086], ['feat8', 'feat70', 0.7087], ['feat8', 'feat71', 0.709], ['feat8', 'feat75', 0.7089], ['feat13', 'feat12', 0.7089], ['feat14', 'feat12', 0.7089], ['feat14', 'feat13', 0.7084], ['feat15', 'feat12', 0.7089], ['feat15', 'feat13', 0.7088], ['feat15', 'feat14', 0.7087], ['feat20', 'feat12', 0.7087], ['feat20', 'feat13', 0.7087], ['feat20', 'feat14', 0.7087], ['feat20', 'feat15', 0.7088], ['feat31', 'feat12', 0.7083], ['feat31', 'feat13', 0.7087], ['feat31', 'feat14', 0.7085], ['feat31', 'feat15', 0.7087], ['feat31', 'feat20', 0.7083], ['feat56', 'feat4', 0.7084], ['feat56', 'feat12', 0.7083], ['feat56', 'feat13', 0.7086], ['feat56', 'feat14', 0.7083], ['feat56', 'feat15', 0.7087], ['feat56', 'feat20', 0.7089], ['feat56', 'feat31', 0.7086], ['feat63', 'feat4', 0.7083], ['feat63', 'feat12', 0.7079], ['feat63', 'feat13', 0.7087], ['feat63', 'feat14', 0.7087], ['feat63', 'feat15', 0.7087], ['feat63', 'feat20', 0.7088], ['feat63', 'feat31', 0.7087], ['feat63', 'feat56', 0.7093], ['feat66', 'feat4', 0.7089], ['feat66', 'feat12', 0.7089], ['feat66', 'feat13', 0.7095], ['feat66', 'feat14', 0.7089], ['feat66', 'feat15', 0.7087], ['feat66', 'feat20', 0.7087], ['feat66', 'feat31', 0.709], ['feat66', 'feat56', 0.7085], ['feat66', 'feat63', 0.7082], ['feat69', 'feat4', 0.7085], ['feat69', 'feat12', 0.7077], ['feat69', 'feat13', 0.7085], ['feat69', 'feat14', 0.7087], ['feat69', 'feat15', 0.7087], ['feat69', 'feat20', 0.7082], ['feat69', 'feat31', 0.7087], ['feat69', 'feat56', 0.7087], ['feat69', 'feat63', 0.7088], ['feat69', 'feat66', 0.7079], ['feat70', 'feat4', 0.7088], ['feat70', 'feat12', 0.7085]]\n",
      "[['feat4', 'feat12', 0.7087], ['feat4', 'feat13', 0.7089], ['feat4', 'feat14', 0.7089], ['feat4', 'feat15', 0.7087], ['feat4', 'feat20', 0.7086], ['feat4', 'feat31', 0.7086], ['feat8', 'feat4', 0.7089], ['feat8', 'feat12', 0.7087], ['feat8', 'feat13', 0.7087], ['feat8', 'feat14', 0.7087], ['feat8', 'feat15', 0.7087], ['feat8', 'feat20', 0.7087], ['feat8', 'feat31', 0.7085], ['feat8', 'feat56', 0.7085], ['feat8', 'feat63', 0.7086], ['feat8', 'feat66', 0.7084], ['feat8', 'feat69', 0.7086], ['feat8', 'feat70', 0.7087], ['feat8', 'feat71', 0.709], ['feat8', 'feat75', 0.7089], ['feat13', 'feat12', 0.7089], ['feat14', 'feat12', 0.7089], ['feat14', 'feat13', 0.7084], ['feat15', 'feat12', 0.7089], ['feat15', 'feat13', 0.7088], ['feat15', 'feat14', 0.7087], ['feat20', 'feat12', 0.7087], ['feat20', 'feat13', 0.7087], ['feat20', 'feat14', 0.7087], ['feat20', 'feat15', 0.7088], ['feat31', 'feat12', 0.7083], ['feat31', 'feat13', 0.7087], ['feat31', 'feat14', 0.7085], ['feat31', 'feat15', 0.7087], ['feat31', 'feat20', 0.7083], ['feat56', 'feat4', 0.7084], ['feat56', 'feat12', 0.7083], ['feat56', 'feat13', 0.7086], ['feat56', 'feat14', 0.7083], ['feat56', 'feat15', 0.7087], ['feat56', 'feat20', 0.7089], ['feat56', 'feat31', 0.7086], ['feat63', 'feat4', 0.7083], ['feat63', 'feat12', 0.7079], ['feat63', 'feat13', 0.7087], ['feat63', 'feat14', 0.7087], ['feat63', 'feat15', 0.7087], ['feat63', 'feat20', 0.7088], ['feat63', 'feat31', 0.7087], ['feat63', 'feat56', 0.7093], ['feat66', 'feat4', 0.7089], ['feat66', 'feat12', 0.7089], ['feat66', 'feat13', 0.7095], ['feat66', 'feat14', 0.7089], ['feat66', 'feat15', 0.7087], ['feat66', 'feat20', 0.7087], ['feat66', 'feat31', 0.709], ['feat66', 'feat56', 0.7085], ['feat66', 'feat63', 0.7082], ['feat69', 'feat4', 0.7085], ['feat69', 'feat12', 0.7077], ['feat69', 'feat13', 0.7085], ['feat69', 'feat14', 0.7087], ['feat69', 'feat15', 0.7087], ['feat69', 'feat20', 0.7082], ['feat69', 'feat31', 0.7087], ['feat69', 'feat56', 0.7087], ['feat69', 'feat63', 0.7088], ['feat69', 'feat66', 0.7079], ['feat70', 'feat4', 0.7088], ['feat70', 'feat12', 0.7085], ['feat70', 'feat13', 0.7089]]\n"
     ]
    },
    {
     "name": "stderr",
     "output_type": "stream",
     "text": [
      "/Library/Frameworks/Python.framework/Versions/3.7/lib/python3.7/site-packages/sklearn/linear_model/logistic.py:432: FutureWarning: Default solver will be changed to 'lbfgs' in 0.22. Specify a solver to silence this warning.\n",
      "  FutureWarning)\n",
      "/Library/Frameworks/Python.framework/Versions/3.7/lib/python3.7/site-packages/sklearn/linear_model/logistic.py:432: FutureWarning: Default solver will be changed to 'lbfgs' in 0.22. Specify a solver to silence this warning.\n",
      "  FutureWarning)\n",
      "/Library/Frameworks/Python.framework/Versions/3.7/lib/python3.7/site-packages/sklearn/linear_model/logistic.py:432: FutureWarning: Default solver will be changed to 'lbfgs' in 0.22. Specify a solver to silence this warning.\n",
      "  FutureWarning)\n"
     ]
    },
    {
     "name": "stdout",
     "output_type": "stream",
     "text": [
      "[['feat4', 'feat12', 0.7087], ['feat4', 'feat13', 0.7089], ['feat4', 'feat14', 0.7089], ['feat4', 'feat15', 0.7087], ['feat4', 'feat20', 0.7086], ['feat4', 'feat31', 0.7086], ['feat8', 'feat4', 0.7089], ['feat8', 'feat12', 0.7087], ['feat8', 'feat13', 0.7087], ['feat8', 'feat14', 0.7087], ['feat8', 'feat15', 0.7087], ['feat8', 'feat20', 0.7087], ['feat8', 'feat31', 0.7085], ['feat8', 'feat56', 0.7085], ['feat8', 'feat63', 0.7086], ['feat8', 'feat66', 0.7084], ['feat8', 'feat69', 0.7086], ['feat8', 'feat70', 0.7087], ['feat8', 'feat71', 0.709], ['feat8', 'feat75', 0.7089], ['feat13', 'feat12', 0.7089], ['feat14', 'feat12', 0.7089], ['feat14', 'feat13', 0.7084], ['feat15', 'feat12', 0.7089], ['feat15', 'feat13', 0.7088], ['feat15', 'feat14', 0.7087], ['feat20', 'feat12', 0.7087], ['feat20', 'feat13', 0.7087], ['feat20', 'feat14', 0.7087], ['feat20', 'feat15', 0.7088], ['feat31', 'feat12', 0.7083], ['feat31', 'feat13', 0.7087], ['feat31', 'feat14', 0.7085], ['feat31', 'feat15', 0.7087], ['feat31', 'feat20', 0.7083], ['feat56', 'feat4', 0.7084], ['feat56', 'feat12', 0.7083], ['feat56', 'feat13', 0.7086], ['feat56', 'feat14', 0.7083], ['feat56', 'feat15', 0.7087], ['feat56', 'feat20', 0.7089], ['feat56', 'feat31', 0.7086], ['feat63', 'feat4', 0.7083], ['feat63', 'feat12', 0.7079], ['feat63', 'feat13', 0.7087], ['feat63', 'feat14', 0.7087], ['feat63', 'feat15', 0.7087], ['feat63', 'feat20', 0.7088], ['feat63', 'feat31', 0.7087], ['feat63', 'feat56', 0.7093], ['feat66', 'feat4', 0.7089], ['feat66', 'feat12', 0.7089], ['feat66', 'feat13', 0.7095], ['feat66', 'feat14', 0.7089], ['feat66', 'feat15', 0.7087], ['feat66', 'feat20', 0.7087], ['feat66', 'feat31', 0.709], ['feat66', 'feat56', 0.7085], ['feat66', 'feat63', 0.7082], ['feat69', 'feat4', 0.7085], ['feat69', 'feat12', 0.7077], ['feat69', 'feat13', 0.7085], ['feat69', 'feat14', 0.7087], ['feat69', 'feat15', 0.7087], ['feat69', 'feat20', 0.7082], ['feat69', 'feat31', 0.7087], ['feat69', 'feat56', 0.7087], ['feat69', 'feat63', 0.7088], ['feat69', 'feat66', 0.7079], ['feat70', 'feat4', 0.7088], ['feat70', 'feat12', 0.7085], ['feat70', 'feat13', 0.7089], ['feat70', 'feat14', 0.7087]]\n",
      "[['feat4', 'feat12', 0.7087], ['feat4', 'feat13', 0.7089], ['feat4', 'feat14', 0.7089], ['feat4', 'feat15', 0.7087], ['feat4', 'feat20', 0.7086], ['feat4', 'feat31', 0.7086], ['feat8', 'feat4', 0.7089], ['feat8', 'feat12', 0.7087], ['feat8', 'feat13', 0.7087], ['feat8', 'feat14', 0.7087], ['feat8', 'feat15', 0.7087], ['feat8', 'feat20', 0.7087], ['feat8', 'feat31', 0.7085], ['feat8', 'feat56', 0.7085], ['feat8', 'feat63', 0.7086], ['feat8', 'feat66', 0.7084], ['feat8', 'feat69', 0.7086], ['feat8', 'feat70', 0.7087], ['feat8', 'feat71', 0.709], ['feat8', 'feat75', 0.7089], ['feat13', 'feat12', 0.7089], ['feat14', 'feat12', 0.7089], ['feat14', 'feat13', 0.7084], ['feat15', 'feat12', 0.7089], ['feat15', 'feat13', 0.7088], ['feat15', 'feat14', 0.7087], ['feat20', 'feat12', 0.7087], ['feat20', 'feat13', 0.7087], ['feat20', 'feat14', 0.7087], ['feat20', 'feat15', 0.7088], ['feat31', 'feat12', 0.7083], ['feat31', 'feat13', 0.7087], ['feat31', 'feat14', 0.7085], ['feat31', 'feat15', 0.7087], ['feat31', 'feat20', 0.7083], ['feat56', 'feat4', 0.7084], ['feat56', 'feat12', 0.7083], ['feat56', 'feat13', 0.7086], ['feat56', 'feat14', 0.7083], ['feat56', 'feat15', 0.7087], ['feat56', 'feat20', 0.7089], ['feat56', 'feat31', 0.7086], ['feat63', 'feat4', 0.7083], ['feat63', 'feat12', 0.7079], ['feat63', 'feat13', 0.7087], ['feat63', 'feat14', 0.7087], ['feat63', 'feat15', 0.7087], ['feat63', 'feat20', 0.7088], ['feat63', 'feat31', 0.7087], ['feat63', 'feat56', 0.7093], ['feat66', 'feat4', 0.7089], ['feat66', 'feat12', 0.7089], ['feat66', 'feat13', 0.7095], ['feat66', 'feat14', 0.7089], ['feat66', 'feat15', 0.7087], ['feat66', 'feat20', 0.7087], ['feat66', 'feat31', 0.709], ['feat66', 'feat56', 0.7085], ['feat66', 'feat63', 0.7082], ['feat69', 'feat4', 0.7085], ['feat69', 'feat12', 0.7077], ['feat69', 'feat13', 0.7085], ['feat69', 'feat14', 0.7087], ['feat69', 'feat15', 0.7087], ['feat69', 'feat20', 0.7082], ['feat69', 'feat31', 0.7087], ['feat69', 'feat56', 0.7087], ['feat69', 'feat63', 0.7088], ['feat69', 'feat66', 0.7079], ['feat70', 'feat4', 0.7088], ['feat70', 'feat12', 0.7085], ['feat70', 'feat13', 0.7089], ['feat70', 'feat14', 0.7087], ['feat70', 'feat15', 0.7087]]\n",
      "[['feat4', 'feat12', 0.7087], ['feat4', 'feat13', 0.7089], ['feat4', 'feat14', 0.7089], ['feat4', 'feat15', 0.7087], ['feat4', 'feat20', 0.7086], ['feat4', 'feat31', 0.7086], ['feat8', 'feat4', 0.7089], ['feat8', 'feat12', 0.7087], ['feat8', 'feat13', 0.7087], ['feat8', 'feat14', 0.7087], ['feat8', 'feat15', 0.7087], ['feat8', 'feat20', 0.7087], ['feat8', 'feat31', 0.7085], ['feat8', 'feat56', 0.7085], ['feat8', 'feat63', 0.7086], ['feat8', 'feat66', 0.7084], ['feat8', 'feat69', 0.7086], ['feat8', 'feat70', 0.7087], ['feat8', 'feat71', 0.709], ['feat8', 'feat75', 0.7089], ['feat13', 'feat12', 0.7089], ['feat14', 'feat12', 0.7089], ['feat14', 'feat13', 0.7084], ['feat15', 'feat12', 0.7089], ['feat15', 'feat13', 0.7088], ['feat15', 'feat14', 0.7087], ['feat20', 'feat12', 0.7087], ['feat20', 'feat13', 0.7087], ['feat20', 'feat14', 0.7087], ['feat20', 'feat15', 0.7088], ['feat31', 'feat12', 0.7083], ['feat31', 'feat13', 0.7087], ['feat31', 'feat14', 0.7085], ['feat31', 'feat15', 0.7087], ['feat31', 'feat20', 0.7083], ['feat56', 'feat4', 0.7084], ['feat56', 'feat12', 0.7083], ['feat56', 'feat13', 0.7086], ['feat56', 'feat14', 0.7083], ['feat56', 'feat15', 0.7087], ['feat56', 'feat20', 0.7089], ['feat56', 'feat31', 0.7086], ['feat63', 'feat4', 0.7083], ['feat63', 'feat12', 0.7079], ['feat63', 'feat13', 0.7087], ['feat63', 'feat14', 0.7087], ['feat63', 'feat15', 0.7087], ['feat63', 'feat20', 0.7088], ['feat63', 'feat31', 0.7087], ['feat63', 'feat56', 0.7093], ['feat66', 'feat4', 0.7089], ['feat66', 'feat12', 0.7089], ['feat66', 'feat13', 0.7095], ['feat66', 'feat14', 0.7089], ['feat66', 'feat15', 0.7087], ['feat66', 'feat20', 0.7087], ['feat66', 'feat31', 0.709], ['feat66', 'feat56', 0.7085], ['feat66', 'feat63', 0.7082], ['feat69', 'feat4', 0.7085], ['feat69', 'feat12', 0.7077], ['feat69', 'feat13', 0.7085], ['feat69', 'feat14', 0.7087], ['feat69', 'feat15', 0.7087], ['feat69', 'feat20', 0.7082], ['feat69', 'feat31', 0.7087], ['feat69', 'feat56', 0.7087], ['feat69', 'feat63', 0.7088], ['feat69', 'feat66', 0.7079], ['feat70', 'feat4', 0.7088], ['feat70', 'feat12', 0.7085], ['feat70', 'feat13', 0.7089], ['feat70', 'feat14', 0.7087], ['feat70', 'feat15', 0.7087], ['feat70', 'feat20', 0.7088]]\n"
     ]
    },
    {
     "name": "stderr",
     "output_type": "stream",
     "text": [
      "/Library/Frameworks/Python.framework/Versions/3.7/lib/python3.7/site-packages/sklearn/linear_model/logistic.py:432: FutureWarning: Default solver will be changed to 'lbfgs' in 0.22. Specify a solver to silence this warning.\n",
      "  FutureWarning)\n",
      "/Library/Frameworks/Python.framework/Versions/3.7/lib/python3.7/site-packages/sklearn/linear_model/logistic.py:432: FutureWarning: Default solver will be changed to 'lbfgs' in 0.22. Specify a solver to silence this warning.\n",
      "  FutureWarning)\n",
      "/Library/Frameworks/Python.framework/Versions/3.7/lib/python3.7/site-packages/sklearn/linear_model/logistic.py:432: FutureWarning: Default solver will be changed to 'lbfgs' in 0.22. Specify a solver to silence this warning.\n",
      "  FutureWarning)\n"
     ]
    },
    {
     "name": "stdout",
     "output_type": "stream",
     "text": [
      "[['feat4', 'feat12', 0.7087], ['feat4', 'feat13', 0.7089], ['feat4', 'feat14', 0.7089], ['feat4', 'feat15', 0.7087], ['feat4', 'feat20', 0.7086], ['feat4', 'feat31', 0.7086], ['feat8', 'feat4', 0.7089], ['feat8', 'feat12', 0.7087], ['feat8', 'feat13', 0.7087], ['feat8', 'feat14', 0.7087], ['feat8', 'feat15', 0.7087], ['feat8', 'feat20', 0.7087], ['feat8', 'feat31', 0.7085], ['feat8', 'feat56', 0.7085], ['feat8', 'feat63', 0.7086], ['feat8', 'feat66', 0.7084], ['feat8', 'feat69', 0.7086], ['feat8', 'feat70', 0.7087], ['feat8', 'feat71', 0.709], ['feat8', 'feat75', 0.7089], ['feat13', 'feat12', 0.7089], ['feat14', 'feat12', 0.7089], ['feat14', 'feat13', 0.7084], ['feat15', 'feat12', 0.7089], ['feat15', 'feat13', 0.7088], ['feat15', 'feat14', 0.7087], ['feat20', 'feat12', 0.7087], ['feat20', 'feat13', 0.7087], ['feat20', 'feat14', 0.7087], ['feat20', 'feat15', 0.7088], ['feat31', 'feat12', 0.7083], ['feat31', 'feat13', 0.7087], ['feat31', 'feat14', 0.7085], ['feat31', 'feat15', 0.7087], ['feat31', 'feat20', 0.7083], ['feat56', 'feat4', 0.7084], ['feat56', 'feat12', 0.7083], ['feat56', 'feat13', 0.7086], ['feat56', 'feat14', 0.7083], ['feat56', 'feat15', 0.7087], ['feat56', 'feat20', 0.7089], ['feat56', 'feat31', 0.7086], ['feat63', 'feat4', 0.7083], ['feat63', 'feat12', 0.7079], ['feat63', 'feat13', 0.7087], ['feat63', 'feat14', 0.7087], ['feat63', 'feat15', 0.7087], ['feat63', 'feat20', 0.7088], ['feat63', 'feat31', 0.7087], ['feat63', 'feat56', 0.7093], ['feat66', 'feat4', 0.7089], ['feat66', 'feat12', 0.7089], ['feat66', 'feat13', 0.7095], ['feat66', 'feat14', 0.7089], ['feat66', 'feat15', 0.7087], ['feat66', 'feat20', 0.7087], ['feat66', 'feat31', 0.709], ['feat66', 'feat56', 0.7085], ['feat66', 'feat63', 0.7082], ['feat69', 'feat4', 0.7085], ['feat69', 'feat12', 0.7077], ['feat69', 'feat13', 0.7085], ['feat69', 'feat14', 0.7087], ['feat69', 'feat15', 0.7087], ['feat69', 'feat20', 0.7082], ['feat69', 'feat31', 0.7087], ['feat69', 'feat56', 0.7087], ['feat69', 'feat63', 0.7088], ['feat69', 'feat66', 0.7079], ['feat70', 'feat4', 0.7088], ['feat70', 'feat12', 0.7085], ['feat70', 'feat13', 0.7089], ['feat70', 'feat14', 0.7087], ['feat70', 'feat15', 0.7087], ['feat70', 'feat20', 0.7088], ['feat70', 'feat31', 0.7087]]\n",
      "[['feat4', 'feat12', 0.7087], ['feat4', 'feat13', 0.7089], ['feat4', 'feat14', 0.7089], ['feat4', 'feat15', 0.7087], ['feat4', 'feat20', 0.7086], ['feat4', 'feat31', 0.7086], ['feat8', 'feat4', 0.7089], ['feat8', 'feat12', 0.7087], ['feat8', 'feat13', 0.7087], ['feat8', 'feat14', 0.7087], ['feat8', 'feat15', 0.7087], ['feat8', 'feat20', 0.7087], ['feat8', 'feat31', 0.7085], ['feat8', 'feat56', 0.7085], ['feat8', 'feat63', 0.7086], ['feat8', 'feat66', 0.7084], ['feat8', 'feat69', 0.7086], ['feat8', 'feat70', 0.7087], ['feat8', 'feat71', 0.709], ['feat8', 'feat75', 0.7089], ['feat13', 'feat12', 0.7089], ['feat14', 'feat12', 0.7089], ['feat14', 'feat13', 0.7084], ['feat15', 'feat12', 0.7089], ['feat15', 'feat13', 0.7088], ['feat15', 'feat14', 0.7087], ['feat20', 'feat12', 0.7087], ['feat20', 'feat13', 0.7087], ['feat20', 'feat14', 0.7087], ['feat20', 'feat15', 0.7088], ['feat31', 'feat12', 0.7083], ['feat31', 'feat13', 0.7087], ['feat31', 'feat14', 0.7085], ['feat31', 'feat15', 0.7087], ['feat31', 'feat20', 0.7083], ['feat56', 'feat4', 0.7084], ['feat56', 'feat12', 0.7083], ['feat56', 'feat13', 0.7086], ['feat56', 'feat14', 0.7083], ['feat56', 'feat15', 0.7087], ['feat56', 'feat20', 0.7089], ['feat56', 'feat31', 0.7086], ['feat63', 'feat4', 0.7083], ['feat63', 'feat12', 0.7079], ['feat63', 'feat13', 0.7087], ['feat63', 'feat14', 0.7087], ['feat63', 'feat15', 0.7087], ['feat63', 'feat20', 0.7088], ['feat63', 'feat31', 0.7087], ['feat63', 'feat56', 0.7093], ['feat66', 'feat4', 0.7089], ['feat66', 'feat12', 0.7089], ['feat66', 'feat13', 0.7095], ['feat66', 'feat14', 0.7089], ['feat66', 'feat15', 0.7087], ['feat66', 'feat20', 0.7087], ['feat66', 'feat31', 0.709], ['feat66', 'feat56', 0.7085], ['feat66', 'feat63', 0.7082], ['feat69', 'feat4', 0.7085], ['feat69', 'feat12', 0.7077], ['feat69', 'feat13', 0.7085], ['feat69', 'feat14', 0.7087], ['feat69', 'feat15', 0.7087], ['feat69', 'feat20', 0.7082], ['feat69', 'feat31', 0.7087], ['feat69', 'feat56', 0.7087], ['feat69', 'feat63', 0.7088], ['feat69', 'feat66', 0.7079], ['feat70', 'feat4', 0.7088], ['feat70', 'feat12', 0.7085], ['feat70', 'feat13', 0.7089], ['feat70', 'feat14', 0.7087], ['feat70', 'feat15', 0.7087], ['feat70', 'feat20', 0.7088], ['feat70', 'feat31', 0.7087], ['feat70', 'feat56', 0.7087]]\n",
      "[['feat4', 'feat12', 0.7087], ['feat4', 'feat13', 0.7089], ['feat4', 'feat14', 0.7089], ['feat4', 'feat15', 0.7087], ['feat4', 'feat20', 0.7086], ['feat4', 'feat31', 0.7086], ['feat8', 'feat4', 0.7089], ['feat8', 'feat12', 0.7087], ['feat8', 'feat13', 0.7087], ['feat8', 'feat14', 0.7087], ['feat8', 'feat15', 0.7087], ['feat8', 'feat20', 0.7087], ['feat8', 'feat31', 0.7085], ['feat8', 'feat56', 0.7085], ['feat8', 'feat63', 0.7086], ['feat8', 'feat66', 0.7084], ['feat8', 'feat69', 0.7086], ['feat8', 'feat70', 0.7087], ['feat8', 'feat71', 0.709], ['feat8', 'feat75', 0.7089], ['feat13', 'feat12', 0.7089], ['feat14', 'feat12', 0.7089], ['feat14', 'feat13', 0.7084], ['feat15', 'feat12', 0.7089], ['feat15', 'feat13', 0.7088], ['feat15', 'feat14', 0.7087], ['feat20', 'feat12', 0.7087], ['feat20', 'feat13', 0.7087], ['feat20', 'feat14', 0.7087], ['feat20', 'feat15', 0.7088], ['feat31', 'feat12', 0.7083], ['feat31', 'feat13', 0.7087], ['feat31', 'feat14', 0.7085], ['feat31', 'feat15', 0.7087], ['feat31', 'feat20', 0.7083], ['feat56', 'feat4', 0.7084], ['feat56', 'feat12', 0.7083], ['feat56', 'feat13', 0.7086], ['feat56', 'feat14', 0.7083], ['feat56', 'feat15', 0.7087], ['feat56', 'feat20', 0.7089], ['feat56', 'feat31', 0.7086], ['feat63', 'feat4', 0.7083], ['feat63', 'feat12', 0.7079], ['feat63', 'feat13', 0.7087], ['feat63', 'feat14', 0.7087], ['feat63', 'feat15', 0.7087], ['feat63', 'feat20', 0.7088], ['feat63', 'feat31', 0.7087], ['feat63', 'feat56', 0.7093], ['feat66', 'feat4', 0.7089], ['feat66', 'feat12', 0.7089], ['feat66', 'feat13', 0.7095], ['feat66', 'feat14', 0.7089], ['feat66', 'feat15', 0.7087], ['feat66', 'feat20', 0.7087], ['feat66', 'feat31', 0.709], ['feat66', 'feat56', 0.7085], ['feat66', 'feat63', 0.7082], ['feat69', 'feat4', 0.7085], ['feat69', 'feat12', 0.7077], ['feat69', 'feat13', 0.7085], ['feat69', 'feat14', 0.7087], ['feat69', 'feat15', 0.7087], ['feat69', 'feat20', 0.7082], ['feat69', 'feat31', 0.7087], ['feat69', 'feat56', 0.7087], ['feat69', 'feat63', 0.7088], ['feat69', 'feat66', 0.7079], ['feat70', 'feat4', 0.7088], ['feat70', 'feat12', 0.7085], ['feat70', 'feat13', 0.7089], ['feat70', 'feat14', 0.7087], ['feat70', 'feat15', 0.7087], ['feat70', 'feat20', 0.7088], ['feat70', 'feat31', 0.7087], ['feat70', 'feat56', 0.7087], ['feat70', 'feat63', 0.7086]]\n"
     ]
    },
    {
     "name": "stderr",
     "output_type": "stream",
     "text": [
      "/Library/Frameworks/Python.framework/Versions/3.7/lib/python3.7/site-packages/sklearn/linear_model/logistic.py:432: FutureWarning: Default solver will be changed to 'lbfgs' in 0.22. Specify a solver to silence this warning.\n",
      "  FutureWarning)\n",
      "/Library/Frameworks/Python.framework/Versions/3.7/lib/python3.7/site-packages/sklearn/linear_model/logistic.py:432: FutureWarning: Default solver will be changed to 'lbfgs' in 0.22. Specify a solver to silence this warning.\n",
      "  FutureWarning)\n",
      "/Library/Frameworks/Python.framework/Versions/3.7/lib/python3.7/site-packages/sklearn/linear_model/logistic.py:432: FutureWarning: Default solver will be changed to 'lbfgs' in 0.22. Specify a solver to silence this warning.\n",
      "  FutureWarning)\n"
     ]
    },
    {
     "name": "stdout",
     "output_type": "stream",
     "text": [
      "[['feat4', 'feat12', 0.7087], ['feat4', 'feat13', 0.7089], ['feat4', 'feat14', 0.7089], ['feat4', 'feat15', 0.7087], ['feat4', 'feat20', 0.7086], ['feat4', 'feat31', 0.7086], ['feat8', 'feat4', 0.7089], ['feat8', 'feat12', 0.7087], ['feat8', 'feat13', 0.7087], ['feat8', 'feat14', 0.7087], ['feat8', 'feat15', 0.7087], ['feat8', 'feat20', 0.7087], ['feat8', 'feat31', 0.7085], ['feat8', 'feat56', 0.7085], ['feat8', 'feat63', 0.7086], ['feat8', 'feat66', 0.7084], ['feat8', 'feat69', 0.7086], ['feat8', 'feat70', 0.7087], ['feat8', 'feat71', 0.709], ['feat8', 'feat75', 0.7089], ['feat13', 'feat12', 0.7089], ['feat14', 'feat12', 0.7089], ['feat14', 'feat13', 0.7084], ['feat15', 'feat12', 0.7089], ['feat15', 'feat13', 0.7088], ['feat15', 'feat14', 0.7087], ['feat20', 'feat12', 0.7087], ['feat20', 'feat13', 0.7087], ['feat20', 'feat14', 0.7087], ['feat20', 'feat15', 0.7088], ['feat31', 'feat12', 0.7083], ['feat31', 'feat13', 0.7087], ['feat31', 'feat14', 0.7085], ['feat31', 'feat15', 0.7087], ['feat31', 'feat20', 0.7083], ['feat56', 'feat4', 0.7084], ['feat56', 'feat12', 0.7083], ['feat56', 'feat13', 0.7086], ['feat56', 'feat14', 0.7083], ['feat56', 'feat15', 0.7087], ['feat56', 'feat20', 0.7089], ['feat56', 'feat31', 0.7086], ['feat63', 'feat4', 0.7083], ['feat63', 'feat12', 0.7079], ['feat63', 'feat13', 0.7087], ['feat63', 'feat14', 0.7087], ['feat63', 'feat15', 0.7087], ['feat63', 'feat20', 0.7088], ['feat63', 'feat31', 0.7087], ['feat63', 'feat56', 0.7093], ['feat66', 'feat4', 0.7089], ['feat66', 'feat12', 0.7089], ['feat66', 'feat13', 0.7095], ['feat66', 'feat14', 0.7089], ['feat66', 'feat15', 0.7087], ['feat66', 'feat20', 0.7087], ['feat66', 'feat31', 0.709], ['feat66', 'feat56', 0.7085], ['feat66', 'feat63', 0.7082], ['feat69', 'feat4', 0.7085], ['feat69', 'feat12', 0.7077], ['feat69', 'feat13', 0.7085], ['feat69', 'feat14', 0.7087], ['feat69', 'feat15', 0.7087], ['feat69', 'feat20', 0.7082], ['feat69', 'feat31', 0.7087], ['feat69', 'feat56', 0.7087], ['feat69', 'feat63', 0.7088], ['feat69', 'feat66', 0.7079], ['feat70', 'feat4', 0.7088], ['feat70', 'feat12', 0.7085], ['feat70', 'feat13', 0.7089], ['feat70', 'feat14', 0.7087], ['feat70', 'feat15', 0.7087], ['feat70', 'feat20', 0.7088], ['feat70', 'feat31', 0.7087], ['feat70', 'feat56', 0.7087], ['feat70', 'feat63', 0.7086], ['feat70', 'feat66', 0.7087]]\n",
      "[['feat4', 'feat12', 0.7087], ['feat4', 'feat13', 0.7089], ['feat4', 'feat14', 0.7089], ['feat4', 'feat15', 0.7087], ['feat4', 'feat20', 0.7086], ['feat4', 'feat31', 0.7086], ['feat8', 'feat4', 0.7089], ['feat8', 'feat12', 0.7087], ['feat8', 'feat13', 0.7087], ['feat8', 'feat14', 0.7087], ['feat8', 'feat15', 0.7087], ['feat8', 'feat20', 0.7087], ['feat8', 'feat31', 0.7085], ['feat8', 'feat56', 0.7085], ['feat8', 'feat63', 0.7086], ['feat8', 'feat66', 0.7084], ['feat8', 'feat69', 0.7086], ['feat8', 'feat70', 0.7087], ['feat8', 'feat71', 0.709], ['feat8', 'feat75', 0.7089], ['feat13', 'feat12', 0.7089], ['feat14', 'feat12', 0.7089], ['feat14', 'feat13', 0.7084], ['feat15', 'feat12', 0.7089], ['feat15', 'feat13', 0.7088], ['feat15', 'feat14', 0.7087], ['feat20', 'feat12', 0.7087], ['feat20', 'feat13', 0.7087], ['feat20', 'feat14', 0.7087], ['feat20', 'feat15', 0.7088], ['feat31', 'feat12', 0.7083], ['feat31', 'feat13', 0.7087], ['feat31', 'feat14', 0.7085], ['feat31', 'feat15', 0.7087], ['feat31', 'feat20', 0.7083], ['feat56', 'feat4', 0.7084], ['feat56', 'feat12', 0.7083], ['feat56', 'feat13', 0.7086], ['feat56', 'feat14', 0.7083], ['feat56', 'feat15', 0.7087], ['feat56', 'feat20', 0.7089], ['feat56', 'feat31', 0.7086], ['feat63', 'feat4', 0.7083], ['feat63', 'feat12', 0.7079], ['feat63', 'feat13', 0.7087], ['feat63', 'feat14', 0.7087], ['feat63', 'feat15', 0.7087], ['feat63', 'feat20', 0.7088], ['feat63', 'feat31', 0.7087], ['feat63', 'feat56', 0.7093], ['feat66', 'feat4', 0.7089], ['feat66', 'feat12', 0.7089], ['feat66', 'feat13', 0.7095], ['feat66', 'feat14', 0.7089], ['feat66', 'feat15', 0.7087], ['feat66', 'feat20', 0.7087], ['feat66', 'feat31', 0.709], ['feat66', 'feat56', 0.7085], ['feat66', 'feat63', 0.7082], ['feat69', 'feat4', 0.7085], ['feat69', 'feat12', 0.7077], ['feat69', 'feat13', 0.7085], ['feat69', 'feat14', 0.7087], ['feat69', 'feat15', 0.7087], ['feat69', 'feat20', 0.7082], ['feat69', 'feat31', 0.7087], ['feat69', 'feat56', 0.7087], ['feat69', 'feat63', 0.7088], ['feat69', 'feat66', 0.7079], ['feat70', 'feat4', 0.7088], ['feat70', 'feat12', 0.7085], ['feat70', 'feat13', 0.7089], ['feat70', 'feat14', 0.7087], ['feat70', 'feat15', 0.7087], ['feat70', 'feat20', 0.7088], ['feat70', 'feat31', 0.7087], ['feat70', 'feat56', 0.7087], ['feat70', 'feat63', 0.7086], ['feat70', 'feat66', 0.7087], ['feat70', 'feat69', 0.7088]]\n",
      "[['feat4', 'feat12', 0.7087], ['feat4', 'feat13', 0.7089], ['feat4', 'feat14', 0.7089], ['feat4', 'feat15', 0.7087], ['feat4', 'feat20', 0.7086], ['feat4', 'feat31', 0.7086], ['feat8', 'feat4', 0.7089], ['feat8', 'feat12', 0.7087], ['feat8', 'feat13', 0.7087], ['feat8', 'feat14', 0.7087], ['feat8', 'feat15', 0.7087], ['feat8', 'feat20', 0.7087], ['feat8', 'feat31', 0.7085], ['feat8', 'feat56', 0.7085], ['feat8', 'feat63', 0.7086], ['feat8', 'feat66', 0.7084], ['feat8', 'feat69', 0.7086], ['feat8', 'feat70', 0.7087], ['feat8', 'feat71', 0.709], ['feat8', 'feat75', 0.7089], ['feat13', 'feat12', 0.7089], ['feat14', 'feat12', 0.7089], ['feat14', 'feat13', 0.7084], ['feat15', 'feat12', 0.7089], ['feat15', 'feat13', 0.7088], ['feat15', 'feat14', 0.7087], ['feat20', 'feat12', 0.7087], ['feat20', 'feat13', 0.7087], ['feat20', 'feat14', 0.7087], ['feat20', 'feat15', 0.7088], ['feat31', 'feat12', 0.7083], ['feat31', 'feat13', 0.7087], ['feat31', 'feat14', 0.7085], ['feat31', 'feat15', 0.7087], ['feat31', 'feat20', 0.7083], ['feat56', 'feat4', 0.7084], ['feat56', 'feat12', 0.7083], ['feat56', 'feat13', 0.7086], ['feat56', 'feat14', 0.7083], ['feat56', 'feat15', 0.7087], ['feat56', 'feat20', 0.7089], ['feat56', 'feat31', 0.7086], ['feat63', 'feat4', 0.7083], ['feat63', 'feat12', 0.7079], ['feat63', 'feat13', 0.7087], ['feat63', 'feat14', 0.7087], ['feat63', 'feat15', 0.7087], ['feat63', 'feat20', 0.7088], ['feat63', 'feat31', 0.7087], ['feat63', 'feat56', 0.7093], ['feat66', 'feat4', 0.7089], ['feat66', 'feat12', 0.7089], ['feat66', 'feat13', 0.7095], ['feat66', 'feat14', 0.7089], ['feat66', 'feat15', 0.7087], ['feat66', 'feat20', 0.7087], ['feat66', 'feat31', 0.709], ['feat66', 'feat56', 0.7085], ['feat66', 'feat63', 0.7082], ['feat69', 'feat4', 0.7085], ['feat69', 'feat12', 0.7077], ['feat69', 'feat13', 0.7085], ['feat69', 'feat14', 0.7087], ['feat69', 'feat15', 0.7087], ['feat69', 'feat20', 0.7082], ['feat69', 'feat31', 0.7087], ['feat69', 'feat56', 0.7087], ['feat69', 'feat63', 0.7088], ['feat69', 'feat66', 0.7079], ['feat70', 'feat4', 0.7088], ['feat70', 'feat12', 0.7085], ['feat70', 'feat13', 0.7089], ['feat70', 'feat14', 0.7087], ['feat70', 'feat15', 0.7087], ['feat70', 'feat20', 0.7088], ['feat70', 'feat31', 0.7087], ['feat70', 'feat56', 0.7087], ['feat70', 'feat63', 0.7086], ['feat70', 'feat66', 0.7087], ['feat70', 'feat69', 0.7088], ['feat71', 'feat4', 0.7089]]\n"
     ]
    },
    {
     "name": "stderr",
     "output_type": "stream",
     "text": [
      "/Library/Frameworks/Python.framework/Versions/3.7/lib/python3.7/site-packages/sklearn/linear_model/logistic.py:432: FutureWarning: Default solver will be changed to 'lbfgs' in 0.22. Specify a solver to silence this warning.\n",
      "  FutureWarning)\n",
      "/Library/Frameworks/Python.framework/Versions/3.7/lib/python3.7/site-packages/sklearn/linear_model/logistic.py:432: FutureWarning: Default solver will be changed to 'lbfgs' in 0.22. Specify a solver to silence this warning.\n",
      "  FutureWarning)\n",
      "/Library/Frameworks/Python.framework/Versions/3.7/lib/python3.7/site-packages/sklearn/linear_model/logistic.py:432: FutureWarning: Default solver will be changed to 'lbfgs' in 0.22. Specify a solver to silence this warning.\n",
      "  FutureWarning)\n"
     ]
    },
    {
     "name": "stdout",
     "output_type": "stream",
     "text": [
      "[['feat4', 'feat12', 0.7087], ['feat4', 'feat13', 0.7089], ['feat4', 'feat14', 0.7089], ['feat4', 'feat15', 0.7087], ['feat4', 'feat20', 0.7086], ['feat4', 'feat31', 0.7086], ['feat8', 'feat4', 0.7089], ['feat8', 'feat12', 0.7087], ['feat8', 'feat13', 0.7087], ['feat8', 'feat14', 0.7087], ['feat8', 'feat15', 0.7087], ['feat8', 'feat20', 0.7087], ['feat8', 'feat31', 0.7085], ['feat8', 'feat56', 0.7085], ['feat8', 'feat63', 0.7086], ['feat8', 'feat66', 0.7084], ['feat8', 'feat69', 0.7086], ['feat8', 'feat70', 0.7087], ['feat8', 'feat71', 0.709], ['feat8', 'feat75', 0.7089], ['feat13', 'feat12', 0.7089], ['feat14', 'feat12', 0.7089], ['feat14', 'feat13', 0.7084], ['feat15', 'feat12', 0.7089], ['feat15', 'feat13', 0.7088], ['feat15', 'feat14', 0.7087], ['feat20', 'feat12', 0.7087], ['feat20', 'feat13', 0.7087], ['feat20', 'feat14', 0.7087], ['feat20', 'feat15', 0.7088], ['feat31', 'feat12', 0.7083], ['feat31', 'feat13', 0.7087], ['feat31', 'feat14', 0.7085], ['feat31', 'feat15', 0.7087], ['feat31', 'feat20', 0.7083], ['feat56', 'feat4', 0.7084], ['feat56', 'feat12', 0.7083], ['feat56', 'feat13', 0.7086], ['feat56', 'feat14', 0.7083], ['feat56', 'feat15', 0.7087], ['feat56', 'feat20', 0.7089], ['feat56', 'feat31', 0.7086], ['feat63', 'feat4', 0.7083], ['feat63', 'feat12', 0.7079], ['feat63', 'feat13', 0.7087], ['feat63', 'feat14', 0.7087], ['feat63', 'feat15', 0.7087], ['feat63', 'feat20', 0.7088], ['feat63', 'feat31', 0.7087], ['feat63', 'feat56', 0.7093], ['feat66', 'feat4', 0.7089], ['feat66', 'feat12', 0.7089], ['feat66', 'feat13', 0.7095], ['feat66', 'feat14', 0.7089], ['feat66', 'feat15', 0.7087], ['feat66', 'feat20', 0.7087], ['feat66', 'feat31', 0.709], ['feat66', 'feat56', 0.7085], ['feat66', 'feat63', 0.7082], ['feat69', 'feat4', 0.7085], ['feat69', 'feat12', 0.7077], ['feat69', 'feat13', 0.7085], ['feat69', 'feat14', 0.7087], ['feat69', 'feat15', 0.7087], ['feat69', 'feat20', 0.7082], ['feat69', 'feat31', 0.7087], ['feat69', 'feat56', 0.7087], ['feat69', 'feat63', 0.7088], ['feat69', 'feat66', 0.7079], ['feat70', 'feat4', 0.7088], ['feat70', 'feat12', 0.7085], ['feat70', 'feat13', 0.7089], ['feat70', 'feat14', 0.7087], ['feat70', 'feat15', 0.7087], ['feat70', 'feat20', 0.7088], ['feat70', 'feat31', 0.7087], ['feat70', 'feat56', 0.7087], ['feat70', 'feat63', 0.7086], ['feat70', 'feat66', 0.7087], ['feat70', 'feat69', 0.7088], ['feat71', 'feat4', 0.7089], ['feat71', 'feat12', 0.7082]]\n",
      "[['feat4', 'feat12', 0.7087], ['feat4', 'feat13', 0.7089], ['feat4', 'feat14', 0.7089], ['feat4', 'feat15', 0.7087], ['feat4', 'feat20', 0.7086], ['feat4', 'feat31', 0.7086], ['feat8', 'feat4', 0.7089], ['feat8', 'feat12', 0.7087], ['feat8', 'feat13', 0.7087], ['feat8', 'feat14', 0.7087], ['feat8', 'feat15', 0.7087], ['feat8', 'feat20', 0.7087], ['feat8', 'feat31', 0.7085], ['feat8', 'feat56', 0.7085], ['feat8', 'feat63', 0.7086], ['feat8', 'feat66', 0.7084], ['feat8', 'feat69', 0.7086], ['feat8', 'feat70', 0.7087], ['feat8', 'feat71', 0.709], ['feat8', 'feat75', 0.7089], ['feat13', 'feat12', 0.7089], ['feat14', 'feat12', 0.7089], ['feat14', 'feat13', 0.7084], ['feat15', 'feat12', 0.7089], ['feat15', 'feat13', 0.7088], ['feat15', 'feat14', 0.7087], ['feat20', 'feat12', 0.7087], ['feat20', 'feat13', 0.7087], ['feat20', 'feat14', 0.7087], ['feat20', 'feat15', 0.7088], ['feat31', 'feat12', 0.7083], ['feat31', 'feat13', 0.7087], ['feat31', 'feat14', 0.7085], ['feat31', 'feat15', 0.7087], ['feat31', 'feat20', 0.7083], ['feat56', 'feat4', 0.7084], ['feat56', 'feat12', 0.7083], ['feat56', 'feat13', 0.7086], ['feat56', 'feat14', 0.7083], ['feat56', 'feat15', 0.7087], ['feat56', 'feat20', 0.7089], ['feat56', 'feat31', 0.7086], ['feat63', 'feat4', 0.7083], ['feat63', 'feat12', 0.7079], ['feat63', 'feat13', 0.7087], ['feat63', 'feat14', 0.7087], ['feat63', 'feat15', 0.7087], ['feat63', 'feat20', 0.7088], ['feat63', 'feat31', 0.7087], ['feat63', 'feat56', 0.7093], ['feat66', 'feat4', 0.7089], ['feat66', 'feat12', 0.7089], ['feat66', 'feat13', 0.7095], ['feat66', 'feat14', 0.7089], ['feat66', 'feat15', 0.7087], ['feat66', 'feat20', 0.7087], ['feat66', 'feat31', 0.709], ['feat66', 'feat56', 0.7085], ['feat66', 'feat63', 0.7082], ['feat69', 'feat4', 0.7085], ['feat69', 'feat12', 0.7077], ['feat69', 'feat13', 0.7085], ['feat69', 'feat14', 0.7087], ['feat69', 'feat15', 0.7087], ['feat69', 'feat20', 0.7082], ['feat69', 'feat31', 0.7087], ['feat69', 'feat56', 0.7087], ['feat69', 'feat63', 0.7088], ['feat69', 'feat66', 0.7079], ['feat70', 'feat4', 0.7088], ['feat70', 'feat12', 0.7085], ['feat70', 'feat13', 0.7089], ['feat70', 'feat14', 0.7087], ['feat70', 'feat15', 0.7087], ['feat70', 'feat20', 0.7088], ['feat70', 'feat31', 0.7087], ['feat70', 'feat56', 0.7087], ['feat70', 'feat63', 0.7086], ['feat70', 'feat66', 0.7087], ['feat70', 'feat69', 0.7088], ['feat71', 'feat4', 0.7089], ['feat71', 'feat12', 0.7082], ['feat71', 'feat13', 0.7089]]\n",
      "[['feat4', 'feat12', 0.7087], ['feat4', 'feat13', 0.7089], ['feat4', 'feat14', 0.7089], ['feat4', 'feat15', 0.7087], ['feat4', 'feat20', 0.7086], ['feat4', 'feat31', 0.7086], ['feat8', 'feat4', 0.7089], ['feat8', 'feat12', 0.7087], ['feat8', 'feat13', 0.7087], ['feat8', 'feat14', 0.7087], ['feat8', 'feat15', 0.7087], ['feat8', 'feat20', 0.7087], ['feat8', 'feat31', 0.7085], ['feat8', 'feat56', 0.7085], ['feat8', 'feat63', 0.7086], ['feat8', 'feat66', 0.7084], ['feat8', 'feat69', 0.7086], ['feat8', 'feat70', 0.7087], ['feat8', 'feat71', 0.709], ['feat8', 'feat75', 0.7089], ['feat13', 'feat12', 0.7089], ['feat14', 'feat12', 0.7089], ['feat14', 'feat13', 0.7084], ['feat15', 'feat12', 0.7089], ['feat15', 'feat13', 0.7088], ['feat15', 'feat14', 0.7087], ['feat20', 'feat12', 0.7087], ['feat20', 'feat13', 0.7087], ['feat20', 'feat14', 0.7087], ['feat20', 'feat15', 0.7088], ['feat31', 'feat12', 0.7083], ['feat31', 'feat13', 0.7087], ['feat31', 'feat14', 0.7085], ['feat31', 'feat15', 0.7087], ['feat31', 'feat20', 0.7083], ['feat56', 'feat4', 0.7084], ['feat56', 'feat12', 0.7083], ['feat56', 'feat13', 0.7086], ['feat56', 'feat14', 0.7083], ['feat56', 'feat15', 0.7087], ['feat56', 'feat20', 0.7089], ['feat56', 'feat31', 0.7086], ['feat63', 'feat4', 0.7083], ['feat63', 'feat12', 0.7079], ['feat63', 'feat13', 0.7087], ['feat63', 'feat14', 0.7087], ['feat63', 'feat15', 0.7087], ['feat63', 'feat20', 0.7088], ['feat63', 'feat31', 0.7087], ['feat63', 'feat56', 0.7093], ['feat66', 'feat4', 0.7089], ['feat66', 'feat12', 0.7089], ['feat66', 'feat13', 0.7095], ['feat66', 'feat14', 0.7089], ['feat66', 'feat15', 0.7087], ['feat66', 'feat20', 0.7087], ['feat66', 'feat31', 0.709], ['feat66', 'feat56', 0.7085], ['feat66', 'feat63', 0.7082], ['feat69', 'feat4', 0.7085], ['feat69', 'feat12', 0.7077], ['feat69', 'feat13', 0.7085], ['feat69', 'feat14', 0.7087], ['feat69', 'feat15', 0.7087], ['feat69', 'feat20', 0.7082], ['feat69', 'feat31', 0.7087], ['feat69', 'feat56', 0.7087], ['feat69', 'feat63', 0.7088], ['feat69', 'feat66', 0.7079], ['feat70', 'feat4', 0.7088], ['feat70', 'feat12', 0.7085], ['feat70', 'feat13', 0.7089], ['feat70', 'feat14', 0.7087], ['feat70', 'feat15', 0.7087], ['feat70', 'feat20', 0.7088], ['feat70', 'feat31', 0.7087], ['feat70', 'feat56', 0.7087], ['feat70', 'feat63', 0.7086], ['feat70', 'feat66', 0.7087], ['feat70', 'feat69', 0.7088], ['feat71', 'feat4', 0.7089], ['feat71', 'feat12', 0.7082], ['feat71', 'feat13', 0.7089], ['feat71', 'feat14', 0.7087]]\n"
     ]
    },
    {
     "name": "stderr",
     "output_type": "stream",
     "text": [
      "/Library/Frameworks/Python.framework/Versions/3.7/lib/python3.7/site-packages/sklearn/linear_model/logistic.py:432: FutureWarning: Default solver will be changed to 'lbfgs' in 0.22. Specify a solver to silence this warning.\n",
      "  FutureWarning)\n",
      "/Library/Frameworks/Python.framework/Versions/3.7/lib/python3.7/site-packages/sklearn/linear_model/logistic.py:432: FutureWarning: Default solver will be changed to 'lbfgs' in 0.22. Specify a solver to silence this warning.\n",
      "  FutureWarning)\n",
      "/Library/Frameworks/Python.framework/Versions/3.7/lib/python3.7/site-packages/sklearn/linear_model/logistic.py:432: FutureWarning: Default solver will be changed to 'lbfgs' in 0.22. Specify a solver to silence this warning.\n",
      "  FutureWarning)\n"
     ]
    },
    {
     "name": "stdout",
     "output_type": "stream",
     "text": [
      "[['feat4', 'feat12', 0.7087], ['feat4', 'feat13', 0.7089], ['feat4', 'feat14', 0.7089], ['feat4', 'feat15', 0.7087], ['feat4', 'feat20', 0.7086], ['feat4', 'feat31', 0.7086], ['feat8', 'feat4', 0.7089], ['feat8', 'feat12', 0.7087], ['feat8', 'feat13', 0.7087], ['feat8', 'feat14', 0.7087], ['feat8', 'feat15', 0.7087], ['feat8', 'feat20', 0.7087], ['feat8', 'feat31', 0.7085], ['feat8', 'feat56', 0.7085], ['feat8', 'feat63', 0.7086], ['feat8', 'feat66', 0.7084], ['feat8', 'feat69', 0.7086], ['feat8', 'feat70', 0.7087], ['feat8', 'feat71', 0.709], ['feat8', 'feat75', 0.7089], ['feat13', 'feat12', 0.7089], ['feat14', 'feat12', 0.7089], ['feat14', 'feat13', 0.7084], ['feat15', 'feat12', 0.7089], ['feat15', 'feat13', 0.7088], ['feat15', 'feat14', 0.7087], ['feat20', 'feat12', 0.7087], ['feat20', 'feat13', 0.7087], ['feat20', 'feat14', 0.7087], ['feat20', 'feat15', 0.7088], ['feat31', 'feat12', 0.7083], ['feat31', 'feat13', 0.7087], ['feat31', 'feat14', 0.7085], ['feat31', 'feat15', 0.7087], ['feat31', 'feat20', 0.7083], ['feat56', 'feat4', 0.7084], ['feat56', 'feat12', 0.7083], ['feat56', 'feat13', 0.7086], ['feat56', 'feat14', 0.7083], ['feat56', 'feat15', 0.7087], ['feat56', 'feat20', 0.7089], ['feat56', 'feat31', 0.7086], ['feat63', 'feat4', 0.7083], ['feat63', 'feat12', 0.7079], ['feat63', 'feat13', 0.7087], ['feat63', 'feat14', 0.7087], ['feat63', 'feat15', 0.7087], ['feat63', 'feat20', 0.7088], ['feat63', 'feat31', 0.7087], ['feat63', 'feat56', 0.7093], ['feat66', 'feat4', 0.7089], ['feat66', 'feat12', 0.7089], ['feat66', 'feat13', 0.7095], ['feat66', 'feat14', 0.7089], ['feat66', 'feat15', 0.7087], ['feat66', 'feat20', 0.7087], ['feat66', 'feat31', 0.709], ['feat66', 'feat56', 0.7085], ['feat66', 'feat63', 0.7082], ['feat69', 'feat4', 0.7085], ['feat69', 'feat12', 0.7077], ['feat69', 'feat13', 0.7085], ['feat69', 'feat14', 0.7087], ['feat69', 'feat15', 0.7087], ['feat69', 'feat20', 0.7082], ['feat69', 'feat31', 0.7087], ['feat69', 'feat56', 0.7087], ['feat69', 'feat63', 0.7088], ['feat69', 'feat66', 0.7079], ['feat70', 'feat4', 0.7088], ['feat70', 'feat12', 0.7085], ['feat70', 'feat13', 0.7089], ['feat70', 'feat14', 0.7087], ['feat70', 'feat15', 0.7087], ['feat70', 'feat20', 0.7088], ['feat70', 'feat31', 0.7087], ['feat70', 'feat56', 0.7087], ['feat70', 'feat63', 0.7086], ['feat70', 'feat66', 0.7087], ['feat70', 'feat69', 0.7088], ['feat71', 'feat4', 0.7089], ['feat71', 'feat12', 0.7082], ['feat71', 'feat13', 0.7089], ['feat71', 'feat14', 0.7087], ['feat71', 'feat15', 0.7087]]\n",
      "[['feat4', 'feat12', 0.7087], ['feat4', 'feat13', 0.7089], ['feat4', 'feat14', 0.7089], ['feat4', 'feat15', 0.7087], ['feat4', 'feat20', 0.7086], ['feat4', 'feat31', 0.7086], ['feat8', 'feat4', 0.7089], ['feat8', 'feat12', 0.7087], ['feat8', 'feat13', 0.7087], ['feat8', 'feat14', 0.7087], ['feat8', 'feat15', 0.7087], ['feat8', 'feat20', 0.7087], ['feat8', 'feat31', 0.7085], ['feat8', 'feat56', 0.7085], ['feat8', 'feat63', 0.7086], ['feat8', 'feat66', 0.7084], ['feat8', 'feat69', 0.7086], ['feat8', 'feat70', 0.7087], ['feat8', 'feat71', 0.709], ['feat8', 'feat75', 0.7089], ['feat13', 'feat12', 0.7089], ['feat14', 'feat12', 0.7089], ['feat14', 'feat13', 0.7084], ['feat15', 'feat12', 0.7089], ['feat15', 'feat13', 0.7088], ['feat15', 'feat14', 0.7087], ['feat20', 'feat12', 0.7087], ['feat20', 'feat13', 0.7087], ['feat20', 'feat14', 0.7087], ['feat20', 'feat15', 0.7088], ['feat31', 'feat12', 0.7083], ['feat31', 'feat13', 0.7087], ['feat31', 'feat14', 0.7085], ['feat31', 'feat15', 0.7087], ['feat31', 'feat20', 0.7083], ['feat56', 'feat4', 0.7084], ['feat56', 'feat12', 0.7083], ['feat56', 'feat13', 0.7086], ['feat56', 'feat14', 0.7083], ['feat56', 'feat15', 0.7087], ['feat56', 'feat20', 0.7089], ['feat56', 'feat31', 0.7086], ['feat63', 'feat4', 0.7083], ['feat63', 'feat12', 0.7079], ['feat63', 'feat13', 0.7087], ['feat63', 'feat14', 0.7087], ['feat63', 'feat15', 0.7087], ['feat63', 'feat20', 0.7088], ['feat63', 'feat31', 0.7087], ['feat63', 'feat56', 0.7093], ['feat66', 'feat4', 0.7089], ['feat66', 'feat12', 0.7089], ['feat66', 'feat13', 0.7095], ['feat66', 'feat14', 0.7089], ['feat66', 'feat15', 0.7087], ['feat66', 'feat20', 0.7087], ['feat66', 'feat31', 0.709], ['feat66', 'feat56', 0.7085], ['feat66', 'feat63', 0.7082], ['feat69', 'feat4', 0.7085], ['feat69', 'feat12', 0.7077], ['feat69', 'feat13', 0.7085], ['feat69', 'feat14', 0.7087], ['feat69', 'feat15', 0.7087], ['feat69', 'feat20', 0.7082], ['feat69', 'feat31', 0.7087], ['feat69', 'feat56', 0.7087], ['feat69', 'feat63', 0.7088], ['feat69', 'feat66', 0.7079], ['feat70', 'feat4', 0.7088], ['feat70', 'feat12', 0.7085], ['feat70', 'feat13', 0.7089], ['feat70', 'feat14', 0.7087], ['feat70', 'feat15', 0.7087], ['feat70', 'feat20', 0.7088], ['feat70', 'feat31', 0.7087], ['feat70', 'feat56', 0.7087], ['feat70', 'feat63', 0.7086], ['feat70', 'feat66', 0.7087], ['feat70', 'feat69', 0.7088], ['feat71', 'feat4', 0.7089], ['feat71', 'feat12', 0.7082], ['feat71', 'feat13', 0.7089], ['feat71', 'feat14', 0.7087], ['feat71', 'feat15', 0.7087], ['feat71', 'feat20', 0.7085]]\n"
     ]
    },
    {
     "name": "stderr",
     "output_type": "stream",
     "text": [
      "/Library/Frameworks/Python.framework/Versions/3.7/lib/python3.7/site-packages/sklearn/linear_model/logistic.py:432: FutureWarning: Default solver will be changed to 'lbfgs' in 0.22. Specify a solver to silence this warning.\n",
      "  FutureWarning)\n",
      "/Library/Frameworks/Python.framework/Versions/3.7/lib/python3.7/site-packages/sklearn/linear_model/logistic.py:432: FutureWarning: Default solver will be changed to 'lbfgs' in 0.22. Specify a solver to silence this warning.\n",
      "  FutureWarning)\n"
     ]
    },
    {
     "name": "stdout",
     "output_type": "stream",
     "text": [
      "[['feat4', 'feat12', 0.7087], ['feat4', 'feat13', 0.7089], ['feat4', 'feat14', 0.7089], ['feat4', 'feat15', 0.7087], ['feat4', 'feat20', 0.7086], ['feat4', 'feat31', 0.7086], ['feat8', 'feat4', 0.7089], ['feat8', 'feat12', 0.7087], ['feat8', 'feat13', 0.7087], ['feat8', 'feat14', 0.7087], ['feat8', 'feat15', 0.7087], ['feat8', 'feat20', 0.7087], ['feat8', 'feat31', 0.7085], ['feat8', 'feat56', 0.7085], ['feat8', 'feat63', 0.7086], ['feat8', 'feat66', 0.7084], ['feat8', 'feat69', 0.7086], ['feat8', 'feat70', 0.7087], ['feat8', 'feat71', 0.709], ['feat8', 'feat75', 0.7089], ['feat13', 'feat12', 0.7089], ['feat14', 'feat12', 0.7089], ['feat14', 'feat13', 0.7084], ['feat15', 'feat12', 0.7089], ['feat15', 'feat13', 0.7088], ['feat15', 'feat14', 0.7087], ['feat20', 'feat12', 0.7087], ['feat20', 'feat13', 0.7087], ['feat20', 'feat14', 0.7087], ['feat20', 'feat15', 0.7088], ['feat31', 'feat12', 0.7083], ['feat31', 'feat13', 0.7087], ['feat31', 'feat14', 0.7085], ['feat31', 'feat15', 0.7087], ['feat31', 'feat20', 0.7083], ['feat56', 'feat4', 0.7084], ['feat56', 'feat12', 0.7083], ['feat56', 'feat13', 0.7086], ['feat56', 'feat14', 0.7083], ['feat56', 'feat15', 0.7087], ['feat56', 'feat20', 0.7089], ['feat56', 'feat31', 0.7086], ['feat63', 'feat4', 0.7083], ['feat63', 'feat12', 0.7079], ['feat63', 'feat13', 0.7087], ['feat63', 'feat14', 0.7087], ['feat63', 'feat15', 0.7087], ['feat63', 'feat20', 0.7088], ['feat63', 'feat31', 0.7087], ['feat63', 'feat56', 0.7093], ['feat66', 'feat4', 0.7089], ['feat66', 'feat12', 0.7089], ['feat66', 'feat13', 0.7095], ['feat66', 'feat14', 0.7089], ['feat66', 'feat15', 0.7087], ['feat66', 'feat20', 0.7087], ['feat66', 'feat31', 0.709], ['feat66', 'feat56', 0.7085], ['feat66', 'feat63', 0.7082], ['feat69', 'feat4', 0.7085], ['feat69', 'feat12', 0.7077], ['feat69', 'feat13', 0.7085], ['feat69', 'feat14', 0.7087], ['feat69', 'feat15', 0.7087], ['feat69', 'feat20', 0.7082], ['feat69', 'feat31', 0.7087], ['feat69', 'feat56', 0.7087], ['feat69', 'feat63', 0.7088], ['feat69', 'feat66', 0.7079], ['feat70', 'feat4', 0.7088], ['feat70', 'feat12', 0.7085], ['feat70', 'feat13', 0.7089], ['feat70', 'feat14', 0.7087], ['feat70', 'feat15', 0.7087], ['feat70', 'feat20', 0.7088], ['feat70', 'feat31', 0.7087], ['feat70', 'feat56', 0.7087], ['feat70', 'feat63', 0.7086], ['feat70', 'feat66', 0.7087], ['feat70', 'feat69', 0.7088], ['feat71', 'feat4', 0.7089], ['feat71', 'feat12', 0.7082], ['feat71', 'feat13', 0.7089], ['feat71', 'feat14', 0.7087], ['feat71', 'feat15', 0.7087], ['feat71', 'feat20', 0.7085], ['feat71', 'feat31', 0.709]]\n",
      "[['feat4', 'feat12', 0.7087], ['feat4', 'feat13', 0.7089], ['feat4', 'feat14', 0.7089], ['feat4', 'feat15', 0.7087], ['feat4', 'feat20', 0.7086], ['feat4', 'feat31', 0.7086], ['feat8', 'feat4', 0.7089], ['feat8', 'feat12', 0.7087], ['feat8', 'feat13', 0.7087], ['feat8', 'feat14', 0.7087], ['feat8', 'feat15', 0.7087], ['feat8', 'feat20', 0.7087], ['feat8', 'feat31', 0.7085], ['feat8', 'feat56', 0.7085], ['feat8', 'feat63', 0.7086], ['feat8', 'feat66', 0.7084], ['feat8', 'feat69', 0.7086], ['feat8', 'feat70', 0.7087], ['feat8', 'feat71', 0.709], ['feat8', 'feat75', 0.7089], ['feat13', 'feat12', 0.7089], ['feat14', 'feat12', 0.7089], ['feat14', 'feat13', 0.7084], ['feat15', 'feat12', 0.7089], ['feat15', 'feat13', 0.7088], ['feat15', 'feat14', 0.7087], ['feat20', 'feat12', 0.7087], ['feat20', 'feat13', 0.7087], ['feat20', 'feat14', 0.7087], ['feat20', 'feat15', 0.7088], ['feat31', 'feat12', 0.7083], ['feat31', 'feat13', 0.7087], ['feat31', 'feat14', 0.7085], ['feat31', 'feat15', 0.7087], ['feat31', 'feat20', 0.7083], ['feat56', 'feat4', 0.7084], ['feat56', 'feat12', 0.7083], ['feat56', 'feat13', 0.7086], ['feat56', 'feat14', 0.7083], ['feat56', 'feat15', 0.7087], ['feat56', 'feat20', 0.7089], ['feat56', 'feat31', 0.7086], ['feat63', 'feat4', 0.7083], ['feat63', 'feat12', 0.7079], ['feat63', 'feat13', 0.7087], ['feat63', 'feat14', 0.7087], ['feat63', 'feat15', 0.7087], ['feat63', 'feat20', 0.7088], ['feat63', 'feat31', 0.7087], ['feat63', 'feat56', 0.7093], ['feat66', 'feat4', 0.7089], ['feat66', 'feat12', 0.7089], ['feat66', 'feat13', 0.7095], ['feat66', 'feat14', 0.7089], ['feat66', 'feat15', 0.7087], ['feat66', 'feat20', 0.7087], ['feat66', 'feat31', 0.709], ['feat66', 'feat56', 0.7085], ['feat66', 'feat63', 0.7082], ['feat69', 'feat4', 0.7085], ['feat69', 'feat12', 0.7077], ['feat69', 'feat13', 0.7085], ['feat69', 'feat14', 0.7087], ['feat69', 'feat15', 0.7087], ['feat69', 'feat20', 0.7082], ['feat69', 'feat31', 0.7087], ['feat69', 'feat56', 0.7087], ['feat69', 'feat63', 0.7088], ['feat69', 'feat66', 0.7079], ['feat70', 'feat4', 0.7088], ['feat70', 'feat12', 0.7085], ['feat70', 'feat13', 0.7089], ['feat70', 'feat14', 0.7087], ['feat70', 'feat15', 0.7087], ['feat70', 'feat20', 0.7088], ['feat70', 'feat31', 0.7087], ['feat70', 'feat56', 0.7087], ['feat70', 'feat63', 0.7086], ['feat70', 'feat66', 0.7087], ['feat70', 'feat69', 0.7088], ['feat71', 'feat4', 0.7089], ['feat71', 'feat12', 0.7082], ['feat71', 'feat13', 0.7089], ['feat71', 'feat14', 0.7087], ['feat71', 'feat15', 0.7087], ['feat71', 'feat20', 0.7085], ['feat71', 'feat31', 0.709], ['feat71', 'feat56', 0.7093]]\n",
      "[['feat4', 'feat12', 0.7087], ['feat4', 'feat13', 0.7089], ['feat4', 'feat14', 0.7089], ['feat4', 'feat15', 0.7087], ['feat4', 'feat20', 0.7086], ['feat4', 'feat31', 0.7086], ['feat8', 'feat4', 0.7089], ['feat8', 'feat12', 0.7087], ['feat8', 'feat13', 0.7087], ['feat8', 'feat14', 0.7087], ['feat8', 'feat15', 0.7087], ['feat8', 'feat20', 0.7087], ['feat8', 'feat31', 0.7085], ['feat8', 'feat56', 0.7085], ['feat8', 'feat63', 0.7086], ['feat8', 'feat66', 0.7084], ['feat8', 'feat69', 0.7086], ['feat8', 'feat70', 0.7087], ['feat8', 'feat71', 0.709], ['feat8', 'feat75', 0.7089], ['feat13', 'feat12', 0.7089], ['feat14', 'feat12', 0.7089], ['feat14', 'feat13', 0.7084], ['feat15', 'feat12', 0.7089], ['feat15', 'feat13', 0.7088], ['feat15', 'feat14', 0.7087], ['feat20', 'feat12', 0.7087], ['feat20', 'feat13', 0.7087], ['feat20', 'feat14', 0.7087], ['feat20', 'feat15', 0.7088], ['feat31', 'feat12', 0.7083], ['feat31', 'feat13', 0.7087], ['feat31', 'feat14', 0.7085], ['feat31', 'feat15', 0.7087], ['feat31', 'feat20', 0.7083], ['feat56', 'feat4', 0.7084], ['feat56', 'feat12', 0.7083], ['feat56', 'feat13', 0.7086], ['feat56', 'feat14', 0.7083], ['feat56', 'feat15', 0.7087], ['feat56', 'feat20', 0.7089], ['feat56', 'feat31', 0.7086], ['feat63', 'feat4', 0.7083], ['feat63', 'feat12', 0.7079], ['feat63', 'feat13', 0.7087], ['feat63', 'feat14', 0.7087], ['feat63', 'feat15', 0.7087], ['feat63', 'feat20', 0.7088], ['feat63', 'feat31', 0.7087], ['feat63', 'feat56', 0.7093], ['feat66', 'feat4', 0.7089], ['feat66', 'feat12', 0.7089], ['feat66', 'feat13', 0.7095], ['feat66', 'feat14', 0.7089], ['feat66', 'feat15', 0.7087], ['feat66', 'feat20', 0.7087], ['feat66', 'feat31', 0.709], ['feat66', 'feat56', 0.7085], ['feat66', 'feat63', 0.7082], ['feat69', 'feat4', 0.7085], ['feat69', 'feat12', 0.7077], ['feat69', 'feat13', 0.7085], ['feat69', 'feat14', 0.7087], ['feat69', 'feat15', 0.7087], ['feat69', 'feat20', 0.7082], ['feat69', 'feat31', 0.7087], ['feat69', 'feat56', 0.7087], ['feat69', 'feat63', 0.7088], ['feat69', 'feat66', 0.7079], ['feat70', 'feat4', 0.7088], ['feat70', 'feat12', 0.7085], ['feat70', 'feat13', 0.7089], ['feat70', 'feat14', 0.7087], ['feat70', 'feat15', 0.7087], ['feat70', 'feat20', 0.7088], ['feat70', 'feat31', 0.7087], ['feat70', 'feat56', 0.7087], ['feat70', 'feat63', 0.7086], ['feat70', 'feat66', 0.7087], ['feat70', 'feat69', 0.7088], ['feat71', 'feat4', 0.7089], ['feat71', 'feat12', 0.7082], ['feat71', 'feat13', 0.7089], ['feat71', 'feat14', 0.7087], ['feat71', 'feat15', 0.7087], ['feat71', 'feat20', 0.7085], ['feat71', 'feat31', 0.709], ['feat71', 'feat56', 0.7093], ['feat71', 'feat63', 0.7087]]\n"
     ]
    },
    {
     "name": "stderr",
     "output_type": "stream",
     "text": [
      "/Library/Frameworks/Python.framework/Versions/3.7/lib/python3.7/site-packages/sklearn/linear_model/logistic.py:432: FutureWarning: Default solver will be changed to 'lbfgs' in 0.22. Specify a solver to silence this warning.\n",
      "  FutureWarning)\n",
      "/Library/Frameworks/Python.framework/Versions/3.7/lib/python3.7/site-packages/sklearn/linear_model/logistic.py:432: FutureWarning: Default solver will be changed to 'lbfgs' in 0.22. Specify a solver to silence this warning.\n",
      "  FutureWarning)\n",
      "/Library/Frameworks/Python.framework/Versions/3.7/lib/python3.7/site-packages/sklearn/linear_model/logistic.py:432: FutureWarning: Default solver will be changed to 'lbfgs' in 0.22. Specify a solver to silence this warning.\n",
      "  FutureWarning)\n"
     ]
    },
    {
     "name": "stdout",
     "output_type": "stream",
     "text": [
      "[['feat4', 'feat12', 0.7087], ['feat4', 'feat13', 0.7089], ['feat4', 'feat14', 0.7089], ['feat4', 'feat15', 0.7087], ['feat4', 'feat20', 0.7086], ['feat4', 'feat31', 0.7086], ['feat8', 'feat4', 0.7089], ['feat8', 'feat12', 0.7087], ['feat8', 'feat13', 0.7087], ['feat8', 'feat14', 0.7087], ['feat8', 'feat15', 0.7087], ['feat8', 'feat20', 0.7087], ['feat8', 'feat31', 0.7085], ['feat8', 'feat56', 0.7085], ['feat8', 'feat63', 0.7086], ['feat8', 'feat66', 0.7084], ['feat8', 'feat69', 0.7086], ['feat8', 'feat70', 0.7087], ['feat8', 'feat71', 0.709], ['feat8', 'feat75', 0.7089], ['feat13', 'feat12', 0.7089], ['feat14', 'feat12', 0.7089], ['feat14', 'feat13', 0.7084], ['feat15', 'feat12', 0.7089], ['feat15', 'feat13', 0.7088], ['feat15', 'feat14', 0.7087], ['feat20', 'feat12', 0.7087], ['feat20', 'feat13', 0.7087], ['feat20', 'feat14', 0.7087], ['feat20', 'feat15', 0.7088], ['feat31', 'feat12', 0.7083], ['feat31', 'feat13', 0.7087], ['feat31', 'feat14', 0.7085], ['feat31', 'feat15', 0.7087], ['feat31', 'feat20', 0.7083], ['feat56', 'feat4', 0.7084], ['feat56', 'feat12', 0.7083], ['feat56', 'feat13', 0.7086], ['feat56', 'feat14', 0.7083], ['feat56', 'feat15', 0.7087], ['feat56', 'feat20', 0.7089], ['feat56', 'feat31', 0.7086], ['feat63', 'feat4', 0.7083], ['feat63', 'feat12', 0.7079], ['feat63', 'feat13', 0.7087], ['feat63', 'feat14', 0.7087], ['feat63', 'feat15', 0.7087], ['feat63', 'feat20', 0.7088], ['feat63', 'feat31', 0.7087], ['feat63', 'feat56', 0.7093], ['feat66', 'feat4', 0.7089], ['feat66', 'feat12', 0.7089], ['feat66', 'feat13', 0.7095], ['feat66', 'feat14', 0.7089], ['feat66', 'feat15', 0.7087], ['feat66', 'feat20', 0.7087], ['feat66', 'feat31', 0.709], ['feat66', 'feat56', 0.7085], ['feat66', 'feat63', 0.7082], ['feat69', 'feat4', 0.7085], ['feat69', 'feat12', 0.7077], ['feat69', 'feat13', 0.7085], ['feat69', 'feat14', 0.7087], ['feat69', 'feat15', 0.7087], ['feat69', 'feat20', 0.7082], ['feat69', 'feat31', 0.7087], ['feat69', 'feat56', 0.7087], ['feat69', 'feat63', 0.7088], ['feat69', 'feat66', 0.7079], ['feat70', 'feat4', 0.7088], ['feat70', 'feat12', 0.7085], ['feat70', 'feat13', 0.7089], ['feat70', 'feat14', 0.7087], ['feat70', 'feat15', 0.7087], ['feat70', 'feat20', 0.7088], ['feat70', 'feat31', 0.7087], ['feat70', 'feat56', 0.7087], ['feat70', 'feat63', 0.7086], ['feat70', 'feat66', 0.7087], ['feat70', 'feat69', 0.7088], ['feat71', 'feat4', 0.7089], ['feat71', 'feat12', 0.7082], ['feat71', 'feat13', 0.7089], ['feat71', 'feat14', 0.7087], ['feat71', 'feat15', 0.7087], ['feat71', 'feat20', 0.7085], ['feat71', 'feat31', 0.709], ['feat71', 'feat56', 0.7093], ['feat71', 'feat63', 0.7087], ['feat71', 'feat66', 0.7087]]\n",
      "[['feat4', 'feat12', 0.7087], ['feat4', 'feat13', 0.7089], ['feat4', 'feat14', 0.7089], ['feat4', 'feat15', 0.7087], ['feat4', 'feat20', 0.7086], ['feat4', 'feat31', 0.7086], ['feat8', 'feat4', 0.7089], ['feat8', 'feat12', 0.7087], ['feat8', 'feat13', 0.7087], ['feat8', 'feat14', 0.7087], ['feat8', 'feat15', 0.7087], ['feat8', 'feat20', 0.7087], ['feat8', 'feat31', 0.7085], ['feat8', 'feat56', 0.7085], ['feat8', 'feat63', 0.7086], ['feat8', 'feat66', 0.7084], ['feat8', 'feat69', 0.7086], ['feat8', 'feat70', 0.7087], ['feat8', 'feat71', 0.709], ['feat8', 'feat75', 0.7089], ['feat13', 'feat12', 0.7089], ['feat14', 'feat12', 0.7089], ['feat14', 'feat13', 0.7084], ['feat15', 'feat12', 0.7089], ['feat15', 'feat13', 0.7088], ['feat15', 'feat14', 0.7087], ['feat20', 'feat12', 0.7087], ['feat20', 'feat13', 0.7087], ['feat20', 'feat14', 0.7087], ['feat20', 'feat15', 0.7088], ['feat31', 'feat12', 0.7083], ['feat31', 'feat13', 0.7087], ['feat31', 'feat14', 0.7085], ['feat31', 'feat15', 0.7087], ['feat31', 'feat20', 0.7083], ['feat56', 'feat4', 0.7084], ['feat56', 'feat12', 0.7083], ['feat56', 'feat13', 0.7086], ['feat56', 'feat14', 0.7083], ['feat56', 'feat15', 0.7087], ['feat56', 'feat20', 0.7089], ['feat56', 'feat31', 0.7086], ['feat63', 'feat4', 0.7083], ['feat63', 'feat12', 0.7079], ['feat63', 'feat13', 0.7087], ['feat63', 'feat14', 0.7087], ['feat63', 'feat15', 0.7087], ['feat63', 'feat20', 0.7088], ['feat63', 'feat31', 0.7087], ['feat63', 'feat56', 0.7093], ['feat66', 'feat4', 0.7089], ['feat66', 'feat12', 0.7089], ['feat66', 'feat13', 0.7095], ['feat66', 'feat14', 0.7089], ['feat66', 'feat15', 0.7087], ['feat66', 'feat20', 0.7087], ['feat66', 'feat31', 0.709], ['feat66', 'feat56', 0.7085], ['feat66', 'feat63', 0.7082], ['feat69', 'feat4', 0.7085], ['feat69', 'feat12', 0.7077], ['feat69', 'feat13', 0.7085], ['feat69', 'feat14', 0.7087], ['feat69', 'feat15', 0.7087], ['feat69', 'feat20', 0.7082], ['feat69', 'feat31', 0.7087], ['feat69', 'feat56', 0.7087], ['feat69', 'feat63', 0.7088], ['feat69', 'feat66', 0.7079], ['feat70', 'feat4', 0.7088], ['feat70', 'feat12', 0.7085], ['feat70', 'feat13', 0.7089], ['feat70', 'feat14', 0.7087], ['feat70', 'feat15', 0.7087], ['feat70', 'feat20', 0.7088], ['feat70', 'feat31', 0.7087], ['feat70', 'feat56', 0.7087], ['feat70', 'feat63', 0.7086], ['feat70', 'feat66', 0.7087], ['feat70', 'feat69', 0.7088], ['feat71', 'feat4', 0.7089], ['feat71', 'feat12', 0.7082], ['feat71', 'feat13', 0.7089], ['feat71', 'feat14', 0.7087], ['feat71', 'feat15', 0.7087], ['feat71', 'feat20', 0.7085], ['feat71', 'feat31', 0.709], ['feat71', 'feat56', 0.7093], ['feat71', 'feat63', 0.7087], ['feat71', 'feat66', 0.7087], ['feat71', 'feat69', 0.7092]]\n",
      "[['feat4', 'feat12', 0.7087], ['feat4', 'feat13', 0.7089], ['feat4', 'feat14', 0.7089], ['feat4', 'feat15', 0.7087], ['feat4', 'feat20', 0.7086], ['feat4', 'feat31', 0.7086], ['feat8', 'feat4', 0.7089], ['feat8', 'feat12', 0.7087], ['feat8', 'feat13', 0.7087], ['feat8', 'feat14', 0.7087], ['feat8', 'feat15', 0.7087], ['feat8', 'feat20', 0.7087], ['feat8', 'feat31', 0.7085], ['feat8', 'feat56', 0.7085], ['feat8', 'feat63', 0.7086], ['feat8', 'feat66', 0.7084], ['feat8', 'feat69', 0.7086], ['feat8', 'feat70', 0.7087], ['feat8', 'feat71', 0.709], ['feat8', 'feat75', 0.7089], ['feat13', 'feat12', 0.7089], ['feat14', 'feat12', 0.7089], ['feat14', 'feat13', 0.7084], ['feat15', 'feat12', 0.7089], ['feat15', 'feat13', 0.7088], ['feat15', 'feat14', 0.7087], ['feat20', 'feat12', 0.7087], ['feat20', 'feat13', 0.7087], ['feat20', 'feat14', 0.7087], ['feat20', 'feat15', 0.7088], ['feat31', 'feat12', 0.7083], ['feat31', 'feat13', 0.7087], ['feat31', 'feat14', 0.7085], ['feat31', 'feat15', 0.7087], ['feat31', 'feat20', 0.7083], ['feat56', 'feat4', 0.7084], ['feat56', 'feat12', 0.7083], ['feat56', 'feat13', 0.7086], ['feat56', 'feat14', 0.7083], ['feat56', 'feat15', 0.7087], ['feat56', 'feat20', 0.7089], ['feat56', 'feat31', 0.7086], ['feat63', 'feat4', 0.7083], ['feat63', 'feat12', 0.7079], ['feat63', 'feat13', 0.7087], ['feat63', 'feat14', 0.7087], ['feat63', 'feat15', 0.7087], ['feat63', 'feat20', 0.7088], ['feat63', 'feat31', 0.7087], ['feat63', 'feat56', 0.7093], ['feat66', 'feat4', 0.7089], ['feat66', 'feat12', 0.7089], ['feat66', 'feat13', 0.7095], ['feat66', 'feat14', 0.7089], ['feat66', 'feat15', 0.7087], ['feat66', 'feat20', 0.7087], ['feat66', 'feat31', 0.709], ['feat66', 'feat56', 0.7085], ['feat66', 'feat63', 0.7082], ['feat69', 'feat4', 0.7085], ['feat69', 'feat12', 0.7077], ['feat69', 'feat13', 0.7085], ['feat69', 'feat14', 0.7087], ['feat69', 'feat15', 0.7087], ['feat69', 'feat20', 0.7082], ['feat69', 'feat31', 0.7087], ['feat69', 'feat56', 0.7087], ['feat69', 'feat63', 0.7088], ['feat69', 'feat66', 0.7079], ['feat70', 'feat4', 0.7088], ['feat70', 'feat12', 0.7085], ['feat70', 'feat13', 0.7089], ['feat70', 'feat14', 0.7087], ['feat70', 'feat15', 0.7087], ['feat70', 'feat20', 0.7088], ['feat70', 'feat31', 0.7087], ['feat70', 'feat56', 0.7087], ['feat70', 'feat63', 0.7086], ['feat70', 'feat66', 0.7087], ['feat70', 'feat69', 0.7088], ['feat71', 'feat4', 0.7089], ['feat71', 'feat12', 0.7082], ['feat71', 'feat13', 0.7089], ['feat71', 'feat14', 0.7087], ['feat71', 'feat15', 0.7087], ['feat71', 'feat20', 0.7085], ['feat71', 'feat31', 0.709], ['feat71', 'feat56', 0.7093], ['feat71', 'feat63', 0.7087], ['feat71', 'feat66', 0.7087], ['feat71', 'feat69', 0.7092], ['feat71', 'feat70', 0.7089]]\n"
     ]
    },
    {
     "name": "stderr",
     "output_type": "stream",
     "text": [
      "/Library/Frameworks/Python.framework/Versions/3.7/lib/python3.7/site-packages/sklearn/linear_model/logistic.py:432: FutureWarning: Default solver will be changed to 'lbfgs' in 0.22. Specify a solver to silence this warning.\n",
      "  FutureWarning)\n",
      "/Library/Frameworks/Python.framework/Versions/3.7/lib/python3.7/site-packages/sklearn/linear_model/logistic.py:432: FutureWarning: Default solver will be changed to 'lbfgs' in 0.22. Specify a solver to silence this warning.\n",
      "  FutureWarning)\n",
      "/Library/Frameworks/Python.framework/Versions/3.7/lib/python3.7/site-packages/sklearn/linear_model/logistic.py:432: FutureWarning: Default solver will be changed to 'lbfgs' in 0.22. Specify a solver to silence this warning.\n",
      "  FutureWarning)\n"
     ]
    },
    {
     "name": "stdout",
     "output_type": "stream",
     "text": [
      "[['feat4', 'feat12', 0.7087], ['feat4', 'feat13', 0.7089], ['feat4', 'feat14', 0.7089], ['feat4', 'feat15', 0.7087], ['feat4', 'feat20', 0.7086], ['feat4', 'feat31', 0.7086], ['feat8', 'feat4', 0.7089], ['feat8', 'feat12', 0.7087], ['feat8', 'feat13', 0.7087], ['feat8', 'feat14', 0.7087], ['feat8', 'feat15', 0.7087], ['feat8', 'feat20', 0.7087], ['feat8', 'feat31', 0.7085], ['feat8', 'feat56', 0.7085], ['feat8', 'feat63', 0.7086], ['feat8', 'feat66', 0.7084], ['feat8', 'feat69', 0.7086], ['feat8', 'feat70', 0.7087], ['feat8', 'feat71', 0.709], ['feat8', 'feat75', 0.7089], ['feat13', 'feat12', 0.7089], ['feat14', 'feat12', 0.7089], ['feat14', 'feat13', 0.7084], ['feat15', 'feat12', 0.7089], ['feat15', 'feat13', 0.7088], ['feat15', 'feat14', 0.7087], ['feat20', 'feat12', 0.7087], ['feat20', 'feat13', 0.7087], ['feat20', 'feat14', 0.7087], ['feat20', 'feat15', 0.7088], ['feat31', 'feat12', 0.7083], ['feat31', 'feat13', 0.7087], ['feat31', 'feat14', 0.7085], ['feat31', 'feat15', 0.7087], ['feat31', 'feat20', 0.7083], ['feat56', 'feat4', 0.7084], ['feat56', 'feat12', 0.7083], ['feat56', 'feat13', 0.7086], ['feat56', 'feat14', 0.7083], ['feat56', 'feat15', 0.7087], ['feat56', 'feat20', 0.7089], ['feat56', 'feat31', 0.7086], ['feat63', 'feat4', 0.7083], ['feat63', 'feat12', 0.7079], ['feat63', 'feat13', 0.7087], ['feat63', 'feat14', 0.7087], ['feat63', 'feat15', 0.7087], ['feat63', 'feat20', 0.7088], ['feat63', 'feat31', 0.7087], ['feat63', 'feat56', 0.7093], ['feat66', 'feat4', 0.7089], ['feat66', 'feat12', 0.7089], ['feat66', 'feat13', 0.7095], ['feat66', 'feat14', 0.7089], ['feat66', 'feat15', 0.7087], ['feat66', 'feat20', 0.7087], ['feat66', 'feat31', 0.709], ['feat66', 'feat56', 0.7085], ['feat66', 'feat63', 0.7082], ['feat69', 'feat4', 0.7085], ['feat69', 'feat12', 0.7077], ['feat69', 'feat13', 0.7085], ['feat69', 'feat14', 0.7087], ['feat69', 'feat15', 0.7087], ['feat69', 'feat20', 0.7082], ['feat69', 'feat31', 0.7087], ['feat69', 'feat56', 0.7087], ['feat69', 'feat63', 0.7088], ['feat69', 'feat66', 0.7079], ['feat70', 'feat4', 0.7088], ['feat70', 'feat12', 0.7085], ['feat70', 'feat13', 0.7089], ['feat70', 'feat14', 0.7087], ['feat70', 'feat15', 0.7087], ['feat70', 'feat20', 0.7088], ['feat70', 'feat31', 0.7087], ['feat70', 'feat56', 0.7087], ['feat70', 'feat63', 0.7086], ['feat70', 'feat66', 0.7087], ['feat70', 'feat69', 0.7088], ['feat71', 'feat4', 0.7089], ['feat71', 'feat12', 0.7082], ['feat71', 'feat13', 0.7089], ['feat71', 'feat14', 0.7087], ['feat71', 'feat15', 0.7087], ['feat71', 'feat20', 0.7085], ['feat71', 'feat31', 0.709], ['feat71', 'feat56', 0.7093], ['feat71', 'feat63', 0.7087], ['feat71', 'feat66', 0.7087], ['feat71', 'feat69', 0.7092], ['feat71', 'feat70', 0.7089], ['feat75', 'feat4', 0.7089]]\n",
      "[['feat4', 'feat12', 0.7087], ['feat4', 'feat13', 0.7089], ['feat4', 'feat14', 0.7089], ['feat4', 'feat15', 0.7087], ['feat4', 'feat20', 0.7086], ['feat4', 'feat31', 0.7086], ['feat8', 'feat4', 0.7089], ['feat8', 'feat12', 0.7087], ['feat8', 'feat13', 0.7087], ['feat8', 'feat14', 0.7087], ['feat8', 'feat15', 0.7087], ['feat8', 'feat20', 0.7087], ['feat8', 'feat31', 0.7085], ['feat8', 'feat56', 0.7085], ['feat8', 'feat63', 0.7086], ['feat8', 'feat66', 0.7084], ['feat8', 'feat69', 0.7086], ['feat8', 'feat70', 0.7087], ['feat8', 'feat71', 0.709], ['feat8', 'feat75', 0.7089], ['feat13', 'feat12', 0.7089], ['feat14', 'feat12', 0.7089], ['feat14', 'feat13', 0.7084], ['feat15', 'feat12', 0.7089], ['feat15', 'feat13', 0.7088], ['feat15', 'feat14', 0.7087], ['feat20', 'feat12', 0.7087], ['feat20', 'feat13', 0.7087], ['feat20', 'feat14', 0.7087], ['feat20', 'feat15', 0.7088], ['feat31', 'feat12', 0.7083], ['feat31', 'feat13', 0.7087], ['feat31', 'feat14', 0.7085], ['feat31', 'feat15', 0.7087], ['feat31', 'feat20', 0.7083], ['feat56', 'feat4', 0.7084], ['feat56', 'feat12', 0.7083], ['feat56', 'feat13', 0.7086], ['feat56', 'feat14', 0.7083], ['feat56', 'feat15', 0.7087], ['feat56', 'feat20', 0.7089], ['feat56', 'feat31', 0.7086], ['feat63', 'feat4', 0.7083], ['feat63', 'feat12', 0.7079], ['feat63', 'feat13', 0.7087], ['feat63', 'feat14', 0.7087], ['feat63', 'feat15', 0.7087], ['feat63', 'feat20', 0.7088], ['feat63', 'feat31', 0.7087], ['feat63', 'feat56', 0.7093], ['feat66', 'feat4', 0.7089], ['feat66', 'feat12', 0.7089], ['feat66', 'feat13', 0.7095], ['feat66', 'feat14', 0.7089], ['feat66', 'feat15', 0.7087], ['feat66', 'feat20', 0.7087], ['feat66', 'feat31', 0.709], ['feat66', 'feat56', 0.7085], ['feat66', 'feat63', 0.7082], ['feat69', 'feat4', 0.7085], ['feat69', 'feat12', 0.7077], ['feat69', 'feat13', 0.7085], ['feat69', 'feat14', 0.7087], ['feat69', 'feat15', 0.7087], ['feat69', 'feat20', 0.7082], ['feat69', 'feat31', 0.7087], ['feat69', 'feat56', 0.7087], ['feat69', 'feat63', 0.7088], ['feat69', 'feat66', 0.7079], ['feat70', 'feat4', 0.7088], ['feat70', 'feat12', 0.7085], ['feat70', 'feat13', 0.7089], ['feat70', 'feat14', 0.7087], ['feat70', 'feat15', 0.7087], ['feat70', 'feat20', 0.7088], ['feat70', 'feat31', 0.7087], ['feat70', 'feat56', 0.7087], ['feat70', 'feat63', 0.7086], ['feat70', 'feat66', 0.7087], ['feat70', 'feat69', 0.7088], ['feat71', 'feat4', 0.7089], ['feat71', 'feat12', 0.7082], ['feat71', 'feat13', 0.7089], ['feat71', 'feat14', 0.7087], ['feat71', 'feat15', 0.7087], ['feat71', 'feat20', 0.7085], ['feat71', 'feat31', 0.709], ['feat71', 'feat56', 0.7093], ['feat71', 'feat63', 0.7087], ['feat71', 'feat66', 0.7087], ['feat71', 'feat69', 0.7092], ['feat71', 'feat70', 0.7089], ['feat75', 'feat4', 0.7089], ['feat75', 'feat12', 0.7089]]\n"
     ]
    },
    {
     "name": "stderr",
     "output_type": "stream",
     "text": [
      "/Library/Frameworks/Python.framework/Versions/3.7/lib/python3.7/site-packages/sklearn/linear_model/logistic.py:432: FutureWarning: Default solver will be changed to 'lbfgs' in 0.22. Specify a solver to silence this warning.\n",
      "  FutureWarning)\n",
      "/Library/Frameworks/Python.framework/Versions/3.7/lib/python3.7/site-packages/sklearn/linear_model/logistic.py:432: FutureWarning: Default solver will be changed to 'lbfgs' in 0.22. Specify a solver to silence this warning.\n",
      "  FutureWarning)\n"
     ]
    },
    {
     "name": "stdout",
     "output_type": "stream",
     "text": [
      "[['feat4', 'feat12', 0.7087], ['feat4', 'feat13', 0.7089], ['feat4', 'feat14', 0.7089], ['feat4', 'feat15', 0.7087], ['feat4', 'feat20', 0.7086], ['feat4', 'feat31', 0.7086], ['feat8', 'feat4', 0.7089], ['feat8', 'feat12', 0.7087], ['feat8', 'feat13', 0.7087], ['feat8', 'feat14', 0.7087], ['feat8', 'feat15', 0.7087], ['feat8', 'feat20', 0.7087], ['feat8', 'feat31', 0.7085], ['feat8', 'feat56', 0.7085], ['feat8', 'feat63', 0.7086], ['feat8', 'feat66', 0.7084], ['feat8', 'feat69', 0.7086], ['feat8', 'feat70', 0.7087], ['feat8', 'feat71', 0.709], ['feat8', 'feat75', 0.7089], ['feat13', 'feat12', 0.7089], ['feat14', 'feat12', 0.7089], ['feat14', 'feat13', 0.7084], ['feat15', 'feat12', 0.7089], ['feat15', 'feat13', 0.7088], ['feat15', 'feat14', 0.7087], ['feat20', 'feat12', 0.7087], ['feat20', 'feat13', 0.7087], ['feat20', 'feat14', 0.7087], ['feat20', 'feat15', 0.7088], ['feat31', 'feat12', 0.7083], ['feat31', 'feat13', 0.7087], ['feat31', 'feat14', 0.7085], ['feat31', 'feat15', 0.7087], ['feat31', 'feat20', 0.7083], ['feat56', 'feat4', 0.7084], ['feat56', 'feat12', 0.7083], ['feat56', 'feat13', 0.7086], ['feat56', 'feat14', 0.7083], ['feat56', 'feat15', 0.7087], ['feat56', 'feat20', 0.7089], ['feat56', 'feat31', 0.7086], ['feat63', 'feat4', 0.7083], ['feat63', 'feat12', 0.7079], ['feat63', 'feat13', 0.7087], ['feat63', 'feat14', 0.7087], ['feat63', 'feat15', 0.7087], ['feat63', 'feat20', 0.7088], ['feat63', 'feat31', 0.7087], ['feat63', 'feat56', 0.7093], ['feat66', 'feat4', 0.7089], ['feat66', 'feat12', 0.7089], ['feat66', 'feat13', 0.7095], ['feat66', 'feat14', 0.7089], ['feat66', 'feat15', 0.7087], ['feat66', 'feat20', 0.7087], ['feat66', 'feat31', 0.709], ['feat66', 'feat56', 0.7085], ['feat66', 'feat63', 0.7082], ['feat69', 'feat4', 0.7085], ['feat69', 'feat12', 0.7077], ['feat69', 'feat13', 0.7085], ['feat69', 'feat14', 0.7087], ['feat69', 'feat15', 0.7087], ['feat69', 'feat20', 0.7082], ['feat69', 'feat31', 0.7087], ['feat69', 'feat56', 0.7087], ['feat69', 'feat63', 0.7088], ['feat69', 'feat66', 0.7079], ['feat70', 'feat4', 0.7088], ['feat70', 'feat12', 0.7085], ['feat70', 'feat13', 0.7089], ['feat70', 'feat14', 0.7087], ['feat70', 'feat15', 0.7087], ['feat70', 'feat20', 0.7088], ['feat70', 'feat31', 0.7087], ['feat70', 'feat56', 0.7087], ['feat70', 'feat63', 0.7086], ['feat70', 'feat66', 0.7087], ['feat70', 'feat69', 0.7088], ['feat71', 'feat4', 0.7089], ['feat71', 'feat12', 0.7082], ['feat71', 'feat13', 0.7089], ['feat71', 'feat14', 0.7087], ['feat71', 'feat15', 0.7087], ['feat71', 'feat20', 0.7085], ['feat71', 'feat31', 0.709], ['feat71', 'feat56', 0.7093], ['feat71', 'feat63', 0.7087], ['feat71', 'feat66', 0.7087], ['feat71', 'feat69', 0.7092], ['feat71', 'feat70', 0.7089], ['feat75', 'feat4', 0.7089], ['feat75', 'feat12', 0.7089], ['feat75', 'feat13', 0.7087]]\n",
      "[['feat4', 'feat12', 0.7087], ['feat4', 'feat13', 0.7089], ['feat4', 'feat14', 0.7089], ['feat4', 'feat15', 0.7087], ['feat4', 'feat20', 0.7086], ['feat4', 'feat31', 0.7086], ['feat8', 'feat4', 0.7089], ['feat8', 'feat12', 0.7087], ['feat8', 'feat13', 0.7087], ['feat8', 'feat14', 0.7087], ['feat8', 'feat15', 0.7087], ['feat8', 'feat20', 0.7087], ['feat8', 'feat31', 0.7085], ['feat8', 'feat56', 0.7085], ['feat8', 'feat63', 0.7086], ['feat8', 'feat66', 0.7084], ['feat8', 'feat69', 0.7086], ['feat8', 'feat70', 0.7087], ['feat8', 'feat71', 0.709], ['feat8', 'feat75', 0.7089], ['feat13', 'feat12', 0.7089], ['feat14', 'feat12', 0.7089], ['feat14', 'feat13', 0.7084], ['feat15', 'feat12', 0.7089], ['feat15', 'feat13', 0.7088], ['feat15', 'feat14', 0.7087], ['feat20', 'feat12', 0.7087], ['feat20', 'feat13', 0.7087], ['feat20', 'feat14', 0.7087], ['feat20', 'feat15', 0.7088], ['feat31', 'feat12', 0.7083], ['feat31', 'feat13', 0.7087], ['feat31', 'feat14', 0.7085], ['feat31', 'feat15', 0.7087], ['feat31', 'feat20', 0.7083], ['feat56', 'feat4', 0.7084], ['feat56', 'feat12', 0.7083], ['feat56', 'feat13', 0.7086], ['feat56', 'feat14', 0.7083], ['feat56', 'feat15', 0.7087], ['feat56', 'feat20', 0.7089], ['feat56', 'feat31', 0.7086], ['feat63', 'feat4', 0.7083], ['feat63', 'feat12', 0.7079], ['feat63', 'feat13', 0.7087], ['feat63', 'feat14', 0.7087], ['feat63', 'feat15', 0.7087], ['feat63', 'feat20', 0.7088], ['feat63', 'feat31', 0.7087], ['feat63', 'feat56', 0.7093], ['feat66', 'feat4', 0.7089], ['feat66', 'feat12', 0.7089], ['feat66', 'feat13', 0.7095], ['feat66', 'feat14', 0.7089], ['feat66', 'feat15', 0.7087], ['feat66', 'feat20', 0.7087], ['feat66', 'feat31', 0.709], ['feat66', 'feat56', 0.7085], ['feat66', 'feat63', 0.7082], ['feat69', 'feat4', 0.7085], ['feat69', 'feat12', 0.7077], ['feat69', 'feat13', 0.7085], ['feat69', 'feat14', 0.7087], ['feat69', 'feat15', 0.7087], ['feat69', 'feat20', 0.7082], ['feat69', 'feat31', 0.7087], ['feat69', 'feat56', 0.7087], ['feat69', 'feat63', 0.7088], ['feat69', 'feat66', 0.7079], ['feat70', 'feat4', 0.7088], ['feat70', 'feat12', 0.7085], ['feat70', 'feat13', 0.7089], ['feat70', 'feat14', 0.7087], ['feat70', 'feat15', 0.7087], ['feat70', 'feat20', 0.7088], ['feat70', 'feat31', 0.7087], ['feat70', 'feat56', 0.7087], ['feat70', 'feat63', 0.7086], ['feat70', 'feat66', 0.7087], ['feat70', 'feat69', 0.7088], ['feat71', 'feat4', 0.7089], ['feat71', 'feat12', 0.7082], ['feat71', 'feat13', 0.7089], ['feat71', 'feat14', 0.7087], ['feat71', 'feat15', 0.7087], ['feat71', 'feat20', 0.7085], ['feat71', 'feat31', 0.709], ['feat71', 'feat56', 0.7093], ['feat71', 'feat63', 0.7087], ['feat71', 'feat66', 0.7087], ['feat71', 'feat69', 0.7092], ['feat71', 'feat70', 0.7089], ['feat75', 'feat4', 0.7089], ['feat75', 'feat12', 0.7089], ['feat75', 'feat13', 0.7087], ['feat75', 'feat14', 0.7089]]\n",
      "[['feat4', 'feat12', 0.7087], ['feat4', 'feat13', 0.7089], ['feat4', 'feat14', 0.7089], ['feat4', 'feat15', 0.7087], ['feat4', 'feat20', 0.7086], ['feat4', 'feat31', 0.7086], ['feat8', 'feat4', 0.7089], ['feat8', 'feat12', 0.7087], ['feat8', 'feat13', 0.7087], ['feat8', 'feat14', 0.7087], ['feat8', 'feat15', 0.7087], ['feat8', 'feat20', 0.7087], ['feat8', 'feat31', 0.7085], ['feat8', 'feat56', 0.7085], ['feat8', 'feat63', 0.7086], ['feat8', 'feat66', 0.7084], ['feat8', 'feat69', 0.7086], ['feat8', 'feat70', 0.7087], ['feat8', 'feat71', 0.709], ['feat8', 'feat75', 0.7089], ['feat13', 'feat12', 0.7089], ['feat14', 'feat12', 0.7089], ['feat14', 'feat13', 0.7084], ['feat15', 'feat12', 0.7089], ['feat15', 'feat13', 0.7088], ['feat15', 'feat14', 0.7087], ['feat20', 'feat12', 0.7087], ['feat20', 'feat13', 0.7087], ['feat20', 'feat14', 0.7087], ['feat20', 'feat15', 0.7088], ['feat31', 'feat12', 0.7083], ['feat31', 'feat13', 0.7087], ['feat31', 'feat14', 0.7085], ['feat31', 'feat15', 0.7087], ['feat31', 'feat20', 0.7083], ['feat56', 'feat4', 0.7084], ['feat56', 'feat12', 0.7083], ['feat56', 'feat13', 0.7086], ['feat56', 'feat14', 0.7083], ['feat56', 'feat15', 0.7087], ['feat56', 'feat20', 0.7089], ['feat56', 'feat31', 0.7086], ['feat63', 'feat4', 0.7083], ['feat63', 'feat12', 0.7079], ['feat63', 'feat13', 0.7087], ['feat63', 'feat14', 0.7087], ['feat63', 'feat15', 0.7087], ['feat63', 'feat20', 0.7088], ['feat63', 'feat31', 0.7087], ['feat63', 'feat56', 0.7093], ['feat66', 'feat4', 0.7089], ['feat66', 'feat12', 0.7089], ['feat66', 'feat13', 0.7095], ['feat66', 'feat14', 0.7089], ['feat66', 'feat15', 0.7087], ['feat66', 'feat20', 0.7087], ['feat66', 'feat31', 0.709], ['feat66', 'feat56', 0.7085], ['feat66', 'feat63', 0.7082], ['feat69', 'feat4', 0.7085], ['feat69', 'feat12', 0.7077], ['feat69', 'feat13', 0.7085], ['feat69', 'feat14', 0.7087], ['feat69', 'feat15', 0.7087], ['feat69', 'feat20', 0.7082], ['feat69', 'feat31', 0.7087], ['feat69', 'feat56', 0.7087], ['feat69', 'feat63', 0.7088], ['feat69', 'feat66', 0.7079], ['feat70', 'feat4', 0.7088], ['feat70', 'feat12', 0.7085], ['feat70', 'feat13', 0.7089], ['feat70', 'feat14', 0.7087], ['feat70', 'feat15', 0.7087], ['feat70', 'feat20', 0.7088], ['feat70', 'feat31', 0.7087], ['feat70', 'feat56', 0.7087], ['feat70', 'feat63', 0.7086], ['feat70', 'feat66', 0.7087], ['feat70', 'feat69', 0.7088], ['feat71', 'feat4', 0.7089], ['feat71', 'feat12', 0.7082], ['feat71', 'feat13', 0.7089], ['feat71', 'feat14', 0.7087], ['feat71', 'feat15', 0.7087], ['feat71', 'feat20', 0.7085], ['feat71', 'feat31', 0.709], ['feat71', 'feat56', 0.7093], ['feat71', 'feat63', 0.7087], ['feat71', 'feat66', 0.7087], ['feat71', 'feat69', 0.7092], ['feat71', 'feat70', 0.7089], ['feat75', 'feat4', 0.7089], ['feat75', 'feat12', 0.7089], ['feat75', 'feat13', 0.7087], ['feat75', 'feat14', 0.7089], ['feat75', 'feat15', 0.7087]]\n"
     ]
    },
    {
     "name": "stderr",
     "output_type": "stream",
     "text": [
      "/Library/Frameworks/Python.framework/Versions/3.7/lib/python3.7/site-packages/sklearn/linear_model/logistic.py:432: FutureWarning: Default solver will be changed to 'lbfgs' in 0.22. Specify a solver to silence this warning.\n",
      "  FutureWarning)\n",
      "/Library/Frameworks/Python.framework/Versions/3.7/lib/python3.7/site-packages/sklearn/linear_model/logistic.py:432: FutureWarning: Default solver will be changed to 'lbfgs' in 0.22. Specify a solver to silence this warning.\n",
      "  FutureWarning)\n",
      "/Library/Frameworks/Python.framework/Versions/3.7/lib/python3.7/site-packages/sklearn/linear_model/logistic.py:432: FutureWarning: Default solver will be changed to 'lbfgs' in 0.22. Specify a solver to silence this warning.\n",
      "  FutureWarning)\n"
     ]
    },
    {
     "name": "stdout",
     "output_type": "stream",
     "text": [
      "[['feat4', 'feat12', 0.7087], ['feat4', 'feat13', 0.7089], ['feat4', 'feat14', 0.7089], ['feat4', 'feat15', 0.7087], ['feat4', 'feat20', 0.7086], ['feat4', 'feat31', 0.7086], ['feat8', 'feat4', 0.7089], ['feat8', 'feat12', 0.7087], ['feat8', 'feat13', 0.7087], ['feat8', 'feat14', 0.7087], ['feat8', 'feat15', 0.7087], ['feat8', 'feat20', 0.7087], ['feat8', 'feat31', 0.7085], ['feat8', 'feat56', 0.7085], ['feat8', 'feat63', 0.7086], ['feat8', 'feat66', 0.7084], ['feat8', 'feat69', 0.7086], ['feat8', 'feat70', 0.7087], ['feat8', 'feat71', 0.709], ['feat8', 'feat75', 0.7089], ['feat13', 'feat12', 0.7089], ['feat14', 'feat12', 0.7089], ['feat14', 'feat13', 0.7084], ['feat15', 'feat12', 0.7089], ['feat15', 'feat13', 0.7088], ['feat15', 'feat14', 0.7087], ['feat20', 'feat12', 0.7087], ['feat20', 'feat13', 0.7087], ['feat20', 'feat14', 0.7087], ['feat20', 'feat15', 0.7088], ['feat31', 'feat12', 0.7083], ['feat31', 'feat13', 0.7087], ['feat31', 'feat14', 0.7085], ['feat31', 'feat15', 0.7087], ['feat31', 'feat20', 0.7083], ['feat56', 'feat4', 0.7084], ['feat56', 'feat12', 0.7083], ['feat56', 'feat13', 0.7086], ['feat56', 'feat14', 0.7083], ['feat56', 'feat15', 0.7087], ['feat56', 'feat20', 0.7089], ['feat56', 'feat31', 0.7086], ['feat63', 'feat4', 0.7083], ['feat63', 'feat12', 0.7079], ['feat63', 'feat13', 0.7087], ['feat63', 'feat14', 0.7087], ['feat63', 'feat15', 0.7087], ['feat63', 'feat20', 0.7088], ['feat63', 'feat31', 0.7087], ['feat63', 'feat56', 0.7093], ['feat66', 'feat4', 0.7089], ['feat66', 'feat12', 0.7089], ['feat66', 'feat13', 0.7095], ['feat66', 'feat14', 0.7089], ['feat66', 'feat15', 0.7087], ['feat66', 'feat20', 0.7087], ['feat66', 'feat31', 0.709], ['feat66', 'feat56', 0.7085], ['feat66', 'feat63', 0.7082], ['feat69', 'feat4', 0.7085], ['feat69', 'feat12', 0.7077], ['feat69', 'feat13', 0.7085], ['feat69', 'feat14', 0.7087], ['feat69', 'feat15', 0.7087], ['feat69', 'feat20', 0.7082], ['feat69', 'feat31', 0.7087], ['feat69', 'feat56', 0.7087], ['feat69', 'feat63', 0.7088], ['feat69', 'feat66', 0.7079], ['feat70', 'feat4', 0.7088], ['feat70', 'feat12', 0.7085], ['feat70', 'feat13', 0.7089], ['feat70', 'feat14', 0.7087], ['feat70', 'feat15', 0.7087], ['feat70', 'feat20', 0.7088], ['feat70', 'feat31', 0.7087], ['feat70', 'feat56', 0.7087], ['feat70', 'feat63', 0.7086], ['feat70', 'feat66', 0.7087], ['feat70', 'feat69', 0.7088], ['feat71', 'feat4', 0.7089], ['feat71', 'feat12', 0.7082], ['feat71', 'feat13', 0.7089], ['feat71', 'feat14', 0.7087], ['feat71', 'feat15', 0.7087], ['feat71', 'feat20', 0.7085], ['feat71', 'feat31', 0.709], ['feat71', 'feat56', 0.7093], ['feat71', 'feat63', 0.7087], ['feat71', 'feat66', 0.7087], ['feat71', 'feat69', 0.7092], ['feat71', 'feat70', 0.7089], ['feat75', 'feat4', 0.7089], ['feat75', 'feat12', 0.7089], ['feat75', 'feat13', 0.7087], ['feat75', 'feat14', 0.7089], ['feat75', 'feat15', 0.7087], ['feat75', 'feat20', 0.7087]]\n",
      "[['feat4', 'feat12', 0.7087], ['feat4', 'feat13', 0.7089], ['feat4', 'feat14', 0.7089], ['feat4', 'feat15', 0.7087], ['feat4', 'feat20', 0.7086], ['feat4', 'feat31', 0.7086], ['feat8', 'feat4', 0.7089], ['feat8', 'feat12', 0.7087], ['feat8', 'feat13', 0.7087], ['feat8', 'feat14', 0.7087], ['feat8', 'feat15', 0.7087], ['feat8', 'feat20', 0.7087], ['feat8', 'feat31', 0.7085], ['feat8', 'feat56', 0.7085], ['feat8', 'feat63', 0.7086], ['feat8', 'feat66', 0.7084], ['feat8', 'feat69', 0.7086], ['feat8', 'feat70', 0.7087], ['feat8', 'feat71', 0.709], ['feat8', 'feat75', 0.7089], ['feat13', 'feat12', 0.7089], ['feat14', 'feat12', 0.7089], ['feat14', 'feat13', 0.7084], ['feat15', 'feat12', 0.7089], ['feat15', 'feat13', 0.7088], ['feat15', 'feat14', 0.7087], ['feat20', 'feat12', 0.7087], ['feat20', 'feat13', 0.7087], ['feat20', 'feat14', 0.7087], ['feat20', 'feat15', 0.7088], ['feat31', 'feat12', 0.7083], ['feat31', 'feat13', 0.7087], ['feat31', 'feat14', 0.7085], ['feat31', 'feat15', 0.7087], ['feat31', 'feat20', 0.7083], ['feat56', 'feat4', 0.7084], ['feat56', 'feat12', 0.7083], ['feat56', 'feat13', 0.7086], ['feat56', 'feat14', 0.7083], ['feat56', 'feat15', 0.7087], ['feat56', 'feat20', 0.7089], ['feat56', 'feat31', 0.7086], ['feat63', 'feat4', 0.7083], ['feat63', 'feat12', 0.7079], ['feat63', 'feat13', 0.7087], ['feat63', 'feat14', 0.7087], ['feat63', 'feat15', 0.7087], ['feat63', 'feat20', 0.7088], ['feat63', 'feat31', 0.7087], ['feat63', 'feat56', 0.7093], ['feat66', 'feat4', 0.7089], ['feat66', 'feat12', 0.7089], ['feat66', 'feat13', 0.7095], ['feat66', 'feat14', 0.7089], ['feat66', 'feat15', 0.7087], ['feat66', 'feat20', 0.7087], ['feat66', 'feat31', 0.709], ['feat66', 'feat56', 0.7085], ['feat66', 'feat63', 0.7082], ['feat69', 'feat4', 0.7085], ['feat69', 'feat12', 0.7077], ['feat69', 'feat13', 0.7085], ['feat69', 'feat14', 0.7087], ['feat69', 'feat15', 0.7087], ['feat69', 'feat20', 0.7082], ['feat69', 'feat31', 0.7087], ['feat69', 'feat56', 0.7087], ['feat69', 'feat63', 0.7088], ['feat69', 'feat66', 0.7079], ['feat70', 'feat4', 0.7088], ['feat70', 'feat12', 0.7085], ['feat70', 'feat13', 0.7089], ['feat70', 'feat14', 0.7087], ['feat70', 'feat15', 0.7087], ['feat70', 'feat20', 0.7088], ['feat70', 'feat31', 0.7087], ['feat70', 'feat56', 0.7087], ['feat70', 'feat63', 0.7086], ['feat70', 'feat66', 0.7087], ['feat70', 'feat69', 0.7088], ['feat71', 'feat4', 0.7089], ['feat71', 'feat12', 0.7082], ['feat71', 'feat13', 0.7089], ['feat71', 'feat14', 0.7087], ['feat71', 'feat15', 0.7087], ['feat71', 'feat20', 0.7085], ['feat71', 'feat31', 0.709], ['feat71', 'feat56', 0.7093], ['feat71', 'feat63', 0.7087], ['feat71', 'feat66', 0.7087], ['feat71', 'feat69', 0.7092], ['feat71', 'feat70', 0.7089], ['feat75', 'feat4', 0.7089], ['feat75', 'feat12', 0.7089], ['feat75', 'feat13', 0.7087], ['feat75', 'feat14', 0.7089], ['feat75', 'feat15', 0.7087], ['feat75', 'feat20', 0.7087], ['feat75', 'feat31', 0.7085]]\n",
      "[['feat4', 'feat12', 0.7087], ['feat4', 'feat13', 0.7089], ['feat4', 'feat14', 0.7089], ['feat4', 'feat15', 0.7087], ['feat4', 'feat20', 0.7086], ['feat4', 'feat31', 0.7086], ['feat8', 'feat4', 0.7089], ['feat8', 'feat12', 0.7087], ['feat8', 'feat13', 0.7087], ['feat8', 'feat14', 0.7087], ['feat8', 'feat15', 0.7087], ['feat8', 'feat20', 0.7087], ['feat8', 'feat31', 0.7085], ['feat8', 'feat56', 0.7085], ['feat8', 'feat63', 0.7086], ['feat8', 'feat66', 0.7084], ['feat8', 'feat69', 0.7086], ['feat8', 'feat70', 0.7087], ['feat8', 'feat71', 0.709], ['feat8', 'feat75', 0.7089], ['feat13', 'feat12', 0.7089], ['feat14', 'feat12', 0.7089], ['feat14', 'feat13', 0.7084], ['feat15', 'feat12', 0.7089], ['feat15', 'feat13', 0.7088], ['feat15', 'feat14', 0.7087], ['feat20', 'feat12', 0.7087], ['feat20', 'feat13', 0.7087], ['feat20', 'feat14', 0.7087], ['feat20', 'feat15', 0.7088], ['feat31', 'feat12', 0.7083], ['feat31', 'feat13', 0.7087], ['feat31', 'feat14', 0.7085], ['feat31', 'feat15', 0.7087], ['feat31', 'feat20', 0.7083], ['feat56', 'feat4', 0.7084], ['feat56', 'feat12', 0.7083], ['feat56', 'feat13', 0.7086], ['feat56', 'feat14', 0.7083], ['feat56', 'feat15', 0.7087], ['feat56', 'feat20', 0.7089], ['feat56', 'feat31', 0.7086], ['feat63', 'feat4', 0.7083], ['feat63', 'feat12', 0.7079], ['feat63', 'feat13', 0.7087], ['feat63', 'feat14', 0.7087], ['feat63', 'feat15', 0.7087], ['feat63', 'feat20', 0.7088], ['feat63', 'feat31', 0.7087], ['feat63', 'feat56', 0.7093], ['feat66', 'feat4', 0.7089], ['feat66', 'feat12', 0.7089], ['feat66', 'feat13', 0.7095], ['feat66', 'feat14', 0.7089], ['feat66', 'feat15', 0.7087], ['feat66', 'feat20', 0.7087], ['feat66', 'feat31', 0.709], ['feat66', 'feat56', 0.7085], ['feat66', 'feat63', 0.7082], ['feat69', 'feat4', 0.7085], ['feat69', 'feat12', 0.7077], ['feat69', 'feat13', 0.7085], ['feat69', 'feat14', 0.7087], ['feat69', 'feat15', 0.7087], ['feat69', 'feat20', 0.7082], ['feat69', 'feat31', 0.7087], ['feat69', 'feat56', 0.7087], ['feat69', 'feat63', 0.7088], ['feat69', 'feat66', 0.7079], ['feat70', 'feat4', 0.7088], ['feat70', 'feat12', 0.7085], ['feat70', 'feat13', 0.7089], ['feat70', 'feat14', 0.7087], ['feat70', 'feat15', 0.7087], ['feat70', 'feat20', 0.7088], ['feat70', 'feat31', 0.7087], ['feat70', 'feat56', 0.7087], ['feat70', 'feat63', 0.7086], ['feat70', 'feat66', 0.7087], ['feat70', 'feat69', 0.7088], ['feat71', 'feat4', 0.7089], ['feat71', 'feat12', 0.7082], ['feat71', 'feat13', 0.7089], ['feat71', 'feat14', 0.7087], ['feat71', 'feat15', 0.7087], ['feat71', 'feat20', 0.7085], ['feat71', 'feat31', 0.709], ['feat71', 'feat56', 0.7093], ['feat71', 'feat63', 0.7087], ['feat71', 'feat66', 0.7087], ['feat71', 'feat69', 0.7092], ['feat71', 'feat70', 0.7089], ['feat75', 'feat4', 0.7089], ['feat75', 'feat12', 0.7089], ['feat75', 'feat13', 0.7087], ['feat75', 'feat14', 0.7089], ['feat75', 'feat15', 0.7087], ['feat75', 'feat20', 0.7087], ['feat75', 'feat31', 0.7085], ['feat75', 'feat56', 0.7085]]\n"
     ]
    },
    {
     "name": "stderr",
     "output_type": "stream",
     "text": [
      "/Library/Frameworks/Python.framework/Versions/3.7/lib/python3.7/site-packages/sklearn/linear_model/logistic.py:432: FutureWarning: Default solver will be changed to 'lbfgs' in 0.22. Specify a solver to silence this warning.\n",
      "  FutureWarning)\n",
      "/Library/Frameworks/Python.framework/Versions/3.7/lib/python3.7/site-packages/sklearn/linear_model/logistic.py:432: FutureWarning: Default solver will be changed to 'lbfgs' in 0.22. Specify a solver to silence this warning.\n",
      "  FutureWarning)\n",
      "/Library/Frameworks/Python.framework/Versions/3.7/lib/python3.7/site-packages/sklearn/linear_model/logistic.py:432: FutureWarning: Default solver will be changed to 'lbfgs' in 0.22. Specify a solver to silence this warning.\n",
      "  FutureWarning)\n"
     ]
    },
    {
     "name": "stdout",
     "output_type": "stream",
     "text": [
      "[['feat4', 'feat12', 0.7087], ['feat4', 'feat13', 0.7089], ['feat4', 'feat14', 0.7089], ['feat4', 'feat15', 0.7087], ['feat4', 'feat20', 0.7086], ['feat4', 'feat31', 0.7086], ['feat8', 'feat4', 0.7089], ['feat8', 'feat12', 0.7087], ['feat8', 'feat13', 0.7087], ['feat8', 'feat14', 0.7087], ['feat8', 'feat15', 0.7087], ['feat8', 'feat20', 0.7087], ['feat8', 'feat31', 0.7085], ['feat8', 'feat56', 0.7085], ['feat8', 'feat63', 0.7086], ['feat8', 'feat66', 0.7084], ['feat8', 'feat69', 0.7086], ['feat8', 'feat70', 0.7087], ['feat8', 'feat71', 0.709], ['feat8', 'feat75', 0.7089], ['feat13', 'feat12', 0.7089], ['feat14', 'feat12', 0.7089], ['feat14', 'feat13', 0.7084], ['feat15', 'feat12', 0.7089], ['feat15', 'feat13', 0.7088], ['feat15', 'feat14', 0.7087], ['feat20', 'feat12', 0.7087], ['feat20', 'feat13', 0.7087], ['feat20', 'feat14', 0.7087], ['feat20', 'feat15', 0.7088], ['feat31', 'feat12', 0.7083], ['feat31', 'feat13', 0.7087], ['feat31', 'feat14', 0.7085], ['feat31', 'feat15', 0.7087], ['feat31', 'feat20', 0.7083], ['feat56', 'feat4', 0.7084], ['feat56', 'feat12', 0.7083], ['feat56', 'feat13', 0.7086], ['feat56', 'feat14', 0.7083], ['feat56', 'feat15', 0.7087], ['feat56', 'feat20', 0.7089], ['feat56', 'feat31', 0.7086], ['feat63', 'feat4', 0.7083], ['feat63', 'feat12', 0.7079], ['feat63', 'feat13', 0.7087], ['feat63', 'feat14', 0.7087], ['feat63', 'feat15', 0.7087], ['feat63', 'feat20', 0.7088], ['feat63', 'feat31', 0.7087], ['feat63', 'feat56', 0.7093], ['feat66', 'feat4', 0.7089], ['feat66', 'feat12', 0.7089], ['feat66', 'feat13', 0.7095], ['feat66', 'feat14', 0.7089], ['feat66', 'feat15', 0.7087], ['feat66', 'feat20', 0.7087], ['feat66', 'feat31', 0.709], ['feat66', 'feat56', 0.7085], ['feat66', 'feat63', 0.7082], ['feat69', 'feat4', 0.7085], ['feat69', 'feat12', 0.7077], ['feat69', 'feat13', 0.7085], ['feat69', 'feat14', 0.7087], ['feat69', 'feat15', 0.7087], ['feat69', 'feat20', 0.7082], ['feat69', 'feat31', 0.7087], ['feat69', 'feat56', 0.7087], ['feat69', 'feat63', 0.7088], ['feat69', 'feat66', 0.7079], ['feat70', 'feat4', 0.7088], ['feat70', 'feat12', 0.7085], ['feat70', 'feat13', 0.7089], ['feat70', 'feat14', 0.7087], ['feat70', 'feat15', 0.7087], ['feat70', 'feat20', 0.7088], ['feat70', 'feat31', 0.7087], ['feat70', 'feat56', 0.7087], ['feat70', 'feat63', 0.7086], ['feat70', 'feat66', 0.7087], ['feat70', 'feat69', 0.7088], ['feat71', 'feat4', 0.7089], ['feat71', 'feat12', 0.7082], ['feat71', 'feat13', 0.7089], ['feat71', 'feat14', 0.7087], ['feat71', 'feat15', 0.7087], ['feat71', 'feat20', 0.7085], ['feat71', 'feat31', 0.709], ['feat71', 'feat56', 0.7093], ['feat71', 'feat63', 0.7087], ['feat71', 'feat66', 0.7087], ['feat71', 'feat69', 0.7092], ['feat71', 'feat70', 0.7089], ['feat75', 'feat4', 0.7089], ['feat75', 'feat12', 0.7089], ['feat75', 'feat13', 0.7087], ['feat75', 'feat14', 0.7089], ['feat75', 'feat15', 0.7087], ['feat75', 'feat20', 0.7087], ['feat75', 'feat31', 0.7085], ['feat75', 'feat56', 0.7085], ['feat75', 'feat63', 0.7083]]\n",
      "[['feat4', 'feat12', 0.7087], ['feat4', 'feat13', 0.7089], ['feat4', 'feat14', 0.7089], ['feat4', 'feat15', 0.7087], ['feat4', 'feat20', 0.7086], ['feat4', 'feat31', 0.7086], ['feat8', 'feat4', 0.7089], ['feat8', 'feat12', 0.7087], ['feat8', 'feat13', 0.7087], ['feat8', 'feat14', 0.7087], ['feat8', 'feat15', 0.7087], ['feat8', 'feat20', 0.7087], ['feat8', 'feat31', 0.7085], ['feat8', 'feat56', 0.7085], ['feat8', 'feat63', 0.7086], ['feat8', 'feat66', 0.7084], ['feat8', 'feat69', 0.7086], ['feat8', 'feat70', 0.7087], ['feat8', 'feat71', 0.709], ['feat8', 'feat75', 0.7089], ['feat13', 'feat12', 0.7089], ['feat14', 'feat12', 0.7089], ['feat14', 'feat13', 0.7084], ['feat15', 'feat12', 0.7089], ['feat15', 'feat13', 0.7088], ['feat15', 'feat14', 0.7087], ['feat20', 'feat12', 0.7087], ['feat20', 'feat13', 0.7087], ['feat20', 'feat14', 0.7087], ['feat20', 'feat15', 0.7088], ['feat31', 'feat12', 0.7083], ['feat31', 'feat13', 0.7087], ['feat31', 'feat14', 0.7085], ['feat31', 'feat15', 0.7087], ['feat31', 'feat20', 0.7083], ['feat56', 'feat4', 0.7084], ['feat56', 'feat12', 0.7083], ['feat56', 'feat13', 0.7086], ['feat56', 'feat14', 0.7083], ['feat56', 'feat15', 0.7087], ['feat56', 'feat20', 0.7089], ['feat56', 'feat31', 0.7086], ['feat63', 'feat4', 0.7083], ['feat63', 'feat12', 0.7079], ['feat63', 'feat13', 0.7087], ['feat63', 'feat14', 0.7087], ['feat63', 'feat15', 0.7087], ['feat63', 'feat20', 0.7088], ['feat63', 'feat31', 0.7087], ['feat63', 'feat56', 0.7093], ['feat66', 'feat4', 0.7089], ['feat66', 'feat12', 0.7089], ['feat66', 'feat13', 0.7095], ['feat66', 'feat14', 0.7089], ['feat66', 'feat15', 0.7087], ['feat66', 'feat20', 0.7087], ['feat66', 'feat31', 0.709], ['feat66', 'feat56', 0.7085], ['feat66', 'feat63', 0.7082], ['feat69', 'feat4', 0.7085], ['feat69', 'feat12', 0.7077], ['feat69', 'feat13', 0.7085], ['feat69', 'feat14', 0.7087], ['feat69', 'feat15', 0.7087], ['feat69', 'feat20', 0.7082], ['feat69', 'feat31', 0.7087], ['feat69', 'feat56', 0.7087], ['feat69', 'feat63', 0.7088], ['feat69', 'feat66', 0.7079], ['feat70', 'feat4', 0.7088], ['feat70', 'feat12', 0.7085], ['feat70', 'feat13', 0.7089], ['feat70', 'feat14', 0.7087], ['feat70', 'feat15', 0.7087], ['feat70', 'feat20', 0.7088], ['feat70', 'feat31', 0.7087], ['feat70', 'feat56', 0.7087], ['feat70', 'feat63', 0.7086], ['feat70', 'feat66', 0.7087], ['feat70', 'feat69', 0.7088], ['feat71', 'feat4', 0.7089], ['feat71', 'feat12', 0.7082], ['feat71', 'feat13', 0.7089], ['feat71', 'feat14', 0.7087], ['feat71', 'feat15', 0.7087], ['feat71', 'feat20', 0.7085], ['feat71', 'feat31', 0.709], ['feat71', 'feat56', 0.7093], ['feat71', 'feat63', 0.7087], ['feat71', 'feat66', 0.7087], ['feat71', 'feat69', 0.7092], ['feat71', 'feat70', 0.7089], ['feat75', 'feat4', 0.7089], ['feat75', 'feat12', 0.7089], ['feat75', 'feat13', 0.7087], ['feat75', 'feat14', 0.7089], ['feat75', 'feat15', 0.7087], ['feat75', 'feat20', 0.7087], ['feat75', 'feat31', 0.7085], ['feat75', 'feat56', 0.7085], ['feat75', 'feat63', 0.7083], ['feat75', 'feat66', 0.7085]]\n",
      "[['feat4', 'feat12', 0.7087], ['feat4', 'feat13', 0.7089], ['feat4', 'feat14', 0.7089], ['feat4', 'feat15', 0.7087], ['feat4', 'feat20', 0.7086], ['feat4', 'feat31', 0.7086], ['feat8', 'feat4', 0.7089], ['feat8', 'feat12', 0.7087], ['feat8', 'feat13', 0.7087], ['feat8', 'feat14', 0.7087], ['feat8', 'feat15', 0.7087], ['feat8', 'feat20', 0.7087], ['feat8', 'feat31', 0.7085], ['feat8', 'feat56', 0.7085], ['feat8', 'feat63', 0.7086], ['feat8', 'feat66', 0.7084], ['feat8', 'feat69', 0.7086], ['feat8', 'feat70', 0.7087], ['feat8', 'feat71', 0.709], ['feat8', 'feat75', 0.7089], ['feat13', 'feat12', 0.7089], ['feat14', 'feat12', 0.7089], ['feat14', 'feat13', 0.7084], ['feat15', 'feat12', 0.7089], ['feat15', 'feat13', 0.7088], ['feat15', 'feat14', 0.7087], ['feat20', 'feat12', 0.7087], ['feat20', 'feat13', 0.7087], ['feat20', 'feat14', 0.7087], ['feat20', 'feat15', 0.7088], ['feat31', 'feat12', 0.7083], ['feat31', 'feat13', 0.7087], ['feat31', 'feat14', 0.7085], ['feat31', 'feat15', 0.7087], ['feat31', 'feat20', 0.7083], ['feat56', 'feat4', 0.7084], ['feat56', 'feat12', 0.7083], ['feat56', 'feat13', 0.7086], ['feat56', 'feat14', 0.7083], ['feat56', 'feat15', 0.7087], ['feat56', 'feat20', 0.7089], ['feat56', 'feat31', 0.7086], ['feat63', 'feat4', 0.7083], ['feat63', 'feat12', 0.7079], ['feat63', 'feat13', 0.7087], ['feat63', 'feat14', 0.7087], ['feat63', 'feat15', 0.7087], ['feat63', 'feat20', 0.7088], ['feat63', 'feat31', 0.7087], ['feat63', 'feat56', 0.7093], ['feat66', 'feat4', 0.7089], ['feat66', 'feat12', 0.7089], ['feat66', 'feat13', 0.7095], ['feat66', 'feat14', 0.7089], ['feat66', 'feat15', 0.7087], ['feat66', 'feat20', 0.7087], ['feat66', 'feat31', 0.709], ['feat66', 'feat56', 0.7085], ['feat66', 'feat63', 0.7082], ['feat69', 'feat4', 0.7085], ['feat69', 'feat12', 0.7077], ['feat69', 'feat13', 0.7085], ['feat69', 'feat14', 0.7087], ['feat69', 'feat15', 0.7087], ['feat69', 'feat20', 0.7082], ['feat69', 'feat31', 0.7087], ['feat69', 'feat56', 0.7087], ['feat69', 'feat63', 0.7088], ['feat69', 'feat66', 0.7079], ['feat70', 'feat4', 0.7088], ['feat70', 'feat12', 0.7085], ['feat70', 'feat13', 0.7089], ['feat70', 'feat14', 0.7087], ['feat70', 'feat15', 0.7087], ['feat70', 'feat20', 0.7088], ['feat70', 'feat31', 0.7087], ['feat70', 'feat56', 0.7087], ['feat70', 'feat63', 0.7086], ['feat70', 'feat66', 0.7087], ['feat70', 'feat69', 0.7088], ['feat71', 'feat4', 0.7089], ['feat71', 'feat12', 0.7082], ['feat71', 'feat13', 0.7089], ['feat71', 'feat14', 0.7087], ['feat71', 'feat15', 0.7087], ['feat71', 'feat20', 0.7085], ['feat71', 'feat31', 0.709], ['feat71', 'feat56', 0.7093], ['feat71', 'feat63', 0.7087], ['feat71', 'feat66', 0.7087], ['feat71', 'feat69', 0.7092], ['feat71', 'feat70', 0.7089], ['feat75', 'feat4', 0.7089], ['feat75', 'feat12', 0.7089], ['feat75', 'feat13', 0.7087], ['feat75', 'feat14', 0.7089], ['feat75', 'feat15', 0.7087], ['feat75', 'feat20', 0.7087], ['feat75', 'feat31', 0.7085], ['feat75', 'feat56', 0.7085], ['feat75', 'feat63', 0.7083], ['feat75', 'feat66', 0.7085], ['feat75', 'feat69', 0.7084]]\n"
     ]
    },
    {
     "name": "stderr",
     "output_type": "stream",
     "text": [
      "/Library/Frameworks/Python.framework/Versions/3.7/lib/python3.7/site-packages/sklearn/linear_model/logistic.py:432: FutureWarning: Default solver will be changed to 'lbfgs' in 0.22. Specify a solver to silence this warning.\n",
      "  FutureWarning)\n",
      "/Library/Frameworks/Python.framework/Versions/3.7/lib/python3.7/site-packages/sklearn/linear_model/logistic.py:432: FutureWarning: Default solver will be changed to 'lbfgs' in 0.22. Specify a solver to silence this warning.\n",
      "  FutureWarning)\n",
      "/Library/Frameworks/Python.framework/Versions/3.7/lib/python3.7/site-packages/sklearn/linear_model/logistic.py:432: FutureWarning: Default solver will be changed to 'lbfgs' in 0.22. Specify a solver to silence this warning.\n",
      "  FutureWarning)\n"
     ]
    },
    {
     "name": "stdout",
     "output_type": "stream",
     "text": [
      "[['feat4', 'feat12', 0.7087], ['feat4', 'feat13', 0.7089], ['feat4', 'feat14', 0.7089], ['feat4', 'feat15', 0.7087], ['feat4', 'feat20', 0.7086], ['feat4', 'feat31', 0.7086], ['feat8', 'feat4', 0.7089], ['feat8', 'feat12', 0.7087], ['feat8', 'feat13', 0.7087], ['feat8', 'feat14', 0.7087], ['feat8', 'feat15', 0.7087], ['feat8', 'feat20', 0.7087], ['feat8', 'feat31', 0.7085], ['feat8', 'feat56', 0.7085], ['feat8', 'feat63', 0.7086], ['feat8', 'feat66', 0.7084], ['feat8', 'feat69', 0.7086], ['feat8', 'feat70', 0.7087], ['feat8', 'feat71', 0.709], ['feat8', 'feat75', 0.7089], ['feat13', 'feat12', 0.7089], ['feat14', 'feat12', 0.7089], ['feat14', 'feat13', 0.7084], ['feat15', 'feat12', 0.7089], ['feat15', 'feat13', 0.7088], ['feat15', 'feat14', 0.7087], ['feat20', 'feat12', 0.7087], ['feat20', 'feat13', 0.7087], ['feat20', 'feat14', 0.7087], ['feat20', 'feat15', 0.7088], ['feat31', 'feat12', 0.7083], ['feat31', 'feat13', 0.7087], ['feat31', 'feat14', 0.7085], ['feat31', 'feat15', 0.7087], ['feat31', 'feat20', 0.7083], ['feat56', 'feat4', 0.7084], ['feat56', 'feat12', 0.7083], ['feat56', 'feat13', 0.7086], ['feat56', 'feat14', 0.7083], ['feat56', 'feat15', 0.7087], ['feat56', 'feat20', 0.7089], ['feat56', 'feat31', 0.7086], ['feat63', 'feat4', 0.7083], ['feat63', 'feat12', 0.7079], ['feat63', 'feat13', 0.7087], ['feat63', 'feat14', 0.7087], ['feat63', 'feat15', 0.7087], ['feat63', 'feat20', 0.7088], ['feat63', 'feat31', 0.7087], ['feat63', 'feat56', 0.7093], ['feat66', 'feat4', 0.7089], ['feat66', 'feat12', 0.7089], ['feat66', 'feat13', 0.7095], ['feat66', 'feat14', 0.7089], ['feat66', 'feat15', 0.7087], ['feat66', 'feat20', 0.7087], ['feat66', 'feat31', 0.709], ['feat66', 'feat56', 0.7085], ['feat66', 'feat63', 0.7082], ['feat69', 'feat4', 0.7085], ['feat69', 'feat12', 0.7077], ['feat69', 'feat13', 0.7085], ['feat69', 'feat14', 0.7087], ['feat69', 'feat15', 0.7087], ['feat69', 'feat20', 0.7082], ['feat69', 'feat31', 0.7087], ['feat69', 'feat56', 0.7087], ['feat69', 'feat63', 0.7088], ['feat69', 'feat66', 0.7079], ['feat70', 'feat4', 0.7088], ['feat70', 'feat12', 0.7085], ['feat70', 'feat13', 0.7089], ['feat70', 'feat14', 0.7087], ['feat70', 'feat15', 0.7087], ['feat70', 'feat20', 0.7088], ['feat70', 'feat31', 0.7087], ['feat70', 'feat56', 0.7087], ['feat70', 'feat63', 0.7086], ['feat70', 'feat66', 0.7087], ['feat70', 'feat69', 0.7088], ['feat71', 'feat4', 0.7089], ['feat71', 'feat12', 0.7082], ['feat71', 'feat13', 0.7089], ['feat71', 'feat14', 0.7087], ['feat71', 'feat15', 0.7087], ['feat71', 'feat20', 0.7085], ['feat71', 'feat31', 0.709], ['feat71', 'feat56', 0.7093], ['feat71', 'feat63', 0.7087], ['feat71', 'feat66', 0.7087], ['feat71', 'feat69', 0.7092], ['feat71', 'feat70', 0.7089], ['feat75', 'feat4', 0.7089], ['feat75', 'feat12', 0.7089], ['feat75', 'feat13', 0.7087], ['feat75', 'feat14', 0.7089], ['feat75', 'feat15', 0.7087], ['feat75', 'feat20', 0.7087], ['feat75', 'feat31', 0.7085], ['feat75', 'feat56', 0.7085], ['feat75', 'feat63', 0.7083], ['feat75', 'feat66', 0.7085], ['feat75', 'feat69', 0.7084], ['feat75', 'feat70', 0.7089]]\n"
     ]
    }
   ],
   "source": [
    "interactions = list()\n",
    "for f_A in features:\n",
    "     for f_B in features:\n",
    "        if f_A > f_B:\n",
    "            x_train['interaction'] = x_train[f_A] * x_train[f_B]\n",
    "            x_test['interaction'] = x_test[f_A]* x_test[f_B]\n",
    "            log.fit(x_train, y_train)\n",
    "            y_pred=log.predict(x_test)\n",
    "            acc=score(y_pred, y_test)\n",
    "            #if acc > baseline:\n",
    "            print(interactions)\n",
    "            interactions.append([f_A, f_B, round(acc,4)])\n",
    "            \n",
    "            \n",
    "            "
   ]
  },
  {
   "cell_type": "code",
   "execution_count": 63,
   "metadata": {},
   "outputs": [
    {
     "data": {
      "text/plain": [
       "[['feat4', 'feat12', 0.7087],\n",
       " ['feat4', 'feat13', 0.7089],\n",
       " ['feat4', 'feat14', 0.7089],\n",
       " ['feat4', 'feat15', 0.7087],\n",
       " ['feat4', 'feat20', 0.7086],\n",
       " ['feat4', 'feat31', 0.7086],\n",
       " ['feat8', 'feat4', 0.7089],\n",
       " ['feat8', 'feat12', 0.7087],\n",
       " ['feat8', 'feat13', 0.7087],\n",
       " ['feat8', 'feat14', 0.7087],\n",
       " ['feat8', 'feat15', 0.7087],\n",
       " ['feat8', 'feat20', 0.7087],\n",
       " ['feat8', 'feat31', 0.7085],\n",
       " ['feat8', 'feat56', 0.7085],\n",
       " ['feat8', 'feat63', 0.7086],\n",
       " ['feat8', 'feat66', 0.7084],\n",
       " ['feat8', 'feat69', 0.7086],\n",
       " ['feat8', 'feat70', 0.7087],\n",
       " ['feat8', 'feat71', 0.709],\n",
       " ['feat8', 'feat75', 0.7089],\n",
       " ['feat13', 'feat12', 0.7089],\n",
       " ['feat14', 'feat12', 0.7089],\n",
       " ['feat14', 'feat13', 0.7084],\n",
       " ['feat15', 'feat12', 0.7089],\n",
       " ['feat15', 'feat13', 0.7088],\n",
       " ['feat15', 'feat14', 0.7087],\n",
       " ['feat20', 'feat12', 0.7087],\n",
       " ['feat20', 'feat13', 0.7087],\n",
       " ['feat20', 'feat14', 0.7087],\n",
       " ['feat20', 'feat15', 0.7088],\n",
       " ['feat31', 'feat12', 0.7083],\n",
       " ['feat31', 'feat13', 0.7087],\n",
       " ['feat31', 'feat14', 0.7085],\n",
       " ['feat31', 'feat15', 0.7087],\n",
       " ['feat31', 'feat20', 0.7083],\n",
       " ['feat56', 'feat4', 0.7084],\n",
       " ['feat56', 'feat12', 0.7083],\n",
       " ['feat56', 'feat13', 0.7086],\n",
       " ['feat56', 'feat14', 0.7083],\n",
       " ['feat56', 'feat15', 0.7087],\n",
       " ['feat56', 'feat20', 0.7089],\n",
       " ['feat56', 'feat31', 0.7086],\n",
       " ['feat63', 'feat4', 0.7083],\n",
       " ['feat63', 'feat12', 0.7079],\n",
       " ['feat63', 'feat13', 0.7087],\n",
       " ['feat63', 'feat14', 0.7087],\n",
       " ['feat63', 'feat15', 0.7087],\n",
       " ['feat63', 'feat20', 0.7088],\n",
       " ['feat63', 'feat31', 0.7087],\n",
       " ['feat63', 'feat56', 0.7093],\n",
       " ['feat66', 'feat4', 0.7089],\n",
       " ['feat66', 'feat12', 0.7089],\n",
       " ['feat66', 'feat13', 0.7095],\n",
       " ['feat66', 'feat14', 0.7089],\n",
       " ['feat66', 'feat15', 0.7087],\n",
       " ['feat66', 'feat20', 0.7087],\n",
       " ['feat66', 'feat31', 0.709],\n",
       " ['feat66', 'feat56', 0.7085],\n",
       " ['feat66', 'feat63', 0.7082],\n",
       " ['feat69', 'feat4', 0.7085],\n",
       " ['feat69', 'feat12', 0.7077],\n",
       " ['feat69', 'feat13', 0.7085],\n",
       " ['feat69', 'feat14', 0.7087],\n",
       " ['feat69', 'feat15', 0.7087],\n",
       " ['feat69', 'feat20', 0.7082],\n",
       " ['feat69', 'feat31', 0.7087],\n",
       " ['feat69', 'feat56', 0.7087],\n",
       " ['feat69', 'feat63', 0.7088],\n",
       " ['feat69', 'feat66', 0.7079],\n",
       " ['feat70', 'feat4', 0.7088],\n",
       " ['feat70', 'feat12', 0.7085],\n",
       " ['feat70', 'feat13', 0.7089],\n",
       " ['feat70', 'feat14', 0.7087],\n",
       " ['feat70', 'feat15', 0.7087],\n",
       " ['feat70', 'feat20', 0.7088],\n",
       " ['feat70', 'feat31', 0.7087],\n",
       " ['feat70', 'feat56', 0.7087],\n",
       " ['feat70', 'feat63', 0.7086],\n",
       " ['feat70', 'feat66', 0.7087],\n",
       " ['feat70', 'feat69', 0.7088],\n",
       " ['feat71', 'feat4', 0.7089],\n",
       " ['feat71', 'feat12', 0.7082],\n",
       " ['feat71', 'feat13', 0.7089],\n",
       " ['feat71', 'feat14', 0.7087],\n",
       " ['feat71', 'feat15', 0.7087],\n",
       " ['feat71', 'feat20', 0.7085],\n",
       " ['feat71', 'feat31', 0.709],\n",
       " ['feat71', 'feat56', 0.7093],\n",
       " ['feat71', 'feat63', 0.7087],\n",
       " ['feat71', 'feat66', 0.7087],\n",
       " ['feat71', 'feat69', 0.7092],\n",
       " ['feat71', 'feat70', 0.7089],\n",
       " ['feat75', 'feat4', 0.7089],\n",
       " ['feat75', 'feat12', 0.7089],\n",
       " ['feat75', 'feat13', 0.7087],\n",
       " ['feat75', 'feat14', 0.7089],\n",
       " ['feat75', 'feat15', 0.7087],\n",
       " ['feat75', 'feat20', 0.7087],\n",
       " ['feat75', 'feat31', 0.7085],\n",
       " ['feat75', 'feat56', 0.7085],\n",
       " ['feat75', 'feat63', 0.7083],\n",
       " ['feat75', 'feat66', 0.7085],\n",
       " ['feat75', 'feat69', 0.7084],\n",
       " ['feat75', 'feat70', 0.7089],\n",
       " ['feat75', 'feat71', 0.7089]]"
      ]
     },
     "execution_count": 63,
     "metadata": {},
     "output_type": "execute_result"
    }
   ],
   "source": [
    "interactions"
   ]
  },
  {
   "cell_type": "code",
   "execution_count": 64,
   "metadata": {},
   "outputs": [],
   "source": [
    "newdf = pd.DataFrame(interactions)"
   ]
  },
  {
   "cell_type": "code",
   "execution_count": 65,
   "metadata": {},
   "outputs": [
    {
     "data": {
      "text/html": [
       "<div>\n",
       "<style scoped>\n",
       "    .dataframe tbody tr th:only-of-type {\n",
       "        vertical-align: middle;\n",
       "    }\n",
       "\n",
       "    .dataframe tbody tr th {\n",
       "        vertical-align: top;\n",
       "    }\n",
       "\n",
       "    .dataframe thead th {\n",
       "        text-align: right;\n",
       "    }\n",
       "</style>\n",
       "<table border=\"1\" class=\"dataframe\">\n",
       "  <thead>\n",
       "    <tr style=\"text-align: right;\">\n",
       "      <th></th>\n",
       "      <th>0</th>\n",
       "      <th>1</th>\n",
       "      <th>2</th>\n",
       "    </tr>\n",
       "  </thead>\n",
       "  <tbody>\n",
       "    <tr>\n",
       "      <th>52</th>\n",
       "      <td>feat66</td>\n",
       "      <td>feat13</td>\n",
       "      <td>0.7095</td>\n",
       "    </tr>\n",
       "    <tr>\n",
       "      <th>49</th>\n",
       "      <td>feat63</td>\n",
       "      <td>feat56</td>\n",
       "      <td>0.7093</td>\n",
       "    </tr>\n",
       "    <tr>\n",
       "      <th>87</th>\n",
       "      <td>feat71</td>\n",
       "      <td>feat56</td>\n",
       "      <td>0.7093</td>\n",
       "    </tr>\n",
       "    <tr>\n",
       "      <th>90</th>\n",
       "      <td>feat71</td>\n",
       "      <td>feat69</td>\n",
       "      <td>0.7092</td>\n",
       "    </tr>\n",
       "    <tr>\n",
       "      <th>18</th>\n",
       "      <td>feat8</td>\n",
       "      <td>feat71</td>\n",
       "      <td>0.7090</td>\n",
       "    </tr>\n",
       "    <tr>\n",
       "      <th>...</th>\n",
       "      <td>...</td>\n",
       "      <td>...</td>\n",
       "      <td>...</td>\n",
       "    </tr>\n",
       "    <tr>\n",
       "      <th>64</th>\n",
       "      <td>feat69</td>\n",
       "      <td>feat20</td>\n",
       "      <td>0.7082</td>\n",
       "    </tr>\n",
       "    <tr>\n",
       "      <th>81</th>\n",
       "      <td>feat71</td>\n",
       "      <td>feat12</td>\n",
       "      <td>0.7082</td>\n",
       "    </tr>\n",
       "    <tr>\n",
       "      <th>43</th>\n",
       "      <td>feat63</td>\n",
       "      <td>feat12</td>\n",
       "      <td>0.7079</td>\n",
       "    </tr>\n",
       "    <tr>\n",
       "      <th>68</th>\n",
       "      <td>feat69</td>\n",
       "      <td>feat66</td>\n",
       "      <td>0.7079</td>\n",
       "    </tr>\n",
       "    <tr>\n",
       "      <th>60</th>\n",
       "      <td>feat69</td>\n",
       "      <td>feat12</td>\n",
       "      <td>0.7077</td>\n",
       "    </tr>\n",
       "  </tbody>\n",
       "</table>\n",
       "<p>105 rows × 3 columns</p>\n",
       "</div>"
      ],
      "text/plain": [
       "         0       1       2\n",
       "52  feat66  feat13  0.7095\n",
       "49  feat63  feat56  0.7093\n",
       "87  feat71  feat56  0.7093\n",
       "90  feat71  feat69  0.7092\n",
       "18   feat8  feat71  0.7090\n",
       "..     ...     ...     ...\n",
       "64  feat69  feat20  0.7082\n",
       "81  feat71  feat12  0.7082\n",
       "43  feat63  feat12  0.7079\n",
       "68  feat69  feat66  0.7079\n",
       "60  feat69  feat12  0.7077\n",
       "\n",
       "[105 rows x 3 columns]"
      ]
     },
     "execution_count": 65,
     "metadata": {},
     "output_type": "execute_result"
    }
   ],
   "source": [
    "newdf.sort_values(by=[2], ascending = False)"
   ]
  },
  {
   "cell_type": "code",
   "execution_count": 66,
   "metadata": {},
   "outputs": [],
   "source": [
    "x_train['newcol1'] = x_train['feat66'] * x_train['feat12']\n",
    "x_train['newcol2'] = x_train['feat71'] * x_train['feat31']\n",
    "x_train['newcol3'] = x_train['feat69'] * x_train['feat56']\n",
    "x_train['newcol4'] = x_train['feat66'] * x_train['feat14']\n",
    "x_train['newcol5'] = x_train['feat71'] * x_train['feat13']"
   ]
  },
  {
   "cell_type": "code",
   "execution_count": 67,
   "metadata": {},
   "outputs": [],
   "source": [
    "x_test['newcol1'] = x_test['feat66'] * x_test['feat12']\n",
    "x_test['newcol2'] = x_test['feat71'] * x_test['feat31']\n",
    "x_test['newcol3'] = x_test['feat69'] * x_test['feat56']\n",
    "x_test['newcol4'] = x_test['feat66'] * x_test['feat14']\n",
    "x_test['newcol5'] = x_test['feat71'] * x_test['feat13']"
   ]
  },
  {
   "cell_type": "code",
   "execution_count": 68,
   "metadata": {},
   "outputs": [
    {
     "data": {
      "text/html": [
       "<div>\n",
       "<style scoped>\n",
       "    .dataframe tbody tr th:only-of-type {\n",
       "        vertical-align: middle;\n",
       "    }\n",
       "\n",
       "    .dataframe tbody tr th {\n",
       "        vertical-align: top;\n",
       "    }\n",
       "\n",
       "    .dataframe thead th {\n",
       "        text-align: right;\n",
       "    }\n",
       "</style>\n",
       "<table border=\"1\" class=\"dataframe\">\n",
       "  <thead>\n",
       "    <tr style=\"text-align: right;\">\n",
       "      <th></th>\n",
       "      <th>feat4</th>\n",
       "      <th>feat8</th>\n",
       "      <th>feat12</th>\n",
       "      <th>feat13</th>\n",
       "      <th>feat14</th>\n",
       "      <th>feat15</th>\n",
       "      <th>feat20</th>\n",
       "      <th>feat31</th>\n",
       "      <th>feat56</th>\n",
       "      <th>feat63</th>\n",
       "      <th>...</th>\n",
       "      <th>feat69</th>\n",
       "      <th>feat70</th>\n",
       "      <th>feat71</th>\n",
       "      <th>feat75</th>\n",
       "      <th>interaction</th>\n",
       "      <th>newcol1</th>\n",
       "      <th>newcol2</th>\n",
       "      <th>newcol3</th>\n",
       "      <th>newcol4</th>\n",
       "      <th>newcol5</th>\n",
       "    </tr>\n",
       "  </thead>\n",
       "  <tbody>\n",
       "    <tr>\n",
       "      <th>16268</th>\n",
       "      <td>0.0</td>\n",
       "      <td>-1.0</td>\n",
       "      <td>-1.0</td>\n",
       "      <td>-0.894052</td>\n",
       "      <td>3.323338e-04</td>\n",
       "      <td>-0.000087</td>\n",
       "      <td>0.001118</td>\n",
       "      <td>1.0</td>\n",
       "      <td>0.0</td>\n",
       "      <td>0.0</td>\n",
       "      <td>...</td>\n",
       "      <td>-1.0</td>\n",
       "      <td>-0.894052</td>\n",
       "      <td>-0.505440</td>\n",
       "      <td>0.0</td>\n",
       "      <td>-0.000000</td>\n",
       "      <td>1.0</td>\n",
       "      <td>-0.505440</td>\n",
       "      <td>-0.0</td>\n",
       "      <td>-3.323338e-04</td>\n",
       "      <td>0.451890</td>\n",
       "    </tr>\n",
       "    <tr>\n",
       "      <th>5504</th>\n",
       "      <td>1.0</td>\n",
       "      <td>-1.0</td>\n",
       "      <td>-1.0</td>\n",
       "      <td>-0.942626</td>\n",
       "      <td>3.278089e-03</td>\n",
       "      <td>-0.000601</td>\n",
       "      <td>-1.483455</td>\n",
       "      <td>1.0</td>\n",
       "      <td>1.0</td>\n",
       "      <td>2.0</td>\n",
       "      <td>...</td>\n",
       "      <td>-1.0</td>\n",
       "      <td>-0.942626</td>\n",
       "      <td>-0.636356</td>\n",
       "      <td>1.0</td>\n",
       "      <td>-0.636356</td>\n",
       "      <td>1.0</td>\n",
       "      <td>-0.636356</td>\n",
       "      <td>-1.0</td>\n",
       "      <td>-3.278089e-03</td>\n",
       "      <td>0.599846</td>\n",
       "    </tr>\n",
       "    <tr>\n",
       "      <th>23601</th>\n",
       "      <td>0.0</td>\n",
       "      <td>0.0</td>\n",
       "      <td>1.0</td>\n",
       "      <td>0.355214</td>\n",
       "      <td>-6.182356e-07</td>\n",
       "      <td>0.000000</td>\n",
       "      <td>0.001118</td>\n",
       "      <td>0.0</td>\n",
       "      <td>0.0</td>\n",
       "      <td>0.0</td>\n",
       "      <td>...</td>\n",
       "      <td>0.0</td>\n",
       "      <td>0.000000</td>\n",
       "      <td>0.000000</td>\n",
       "      <td>0.0</td>\n",
       "      <td>0.000000</td>\n",
       "      <td>1.0</td>\n",
       "      <td>0.000000</td>\n",
       "      <td>0.0</td>\n",
       "      <td>-6.182356e-07</td>\n",
       "      <td>0.000000</td>\n",
       "    </tr>\n",
       "    <tr>\n",
       "      <th>12849</th>\n",
       "      <td>0.0</td>\n",
       "      <td>0.0</td>\n",
       "      <td>-1.0</td>\n",
       "      <td>0.790438</td>\n",
       "      <td>-3.982966e-02</td>\n",
       "      <td>-0.019704</td>\n",
       "      <td>0.001118</td>\n",
       "      <td>0.0</td>\n",
       "      <td>0.0</td>\n",
       "      <td>0.0</td>\n",
       "      <td>...</td>\n",
       "      <td>0.0</td>\n",
       "      <td>0.000000</td>\n",
       "      <td>0.000000</td>\n",
       "      <td>0.0</td>\n",
       "      <td>0.000000</td>\n",
       "      <td>-1.0</td>\n",
       "      <td>0.000000</td>\n",
       "      <td>0.0</td>\n",
       "      <td>-3.982966e-02</td>\n",
       "      <td>0.000000</td>\n",
       "    </tr>\n",
       "    <tr>\n",
       "      <th>18973</th>\n",
       "      <td>0.0</td>\n",
       "      <td>0.0</td>\n",
       "      <td>-1.0</td>\n",
       "      <td>-0.533846</td>\n",
       "      <td>-6.402700e-05</td>\n",
       "      <td>0.000010</td>\n",
       "      <td>-0.786113</td>\n",
       "      <td>-1.0</td>\n",
       "      <td>1.0</td>\n",
       "      <td>21.0</td>\n",
       "      <td>...</td>\n",
       "      <td>1.0</td>\n",
       "      <td>0.000003</td>\n",
       "      <td>0.419223</td>\n",
       "      <td>0.0</td>\n",
       "      <td>0.000000</td>\n",
       "      <td>1.0</td>\n",
       "      <td>-0.419223</td>\n",
       "      <td>1.0</td>\n",
       "      <td>6.402700e-05</td>\n",
       "      <td>-0.223801</td>\n",
       "    </tr>\n",
       "    <tr>\n",
       "      <th>...</th>\n",
       "      <td>...</td>\n",
       "      <td>...</td>\n",
       "      <td>...</td>\n",
       "      <td>...</td>\n",
       "      <td>...</td>\n",
       "      <td>...</td>\n",
       "      <td>...</td>\n",
       "      <td>...</td>\n",
       "      <td>...</td>\n",
       "      <td>...</td>\n",
       "      <td>...</td>\n",
       "      <td>...</td>\n",
       "      <td>...</td>\n",
       "      <td>...</td>\n",
       "      <td>...</td>\n",
       "      <td>...</td>\n",
       "      <td>...</td>\n",
       "      <td>...</td>\n",
       "      <td>...</td>\n",
       "      <td>...</td>\n",
       "      <td>...</td>\n",
       "    </tr>\n",
       "    <tr>\n",
       "      <th>18184</th>\n",
       "      <td>0.0</td>\n",
       "      <td>0.0</td>\n",
       "      <td>-1.0</td>\n",
       "      <td>-0.992932</td>\n",
       "      <td>1.823908e-04</td>\n",
       "      <td>-0.000047</td>\n",
       "      <td>-0.633371</td>\n",
       "      <td>-1.0</td>\n",
       "      <td>0.0</td>\n",
       "      <td>0.0</td>\n",
       "      <td>...</td>\n",
       "      <td>1.0</td>\n",
       "      <td>0.000182</td>\n",
       "      <td>0.039015</td>\n",
       "      <td>0.0</td>\n",
       "      <td>0.000000</td>\n",
       "      <td>1.0</td>\n",
       "      <td>-0.039015</td>\n",
       "      <td>0.0</td>\n",
       "      <td>-1.823908e-04</td>\n",
       "      <td>-0.038739</td>\n",
       "    </tr>\n",
       "    <tr>\n",
       "      <th>31379</th>\n",
       "      <td>0.0</td>\n",
       "      <td>0.0</td>\n",
       "      <td>-1.0</td>\n",
       "      <td>0.000235</td>\n",
       "      <td>1.456320e-05</td>\n",
       "      <td>-0.000001</td>\n",
       "      <td>0.001118</td>\n",
       "      <td>-1.0</td>\n",
       "      <td>0.0</td>\n",
       "      <td>0.0</td>\n",
       "      <td>...</td>\n",
       "      <td>1.0</td>\n",
       "      <td>0.000235</td>\n",
       "      <td>0.670592</td>\n",
       "      <td>0.0</td>\n",
       "      <td>0.000000</td>\n",
       "      <td>-0.0</td>\n",
       "      <td>-0.670592</td>\n",
       "      <td>0.0</td>\n",
       "      <td>0.000000e+00</td>\n",
       "      <td>0.000157</td>\n",
       "    </tr>\n",
       "    <tr>\n",
       "      <th>48749</th>\n",
       "      <td>0.0</td>\n",
       "      <td>0.0</td>\n",
       "      <td>1.0</td>\n",
       "      <td>0.987462</td>\n",
       "      <td>3.721650e-05</td>\n",
       "      <td>-0.000016</td>\n",
       "      <td>0.001118</td>\n",
       "      <td>0.0</td>\n",
       "      <td>0.0</td>\n",
       "      <td>0.0</td>\n",
       "      <td>...</td>\n",
       "      <td>0.0</td>\n",
       "      <td>0.000000</td>\n",
       "      <td>0.000000</td>\n",
       "      <td>0.0</td>\n",
       "      <td>0.000000</td>\n",
       "      <td>1.0</td>\n",
       "      <td>0.000000</td>\n",
       "      <td>0.0</td>\n",
       "      <td>3.721650e-05</td>\n",
       "      <td>0.000000</td>\n",
       "    </tr>\n",
       "    <tr>\n",
       "      <th>31858</th>\n",
       "      <td>0.0</td>\n",
       "      <td>0.0</td>\n",
       "      <td>-1.0</td>\n",
       "      <td>-0.586331</td>\n",
       "      <td>-2.833520e-04</td>\n",
       "      <td>0.000003</td>\n",
       "      <td>-1.174284</td>\n",
       "      <td>0.0</td>\n",
       "      <td>0.0</td>\n",
       "      <td>0.0</td>\n",
       "      <td>...</td>\n",
       "      <td>0.0</td>\n",
       "      <td>0.000000</td>\n",
       "      <td>0.000000</td>\n",
       "      <td>0.0</td>\n",
       "      <td>0.000000</td>\n",
       "      <td>1.0</td>\n",
       "      <td>0.000000</td>\n",
       "      <td>0.0</td>\n",
       "      <td>2.833520e-04</td>\n",
       "      <td>-0.000000</td>\n",
       "    </tr>\n",
       "    <tr>\n",
       "      <th>37703</th>\n",
       "      <td>0.0</td>\n",
       "      <td>0.0</td>\n",
       "      <td>1.0</td>\n",
       "      <td>-0.890969</td>\n",
       "      <td>-5.621810e-04</td>\n",
       "      <td>-0.000174</td>\n",
       "      <td>0.001118</td>\n",
       "      <td>-1.0</td>\n",
       "      <td>-1.0</td>\n",
       "      <td>-6.0</td>\n",
       "      <td>...</td>\n",
       "      <td>-1.0</td>\n",
       "      <td>-0.890969</td>\n",
       "      <td>-0.282960</td>\n",
       "      <td>0.0</td>\n",
       "      <td>-0.000000</td>\n",
       "      <td>1.0</td>\n",
       "      <td>0.282960</td>\n",
       "      <td>1.0</td>\n",
       "      <td>-5.621810e-04</td>\n",
       "      <td>0.252109</td>\n",
       "    </tr>\n",
       "  </tbody>\n",
       "</table>\n",
       "<p>35000 rows × 21 columns</p>\n",
       "</div>"
      ],
      "text/plain": [
       "       feat4  feat8  feat12    feat13        feat14    feat15    feat20  \\\n",
       "16268    0.0   -1.0    -1.0 -0.894052  3.323338e-04 -0.000087  0.001118   \n",
       "5504     1.0   -1.0    -1.0 -0.942626  3.278089e-03 -0.000601 -1.483455   \n",
       "23601    0.0    0.0     1.0  0.355214 -6.182356e-07  0.000000  0.001118   \n",
       "12849    0.0    0.0    -1.0  0.790438 -3.982966e-02 -0.019704  0.001118   \n",
       "18973    0.0    0.0    -1.0 -0.533846 -6.402700e-05  0.000010 -0.786113   \n",
       "...      ...    ...     ...       ...           ...       ...       ...   \n",
       "18184    0.0    0.0    -1.0 -0.992932  1.823908e-04 -0.000047 -0.633371   \n",
       "31379    0.0    0.0    -1.0  0.000235  1.456320e-05 -0.000001  0.001118   \n",
       "48749    0.0    0.0     1.0  0.987462  3.721650e-05 -0.000016  0.001118   \n",
       "31858    0.0    0.0    -1.0 -0.586331 -2.833520e-04  0.000003 -1.174284   \n",
       "37703    0.0    0.0     1.0 -0.890969 -5.621810e-04 -0.000174  0.001118   \n",
       "\n",
       "       feat31  feat56  feat63  ...  feat69    feat70    feat71  feat75  \\\n",
       "16268     1.0     0.0     0.0  ...    -1.0 -0.894052 -0.505440     0.0   \n",
       "5504      1.0     1.0     2.0  ...    -1.0 -0.942626 -0.636356     1.0   \n",
       "23601     0.0     0.0     0.0  ...     0.0  0.000000  0.000000     0.0   \n",
       "12849     0.0     0.0     0.0  ...     0.0  0.000000  0.000000     0.0   \n",
       "18973    -1.0     1.0    21.0  ...     1.0  0.000003  0.419223     0.0   \n",
       "...       ...     ...     ...  ...     ...       ...       ...     ...   \n",
       "18184    -1.0     0.0     0.0  ...     1.0  0.000182  0.039015     0.0   \n",
       "31379    -1.0     0.0     0.0  ...     1.0  0.000235  0.670592     0.0   \n",
       "48749     0.0     0.0     0.0  ...     0.0  0.000000  0.000000     0.0   \n",
       "31858     0.0     0.0     0.0  ...     0.0  0.000000  0.000000     0.0   \n",
       "37703    -1.0    -1.0    -6.0  ...    -1.0 -0.890969 -0.282960     0.0   \n",
       "\n",
       "       interaction  newcol1   newcol2  newcol3       newcol4   newcol5  \n",
       "16268    -0.000000      1.0 -0.505440     -0.0 -3.323338e-04  0.451890  \n",
       "5504     -0.636356      1.0 -0.636356     -1.0 -3.278089e-03  0.599846  \n",
       "23601     0.000000      1.0  0.000000      0.0 -6.182356e-07  0.000000  \n",
       "12849     0.000000     -1.0  0.000000      0.0 -3.982966e-02  0.000000  \n",
       "18973     0.000000      1.0 -0.419223      1.0  6.402700e-05 -0.223801  \n",
       "...            ...      ...       ...      ...           ...       ...  \n",
       "18184     0.000000      1.0 -0.039015      0.0 -1.823908e-04 -0.038739  \n",
       "31379     0.000000     -0.0 -0.670592      0.0  0.000000e+00  0.000157  \n",
       "48749     0.000000      1.0  0.000000      0.0  3.721650e-05  0.000000  \n",
       "31858     0.000000      1.0  0.000000      0.0  2.833520e-04 -0.000000  \n",
       "37703    -0.000000      1.0  0.282960      1.0 -5.621810e-04  0.252109  \n",
       "\n",
       "[35000 rows x 21 columns]"
      ]
     },
     "execution_count": 68,
     "metadata": {},
     "output_type": "execute_result"
    }
   ],
   "source": [
    "x_train"
   ]
  },
  {
   "cell_type": "code",
   "execution_count": 69,
   "metadata": {},
   "outputs": [],
   "source": [
    "x_train.drop(['interaction'],axis=1, inplace=True)"
   ]
  },
  {
   "cell_type": "code",
   "execution_count": 70,
   "metadata": {},
   "outputs": [],
   "source": [
    "x_test.drop(['interaction'],axis=1, inplace=True)\n"
   ]
  },
  {
   "cell_type": "code",
   "execution_count": 71,
   "metadata": {},
   "outputs": [
    {
     "data": {
      "text/html": [
       "<div>\n",
       "<style scoped>\n",
       "    .dataframe tbody tr th:only-of-type {\n",
       "        vertical-align: middle;\n",
       "    }\n",
       "\n",
       "    .dataframe tbody tr th {\n",
       "        vertical-align: top;\n",
       "    }\n",
       "\n",
       "    .dataframe thead th {\n",
       "        text-align: right;\n",
       "    }\n",
       "</style>\n",
       "<table border=\"1\" class=\"dataframe\">\n",
       "  <thead>\n",
       "    <tr style=\"text-align: right;\">\n",
       "      <th></th>\n",
       "      <th>feat4</th>\n",
       "      <th>feat8</th>\n",
       "      <th>feat12</th>\n",
       "      <th>feat13</th>\n",
       "      <th>feat14</th>\n",
       "      <th>feat15</th>\n",
       "      <th>feat20</th>\n",
       "      <th>feat31</th>\n",
       "      <th>feat56</th>\n",
       "      <th>feat63</th>\n",
       "      <th>feat66</th>\n",
       "      <th>feat69</th>\n",
       "      <th>feat70</th>\n",
       "      <th>feat71</th>\n",
       "      <th>feat75</th>\n",
       "      <th>newcol1</th>\n",
       "      <th>newcol2</th>\n",
       "      <th>newcol3</th>\n",
       "      <th>newcol4</th>\n",
       "      <th>newcol5</th>\n",
       "    </tr>\n",
       "  </thead>\n",
       "  <tbody>\n",
       "    <tr>\n",
       "      <th>1189</th>\n",
       "      <td>-1.0</td>\n",
       "      <td>0.0</td>\n",
       "      <td>1.0</td>\n",
       "      <td>-0.433954</td>\n",
       "      <td>0.000825</td>\n",
       "      <td>0.000083</td>\n",
       "      <td>0.001118</td>\n",
       "      <td>0.0</td>\n",
       "      <td>0.0</td>\n",
       "      <td>0.0</td>\n",
       "      <td>1.0</td>\n",
       "      <td>0.0</td>\n",
       "      <td>0.000000</td>\n",
       "      <td>0.000000</td>\n",
       "      <td>-1.0</td>\n",
       "      <td>1.0</td>\n",
       "      <td>0.000000</td>\n",
       "      <td>0.0</td>\n",
       "      <td>0.000825</td>\n",
       "      <td>-0.000000</td>\n",
       "    </tr>\n",
       "    <tr>\n",
       "      <th>24510</th>\n",
       "      <td>0.0</td>\n",
       "      <td>0.0</td>\n",
       "      <td>1.0</td>\n",
       "      <td>0.249425</td>\n",
       "      <td>0.108979</td>\n",
       "      <td>-0.000001</td>\n",
       "      <td>1.076755</td>\n",
       "      <td>-1.0</td>\n",
       "      <td>-1.0</td>\n",
       "      <td>-2.0</td>\n",
       "      <td>1.0</td>\n",
       "      <td>1.0</td>\n",
       "      <td>0.249425</td>\n",
       "      <td>0.847118</td>\n",
       "      <td>0.0</td>\n",
       "      <td>1.0</td>\n",
       "      <td>-0.847118</td>\n",
       "      <td>-1.0</td>\n",
       "      <td>0.108979</td>\n",
       "      <td>0.211292</td>\n",
       "    </tr>\n",
       "    <tr>\n",
       "      <th>32049</th>\n",
       "      <td>0.0</td>\n",
       "      <td>0.0</td>\n",
       "      <td>-1.0</td>\n",
       "      <td>0.000595</td>\n",
       "      <td>0.000470</td>\n",
       "      <td>-0.000030</td>\n",
       "      <td>0.001118</td>\n",
       "      <td>1.0</td>\n",
       "      <td>0.0</td>\n",
       "      <td>0.0</td>\n",
       "      <td>0.0</td>\n",
       "      <td>-1.0</td>\n",
       "      <td>-0.000030</td>\n",
       "      <td>-0.750404</td>\n",
       "      <td>0.0</td>\n",
       "      <td>-0.0</td>\n",
       "      <td>-0.750404</td>\n",
       "      <td>-0.0</td>\n",
       "      <td>0.000000</td>\n",
       "      <td>-0.000447</td>\n",
       "    </tr>\n",
       "    <tr>\n",
       "      <th>38591</th>\n",
       "      <td>0.0</td>\n",
       "      <td>0.0</td>\n",
       "      <td>-1.0</td>\n",
       "      <td>-0.000530</td>\n",
       "      <td>-0.000001</td>\n",
       "      <td>0.000001</td>\n",
       "      <td>0.001118</td>\n",
       "      <td>-1.0</td>\n",
       "      <td>0.0</td>\n",
       "      <td>0.0</td>\n",
       "      <td>0.0</td>\n",
       "      <td>1.0</td>\n",
       "      <td>0.000001</td>\n",
       "      <td>0.648040</td>\n",
       "      <td>0.0</td>\n",
       "      <td>-0.0</td>\n",
       "      <td>-0.648040</td>\n",
       "      <td>0.0</td>\n",
       "      <td>-0.000000</td>\n",
       "      <td>-0.000343</td>\n",
       "    </tr>\n",
       "    <tr>\n",
       "      <th>38779</th>\n",
       "      <td>0.0</td>\n",
       "      <td>0.0</td>\n",
       "      <td>-1.0</td>\n",
       "      <td>0.987759</td>\n",
       "      <td>0.004180</td>\n",
       "      <td>-0.000116</td>\n",
       "      <td>0.598041</td>\n",
       "      <td>-1.0</td>\n",
       "      <td>-1.0</td>\n",
       "      <td>-6.0</td>\n",
       "      <td>1.0</td>\n",
       "      <td>1.0</td>\n",
       "      <td>0.987759</td>\n",
       "      <td>0.003810</td>\n",
       "      <td>0.0</td>\n",
       "      <td>-1.0</td>\n",
       "      <td>-0.003810</td>\n",
       "      <td>-1.0</td>\n",
       "      <td>0.004180</td>\n",
       "      <td>0.003764</td>\n",
       "    </tr>\n",
       "    <tr>\n",
       "      <th>...</th>\n",
       "      <td>...</td>\n",
       "      <td>...</td>\n",
       "      <td>...</td>\n",
       "      <td>...</td>\n",
       "      <td>...</td>\n",
       "      <td>...</td>\n",
       "      <td>...</td>\n",
       "      <td>...</td>\n",
       "      <td>...</td>\n",
       "      <td>...</td>\n",
       "      <td>...</td>\n",
       "      <td>...</td>\n",
       "      <td>...</td>\n",
       "      <td>...</td>\n",
       "      <td>...</td>\n",
       "      <td>...</td>\n",
       "      <td>...</td>\n",
       "      <td>...</td>\n",
       "      <td>...</td>\n",
       "      <td>...</td>\n",
       "    </tr>\n",
       "    <tr>\n",
       "      <th>37482</th>\n",
       "      <td>1.0</td>\n",
       "      <td>0.0</td>\n",
       "      <td>1.0</td>\n",
       "      <td>0.000368</td>\n",
       "      <td>0.000230</td>\n",
       "      <td>0.000000</td>\n",
       "      <td>1.125020</td>\n",
       "      <td>0.0</td>\n",
       "      <td>0.0</td>\n",
       "      <td>0.0</td>\n",
       "      <td>0.0</td>\n",
       "      <td>0.0</td>\n",
       "      <td>0.000000</td>\n",
       "      <td>0.000000</td>\n",
       "      <td>1.0</td>\n",
       "      <td>0.0</td>\n",
       "      <td>0.000000</td>\n",
       "      <td>0.0</td>\n",
       "      <td>0.000000</td>\n",
       "      <td>0.000000</td>\n",
       "    </tr>\n",
       "    <tr>\n",
       "      <th>7917</th>\n",
       "      <td>-1.0</td>\n",
       "      <td>0.0</td>\n",
       "      <td>1.0</td>\n",
       "      <td>0.989560</td>\n",
       "      <td>-0.967907</td>\n",
       "      <td>0.531314</td>\n",
       "      <td>0.531858</td>\n",
       "      <td>0.0</td>\n",
       "      <td>0.0</td>\n",
       "      <td>0.0</td>\n",
       "      <td>1.0</td>\n",
       "      <td>0.0</td>\n",
       "      <td>0.000000</td>\n",
       "      <td>0.000000</td>\n",
       "      <td>-1.0</td>\n",
       "      <td>1.0</td>\n",
       "      <td>0.000000</td>\n",
       "      <td>0.0</td>\n",
       "      <td>-0.967907</td>\n",
       "      <td>0.000000</td>\n",
       "    </tr>\n",
       "    <tr>\n",
       "      <th>235</th>\n",
       "      <td>0.0</td>\n",
       "      <td>0.0</td>\n",
       "      <td>-1.0</td>\n",
       "      <td>-0.013672</td>\n",
       "      <td>0.000082</td>\n",
       "      <td>0.000015</td>\n",
       "      <td>-0.511742</td>\n",
       "      <td>1.0</td>\n",
       "      <td>1.0</td>\n",
       "      <td>0.0</td>\n",
       "      <td>1.0</td>\n",
       "      <td>-1.0</td>\n",
       "      <td>-0.000010</td>\n",
       "      <td>-0.000754</td>\n",
       "      <td>0.0</td>\n",
       "      <td>-1.0</td>\n",
       "      <td>-0.000754</td>\n",
       "      <td>-1.0</td>\n",
       "      <td>0.000082</td>\n",
       "      <td>0.000010</td>\n",
       "    </tr>\n",
       "    <tr>\n",
       "      <th>34150</th>\n",
       "      <td>0.0</td>\n",
       "      <td>0.0</td>\n",
       "      <td>-1.0</td>\n",
       "      <td>0.000294</td>\n",
       "      <td>-0.000182</td>\n",
       "      <td>-0.000072</td>\n",
       "      <td>0.001118</td>\n",
       "      <td>1.0</td>\n",
       "      <td>0.0</td>\n",
       "      <td>0.0</td>\n",
       "      <td>-1.0</td>\n",
       "      <td>1.0</td>\n",
       "      <td>0.000294</td>\n",
       "      <td>0.393881</td>\n",
       "      <td>0.0</td>\n",
       "      <td>1.0</td>\n",
       "      <td>0.393881</td>\n",
       "      <td>0.0</td>\n",
       "      <td>0.000182</td>\n",
       "      <td>0.000116</td>\n",
       "    </tr>\n",
       "    <tr>\n",
       "      <th>40827</th>\n",
       "      <td>0.0</td>\n",
       "      <td>-1.0</td>\n",
       "      <td>-1.0</td>\n",
       "      <td>-0.836078</td>\n",
       "      <td>0.001028</td>\n",
       "      <td>-0.000966</td>\n",
       "      <td>-1.656333</td>\n",
       "      <td>1.0</td>\n",
       "      <td>1.0</td>\n",
       "      <td>2.0</td>\n",
       "      <td>-1.0</td>\n",
       "      <td>-1.0</td>\n",
       "      <td>-0.836078</td>\n",
       "      <td>-0.880418</td>\n",
       "      <td>0.0</td>\n",
       "      <td>1.0</td>\n",
       "      <td>-0.880418</td>\n",
       "      <td>-1.0</td>\n",
       "      <td>-0.001028</td>\n",
       "      <td>0.736098</td>\n",
       "    </tr>\n",
       "  </tbody>\n",
       "</table>\n",
       "<p>15000 rows × 20 columns</p>\n",
       "</div>"
      ],
      "text/plain": [
       "       feat4  feat8  feat12    feat13    feat14    feat15    feat20  feat31  \\\n",
       "1189    -1.0    0.0     1.0 -0.433954  0.000825  0.000083  0.001118     0.0   \n",
       "24510    0.0    0.0     1.0  0.249425  0.108979 -0.000001  1.076755    -1.0   \n",
       "32049    0.0    0.0    -1.0  0.000595  0.000470 -0.000030  0.001118     1.0   \n",
       "38591    0.0    0.0    -1.0 -0.000530 -0.000001  0.000001  0.001118    -1.0   \n",
       "38779    0.0    0.0    -1.0  0.987759  0.004180 -0.000116  0.598041    -1.0   \n",
       "...      ...    ...     ...       ...       ...       ...       ...     ...   \n",
       "37482    1.0    0.0     1.0  0.000368  0.000230  0.000000  1.125020     0.0   \n",
       "7917    -1.0    0.0     1.0  0.989560 -0.967907  0.531314  0.531858     0.0   \n",
       "235      0.0    0.0    -1.0 -0.013672  0.000082  0.000015 -0.511742     1.0   \n",
       "34150    0.0    0.0    -1.0  0.000294 -0.000182 -0.000072  0.001118     1.0   \n",
       "40827    0.0   -1.0    -1.0 -0.836078  0.001028 -0.000966 -1.656333     1.0   \n",
       "\n",
       "       feat56  feat63  feat66  feat69    feat70    feat71  feat75  newcol1  \\\n",
       "1189      0.0     0.0     1.0     0.0  0.000000  0.000000    -1.0      1.0   \n",
       "24510    -1.0    -2.0     1.0     1.0  0.249425  0.847118     0.0      1.0   \n",
       "32049     0.0     0.0     0.0    -1.0 -0.000030 -0.750404     0.0     -0.0   \n",
       "38591     0.0     0.0     0.0     1.0  0.000001  0.648040     0.0     -0.0   \n",
       "38779    -1.0    -6.0     1.0     1.0  0.987759  0.003810     0.0     -1.0   \n",
       "...       ...     ...     ...     ...       ...       ...     ...      ...   \n",
       "37482     0.0     0.0     0.0     0.0  0.000000  0.000000     1.0      0.0   \n",
       "7917      0.0     0.0     1.0     0.0  0.000000  0.000000    -1.0      1.0   \n",
       "235       1.0     0.0     1.0    -1.0 -0.000010 -0.000754     0.0     -1.0   \n",
       "34150     0.0     0.0    -1.0     1.0  0.000294  0.393881     0.0      1.0   \n",
       "40827     1.0     2.0    -1.0    -1.0 -0.836078 -0.880418     0.0      1.0   \n",
       "\n",
       "        newcol2  newcol3   newcol4   newcol5  \n",
       "1189   0.000000      0.0  0.000825 -0.000000  \n",
       "24510 -0.847118     -1.0  0.108979  0.211292  \n",
       "32049 -0.750404     -0.0  0.000000 -0.000447  \n",
       "38591 -0.648040      0.0 -0.000000 -0.000343  \n",
       "38779 -0.003810     -1.0  0.004180  0.003764  \n",
       "...         ...      ...       ...       ...  \n",
       "37482  0.000000      0.0  0.000000  0.000000  \n",
       "7917   0.000000      0.0 -0.967907  0.000000  \n",
       "235   -0.000754     -1.0  0.000082  0.000010  \n",
       "34150  0.393881      0.0  0.000182  0.000116  \n",
       "40827 -0.880418     -1.0 -0.001028  0.736098  \n",
       "\n",
       "[15000 rows x 20 columns]"
      ]
     },
     "execution_count": 71,
     "metadata": {},
     "output_type": "execute_result"
    }
   ],
   "source": [
    "x_test"
   ]
  },
  {
   "cell_type": "code",
   "execution_count": 72,
   "metadata": {},
   "outputs": [
    {
     "name": "stderr",
     "output_type": "stream",
     "text": [
      "/Library/Frameworks/Python.framework/Versions/3.7/lib/python3.7/site-packages/sklearn/linear_model/logistic.py:432: FutureWarning: Default solver will be changed to 'lbfgs' in 0.22. Specify a solver to silence this warning.\n",
      "  FutureWarning)\n"
     ]
    },
    {
     "data": {
      "text/plain": [
       "LogisticRegression(C=1.0, class_weight=None, dual=False, fit_intercept=True,\n",
       "                   intercept_scaling=1, l1_ratio=None, max_iter=100,\n",
       "                   multi_class='warn', n_jobs=None, penalty='l2',\n",
       "                   random_state=None, solver='warn', tol=0.0001, verbose=0,\n",
       "                   warm_start=False)"
      ]
     },
     "execution_count": 72,
     "metadata": {},
     "output_type": "execute_result"
    }
   ],
   "source": [
    "log_interaction = LogisticRegression()\n",
    "log_interaction.fit(x_train, y_train)"
   ]
  },
  {
   "cell_type": "code",
   "execution_count": 73,
   "metadata": {},
   "outputs": [],
   "source": [
    "inter_pred01=log_interaction.predict(x_test)"
   ]
  },
  {
   "cell_type": "code",
   "execution_count": 74,
   "metadata": {},
   "outputs": [
    {
     "data": {
      "text/plain": [
       "array([0., 1., 0., ..., 0., 0., 0.])"
      ]
     },
     "execution_count": 74,
     "metadata": {},
     "output_type": "execute_result"
    }
   ],
   "source": [
    "inter_pred01"
   ]
  },
  {
   "cell_type": "code",
   "execution_count": 75,
   "metadata": {},
   "outputs": [],
   "source": [
    "inter_pred=log_interaction.predict_proba(x_test)"
   ]
  },
  {
   "cell_type": "code",
   "execution_count": 76,
   "metadata": {},
   "outputs": [],
   "source": [
    "inter_pred=inter_pred[:,1]"
   ]
  },
  {
   "cell_type": "code",
   "execution_count": 77,
   "metadata": {},
   "outputs": [
    {
     "data": {
      "text/plain": [
       "array([0.43150403, 0.84647208, 0.36713646, ..., 0.47419132, 0.4553541 ,\n",
       "       0.03329415])"
      ]
     },
     "execution_count": 77,
     "metadata": {},
     "output_type": "execute_result"
    }
   ],
   "source": [
    "inter_pred"
   ]
  },
  {
   "cell_type": "code",
   "execution_count": 78,
   "metadata": {},
   "outputs": [
    {
     "data": {
      "text/plain": [
       "0.8161040812321374"
      ]
     },
     "execution_count": 78,
     "metadata": {},
     "output_type": "execute_result"
    }
   ],
   "source": [
    "inter_acc= score(inter_pred, y_test)\n",
    "inter_acc"
   ]
  },
  {
   "cell_type": "code",
   "execution_count": 123,
   "metadata": {},
   "outputs": [],
   "source": [
    "LGI_auc = roc_auc_score(y_test,inter_pred)"
   ]
  },
  {
   "cell_type": "code",
   "execution_count": 124,
   "metadata": {},
   "outputs": [
    {
     "name": "stdout",
     "output_type": "stream",
     "text": [
      " with interactionLogistic regression: ROC Area Under the Curve=0.795\n"
     ]
    }
   ],
   "source": [
    "print(' with interactionLogistic regression: ROC Area Under the Curve=%.3f' % (LGI_auc))"
   ]
  },
  {
   "cell_type": "code",
   "execution_count": 79,
   "metadata": {},
   "outputs": [],
   "source": [
    "precision_inter=precision_score(y_test, inter_pred01, average='binary')"
   ]
  },
  {
   "cell_type": "code",
   "execution_count": 80,
   "metadata": {},
   "outputs": [
    {
     "data": {
      "text/plain": [
       "0.7145754461871282"
      ]
     },
     "execution_count": 80,
     "metadata": {},
     "output_type": "execute_result"
    }
   ],
   "source": [
    "precision_inter"
   ]
  },
  {
   "cell_type": "code",
   "execution_count": 81,
   "metadata": {},
   "outputs": [],
   "source": [
    "in_fpr, in_tpr, _ = roc_curve(y_test,inter_pred)"
   ]
  },
  {
   "cell_type": "code",
   "execution_count": 82,
   "metadata": {},
   "outputs": [
    {
     "data": {
      "image/png": "[encoded data removed]",
      "text/plain": [
       "<Figure size 432x288 with 1 Axes>"
      ]
     },
     "metadata": {
      "needs_background": "light"
     },
     "output_type": "display_data"
    }
   ],
   "source": [
    "pyplot.plot(in_fpr, in_tpr, marker='.', label='Logistic with interaction')\n",
    "pyplot.xlabel('False Positive Rate')\n",
    "pyplot.ylabel('True Positive Rate')\n",
    "pyplot.legend()\n",
    "pyplot.show()"
   ]
  },
  {
   "cell_type": "code",
   "execution_count": 83,
   "metadata": {},
   "outputs": [],
   "source": [
    "con_matrix_in= confusion_matrix(y_test, inter_pred01)"
   ]
  },
  {
   "cell_type": "code",
   "execution_count": 84,
   "metadata": {},
   "outputs": [
    {
     "data": {
      "text/plain": [
       "array([[5354, 2111],\n",
       "       [2250, 5285]])"
      ]
     },
     "execution_count": 84,
     "metadata": {},
     "output_type": "execute_result"
    }
   ],
   "source": [
    "con_matrix_in"
   ]
  },
  {
   "cell_type": "code",
   "execution_count": 85,
   "metadata": {},
   "outputs": [],
   "source": [
    "# model 3 Random Forest"
   ]
  },
  {
   "cell_type": "code",
   "execution_count": 86,
   "metadata": {},
   "outputs": [
    {
     "data": {
      "text/html": [
       "<div>\n",
       "<style scoped>\n",
       "    .dataframe tbody tr th:only-of-type {\n",
       "        vertical-align: middle;\n",
       "    }\n",
       "\n",
       "    .dataframe tbody tr th {\n",
       "        vertical-align: top;\n",
       "    }\n",
       "\n",
       "    .dataframe thead th {\n",
       "        text-align: right;\n",
       "    }\n",
       "</style>\n",
       "<table border=\"1\" class=\"dataframe\">\n",
       "  <thead>\n",
       "    <tr style=\"text-align: right;\">\n",
       "      <th></th>\n",
       "      <th>exampleid</th>\n",
       "      <th>target</th>\n",
       "      <th>feat1</th>\n",
       "      <th>feat2</th>\n",
       "      <th>feat3</th>\n",
       "      <th>feat4</th>\n",
       "      <th>feat5</th>\n",
       "      <th>feat6</th>\n",
       "      <th>feat7</th>\n",
       "      <th>feat8</th>\n",
       "      <th>...</th>\n",
       "      <th>feat69</th>\n",
       "      <th>feat70</th>\n",
       "      <th>feat71</th>\n",
       "      <th>feat72</th>\n",
       "      <th>feat73</th>\n",
       "      <th>feat74</th>\n",
       "      <th>feat75</th>\n",
       "      <th>feat76</th>\n",
       "      <th>feat77</th>\n",
       "      <th>feat78</th>\n",
       "    </tr>\n",
       "  </thead>\n",
       "  <tbody>\n",
       "    <tr>\n",
       "      <th>0</th>\n",
       "      <td>1.0</td>\n",
       "      <td>0.0</td>\n",
       "      <td>0.000000</td>\n",
       "      <td>0.000000</td>\n",
       "      <td>0.000000</td>\n",
       "      <td>0.0</td>\n",
       "      <td>0.000000</td>\n",
       "      <td>0.0</td>\n",
       "      <td>0.000000</td>\n",
       "      <td>0.0</td>\n",
       "      <td>...</td>\n",
       "      <td>-1.0</td>\n",
       "      <td>-0.036906</td>\n",
       "      <td>-0.000724</td>\n",
       "      <td>0.000000</td>\n",
       "      <td>0.000000</td>\n",
       "      <td>0.000000</td>\n",
       "      <td>0.0</td>\n",
       "      <td>0.0</td>\n",
       "      <td>0.000000</td>\n",
       "      <td>0.000000</td>\n",
       "    </tr>\n",
       "    <tr>\n",
       "      <th>1</th>\n",
       "      <td>2.0</td>\n",
       "      <td>0.0</td>\n",
       "      <td>0.920167</td>\n",
       "      <td>0.817883</td>\n",
       "      <td>-0.646473</td>\n",
       "      <td>-1.0</td>\n",
       "      <td>0.000000</td>\n",
       "      <td>0.0</td>\n",
       "      <td>0.000000</td>\n",
       "      <td>0.0</td>\n",
       "      <td>...</td>\n",
       "      <td>-1.0</td>\n",
       "      <td>-0.999927</td>\n",
       "      <td>-0.012102</td>\n",
       "      <td>0.920167</td>\n",
       "      <td>0.817883</td>\n",
       "      <td>-0.646473</td>\n",
       "      <td>-1.0</td>\n",
       "      <td>1.0</td>\n",
       "      <td>0.302235</td>\n",
       "      <td>0.950770</td>\n",
       "    </tr>\n",
       "    <tr>\n",
       "      <th>2</th>\n",
       "      <td>3.0</td>\n",
       "      <td>1.0</td>\n",
       "      <td>0.868397</td>\n",
       "      <td>0.178202</td>\n",
       "      <td>0.150828</td>\n",
       "      <td>-1.0</td>\n",
       "      <td>0.000000</td>\n",
       "      <td>0.0</td>\n",
       "      <td>0.000000</td>\n",
       "      <td>0.0</td>\n",
       "      <td>...</td>\n",
       "      <td>1.0</td>\n",
       "      <td>0.908824</td>\n",
       "      <td>0.550843</td>\n",
       "      <td>0.868397</td>\n",
       "      <td>0.178202</td>\n",
       "      <td>0.150828</td>\n",
       "      <td>-1.0</td>\n",
       "      <td>1.0</td>\n",
       "      <td>0.001421</td>\n",
       "      <td>0.882853</td>\n",
       "    </tr>\n",
       "    <tr>\n",
       "      <th>3</th>\n",
       "      <td>4.0</td>\n",
       "      <td>0.0</td>\n",
       "      <td>0.000000</td>\n",
       "      <td>0.000000</td>\n",
       "      <td>0.000000</td>\n",
       "      <td>0.0</td>\n",
       "      <td>1.577894</td>\n",
       "      <td>0.0</td>\n",
       "      <td>-0.369792</td>\n",
       "      <td>-1.0</td>\n",
       "      <td>...</td>\n",
       "      <td>0.0</td>\n",
       "      <td>0.000000</td>\n",
       "      <td>0.000000</td>\n",
       "      <td>0.000000</td>\n",
       "      <td>0.000000</td>\n",
       "      <td>0.000000</td>\n",
       "      <td>0.0</td>\n",
       "      <td>0.0</td>\n",
       "      <td>0.000000</td>\n",
       "      <td>0.000000</td>\n",
       "    </tr>\n",
       "    <tr>\n",
       "      <th>4</th>\n",
       "      <td>5.0</td>\n",
       "      <td>0.0</td>\n",
       "      <td>0.000000</td>\n",
       "      <td>0.000000</td>\n",
       "      <td>0.000000</td>\n",
       "      <td>0.0</td>\n",
       "      <td>0.000000</td>\n",
       "      <td>0.0</td>\n",
       "      <td>0.000000</td>\n",
       "      <td>0.0</td>\n",
       "      <td>...</td>\n",
       "      <td>1.0</td>\n",
       "      <td>0.000005</td>\n",
       "      <td>0.400702</td>\n",
       "      <td>0.000000</td>\n",
       "      <td>0.000000</td>\n",
       "      <td>0.000000</td>\n",
       "      <td>0.0</td>\n",
       "      <td>0.0</td>\n",
       "      <td>0.000000</td>\n",
       "      <td>0.000000</td>\n",
       "    </tr>\n",
       "    <tr>\n",
       "      <th>...</th>\n",
       "      <td>...</td>\n",
       "      <td>...</td>\n",
       "      <td>...</td>\n",
       "      <td>...</td>\n",
       "      <td>...</td>\n",
       "      <td>...</td>\n",
       "      <td>...</td>\n",
       "      <td>...</td>\n",
       "      <td>...</td>\n",
       "      <td>...</td>\n",
       "      <td>...</td>\n",
       "      <td>...</td>\n",
       "      <td>...</td>\n",
       "      <td>...</td>\n",
       "      <td>...</td>\n",
       "      <td>...</td>\n",
       "      <td>...</td>\n",
       "      <td>...</td>\n",
       "      <td>...</td>\n",
       "      <td>...</td>\n",
       "      <td>...</td>\n",
       "    </tr>\n",
       "    <tr>\n",
       "      <th>49995</th>\n",
       "      <td>49996.0</td>\n",
       "      <td>0.0</td>\n",
       "      <td>0.000000</td>\n",
       "      <td>0.000000</td>\n",
       "      <td>0.000000</td>\n",
       "      <td>0.0</td>\n",
       "      <td>0.000000</td>\n",
       "      <td>0.0</td>\n",
       "      <td>0.000000</td>\n",
       "      <td>0.0</td>\n",
       "      <td>...</td>\n",
       "      <td>0.0</td>\n",
       "      <td>0.000000</td>\n",
       "      <td>0.000000</td>\n",
       "      <td>0.000000</td>\n",
       "      <td>0.000000</td>\n",
       "      <td>0.000000</td>\n",
       "      <td>0.0</td>\n",
       "      <td>0.0</td>\n",
       "      <td>0.000000</td>\n",
       "      <td>0.000000</td>\n",
       "    </tr>\n",
       "    <tr>\n",
       "      <th>49996</th>\n",
       "      <td>49997.0</td>\n",
       "      <td>1.0</td>\n",
       "      <td>0.000000</td>\n",
       "      <td>0.000000</td>\n",
       "      <td>0.000000</td>\n",
       "      <td>0.0</td>\n",
       "      <td>0.000000</td>\n",
       "      <td>0.0</td>\n",
       "      <td>0.000000</td>\n",
       "      <td>0.0</td>\n",
       "      <td>...</td>\n",
       "      <td>0.0</td>\n",
       "      <td>0.000000</td>\n",
       "      <td>0.000000</td>\n",
       "      <td>0.000000</td>\n",
       "      <td>0.000000</td>\n",
       "      <td>0.000000</td>\n",
       "      <td>0.0</td>\n",
       "      <td>0.0</td>\n",
       "      <td>0.000000</td>\n",
       "      <td>0.000000</td>\n",
       "    </tr>\n",
       "    <tr>\n",
       "      <th>49997</th>\n",
       "      <td>49998.0</td>\n",
       "      <td>1.0</td>\n",
       "      <td>0.918590</td>\n",
       "      <td>1.012605</td>\n",
       "      <td>-0.047045</td>\n",
       "      <td>-1.0</td>\n",
       "      <td>0.000000</td>\n",
       "      <td>0.0</td>\n",
       "      <td>0.000000</td>\n",
       "      <td>0.0</td>\n",
       "      <td>...</td>\n",
       "      <td>0.0</td>\n",
       "      <td>0.000000</td>\n",
       "      <td>0.000000</td>\n",
       "      <td>0.918590</td>\n",
       "      <td>1.012605</td>\n",
       "      <td>-0.047045</td>\n",
       "      <td>-1.0</td>\n",
       "      <td>1.0</td>\n",
       "      <td>0.014583</td>\n",
       "      <td>0.850662</td>\n",
       "    </tr>\n",
       "    <tr>\n",
       "      <th>49998</th>\n",
       "      <td>49999.0</td>\n",
       "      <td>1.0</td>\n",
       "      <td>0.000000</td>\n",
       "      <td>0.000000</td>\n",
       "      <td>0.000000</td>\n",
       "      <td>0.0</td>\n",
       "      <td>0.855551</td>\n",
       "      <td>0.0</td>\n",
       "      <td>-0.849437</td>\n",
       "      <td>1.0</td>\n",
       "      <td>...</td>\n",
       "      <td>0.0</td>\n",
       "      <td>0.000000</td>\n",
       "      <td>0.000000</td>\n",
       "      <td>0.000000</td>\n",
       "      <td>0.000000</td>\n",
       "      <td>0.000000</td>\n",
       "      <td>0.0</td>\n",
       "      <td>0.0</td>\n",
       "      <td>0.000000</td>\n",
       "      <td>0.000000</td>\n",
       "    </tr>\n",
       "    <tr>\n",
       "      <th>49999</th>\n",
       "      <td>50000.0</td>\n",
       "      <td>0.0</td>\n",
       "      <td>0.000000</td>\n",
       "      <td>0.000000</td>\n",
       "      <td>0.000000</td>\n",
       "      <td>0.0</td>\n",
       "      <td>0.000000</td>\n",
       "      <td>0.0</td>\n",
       "      <td>0.000000</td>\n",
       "      <td>0.0</td>\n",
       "      <td>...</td>\n",
       "      <td>0.0</td>\n",
       "      <td>0.000000</td>\n",
       "      <td>0.000000</td>\n",
       "      <td>0.000000</td>\n",
       "      <td>0.000000</td>\n",
       "      <td>0.000000</td>\n",
       "      <td>0.0</td>\n",
       "      <td>0.0</td>\n",
       "      <td>0.000000</td>\n",
       "      <td>0.000000</td>\n",
       "    </tr>\n",
       "  </tbody>\n",
       "</table>\n",
       "<p>50000 rows × 80 columns</p>\n",
       "</div>"
      ],
      "text/plain": [
       "       exampleid  target     feat1     feat2     feat3  feat4     feat5  \\\n",
       "0            1.0     0.0  0.000000  0.000000  0.000000    0.0  0.000000   \n",
       "1            2.0     0.0  0.920167  0.817883 -0.646473   -1.0  0.000000   \n",
       "2            3.0     1.0  0.868397  0.178202  0.150828   -1.0  0.000000   \n",
       "3            4.0     0.0  0.000000  0.000000  0.000000    0.0  1.577894   \n",
       "4            5.0     0.0  0.000000  0.000000  0.000000    0.0  0.000000   \n",
       "...          ...     ...       ...       ...       ...    ...       ...   \n",
       "49995    49996.0     0.0  0.000000  0.000000  0.000000    0.0  0.000000   \n",
       "49996    49997.0     1.0  0.000000  0.000000  0.000000    0.0  0.000000   \n",
       "49997    49998.0     1.0  0.918590  1.012605 -0.047045   -1.0  0.000000   \n",
       "49998    49999.0     1.0  0.000000  0.000000  0.000000    0.0  0.855551   \n",
       "49999    50000.0     0.0  0.000000  0.000000  0.000000    0.0  0.000000   \n",
       "\n",
       "       feat6     feat7  feat8  ...  feat69    feat70    feat71    feat72  \\\n",
       "0        0.0  0.000000    0.0  ...    -1.0 -0.036906 -0.000724  0.000000   \n",
       "1        0.0  0.000000    0.0  ...    -1.0 -0.999927 -0.012102  0.920167   \n",
       "2        0.0  0.000000    0.0  ...     1.0  0.908824  0.550843  0.868397   \n",
       "3        0.0 -0.369792   -1.0  ...     0.0  0.000000  0.000000  0.000000   \n",
       "4        0.0  0.000000    0.0  ...     1.0  0.000005  0.400702  0.000000   \n",
       "...      ...       ...    ...  ...     ...       ...       ...       ...   \n",
       "49995    0.0  0.000000    0.0  ...     0.0  0.000000  0.000000  0.000000   \n",
       "49996    0.0  0.000000    0.0  ...     0.0  0.000000  0.000000  0.000000   \n",
       "49997    0.0  0.000000    0.0  ...     0.0  0.000000  0.000000  0.918590   \n",
       "49998    0.0 -0.849437    1.0  ...     0.0  0.000000  0.000000  0.000000   \n",
       "49999    0.0  0.000000    0.0  ...     0.0  0.000000  0.000000  0.000000   \n",
       "\n",
       "         feat73    feat74  feat75  feat76    feat77    feat78  \n",
       "0      0.000000  0.000000     0.0     0.0  0.000000  0.000000  \n",
       "1      0.817883 -0.646473    -1.0     1.0  0.302235  0.950770  \n",
       "2      0.178202  0.150828    -1.0     1.0  0.001421  0.882853  \n",
       "3      0.000000  0.000000     0.0     0.0  0.000000  0.000000  \n",
       "4      0.000000  0.000000     0.0     0.0  0.000000  0.000000  \n",
       "...         ...       ...     ...     ...       ...       ...  \n",
       "49995  0.000000  0.000000     0.0     0.0  0.000000  0.000000  \n",
       "49996  0.000000  0.000000     0.0     0.0  0.000000  0.000000  \n",
       "49997  1.012605 -0.047045    -1.0     1.0  0.014583  0.850662  \n",
       "49998  0.000000  0.000000     0.0     0.0  0.000000  0.000000  \n",
       "49999  0.000000  0.000000     0.0     0.0  0.000000  0.000000  \n",
       "\n",
       "[50000 rows x 80 columns]"
      ]
     },
     "execution_count": 86,
     "metadata": {},
     "output_type": "execute_result"
    }
   ],
   "source": [
    "data"
   ]
  },
  {
   "cell_type": "code",
   "execution_count": 87,
   "metadata": {},
   "outputs": [],
   "source": [
    "data.drop(['exampleid'], axis = 1,inplace=True)"
   ]
  },
  {
   "cell_type": "code",
   "execution_count": 88,
   "metadata": {},
   "outputs": [],
   "source": [
    "data_trainT, data_valT = train_test_split(data, test_size = 0.3)"
   ]
  },
  {
   "cell_type": "code",
   "execution_count": 89,
   "metadata": {},
   "outputs": [],
   "source": [
    "x_trainT = data_trainT.iloc[:, data_trainT.columns!='target']\n",
    "y_trainT =data_trainT.target\n",
    "x_testT = data_valT.iloc[:, data_valT.columns!='target']\n",
    "y_testT= data_valT.target"
   ]
  },
  {
   "cell_type": "code",
   "execution_count": 90,
   "metadata": {},
   "outputs": [
    {
     "data": {
      "text/plain": [
       "(15000,)"
      ]
     },
     "execution_count": 90,
     "metadata": {},
     "output_type": "execute_result"
    }
   ],
   "source": [
    "y_testT.shape"
   ]
  },
  {
   "cell_type": "code",
   "execution_count": 91,
   "metadata": {},
   "outputs": [],
   "source": [
    "RF_Model = RandomForestClassifier(n_estimators=100, \n",
    "                               bootstrap = True,\n",
    "                               max_features = 'sqrt')"
   ]
  },
  {
   "cell_type": "code",
   "execution_count": 92,
   "metadata": {},
   "outputs": [
    {
     "data": {
      "text/plain": [
       "RandomForestClassifier(bootstrap=True, class_weight=None, criterion='gini',\n",
       "                       max_depth=None, max_features='sqrt', max_leaf_nodes=None,\n",
       "                       min_impurity_decrease=0.0, min_impurity_split=None,\n",
       "                       min_samples_leaf=1, min_samples_split=2,\n",
       "                       min_weight_fraction_leaf=0.0, n_estimators=100,\n",
       "                       n_jobs=None, oob_score=False, random_state=None,\n",
       "                       verbose=0, warm_start=False)"
      ]
     },
     "execution_count": 92,
     "metadata": {},
     "output_type": "execute_result"
    }
   ],
   "source": [
    "RF_Model.fit(x_trainT, y_trainT)"
   ]
  },
  {
   "cell_type": "code",
   "execution_count": 93,
   "metadata": {},
   "outputs": [
    {
     "data": {
      "text/plain": [
       "21075    1.0\n",
       "43212    1.0\n",
       "40540    1.0\n",
       "11021    0.0\n",
       "43717    0.0\n",
       "        ... \n",
       "7249     0.0\n",
       "40386    0.0\n",
       "46572    0.0\n",
       "42609    1.0\n",
       "42898    0.0\n",
       "Name: target, Length: 15000, dtype: float64"
      ]
     },
     "execution_count": 93,
     "metadata": {},
     "output_type": "execute_result"
    }
   ],
   "source": [
    "y_testT"
   ]
  },
  {
   "cell_type": "code",
   "execution_count": 94,
   "metadata": {},
   "outputs": [],
   "source": [
    "pred= RF_Model.predict_proba(x_testT)"
   ]
  },
  {
   "cell_type": "code",
   "execution_count": 95,
   "metadata": {},
   "outputs": [],
   "source": [
    "pred01=RF_Model.predict(x_testT)"
   ]
  },
  {
   "cell_type": "code",
   "execution_count": 96,
   "metadata": {},
   "outputs": [
    {
     "data": {
      "text/plain": [
       "array([0., 1., 1., ..., 0., 1., 0.])"
      ]
     },
     "execution_count": 96,
     "metadata": {},
     "output_type": "execute_result"
    }
   ],
   "source": [
    "pred01"
   ]
  },
  {
   "cell_type": "code",
   "execution_count": 97,
   "metadata": {},
   "outputs": [],
   "source": [
    "pred=pred[:,1]"
   ]
  },
  {
   "cell_type": "code",
   "execution_count": 98,
   "metadata": {},
   "outputs": [
    {
     "data": {
      "text/plain": [
       "array([0.26, 0.77, 0.54, ..., 0.18, 0.7 , 0.42])"
      ]
     },
     "execution_count": 98,
     "metadata": {},
     "output_type": "execute_result"
    }
   ],
   "source": [
    "pred"
   ]
  },
  {
   "cell_type": "code",
   "execution_count": 99,
   "metadata": {},
   "outputs": [],
   "source": [
    "falsepr, truepr, _ = roc_curve(y_testT,pred)"
   ]
  },
  {
   "cell_type": "code",
   "execution_count": 100,
   "metadata": {},
   "outputs": [
    {
     "data": {
      "image/png": "[encoded data removed]",
      "text/plain": [
       "<Figure size 432x288 with 1 Axes>"
      ]
     },
     "metadata": {
      "needs_background": "light"
     },
     "output_type": "display_data"
    }
   ],
   "source": [
    "pyplot.plot(falsepr, truepr, marker='.', label='Random Forest')\n",
    "pyplot.xlabel('False Positive Rate')\n",
    "pyplot.ylabel('True Positive Rate')\n",
    "pyplot.legend()\n",
    "pyplot.show()"
   ]
  },
  {
   "cell_type": "code",
   "execution_count": 101,
   "metadata": {},
   "outputs": [],
   "source": [
    "RF_auc = roc_auc_score(y_testT,pred)"
   ]
  },
  {
   "cell_type": "code",
   "execution_count": 102,
   "metadata": {},
   "outputs": [
    {
     "name": "stdout",
     "output_type": "stream",
     "text": [
      "Random Forest: ROC Area Under the Curve=0.802\n"
     ]
    }
   ],
   "source": [
    "print('Random Forest: ROC Area Under the Curve=%.3f' % (RF_auc))"
   ]
  },
  {
   "cell_type": "code",
   "execution_count": 103,
   "metadata": {},
   "outputs": [],
   "source": [
    "precisionRF=precision_score(y_testT, pred01, average='binary')"
   ]
  },
  {
   "cell_type": "code",
   "execution_count": 104,
   "metadata": {},
   "outputs": [
    {
     "data": {
      "text/plain": [
       "0.7169627984453082"
      ]
     },
     "execution_count": 104,
     "metadata": {},
     "output_type": "execute_result"
    }
   ],
   "source": [
    "precisionRF"
   ]
  },
  {
   "cell_type": "code",
   "execution_count": 105,
   "metadata": {},
   "outputs": [],
   "source": [
    "con_matrix_rf= confusion_matrix(y_test,pred01) "
   ]
  },
  {
   "cell_type": "code",
   "execution_count": 106,
   "metadata": {},
   "outputs": [
    {
     "data": {
      "text/plain": [
       "array([[3823, 3642],\n",
       "       [3973, 3562]])"
      ]
     },
     "execution_count": 106,
     "metadata": {},
     "output_type": "execute_result"
    }
   ],
   "source": [
    "con_matrix_rf"
   ]
  },
  {
   "cell_type": "code",
   "execution_count": 107,
   "metadata": {},
   "outputs": [
    {
     "data": {
      "text/plain": [
       "0.8190255866741323"
      ]
     },
     "execution_count": 107,
     "metadata": {},
     "output_type": "execute_result"
    }
   ],
   "source": [
    "score(pred,y_testT)"
   ]
  },
  {
   "cell_type": "code",
   "execution_count": 108,
   "metadata": {},
   "outputs": [
    {
     "data": {
      "text/plain": [
       "GradientBoostingClassifier(criterion='friedman_mse', init=None,\n",
       "                           learning_rate=0.1, loss='deviance', max_depth=3,\n",
       "                           max_features=None, max_leaf_nodes=None,\n",
       "                           min_impurity_decrease=0.0, min_impurity_split=None,\n",
       "                           min_samples_leaf=1, min_samples_split=2,\n",
       "                           min_weight_fraction_leaf=0.0, n_estimators=100,\n",
       "                           n_iter_no_change=None, presort='auto',\n",
       "                           random_state=0, subsample=1.0, tol=0.0001,\n",
       "                           validation_fraction=0.1, verbose=0,\n",
       "                           warm_start=False)"
      ]
     },
     "execution_count": 108,
     "metadata": {},
     "output_type": "execute_result"
    }
   ],
   "source": [
    "#gradient Boosting\n",
    "gb = GradientBoostingClassifier(random_state=0)\n",
    "gb.fit(x_trainT, y_trainT)"
   ]
  },
  {
   "cell_type": "code",
   "execution_count": 109,
   "metadata": {},
   "outputs": [],
   "source": [
    "predGB01= gb.predict(x_testT);"
   ]
  },
  {
   "cell_type": "code",
   "execution_count": 110,
   "metadata": {},
   "outputs": [],
   "source": [
    "predGB= gb.predict_proba(x_testT);"
   ]
  },
  {
   "cell_type": "code",
   "execution_count": 111,
   "metadata": {},
   "outputs": [],
   "source": [
    "predGB=predGB[:,1]"
   ]
  },
  {
   "cell_type": "code",
   "execution_count": 112,
   "metadata": {},
   "outputs": [
    {
     "data": {
      "text/plain": [
       "array([0.41209589, 0.76406075, 0.63147009, ..., 0.06618965, 0.8188713 ,\n",
       "       0.43253191])"
      ]
     },
     "execution_count": 112,
     "metadata": {},
     "output_type": "execute_result"
    }
   ],
   "source": [
    "predGB"
   ]
  },
  {
   "cell_type": "code",
   "execution_count": 113,
   "metadata": {},
   "outputs": [
    {
     "data": {
      "text/plain": [
       "array([0., 1., 1., ..., 0., 1., 0.])"
      ]
     },
     "execution_count": 113,
     "metadata": {},
     "output_type": "execute_result"
    }
   ],
   "source": [
    "predGB01"
   ]
  },
  {
   "cell_type": "code",
   "execution_count": 114,
   "metadata": {},
   "outputs": [],
   "source": [
    "fp, tp, _ = roc_curve(y_testT,predGB)"
   ]
  },
  {
   "cell_type": "code",
   "execution_count": 115,
   "metadata": {},
   "outputs": [
    {
     "data": {
      "image/png": "[encoded data removed]",
      "text/plain": [
       "<Figure size 432x288 with 1 Axes>"
      ]
     },
     "metadata": {
      "needs_background": "light"
     },
     "output_type": "display_data"
    }
   ],
   "source": [
    "pyplot.plot(fp, tp, marker='.', label='Gradient Boosting')\n",
    "pyplot.xlabel('False Positive Rate')\n",
    "pyplot.ylabel('True Positive Rate')\n",
    "pyplot.legend()\n",
    "pyplot.show()"
   ]
  },
  {
   "cell_type": "code",
   "execution_count": 116,
   "metadata": {},
   "outputs": [],
   "source": [
    "con_matrix_gb= confusion_matrix(y_test,predGB01) "
   ]
  },
  {
   "cell_type": "code",
   "execution_count": 117,
   "metadata": {},
   "outputs": [
    {
     "data": {
      "text/plain": [
       "array([[3865, 3600],\n",
       "       [3969, 3566]])"
      ]
     },
     "execution_count": 117,
     "metadata": {},
     "output_type": "execute_result"
    }
   ],
   "source": [
    "con_matrix_gb"
   ]
  },
  {
   "cell_type": "code",
   "execution_count": 121,
   "metadata": {},
   "outputs": [],
   "source": [
    "GB_auc = roc_auc_score(y_testT,predGB)"
   ]
  },
  {
   "cell_type": "code",
   "execution_count": 122,
   "metadata": {},
   "outputs": [
    {
     "name": "stdout",
     "output_type": "stream",
     "text": [
      "Gradient Boosting: ROC Area Under the Curve=0.818\n"
     ]
    }
   ],
   "source": [
    "print('Gradient Boosting: ROC Area Under the Curve=%.3f' % (GB_auc))"
   ]
  },
  {
   "cell_type": "code",
   "execution_count": 118,
   "metadata": {},
   "outputs": [],
   "source": [
    "precisionGB=precision_score(y_testT, predGB01, average='binary')"
   ]
  },
  {
   "cell_type": "code",
   "execution_count": 119,
   "metadata": {},
   "outputs": [
    {
     "data": {
      "text/plain": [
       "0.7329053865475859"
      ]
     },
     "execution_count": 119,
     "metadata": {},
     "output_type": "execute_result"
    }
   ],
   "source": [
    "precisionGB"
   ]
  },
  {
   "cell_type": "code",
   "execution_count": 120,
   "metadata": {},
   "outputs": [
    {
     "data": {
      "text/plain": [
       "0.826636911172325"
      ]
     },
     "execution_count": 120,
     "metadata": {},
     "output_type": "execute_result"
    }
   ],
   "source": [
    "score(predGB,y_testT)"
   ]
  }
 ],
 "metadata": {
  "kernelspec": {
   "display_name": "Python 3",
   "language": "python",
   "name": "python3"
  },
  "language_info": {
   "codemirror_mode": {
    "name": "ipython",
    "version": 3
   },
   "file_extension": ".py",
   "mimetype": "text/x-python",
   "name": "python",
   "nbconvert_exporter": "python",
   "pygments_lexer": "ipython3",
   "version": "3.8.3"
  }
 },
 "nbformat": 4,
 "nbformat_minor": 2
}
